{
 "cells": [
  {
   "cell_type": "markdown",
   "source": [
    "# Imports"
   ],
   "metadata": {
    "collapsed": false
   },
   "id": "22ff41333e24d9a8"
  },
  {
   "cell_type": "code",
   "execution_count": 1,
   "outputs": [],
   "source": [
    "import os\n",
    "\n",
    "import pandas as pd\n",
    "import torch"
   ],
   "metadata": {
    "collapsed": false,
    "ExecuteTime": {
     "end_time": "2023-11-19T12:44:37.996196900Z",
     "start_time": "2023-11-19T12:44:36.549883Z"
    }
   },
   "id": "5afa7e24a3a8a279"
  },
  {
   "cell_type": "code",
   "execution_count": 2,
   "outputs": [],
   "source": [
    "cwd = os.getcwd()\n",
    "parent_dir = os.path.abspath(os.path.join(cwd, os.pardir))\n",
    "data_dir = os.path.join(parent_dir, \"data\")\n",
    "device = torch.device(\"cuda\" if torch.cuda.is_available() else \"cpu\")"
   ],
   "metadata": {
    "collapsed": false,
    "ExecuteTime": {
     "end_time": "2023-11-19T12:44:38.024166900Z",
     "start_time": "2023-11-19T12:44:38.017361900Z"
    }
   },
   "id": "initial_id"
  },
  {
   "cell_type": "markdown",
   "source": [
    "# Data Loading"
   ],
   "metadata": {
    "collapsed": false
   },
   "id": "25f30adf7139bca5"
  },
  {
   "cell_type": "code",
   "execution_count": 3,
   "outputs": [],
   "source": [
    "df_ner = pd.read_json(os.path.join(data_dir, \"combined_ner.json\"))"
   ],
   "metadata": {
    "collapsed": false,
    "ExecuteTime": {
     "end_time": "2023-11-19T12:45:00.442383800Z",
     "start_time": "2023-11-19T12:44:38.020206400Z"
    }
   },
   "id": "4dd329bace5d2d40"
  },
  {
   "cell_type": "markdown",
   "source": [
    "# Analysis"
   ],
   "metadata": {
    "collapsed": false
   },
   "id": "36f428a4be0f06da"
  },
  {
   "cell_type": "code",
   "execution_count": 4,
   "outputs": [],
   "source": [
    "df_ner_normalized = pd.json_normalize(\n",
    "    df_ner[\"ner\"].apply(lambda x: {item[\"type\"]: item[\"text\"] for item in x})\n",
    ")\n",
    "\n",
    "df_ner = pd.concat([df_ner, df_ner_normalized], axis=1)"
   ],
   "metadata": {
    "collapsed": false,
    "ExecuteTime": {
     "end_time": "2023-11-19T12:45:04.218340Z",
     "start_time": "2023-11-19T12:45:00.460426500Z"
    }
   },
   "id": "2253bdbcbf88b415"
  },
  {
   "cell_type": "code",
   "execution_count": 5,
   "outputs": [
    {
     "data": {
      "text/plain": "LANGUAGE       2300171\nPERCENT        2300089\nLAW            2300027\nMONEY          2298404\nQUANTITY       2297263\nNORP           2295368\nFAC            2293754\nEVENT          2292930\nLOC            2290612\nPRODUCT        2290450\nGPE            2278748\nTIME           2278573\nORG            2255985\nORDINAL        2240877\nWORK_OF_ART    2191385\nPERSON         2082416\nDATE           2049449\nCARDINAL       2024569\nparent_id      1779152\ngenre           169059\nauthor             225\nner                  0\nemoji                0\nchannel              0\nis_reply             0\nvideo_id             0\ncomment              0\ndate                 0\ncomment_id           0\ndtype: int64"
     },
     "execution_count": 5,
     "metadata": {},
     "output_type": "execute_result"
    }
   ],
   "source": [
    "df_ner.isna().sum().sort_values(ascending=False)"
   ],
   "metadata": {
    "collapsed": false,
    "ExecuteTime": {
     "end_time": "2023-11-19T12:45:05.171452900Z",
     "start_time": "2023-11-19T12:45:04.219293600Z"
    }
   },
   "id": "923f76976e8cc906"
  },
  {
   "cell_type": "code",
   "execution_count": 6,
   "outputs": [],
   "source": [
    "category = \"LOC\"\n",
    "df_ner_category = df_ner[df_ner[category].notna()]"
   ],
   "metadata": {
    "collapsed": false,
    "ExecuteTime": {
     "end_time": "2023-11-19T12:45:05.199570500Z",
     "start_time": "2023-11-19T12:45:05.166409700Z"
    }
   },
   "id": "de51c6a64433f9d3"
  },
  {
   "cell_type": "code",
   "execution_count": 7,
   "outputs": [
    {
     "data": {
      "text/plain": "LOC\nWest               1926\nSouth               735\nEarth               703\nAnthrax             546\nNorth               455\n                   ... \nMultiverse            1\nViridian Forest       1\nthe Safari Zone       1\nCelestial             1\nStrawberry            1\nName: count, Length: 1981, dtype: int64"
     },
     "execution_count": 7,
     "metadata": {},
     "output_type": "execute_result"
    }
   ],
   "source": [
    "df_ner_category[category].value_counts()"
   ],
   "metadata": {
    "collapsed": false,
    "ExecuteTime": {
     "end_time": "2023-11-19T12:45:05.235912300Z",
     "start_time": "2023-11-19T12:45:05.200510700Z"
    }
   },
   "id": "2a085a1bb409e068"
  },
  {
   "cell_type": "code",
   "execution_count": 8,
   "outputs": [
    {
     "data": {
      "text/plain": "                                                comment_id  \\\n12071                           UgwJTIOVYQOuGtrIsnx4AaABAg   \n14567                           UgwKs75O4aiAw1uzINF4AaABAg   \n14568    UgwKs75O4aiAw1uzINF4AaABAg.9ZRmdCuaVWH9vNi4K7N4lL   \n21553                           Ugwz_hh3RBaflOMtdG94AaABAg   \n26839                           Ugyn6qoGLy9w27gC1qx4AaABAg   \n...                                                    ...   \n1981089                         UgwXF8Cgra0AVDQCkPJ4AaABAg   \n1997784                         UgyoLpPg4biYFSTKTEN4AaABAg   \n2015695                         Ugwt5TDPjWmHser17D94AaABAg   \n2139852                         UgxlfH1IgVmZn4vUtEd4AaABAg   \n2201407                         UgyYaZu0yd57Thi7vvh4AaABAg   \n\n                     author                      date  \\\n12071             Pegita Mg 2022-08-30 07:32:07+00:00   \n14567        Narek Hakobyan 2022-03-11 18:09:54+00:00   \n14568          Khalid Saleh 2023-10-02 20:15:09+00:00   \n21553        Vitor Pinheiro 2021-04-14 19:26:14+00:00   \n26839    gunnar þ björnsson 2020-12-06 01:17:07+00:00   \n...                     ...                       ...   \n1981089    Cassandra Skanen 2022-07-12 19:57:08+00:00   \n1997784        Tore Aurstad 2022-03-31 13:29:51+00:00   \n2015695         youngalpaca 2023-02-26 00:24:08+00:00   \n2139852          mariana_gl 2023-10-31 21:16:22+00:00   \n2201407       Micheal James 2022-11-01 21:33:45+00:00   \n\n                                                   comment     video_id  \\\n12071    Do these ever do a video inside  I  39  m a vo...  oCi0RHLrauU   \n14567    Can  39  t wait to see their live performance ...  bv5RuxhBEqk   \n14568    Can  39  t wait to see their live performance ...  bv5RuxhBEqk   \n21553                next up  live performance on the Moon  6Vs6tExC-Go   \n26839    I with you are you from  Moon you are  male or...  ABx6Zdl1aIQ   \n...                                                    ...          ...   \n1981089  The Algorithm me this  39  s  then this of  a ...  hOTFcnexJBg   \n1997784  Dis video was shot before May a in astrophysic...  yI8lrvKLzg0   \n2015695  I saw the title and said  quot  What in the bl...  0stc0duKiHs   \n2139852  Love you to the Moon and to this vault are Ama...  vaRGgiGfsw4   \n2201407  Ground control I  39  m the mission they  39  ...  lM1P2JwZ5jE   \n\n         is_reply                   parent_id       channel  genre  \\\n12071       False                        None         kaleo  blues   \n14567       False                        None         kaleo  blues   \n14568        True  UgwKs75O4aiAw1uzINF4AaABAg         kaleo  blues   \n21553       False                        None         kaleo  blues   \n26839       False                        None         kaleo  blues   \n...           ...                         ...           ...    ...   \n1981089     False                        None         queen   rock   \n1997784     False                        None         queen   rock   \n2015695     False                        None      skrillex   None   \n2139852     False                        None  taylor_swift    pop   \n2201407     False                        None  taylor_swift    pop   \n\n                                                     emoji  ...  ORG   TIME  \\\n12071                                                   []  ...  NaN    NaN   \n14567                                                   []  ...  NaN    NaN   \n14568                                                   []  ...  NaN    NaN   \n21553                                                   []  ...  NaN    NaN   \n26839                                                   []  ...  NaN    NaN   \n...                                                    ...  ...  ...    ...   \n1981089  ['://www.youtube.com/watch?v=Oz4FU991k1s\">http...  ...  NaN    NaN   \n1997784                                                 []  ...  NaN  11  s   \n2015695                                                 []  ...  NaN    NaN   \n2139852                               ['💙', '💙', '💙', '💙']  ...  NaN    NaN   \n2201407                                                 []  ...  NaN    NaN   \n\n        PERCENT  FAC        LOC EVENT QUANTITY MONEY  LAW LANGUAGE  \n12071       NaN  NaN       moon   NaN       39   NaN  NaN      NaN  \n14567       NaN  NaN       Moon   NaN      NaN   NaN  NaN      NaN  \n14568       NaN  NaN       Moon   NaN      NaN   NaN  NaN      NaN  \n21553       NaN  NaN       Moon   NaN      NaN   NaN  NaN      NaN  \n26839       NaN  NaN       Moon   NaN      NaN   NaN  NaN      NaN  \n...         ...  ...        ...   ...      ...   ...  ...      ...  \n1981089     NaN  NaN       Moon   NaN      NaN   NaN  NaN      NaN  \n1997784     NaN  NaN       Moon   NaN      NaN   NaN  NaN      NaN  \n2015695     NaN  NaN  blue moon   NaN      NaN   NaN  NaN      NaN  \n2139852     NaN  NaN       Moon   NaN      NaN   NaN  NaN      NaN  \n2201407     NaN  NaN       Moon   NaN      NaN   NaN  NaN      NaN  \n\n[124 rows x 29 columns]",
      "text/html": "<div>\n<style scoped>\n    .dataframe tbody tr th:only-of-type {\n        vertical-align: middle;\n    }\n\n    .dataframe tbody tr th {\n        vertical-align: top;\n    }\n\n    .dataframe thead th {\n        text-align: right;\n    }\n</style>\n<table border=\"1\" class=\"dataframe\">\n  <thead>\n    <tr style=\"text-align: right;\">\n      <th></th>\n      <th>comment_id</th>\n      <th>author</th>\n      <th>date</th>\n      <th>comment</th>\n      <th>video_id</th>\n      <th>is_reply</th>\n      <th>parent_id</th>\n      <th>channel</th>\n      <th>genre</th>\n      <th>emoji</th>\n      <th>...</th>\n      <th>ORG</th>\n      <th>TIME</th>\n      <th>PERCENT</th>\n      <th>FAC</th>\n      <th>LOC</th>\n      <th>EVENT</th>\n      <th>QUANTITY</th>\n      <th>MONEY</th>\n      <th>LAW</th>\n      <th>LANGUAGE</th>\n    </tr>\n  </thead>\n  <tbody>\n    <tr>\n      <th>12071</th>\n      <td>UgwJTIOVYQOuGtrIsnx4AaABAg</td>\n      <td>Pegita Mg</td>\n      <td>2022-08-30 07:32:07+00:00</td>\n      <td>Do these ever do a video inside  I  39  m a vo...</td>\n      <td>oCi0RHLrauU</td>\n      <td>False</td>\n      <td>None</td>\n      <td>kaleo</td>\n      <td>blues</td>\n      <td>[]</td>\n      <td>...</td>\n      <td>NaN</td>\n      <td>NaN</td>\n      <td>NaN</td>\n      <td>NaN</td>\n      <td>moon</td>\n      <td>NaN</td>\n      <td>39</td>\n      <td>NaN</td>\n      <td>NaN</td>\n      <td>NaN</td>\n    </tr>\n    <tr>\n      <th>14567</th>\n      <td>UgwKs75O4aiAw1uzINF4AaABAg</td>\n      <td>Narek Hakobyan</td>\n      <td>2022-03-11 18:09:54+00:00</td>\n      <td>Can  39  t wait to see their live performance ...</td>\n      <td>bv5RuxhBEqk</td>\n      <td>False</td>\n      <td>None</td>\n      <td>kaleo</td>\n      <td>blues</td>\n      <td>[]</td>\n      <td>...</td>\n      <td>NaN</td>\n      <td>NaN</td>\n      <td>NaN</td>\n      <td>NaN</td>\n      <td>Moon</td>\n      <td>NaN</td>\n      <td>NaN</td>\n      <td>NaN</td>\n      <td>NaN</td>\n      <td>NaN</td>\n    </tr>\n    <tr>\n      <th>14568</th>\n      <td>UgwKs75O4aiAw1uzINF4AaABAg.9ZRmdCuaVWH9vNi4K7N4lL</td>\n      <td>Khalid Saleh</td>\n      <td>2023-10-02 20:15:09+00:00</td>\n      <td>Can  39  t wait to see their live performance ...</td>\n      <td>bv5RuxhBEqk</td>\n      <td>True</td>\n      <td>UgwKs75O4aiAw1uzINF4AaABAg</td>\n      <td>kaleo</td>\n      <td>blues</td>\n      <td>[]</td>\n      <td>...</td>\n      <td>NaN</td>\n      <td>NaN</td>\n      <td>NaN</td>\n      <td>NaN</td>\n      <td>Moon</td>\n      <td>NaN</td>\n      <td>NaN</td>\n      <td>NaN</td>\n      <td>NaN</td>\n      <td>NaN</td>\n    </tr>\n    <tr>\n      <th>21553</th>\n      <td>Ugwz_hh3RBaflOMtdG94AaABAg</td>\n      <td>Vitor Pinheiro</td>\n      <td>2021-04-14 19:26:14+00:00</td>\n      <td>next up  live performance on the Moon</td>\n      <td>6Vs6tExC-Go</td>\n      <td>False</td>\n      <td>None</td>\n      <td>kaleo</td>\n      <td>blues</td>\n      <td>[]</td>\n      <td>...</td>\n      <td>NaN</td>\n      <td>NaN</td>\n      <td>NaN</td>\n      <td>NaN</td>\n      <td>Moon</td>\n      <td>NaN</td>\n      <td>NaN</td>\n      <td>NaN</td>\n      <td>NaN</td>\n      <td>NaN</td>\n    </tr>\n    <tr>\n      <th>26839</th>\n      <td>Ugyn6qoGLy9w27gC1qx4AaABAg</td>\n      <td>gunnar þ björnsson</td>\n      <td>2020-12-06 01:17:07+00:00</td>\n      <td>I with you are you from  Moon you are  male or...</td>\n      <td>ABx6Zdl1aIQ</td>\n      <td>False</td>\n      <td>None</td>\n      <td>kaleo</td>\n      <td>blues</td>\n      <td>[]</td>\n      <td>...</td>\n      <td>NaN</td>\n      <td>NaN</td>\n      <td>NaN</td>\n      <td>NaN</td>\n      <td>Moon</td>\n      <td>NaN</td>\n      <td>NaN</td>\n      <td>NaN</td>\n      <td>NaN</td>\n      <td>NaN</td>\n    </tr>\n    <tr>\n      <th>...</th>\n      <td>...</td>\n      <td>...</td>\n      <td>...</td>\n      <td>...</td>\n      <td>...</td>\n      <td>...</td>\n      <td>...</td>\n      <td>...</td>\n      <td>...</td>\n      <td>...</td>\n      <td>...</td>\n      <td>...</td>\n      <td>...</td>\n      <td>...</td>\n      <td>...</td>\n      <td>...</td>\n      <td>...</td>\n      <td>...</td>\n      <td>...</td>\n      <td>...</td>\n      <td>...</td>\n    </tr>\n    <tr>\n      <th>1981089</th>\n      <td>UgwXF8Cgra0AVDQCkPJ4AaABAg</td>\n      <td>Cassandra Skanen</td>\n      <td>2022-07-12 19:57:08+00:00</td>\n      <td>The Algorithm me this  39  s  then this of  a ...</td>\n      <td>hOTFcnexJBg</td>\n      <td>False</td>\n      <td>None</td>\n      <td>queen</td>\n      <td>rock</td>\n      <td>['://www.youtube.com/watch?v=Oz4FU991k1s\"&gt;http...</td>\n      <td>...</td>\n      <td>NaN</td>\n      <td>NaN</td>\n      <td>NaN</td>\n      <td>NaN</td>\n      <td>Moon</td>\n      <td>NaN</td>\n      <td>NaN</td>\n      <td>NaN</td>\n      <td>NaN</td>\n      <td>NaN</td>\n    </tr>\n    <tr>\n      <th>1997784</th>\n      <td>UgyoLpPg4biYFSTKTEN4AaABAg</td>\n      <td>Tore Aurstad</td>\n      <td>2022-03-31 13:29:51+00:00</td>\n      <td>Dis video was shot before May a in astrophysic...</td>\n      <td>yI8lrvKLzg0</td>\n      <td>False</td>\n      <td>None</td>\n      <td>queen</td>\n      <td>rock</td>\n      <td>[]</td>\n      <td>...</td>\n      <td>NaN</td>\n      <td>11  s</td>\n      <td>NaN</td>\n      <td>NaN</td>\n      <td>Moon</td>\n      <td>NaN</td>\n      <td>NaN</td>\n      <td>NaN</td>\n      <td>NaN</td>\n      <td>NaN</td>\n    </tr>\n    <tr>\n      <th>2015695</th>\n      <td>Ugwt5TDPjWmHser17D94AaABAg</td>\n      <td>youngalpaca</td>\n      <td>2023-02-26 00:24:08+00:00</td>\n      <td>I saw the title and said  quot  What in the bl...</td>\n      <td>0stc0duKiHs</td>\n      <td>False</td>\n      <td>None</td>\n      <td>skrillex</td>\n      <td>None</td>\n      <td>[]</td>\n      <td>...</td>\n      <td>NaN</td>\n      <td>NaN</td>\n      <td>NaN</td>\n      <td>NaN</td>\n      <td>blue moon</td>\n      <td>NaN</td>\n      <td>NaN</td>\n      <td>NaN</td>\n      <td>NaN</td>\n      <td>NaN</td>\n    </tr>\n    <tr>\n      <th>2139852</th>\n      <td>UgxlfH1IgVmZn4vUtEd4AaABAg</td>\n      <td>mariana_gl</td>\n      <td>2023-10-31 21:16:22+00:00</td>\n      <td>Love you to the Moon and to this vault are Ama...</td>\n      <td>vaRGgiGfsw4</td>\n      <td>False</td>\n      <td>None</td>\n      <td>taylor_swift</td>\n      <td>pop</td>\n      <td>['💙', '💙', '💙', '💙']</td>\n      <td>...</td>\n      <td>NaN</td>\n      <td>NaN</td>\n      <td>NaN</td>\n      <td>NaN</td>\n      <td>Moon</td>\n      <td>NaN</td>\n      <td>NaN</td>\n      <td>NaN</td>\n      <td>NaN</td>\n      <td>NaN</td>\n    </tr>\n    <tr>\n      <th>2201407</th>\n      <td>UgyYaZu0yd57Thi7vvh4AaABAg</td>\n      <td>Micheal James</td>\n      <td>2022-11-01 21:33:45+00:00</td>\n      <td>Ground control I  39  m the mission they  39  ...</td>\n      <td>lM1P2JwZ5jE</td>\n      <td>False</td>\n      <td>None</td>\n      <td>taylor_swift</td>\n      <td>pop</td>\n      <td>[]</td>\n      <td>...</td>\n      <td>NaN</td>\n      <td>NaN</td>\n      <td>NaN</td>\n      <td>NaN</td>\n      <td>Moon</td>\n      <td>NaN</td>\n      <td>NaN</td>\n      <td>NaN</td>\n      <td>NaN</td>\n      <td>NaN</td>\n    </tr>\n  </tbody>\n</table>\n<p>124 rows × 29 columns</p>\n</div>"
     },
     "execution_count": 8,
     "metadata": {},
     "output_type": "execute_result"
    }
   ],
   "source": [
    "df_ner[df_ner[category].str.contains(\"moon\", na=False, case=False)]"
   ],
   "metadata": {
    "collapsed": false,
    "ExecuteTime": {
     "end_time": "2023-11-19T12:45:05.411847300Z",
     "start_time": "2023-11-19T12:45:05.207928900Z"
    }
   },
   "id": "5751b26fe3667e94"
  }
 ],
 "metadata": {
  "kernelspec": {
   "display_name": "Python 3",
   "language": "python",
   "name": "python3"
  },
  "language_info": {
   "codemirror_mode": {
    "name": "ipython",
    "version": 2
   },
   "file_extension": ".py",
   "mimetype": "text/x-python",
   "name": "python",
   "nbconvert_exporter": "python",
   "pygments_lexer": "ipython2",
   "version": "2.7.6"
  }
 },
 "nbformat": 4,
 "nbformat_minor": 5
}
