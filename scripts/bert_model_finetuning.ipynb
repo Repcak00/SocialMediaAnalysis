{
 "cells": [
  {
   "cell_type": "code",
   "execution_count": 1,
   "id": "initial_id",
   "metadata": {
    "collapsed": true,
    "ExecuteTime": {
     "end_time": "2023-11-19T22:42:16.757078300Z",
     "start_time": "2023-11-19T22:41:35.463876200Z"
    }
   },
   "outputs": [],
   "source": [
    "import pandas as pd\n",
    "from transformers import BertModel, BertTokenizer\n",
    "import os\n",
    "import numpy as np\n",
    "import re\n",
    "import matplotlib.pyplot as plt\n",
    "from sklearn.metrics import auc, roc_curve\n",
    "import torch\n",
    "from torch import nn, optim\n",
    "from torchmetrics import AUROC\n",
    "from pytorch_lightning.callbacks import ModelCheckpoint\n",
    "from pytorch_lightning import LightningModule, Trainer\n",
    "from tqdm.autonotebook import tqdm\n",
    "from torch.utils.data import Dataset, DataLoader"
   ]
  },
  {
   "cell_type": "markdown",
   "source": [
    "# Initialization"
   ],
   "metadata": {
    "collapsed": false
   },
   "id": "27ad6043c227f6bc"
  },
  {
   "cell_type": "code",
   "execution_count": 2,
   "outputs": [],
   "source": [
    "cwd = os.getcwd()\n",
    "parent_dir = os.path.abspath(os.path.join(cwd, os.pardir))\n",
    "data_dir = os.path.join(parent_dir, \"data\")"
   ],
   "metadata": {
    "collapsed": false,
    "ExecuteTime": {
     "end_time": "2023-11-19T22:42:16.758072900Z",
     "start_time": "2023-11-19T22:42:16.736072300Z"
    }
   },
   "id": "c48a23dc51acc5d1"
  },
  {
   "cell_type": "code",
   "execution_count": 3,
   "outputs": [],
   "source": [
    "seed_value = 29"
   ],
   "metadata": {
    "collapsed": false,
    "ExecuteTime": {
     "end_time": "2023-11-19T22:42:16.806074400Z",
     "start_time": "2023-11-19T22:42:16.756068700Z"
    }
   },
   "id": "c0b90c0363fe2194"
  },
  {
   "cell_type": "code",
   "execution_count": 4,
   "outputs": [],
   "source": [
    "device = torch.device(\"cuda\" if torch.cuda.is_available() else \"cpu\")"
   ],
   "metadata": {
    "collapsed": false,
    "ExecuteTime": {
     "end_time": "2023-11-19T22:42:16.886792Z",
     "start_time": "2023-11-19T22:42:16.773075Z"
    }
   },
   "id": "7952f0e242d4a73a"
  },
  {
   "cell_type": "code",
   "execution_count": 5,
   "outputs": [],
   "source": [
    "N_AXIS = 4\n",
    "MAX_SEQ_LEN = 128\n",
    "BERT_NAME = \"bert-base-uncased\"\n",
    "\"\"\"\n",
    "EMOTIONAL AXES:\n",
    "Introversion (I) – Extroversion (E)\n",
    "Intuition (N) – Sensing (S)\n",
    "Thinking (T) – Feeling (F)\n",
    "Judging (J) – Perceiving (P)\n",
    "\"\"\"\n",
    "axes = [\"I-E\", \"N-S\", \"T-F\", \"J-P\"]\n",
    "classes = {\n",
    "    \"I\": 0,\n",
    "    \"E\": 1,  # axis 1\n",
    "    \"N\": 0,\n",
    "    \"S\": 1,  # axis 2\n",
    "    \"T\": 0,\n",
    "    \"F\": 1,  # axis 3\n",
    "    \"J\": 0,\n",
    "    \"P\": 1,\n",
    "}  # axis 4"
   ],
   "metadata": {
    "collapsed": false,
    "ExecuteTime": {
     "end_time": "2023-11-19T22:42:16.887792400Z",
     "start_time": "2023-11-19T22:42:16.789073200Z"
    }
   },
   "id": "d9f3584d2f6433e3"
  },
  {
   "cell_type": "code",
   "execution_count": 6,
   "outputs": [],
   "source": [
    "def text_preprocessing(text):\n",
    "    text = text.lower()\n",
    "    text = re.sub(\"\\[.*?\\]\", \"\", text)\n",
    "    text = re.sub(\"https?://\\S+|www\\.\\S+\", \"\", text)\n",
    "    text = re.sub(\"<.*?>+\", \"\", text)\n",
    "    text = re.sub(\"\\n\", \"\", text)\n",
    "    text = re.sub(\"\\w*\\d\\w*\", \"\", text)\n",
    "    text.encode(\"ascii\", \"ignore\").decode(\"ascii\")\n",
    "    if text.startswith(\"'\"):\n",
    "        text = text[1:-1]\n",
    "    return text"
   ],
   "metadata": {
    "collapsed": false,
    "ExecuteTime": {
     "end_time": "2023-11-19T22:42:16.891790800Z",
     "start_time": "2023-11-19T22:42:16.806074400Z"
    }
   },
   "id": "397638b41d320e67"
  },
  {
   "cell_type": "code",
   "execution_count": 7,
   "outputs": [
    {
     "name": "stdout",
     "output_type": "stream",
     "text": [
      "      type                                              posts\n",
      "4698  INTP  'Personally, I'm more of dreading than fantasi...\n",
      "5672  ISTJ  'Your parents love you. No matter how old you ...\n",
      "6040  INTP  'My heart goes out to you.|||Once, after I had...\n",
      "5381  INFJ  '(Animated Music Video) Share your favorite or...\n",
      "3337  INTJ  'Marie Claire, Do you mind if I ask what you m...\n"
     ]
    }
   ],
   "source": [
    "train_n = 6624\n",
    "val_n = 1024\n",
    "test_n = 1024\n",
    "data = pd.read_csv(os.path.join(data_dir, \"mbti_1.csv\"))\n",
    "data = data.sample(frac=1)\n",
    "labels = []\n",
    "print(data.head())\n",
    "for personality in data[\"type\"]:\n",
    "    pers_vect = []\n",
    "    for p in personality:\n",
    "        pers_vect.append(classes[p])\n",
    "    labels.append(pers_vect)\n",
    "sentences = data[\"posts\"].apply(str).apply(lambda x: text_preprocessing(x))\n",
    "labels = np.array(labels, dtype=\"float32\")\n",
    "train_sentences = sentences[:train_n]\n",
    "y_train = labels[:train_n]\n",
    "val_sentences = sentences[train_n : train_n + val_n]\n",
    "y_val = labels[train_n : train_n + val_n]\n",
    "test_sentences = sentences[train_n + val_n : train_n + val_n + test_n]\n",
    "y_test = labels[train_n + val_n : train_n + val_n + test_n]"
   ],
   "metadata": {
    "collapsed": false,
    "ExecuteTime": {
     "end_time": "2023-11-19T22:42:58.211139400Z",
     "start_time": "2023-11-19T22:42:16.843245100Z"
    }
   },
   "id": "f39f4c873ab941d2"
  },
  {
   "cell_type": "code",
   "execution_count": 8,
   "outputs": [],
   "source": [
    "def prepare_bert_input(sentences, seq_len, bert_name):\n",
    "    tokenizer = BertTokenizer.from_pretrained(bert_name)\n",
    "    encodings = tokenizer(\n",
    "        sentences.tolist(), truncation=True, padding=\"max_length\", max_length=seq_len\n",
    "    )\n",
    "    input = [\n",
    "        np.array(encodings[\"input_ids\"]),\n",
    "        np.array(encodings[\"token_type_ids\"]),\n",
    "        np.array(encodings[\"attention_mask\"]),\n",
    "    ]\n",
    "    return input"
   ],
   "metadata": {
    "collapsed": false,
    "ExecuteTime": {
     "end_time": "2023-11-19T22:42:58.212138Z",
     "start_time": "2023-11-19T22:42:58.197137900Z"
    }
   },
   "id": "e5c44fdb989d4274"
  },
  {
   "cell_type": "code",
   "execution_count": 9,
   "outputs": [],
   "source": [
    "class DatasetPersonality(Dataset):\n",
    "    def __init__(self, input_ids, token_type_ids, attention_mask, labels):\n",
    "        self.input_ids = input_ids\n",
    "        self.token_type_ids = token_type_ids\n",
    "        self.attention_mask = attention_mask\n",
    "        self.labels = labels\n",
    "\n",
    "    def __len__(self):\n",
    "        return len(self.input_ids)\n",
    "\n",
    "    def __getitem__(self, idx):\n",
    "        return (\n",
    "            self.input_ids[idx],\n",
    "            self.token_type_ids[idx],\n",
    "            self.attention_mask[idx],\n",
    "            self.labels[idx],\n",
    "        )"
   ],
   "metadata": {
    "collapsed": false,
    "ExecuteTime": {
     "end_time": "2023-11-19T22:42:58.238188300Z",
     "start_time": "2023-11-19T22:42:58.208133600Z"
    }
   },
   "id": "790822e12331623e"
  },
  {
   "cell_type": "code",
   "execution_count": 10,
   "outputs": [],
   "source": [
    "class PersonalityDetector(LightningModule):\n",
    "    def __init__(self, bert_name, n_axis, max_seq_len):\n",
    "        super(PersonalityDetector, self).__init__()\n",
    "        self.bert = BertModel.from_pretrained(bert_name)\n",
    "        self.avgpool = nn.AvgPool1d(max_seq_len)\n",
    "        self.dense = nn.Linear(self.bert.config.hidden_size, n_axis)\n",
    "        self.sigmoid = nn.Sigmoid()\n",
    "        self.loss = nn.BCELoss()\n",
    "        self.auroc = AUROC(num_classes=n_axis, num_labels=n_axis, task=\"multilabel\")\n",
    "\n",
    "    def forward(self, input_ids, token_type_ids, attention_mask):\n",
    "        outputs = self.bert(\n",
    "            input_ids=input_ids,\n",
    "            token_type_ids=token_type_ids,\n",
    "            attention_mask=attention_mask,\n",
    "        )\n",
    "        last_hidden_states = outputs.last_hidden_state\n",
    "        avg = (\n",
    "            self.avgpool(last_hidden_states.transpose(1, 2)).transpose(1, 2).squeeze(1)\n",
    "        )\n",
    "        output = self.sigmoid(self.dense(avg))\n",
    "        return output\n",
    "\n",
    "    def training_step(self, batch, batch_idx):\n",
    "        input_ids, token_type_ids, attention_mask, labels = batch\n",
    "        output = self(input_ids, token_type_ids, attention_mask)\n",
    "        loss = self.loss(output.float(), labels.float())\n",
    "        self.log(\"train_loss\", loss)\n",
    "        return loss\n",
    "\n",
    "    def validation_step(self, batch, batch_idx):\n",
    "        input_ids, token_type_ids, attention_mask, labels = batch\n",
    "        output = self(input_ids, token_type_ids, attention_mask)\n",
    "        loss = self.loss(output.float(), labels.float())\n",
    "        self.log(\"val_loss\", loss)\n",
    "        self.log(\n",
    "            \"val_auroc\",\n",
    "            self.auroc(output.float(), labels.long()),\n",
    "            on_step=False,\n",
    "            on_epoch=True,\n",
    "        )\n",
    "\n",
    "    def test_step(self, batch, batch_idx):\n",
    "        input_ids, token_type_ids, attention_mask, labels = batch\n",
    "        output = self(input_ids, token_type_ids, attention_mask)\n",
    "        loss = self.loss(output.float(), labels.float())\n",
    "        self.log(\"test_loss\", loss)\n",
    "        self.log(\n",
    "            \"test_auroc\",\n",
    "            self.auroc(output.float(), labels.long()),\n",
    "            on_step=False,\n",
    "            on_epoch=True,\n",
    "        )\n",
    "\n",
    "    def configure_optimizers(self):\n",
    "        optimizer = optim.AdamW(self.parameters(), lr=3e-5)\n",
    "        return optimizer"
   ],
   "metadata": {
    "collapsed": false,
    "ExecuteTime": {
     "end_time": "2023-11-19T22:42:58.279706Z",
     "start_time": "2023-11-19T22:42:58.248676500Z"
    }
   },
   "id": "6f2fb52c9d08d0d"
  },
  {
   "cell_type": "markdown",
   "source": [
    "# Training part"
   ],
   "metadata": {
    "collapsed": false
   },
   "id": "70bcd572f7557a81"
  },
  {
   "cell_type": "code",
   "execution_count": 13,
   "outputs": [],
   "source": [
    "X_train_input_ids, X_train_token_type_ids, X_train_attention_mask = prepare_bert_input(\n",
    "    train_sentences, MAX_SEQ_LEN, BERT_NAME\n",
    ")\n",
    "X_val_input_ids, X_val_token_type_ids, X_val_attention_mask = prepare_bert_input(\n",
    "    val_sentences, MAX_SEQ_LEN, BERT_NAME\n",
    ")\n",
    "X_test_input_ids, X_test_token_type_ids, X_test_attention_mask = prepare_bert_input(\n",
    "    test_sentences, MAX_SEQ_LEN, BERT_NAME\n",
    ")"
   ],
   "metadata": {
    "collapsed": false,
    "ExecuteTime": {
     "end_time": "2023-11-19T21:36:49.557567700Z",
     "start_time": "2023-11-19T21:32:14.719293700Z"
    }
   },
   "id": "ae5feac738e92cd7"
  },
  {
   "cell_type": "code",
   "execution_count": 11,
   "outputs": [],
   "source": [
    "y_train = y_train.astype(float)\n",
    "y_val = y_val.astype(float)\n",
    "\n",
    "train_dataset = DatasetPersonality(\n",
    "    X_train_input_ids, X_train_token_type_ids, X_train_attention_mask, y_train\n",
    ")\n",
    "val_dataset = DatasetPersonality(\n",
    "    X_val_input_ids, X_val_token_type_ids, X_val_attention_mask, y_val\n",
    ")\n",
    "\n",
    "train_dataloader = DataLoader(train_dataset, batch_size=32)\n",
    "val_dataloader = DataLoader(val_dataset, batch_size=32)  # , persistent_workers=True)"
   ],
   "metadata": {
    "collapsed": false,
    "ExecuteTime": {
     "end_time": "2023-11-19T19:19:16.366402900Z",
     "start_time": "2023-11-19T19:19:16.353350900Z"
    }
   },
   "id": "ab50737a315a1411"
  },
  {
   "cell_type": "code",
   "execution_count": null,
   "outputs": [
    {
     "name": "stderr",
     "output_type": "stream",
     "text": [
      "GPU available: True (cuda), used: True\n",
      "TPU available: False, using: 0 TPU cores\n",
      "IPU available: False, using: 0 IPUs\n",
      "HPU available: False, using: 0 HPUs\n",
      "C:\\Users\\Kacper Kozaczko\\Desktop\\Stuff\\PWr\\II_semestr\\AnalizaMediowCyfrowych\\2023-projekt-amc-ziemniaki_rosomaki\\venv\\lib\\site-packages\\pytorch_lightning\\trainer\\connectors\\logger_connector\\logger_connector.py:67: Starting from v1.9.0, `tensorboardX` has been removed as a dependency of the `pytorch_lightning` package, due to potential conflicts with other packages in the ML ecosystem. For this reason, `logger=True` will use `CSVLogger` as the default logger, unless the `tensorboard` or `tensorboardX` packages are found. Please `pip install lightning[extra]` or one of them to enable TensorBoard support by default\n",
      "LOCAL_RANK: 0 - CUDA_VISIBLE_DEVICES: [0]\n",
      "\n",
      "  | Name    | Type            | Params\n",
      "--------------------------------------------\n",
      "0 | bert    | BertModel       | 109 M \n",
      "1 | avgpool | AvgPool1d       | 0     \n",
      "2 | dense   | Linear          | 3.1 K \n",
      "3 | sigmoid | Sigmoid         | 0     \n",
      "4 | loss    | BCELoss         | 0     \n",
      "5 | auroc   | MultilabelAUROC | 0     \n",
      "--------------------------------------------\n",
      "109 M     Trainable params\n",
      "0         Non-trainable params\n",
      "109 M     Total params\n",
      "437.941   Total estimated model params size (MB)\n",
      "C:\\Users\\Kacper Kozaczko\\Desktop\\Stuff\\PWr\\II_semestr\\AnalizaMediowCyfrowych\\2023-projekt-amc-ziemniaki_rosomaki\\venv\\lib\\site-packages\\pytorch_lightning\\trainer\\connectors\\data_connector.py:441: The 'train_dataloader' does not have many workers which may be a bottleneck. Consider increasing the value of the `num_workers` argument` to `num_workers=7` in the `DataLoader` to improve performance.\n",
      "C:\\Users\\Kacper Kozaczko\\Desktop\\Stuff\\PWr\\II_semestr\\AnalizaMediowCyfrowych\\2023-projekt-amc-ziemniaki_rosomaki\\venv\\lib\\site-packages\\pytorch_lightning\\trainer\\connectors\\data_connector.py:441: The 'val_dataloader' does not have many workers which may be a bottleneck. Consider increasing the value of the `num_workers` argument` to `num_workers=7` in the `DataLoader` to improve performance.\n"
     ]
    },
    {
     "data": {
      "text/plain": "Training: |          | 0/? [00:00<?, ?it/s]",
      "application/vnd.jupyter.widget-view+json": {
       "version_major": 2,
       "version_minor": 0,
       "model_id": "1d285b0ad3864a838baeef836192bf91"
      }
     },
     "metadata": {},
     "output_type": "display_data"
    },
    {
     "data": {
      "text/plain": "Validation: |          | 0/? [00:00<?, ?it/s]",
      "application/vnd.jupyter.widget-view+json": {
       "version_major": 2,
       "version_minor": 0,
       "model_id": "d346609901704b40bfd10cd383170a2c"
      }
     },
     "metadata": {},
     "output_type": "display_data"
    },
    {
     "data": {
      "text/plain": "Validation: |          | 0/? [00:00<?, ?it/s]",
      "application/vnd.jupyter.widget-view+json": {
       "version_major": 2,
       "version_minor": 0,
       "model_id": "3c64f75be54048be8da44a1b59bf8629"
      }
     },
     "metadata": {},
     "output_type": "display_data"
    },
    {
     "data": {
      "text/plain": "Validation: |          | 0/? [00:00<?, ?it/s]",
      "application/vnd.jupyter.widget-view+json": {
       "version_major": 2,
       "version_minor": 0,
       "model_id": "a2a1f34c23904abaa95cf3016ea2a7ae"
      }
     },
     "metadata": {},
     "output_type": "display_data"
    }
   ],
   "source": [
    "model = PersonalityDetector(BERT_NAME, N_AXIS, MAX_SEQ_LEN)\n",
    "checkpoint_callback = ModelCheckpoint(\n",
    "    monitor=\"val_auroc\",\n",
    "    mode=\"max\",\n",
    "    filename=os.path.join(data_dir, \"weights-{epoch:02d}-{val_auroc:.2f}\"),\n",
    "    save_weights_only=True,\n",
    ")\n",
    "trainer = Trainer(max_epochs=7, callbacks=[checkpoint_callback], num_sanity_val_steps=0)\n",
    "trainer.fit(model, train_dataloader, val_dataloader)"
   ],
   "metadata": {
    "collapsed": false,
    "ExecuteTime": {
     "start_time": "2023-11-19T19:19:16.375225900Z"
    }
   },
   "id": "e75bd80e9b8d5ae7"
  },
  {
   "cell_type": "markdown",
   "source": [
    "# Imreading model weights part"
   ],
   "metadata": {
    "collapsed": false
   },
   "id": "71ff61898e585092"
  },
  {
   "cell_type": "code",
   "execution_count": 11,
   "outputs": [],
   "source": [
    "weights_path = os.path.join(data_dir, \"weights-epoch=01-val_auroc=0.74.ckpt\")"
   ],
   "metadata": {
    "collapsed": false,
    "ExecuteTime": {
     "end_time": "2023-11-19T22:42:58.313709300Z",
     "start_time": "2023-11-19T22:42:58.269711600Z"
    }
   },
   "id": "f8667b8a56e97b9b"
  },
  {
   "cell_type": "code",
   "execution_count": 12,
   "outputs": [],
   "source": [
    "weights = torch.load(weights_path)"
   ],
   "metadata": {
    "collapsed": false,
    "ExecuteTime": {
     "end_time": "2023-11-19T22:42:59.766427Z",
     "start_time": "2023-11-19T22:42:58.285706500Z"
    }
   },
   "id": "a3eb6cb2ffc701c8"
  },
  {
   "cell_type": "code",
   "execution_count": 13,
   "outputs": [
    {
     "data": {
      "text/plain": "dict_keys(['epoch', 'global_step', 'pytorch-lightning_version', 'state_dict', 'loops'])"
     },
     "execution_count": 13,
     "metadata": {},
     "output_type": "execute_result"
    }
   ],
   "source": [
    "weights.keys()"
   ],
   "metadata": {
    "collapsed": false,
    "ExecuteTime": {
     "end_time": "2023-11-19T22:42:59.808448200Z",
     "start_time": "2023-11-19T22:42:59.763429500Z"
    }
   },
   "id": "b8bb81930ec0f12e"
  },
  {
   "cell_type": "code",
   "execution_count": 14,
   "outputs": [
    {
     "data": {
      "text/plain": "<All keys matched successfully>"
     },
     "execution_count": 14,
     "metadata": {},
     "output_type": "execute_result"
    }
   ],
   "source": [
    "model = PersonalityDetector(BERT_NAME, N_AXIS, MAX_SEQ_LEN)\n",
    "model.load_state_dict(weights[\"state_dict\"])"
   ],
   "metadata": {
    "collapsed": false,
    "ExecuteTime": {
     "end_time": "2023-11-19T22:43:05.895683Z",
     "start_time": "2023-11-19T22:42:59.785452300Z"
    }
   },
   "id": "9155daba03658c95"
  },
  {
   "cell_type": "markdown",
   "source": [
    "# Testing part"
   ],
   "metadata": {
    "collapsed": false
   },
   "id": "71de28c2b7e8177e"
  },
  {
   "cell_type": "code",
   "execution_count": 19,
   "outputs": [],
   "source": [
    "y_test = y_test.astype(float)\n",
    "test_dataset = DatasetPersonality(\n",
    "    X_test_input_ids, X_test_token_type_ids, X_test_attention_mask, y_test\n",
    ")\n",
    "\n",
    "test_dataloader = DataLoader(test_dataset, batch_size=32)"
   ],
   "metadata": {
    "collapsed": false,
    "ExecuteTime": {
     "end_time": "2023-11-19T21:37:51.098053700Z",
     "start_time": "2023-11-19T21:37:51.073056200Z"
    }
   },
   "id": "671cebdf22dd182d"
  },
  {
   "cell_type": "code",
   "execution_count": 32,
   "outputs": [
    {
     "data": {
      "text/plain": "Batch:   0%|          | 0/32 [00:00<?, ?it/s]",
      "application/vnd.jupyter.widget-view+json": {
       "version_major": 2,
       "version_minor": 0,
       "model_id": "b72480b932d8422ca67ef76d96a7ac77"
      }
     },
     "metadata": {},
     "output_type": "display_data"
    }
   ],
   "source": [
    "from tqdm.autonotebook import tqdm\n",
    "\n",
    "model.eval()  # set the model to evaluation mode\n",
    "with torch.no_grad():  # turn off gradients, since we are in test mode\n",
    "    predictions = []\n",
    "    for batch in tqdm(\n",
    "        test_dataloader, total=len(test_dataloader), desc=\"Batch\", colour=\"yellow\"\n",
    "    ):\n",
    "        input_ids, token_type_ids, attention_mask, labels = batch\n",
    "        output = model(input_ids, token_type_ids, attention_mask)\n",
    "        predictions.append(output)"
   ],
   "metadata": {
    "collapsed": false,
    "ExecuteTime": {
     "end_time": "2023-11-19T21:57:30.566871600Z",
     "start_time": "2023-11-19T21:48:24.980428700Z"
    }
   },
   "id": "76145acb1b524582"
  },
  {
   "cell_type": "code",
   "execution_count": 58,
   "outputs": [],
   "source": [
    "def plot_roc_auc(y_test, y_score, classes):\n",
    "    assert len(classes) > 1, \"len classes must be > 1\"\n",
    "    plt.figure(figsize=(20, 10))\n",
    "    if len(classes) > 2:  # multi-label\n",
    "        # Compute ROC curve and ROC area for each class\n",
    "        for i in range(len(classes)):\n",
    "            fpr, tpr, _ = roc_curve(y_test[:, i], y_score[:, i])\n",
    "            roc_auc = auc(fpr, tpr)\n",
    "            plt.plot(\n",
    "                fpr,\n",
    "                tpr,\n",
    "                label=\"ROC curve of class {0} (area = {1:0.2f})\".format(\n",
    "                    classes[i], roc_auc\n",
    "                ),\n",
    "            )\n",
    "        # Compute micro-average ROC curve and ROC area\n",
    "        fpr, tpr, _ = roc_curve(y_test.ravel(), y_score.ravel())\n",
    "        roc_auc = auc(fpr, tpr)\n",
    "        # Plot ROC curve\n",
    "        plt.plot(\n",
    "            fpr, tpr, label=\"micro-average ROC curve (area = {0:0.2f})\".format(roc_auc)\n",
    "        )\n",
    "    else:\n",
    "        fpr, tpr, _ = roc_curve(y_test, y_score)\n",
    "        roc_auc = auc(fpr, tpr)\n",
    "        plt.plot(fpr, tpr, label=\"ROC curve (area = {0:0.2f})\".format(roc_auc))\n",
    "    plt.plot([0, 1], [0, 1], \"k--\")\n",
    "    plt.xlim([0.0, 1.0])\n",
    "    plt.ylim([0.0, 1.05])\n",
    "    plt.xlabel(\"False Positive Rate\")\n",
    "    plt.ylabel(\"True Positive Rate\")\n",
    "    plt.title(\"Receiver operating characteristic\")\n",
    "    plt.legend(loc=\"lower right\")\n",
    "    plt.show()"
   ],
   "metadata": {
    "collapsed": false,
    "ExecuteTime": {
     "end_time": "2023-11-19T22:05:25.492153200Z",
     "start_time": "2023-11-19T22:05:25.354997Z"
    }
   },
   "id": "991dc29f10bcdaa5"
  },
  {
   "cell_type": "code",
   "execution_count": 59,
   "outputs": [],
   "source": [
    "predictions_lists = [tensor.tolist() for tensor in predictions]"
   ],
   "metadata": {
    "collapsed": false,
    "ExecuteTime": {
     "end_time": "2023-11-19T22:05:26.433211300Z",
     "start_time": "2023-11-19T22:05:26.282199300Z"
    }
   },
   "id": "12cb4f8ca6fb3f35"
  },
  {
   "cell_type": "code",
   "execution_count": 60,
   "outputs": [],
   "source": [
    "flattened_list = np.array([item for sublist in predictions_lists for item in sublist])"
   ],
   "metadata": {
    "collapsed": false,
    "ExecuteTime": {
     "end_time": "2023-11-19T22:05:27.635318700Z",
     "start_time": "2023-11-19T22:05:27.497222300Z"
    }
   },
   "id": "d7ee4a38fd776419"
  },
  {
   "cell_type": "code",
   "execution_count": 61,
   "outputs": [
    {
     "data": {
      "text/plain": "<Figure size 2000x1000 with 1 Axes>",
      "image/png": "[encoded data removed]"
     },
     "metadata": {},
     "output_type": "display_data"
    }
   ],
   "source": [
    "plot_roc_auc(y_test, flattened_list, axes)"
   ],
   "metadata": {
    "collapsed": false,
    "ExecuteTime": {
     "end_time": "2023-11-19T22:05:32.570820100Z",
     "start_time": "2023-11-19T22:05:28.165678700Z"
    }
   },
   "id": "bc5860c07a96e2dc"
  },
  {
   "cell_type": "code",
   "execution_count": 62,
   "outputs": [],
   "source": [
    "model.to(device);"
   ],
   "metadata": {
    "collapsed": false,
    "ExecuteTime": {
     "end_time": "2023-11-19T22:05:43.645112300Z",
     "start_time": "2023-11-19T22:05:43.318354100Z"
    }
   },
   "id": "358cb2fc5fe13f8a"
  },
  {
   "cell_type": "code",
   "execution_count": 71,
   "outputs": [
    {
     "name": "stdout",
     "output_type": "stream",
     "text": [
      "-- comment: I like studying deep learning, playing football and my guitar, and I love visit foreign cities all over the world.\n",
      "-- personality: ['I', 'N', 'F', 'P']\n",
      "-- scores:[0.27372834 0.2675252  0.57721424 0.69123715]\n"
     ]
    }
   ],
   "source": [
    "s1 = (\n",
    "    \"I like studying deep learning, playing football and my guitar, \"\n",
    "    \"and I love visit foreign cities all over the world.\"\n",
    ")\n",
    "sentences = np.asarray([s1])\n",
    "input_ids, token_type_ids, attention_mask = prepare_bert_input(\n",
    "    sentences, MAX_SEQ_LEN, BERT_NAME\n",
    ")\n",
    "model.to(device)\n",
    "with torch.no_grad():\n",
    "    preds = (\n",
    "        model(\n",
    "            torch.Tensor(input_ids).long().to(device),\n",
    "            torch.Tensor(token_type_ids).long().to(device),\n",
    "            torch.Tensor(attention_mask).long().to(device),\n",
    "        )\n",
    "        .detach()\n",
    "        .cpu()\n",
    "        .numpy()\n",
    "    )\n",
    "\n",
    "for sentence, pred in zip(sentences, preds):\n",
    "    pred_axis = []\n",
    "    mask = (pred > 0.5).astype(bool)\n",
    "    for i in range(len(mask)):\n",
    "        if mask[i]:\n",
    "            pred_axis.append(axes[i][2])\n",
    "        else:\n",
    "            pred_axis.append(axes[i][0])\n",
    "\n",
    "    print(\n",
    "        \"-- comment: \"\n",
    "        + sentence.replace(\"\\n\", \"\").strip()\n",
    "        + \"\\n-- personality: \"\n",
    "        + str(pred_axis)\n",
    "        + \"\\n-- scores:\"\n",
    "        + str(pred)\n",
    "    )"
   ],
   "metadata": {
    "collapsed": false,
    "ExecuteTime": {
     "end_time": "2023-11-19T22:12:47.304045500Z",
     "start_time": "2023-11-19T22:12:46.864567900Z"
    }
   },
   "id": "74058f5bad7e93ab"
  },
  {
   "cell_type": "markdown",
   "source": [
    "# Computing part"
   ],
   "metadata": {
    "collapsed": false
   },
   "id": "95c0c7c2e1cc309b"
  },
  {
   "cell_type": "code",
   "execution_count": 15,
   "outputs": [],
   "source": [
    "model.eval()\n",
    "tokenizer = BertTokenizer.from_pretrained(BERT_NAME)\n",
    "\n",
    "\n",
    "def prepare_bert_input_cuda(sentences, seq_len):\n",
    "    encodings = tokenizer(\n",
    "        sentences.tolist(), truncation=True, padding=\"max_length\", max_length=seq_len\n",
    "    )\n",
    "    input = [\n",
    "        np.array(encodings[\"input_ids\"]),\n",
    "        np.array(encodings[\"token_type_ids\"]),\n",
    "        np.array(encodings[\"attention_mask\"]),\n",
    "    ]\n",
    "    return input"
   ],
   "metadata": {
    "collapsed": false,
    "ExecuteTime": {
     "end_time": "2023-11-19T22:43:06.358342200Z",
     "start_time": "2023-11-19T22:43:05.902684Z"
    }
   },
   "id": "539ac1e1b5bf3e7e"
  },
  {
   "cell_type": "code",
   "execution_count": 31,
   "outputs": [],
   "source": [
    "model.to(device)\n",
    "MAX_SEQ_LEN, BERT_NAME = 128, \"bert-base-uncased\"\n",
    "\n",
    "\n",
    "def get_personality(text):\n",
    "    sentence = np.asarray([text])\n",
    "    input_ids, token_type_ids, attention_mask = prepare_bert_input_cuda(\n",
    "        sentence, MAX_SEQ_LEN\n",
    "    )\n",
    "    with torch.no_grad():\n",
    "        preds = (\n",
    "            model(\n",
    "                torch.Tensor(input_ids).long().to(device),\n",
    "                torch.Tensor(token_type_ids).long().to(device),\n",
    "                torch.Tensor(attention_mask).long().to(device),\n",
    "            )\n",
    "            .detach()\n",
    "            .cpu()\n",
    "            .numpy()\n",
    "        )\n",
    "    pred_axis = []\n",
    "    for sentence, pred in zip(sentences, preds):\n",
    "        mask = (pred > 0.5).astype(bool)\n",
    "        for i in range(len(mask)):\n",
    "            if mask[i]:\n",
    "                pred_axis.append(axes[i][2])\n",
    "            else:\n",
    "                pred_axis.append(axes[i][0])\n",
    "    return {\"type\": pred_axis, \"preds\": preds[0]}"
   ],
   "metadata": {
    "collapsed": false,
    "ExecuteTime": {
     "end_time": "2023-11-19T22:48:28.038365400Z",
     "start_time": "2023-11-19T22:48:27.941834Z"
    }
   },
   "id": "a9fe016397ca1019"
  },
  {
   "cell_type": "code",
   "execution_count": 32,
   "outputs": [
    {
     "name": "stdout",
     "output_type": "stream",
     "text": [
      "{'type': ['I', 'N', 'F', 'P'], 'preds': array([0.27372834, 0.2675252 , 0.57721424, 0.69123715], dtype=float32)}\n"
     ]
    }
   ],
   "source": [
    "print(\n",
    "    get_personality(\n",
    "        \"I like studying deep learning, playing football and my guitar, \"\n",
    "        \"and I love visit foreign cities all over the world.\"\n",
    "    )\n",
    ")"
   ],
   "metadata": {
    "collapsed": false,
    "ExecuteTime": {
     "end_time": "2023-11-19T22:48:28.607525800Z",
     "start_time": "2023-11-19T22:48:28.336796600Z"
    }
   },
   "id": "dffd78b4255d39d5"
  },
  {
   "cell_type": "code",
   "execution_count": 33,
   "outputs": [],
   "source": [
    "data = pd.read_csv(os.path.join(data_dir, \"combined_emo_5comments_10_300.csv\"))"
   ],
   "metadata": {
    "collapsed": false,
    "ExecuteTime": {
     "end_time": "2023-11-19T22:48:53.997890Z",
     "start_time": "2023-11-19T22:48:51.125312800Z"
    }
   },
   "id": "ced291cb726767e4"
  },
  {
   "cell_type": "code",
   "execution_count": null,
   "outputs": [
    {
     "data": {
      "text/plain": "MBTI getting:   0%|          | 0/396280 [00:00<?, ?it/s]",
      "application/vnd.jupyter.widget-view+json": {
       "version_major": 2,
       "version_minor": 0,
       "model_id": "54189cab99724ac4880c95d9c472e398"
      }
     },
     "metadata": {},
     "output_type": "display_data"
    }
   ],
   "source": [
    "tqdm.pandas(total=data.shape[0], desc=\"MBTI getting\", colour=\"yellow\")\n",
    "data[\"mbti\"] = data.progress_apply(lambda row: get_personality(row.comment), axis=1)"
   ],
   "metadata": {
    "collapsed": false,
    "is_executing": true,
    "ExecuteTime": {
     "start_time": "2023-11-19T22:48:55.068688200Z"
    }
   },
   "id": "c999e46e02251a93"
  },
  {
   "cell_type": "code",
   "execution_count": null,
   "outputs": [],
   "source": [
    "data.to_json(\n",
    "    os.path.join(data_dir, \"bert_personality.json\"),\n",
    "    orient=\"records\",\n",
    "    indent=4,\n",
    "    force_ascii=False,\n",
    ")"
   ],
   "metadata": {
    "collapsed": false,
    "is_executing": true
   },
   "id": "f5c89abc9a72ecfb"
  },
  {
   "cell_type": "code",
   "execution_count": null,
   "outputs": [],
   "source": [],
   "metadata": {
    "collapsed": false
   },
   "id": "83bdf845ee45d2e6"
  }
 ],
 "metadata": {
  "kernelspec": {
   "display_name": "Python 3",
   "language": "python",
   "name": "python3"
  },
  "language_info": {
   "codemirror_mode": {
    "name": "ipython",
    "version": 2
   },
   "file_extension": ".py",
   "mimetype": "text/x-python",
   "name": "python",
   "nbconvert_exporter": "python",
   "pygments_lexer": "ipython2",
   "version": "2.7.6"
  }
 },
 "nbformat": 4,
 "nbformat_minor": 5
}
