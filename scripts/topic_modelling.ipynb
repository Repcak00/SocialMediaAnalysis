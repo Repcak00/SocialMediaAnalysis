{
 "cells": [
  {
   "cell_type": "code",
   "execution_count": 12,
   "id": "bcc4caeec9f368",
   "metadata": {
    "collapsed": false,
    "ExecuteTime": {
     "end_time": "2023-12-31T13:17:29.365836200Z",
     "start_time": "2023-12-31T13:17:29.358274800Z"
    }
   },
   "outputs": [],
   "source": [
    "import os\n",
    "\n",
    "import matplotlib.pyplot as plt\n",
    "import numpy as np\n",
    "import pandas as pd\n",
    "from PIL import Image\n",
    "from bertopic import BERTopic\n",
    "from tqdm.notebook import tqdm\n",
    "from wordcloud import WordCloud, STOPWORDS"
   ]
  },
  {
   "cell_type": "code",
   "execution_count": 2,
   "id": "d4d200bd88c65387",
   "metadata": {
    "collapsed": false,
    "ExecuteTime": {
     "end_time": "2023-12-31T12:30:57.499377400Z",
     "start_time": "2023-12-31T12:30:57.481567500Z"
    }
   },
   "outputs": [],
   "source": [
    "cwd = os.getcwd()\n",
    "parent_dir = os.path.abspath(os.path.join(cwd, os.pardir))\n",
    "data_dir = os.path.join(parent_dir, \"data\")"
   ]
  },
  {
   "cell_type": "code",
   "execution_count": 3,
   "id": "initial_id",
   "metadata": {
    "collapsed": false,
    "ExecuteTime": {
     "end_time": "2023-12-31T12:31:01.684878500Z",
     "start_time": "2023-12-31T12:30:57.485378200Z"
    }
   },
   "outputs": [],
   "source": [
    "df_combined = pd.read_csv(\n",
    "    os.path.join(data_dir, \"combined_final.csv\"), encoding=\"utf-8\"\n",
    ")"
   ]
  },
  {
   "cell_type": "code",
   "execution_count": 4,
   "id": "3de23d8b8c6d1c5e",
   "metadata": {
    "collapsed": false,
    "ExecuteTime": {
     "end_time": "2023-12-31T12:31:01.711838Z",
     "start_time": "2023-12-31T12:31:01.685878500Z"
    }
   },
   "outputs": [
    {
     "data": {
      "text/plain": "                   comment_id             author                  date  \\\n0  Ugz1ByKCNN-zcHnFDmt4AaABAg       Yuri Briceño  2023-11-12T19:03:39Z   \n1  UgzEx14TY3TRXzYiY6F4AaABAg  leslie winchester  2023-11-12T18:12:49Z   \n2  UgyyXemVneI7UpYbunt4AaABAg       Jeff Packham  2023-11-12T14:25:41Z   \n3  UgxnQPStaiTWQqrwtfl4AaABAg      Reto Kaufmann  2023-11-12T13:37:51Z   \n4  UgylFha0XC_D4Amrmb94AaABAg   Thomas Schmutter  2023-11-12T10:35:46Z   \n\n                                             comment     video_id  is_reply  \\\n0                                   It  39  s y good  lDK9QqIzhwk     False   \n1  2009  2011 six string in hock  prayer  still w...  lDK9QqIzhwk     False   \n2  no talk about club  He man woman club Alfalfa ...  lDK9QqIzhwk     False   \n3   Rock and metal radio station  it   quot  shog...  lDK9QqIzhwk     False   \n4                     From Bon Living on a Prayer     lDK9QqIzhwk     False   \n\n  parent_id  channel  genre                                 emoji  \n0       NaN  bonjovi  metal                                ['❤️']  \n1       NaN  bonjovi  metal                                    []  \n2       NaN  bonjovi  metal  ['🦜', '😎', '😂', '😎', '😂', '❤️', '🎉']  \n3       NaN  bonjovi  metal                                    []  \n4       NaN  bonjovi  metal                                 ['🎉']  ",
      "text/html": "<div>\n<style scoped>\n    .dataframe tbody tr th:only-of-type {\n        vertical-align: middle;\n    }\n\n    .dataframe tbody tr th {\n        vertical-align: top;\n    }\n\n    .dataframe thead th {\n        text-align: right;\n    }\n</style>\n<table border=\"1\" class=\"dataframe\">\n  <thead>\n    <tr style=\"text-align: right;\">\n      <th></th>\n      <th>comment_id</th>\n      <th>author</th>\n      <th>date</th>\n      <th>comment</th>\n      <th>video_id</th>\n      <th>is_reply</th>\n      <th>parent_id</th>\n      <th>channel</th>\n      <th>genre</th>\n      <th>emoji</th>\n    </tr>\n  </thead>\n  <tbody>\n    <tr>\n      <th>0</th>\n      <td>Ugz1ByKCNN-zcHnFDmt4AaABAg</td>\n      <td>Yuri Briceño</td>\n      <td>2023-11-12T19:03:39Z</td>\n      <td>It  39  s y good</td>\n      <td>lDK9QqIzhwk</td>\n      <td>False</td>\n      <td>NaN</td>\n      <td>bonjovi</td>\n      <td>metal</td>\n      <td>['❤️']</td>\n    </tr>\n    <tr>\n      <th>1</th>\n      <td>UgzEx14TY3TRXzYiY6F4AaABAg</td>\n      <td>leslie winchester</td>\n      <td>2023-11-12T18:12:49Z</td>\n      <td>2009  2011 six string in hock  prayer  still w...</td>\n      <td>lDK9QqIzhwk</td>\n      <td>False</td>\n      <td>NaN</td>\n      <td>bonjovi</td>\n      <td>metal</td>\n      <td>[]</td>\n    </tr>\n    <tr>\n      <th>2</th>\n      <td>UgyyXemVneI7UpYbunt4AaABAg</td>\n      <td>Jeff Packham</td>\n      <td>2023-11-12T14:25:41Z</td>\n      <td>no talk about club  He man woman club Alfalfa ...</td>\n      <td>lDK9QqIzhwk</td>\n      <td>False</td>\n      <td>NaN</td>\n      <td>bonjovi</td>\n      <td>metal</td>\n      <td>['🦜', '😎', '😂', '😎', '😂', '❤️', '🎉']</td>\n    </tr>\n    <tr>\n      <th>3</th>\n      <td>UgxnQPStaiTWQqrwtfl4AaABAg</td>\n      <td>Reto Kaufmann</td>\n      <td>2023-11-12T13:37:51Z</td>\n      <td>Rock and metal radio station  it   quot  shog...</td>\n      <td>lDK9QqIzhwk</td>\n      <td>False</td>\n      <td>NaN</td>\n      <td>bonjovi</td>\n      <td>metal</td>\n      <td>[]</td>\n    </tr>\n    <tr>\n      <th>4</th>\n      <td>UgylFha0XC_D4Amrmb94AaABAg</td>\n      <td>Thomas Schmutter</td>\n      <td>2023-11-12T10:35:46Z</td>\n      <td>From Bon Living on a Prayer</td>\n      <td>lDK9QqIzhwk</td>\n      <td>False</td>\n      <td>NaN</td>\n      <td>bonjovi</td>\n      <td>metal</td>\n      <td>['🎉']</td>\n    </tr>\n  </tbody>\n</table>\n</div>"
     },
     "execution_count": 4,
     "metadata": {},
     "output_type": "execute_result"
    }
   ],
   "source": [
    "df_combined.head()"
   ]
  },
  {
   "cell_type": "code",
   "execution_count": 5,
   "id": "7fe0a2c9f5f867ad",
   "metadata": {
    "collapsed": false,
    "ExecuteTime": {
     "end_time": "2023-12-31T12:31:01.850691200Z",
     "start_time": "2023-12-31T12:31:01.709797800Z"
    }
   },
   "outputs": [
    {
     "data": {
      "text/plain": "channel\nariana_grande               109522\nbillie_eilish               109243\nmetallica                   108908\ned_sheeran                  108748\nnicki_minaj                 108107\nledzeppelin                 106844\ntaylor_swift                106706\ndrake                       106126\nqueen                       105727\nmalone                      104308\nthebeatles                  100249\nkanye_west                   94638\neminem                       94626\nolivia                       94216\nghost                        93452\npinkfloyd                    89895\nkendrick_lamar               82626\nsystemofadown                78708\nskrillex                     74433\nchopin                       70830\nbeethoven                    58828\nmegadeth                     56142\nbonjovi                      55353\nmozart                       52715\nslayer                       38353\nkaleo                        32700\nanthrax                      29420\nbach                         10191\nkirk fletcher                 8480\nmarcusking                    5497\nraycharles                    2657\ntylerbryant&theshakedown      2429\nName: count, dtype: int64"
     },
     "execution_count": 5,
     "metadata": {},
     "output_type": "execute_result"
    }
   ],
   "source": [
    "df_combined.channel.value_counts()"
   ]
  },
  {
   "cell_type": "code",
   "execution_count": 6,
   "id": "8936a51810880f7",
   "metadata": {
    "collapsed": false,
    "ExecuteTime": {
     "end_time": "2023-12-31T12:31:01.851695500Z",
     "start_time": "2023-12-31T12:31:01.822928100Z"
    }
   },
   "outputs": [
    {
     "data": {
      "text/plain": "genre\npop            632743\nmetal          443139\nrock           419912\nhip_hop_rap    391497\nclassical      192564\nblues           51763\nName: count, dtype: int64"
     },
     "execution_count": 6,
     "metadata": {},
     "output_type": "execute_result"
    }
   ],
   "source": [
    "df_combined.genre.value_counts()"
   ]
  },
  {
   "cell_type": "markdown",
   "id": "596799938f430a5b",
   "metadata": {
    "collapsed": false
   },
   "source": [
    "# Topic Modelling"
   ]
  },
  {
   "cell_type": "code",
   "execution_count": 14,
   "id": "87d0bfa120bce6b",
   "metadata": {
    "collapsed": false,
    "ExecuteTime": {
     "end_time": "2023-12-31T13:20:35.418800300Z",
     "start_time": "2023-12-31T13:20:35.401022800Z"
    }
   },
   "outputs": [],
   "source": [
    "def create_wordcloud(model: BERTopic, topic: int, mask: np.array, file_path: str):\n",
    "    text = {word: value for word, value in model.get_topic(topic)}\n",
    "\n",
    "    # create a custom colormap with only darker shades of magma\n",
    "    # magma_colors = plt.cm.get_cmap(\"inferno\")(np.linspace(0.2, 1, 256))\n",
    "    magma_colors = plt.colormaps[\"inferno\"](np.linspace(0.2, 1, 256))\n",
    "\n",
    "    darker_magma = magma_colors[200:256]  # Adjust the index to control darkness\n",
    "\n",
    "    # create a new colormap using only the darker shades of magma\n",
    "    custom_cmap = plt.cm.colors.ListedColormap(darker_magma)\n",
    "\n",
    "    wc = WordCloud(\n",
    "        stopwords=STOPWORDS,\n",
    "        mask=mask,\n",
    "        background_color=\"rgba(255, 255, 255, 0)\",  # transparent background\n",
    "        mode=\"RGBA\",\n",
    "        max_words=1000,\n",
    "        colormap=custom_cmap,\n",
    "        width=mask.shape[1],\n",
    "        height=mask.shape[0],\n",
    "    )\n",
    "    wc.generate_from_frequencies(text)\n",
    "\n",
    "    if file_path.endswith(\".png\"):\n",
    "        wc.to_file(file_path)\n",
    "    elif file_path.endswith(\".svg\"):\n",
    "        plt.axis(\"off\")\n",
    "        wordcloud_svg = wc.to_svg(embed_font=True)\n",
    "        with open(file_path, \"w+\") as svg_file:\n",
    "            svg_file.write(wordcloud_svg)"
   ]
  },
  {
   "cell_type": "code",
   "outputs": [
    {
     "data": {
      "text/plain": "['metal', 'blues', 'classical', 'pop', 'rock', 'hip_hop_rap', nan]"
     },
     "execution_count": 8,
     "metadata": {},
     "output_type": "execute_result"
    }
   ],
   "source": [
    "list(df_combined[\"genre\"].unique())"
   ],
   "metadata": {
    "collapsed": false,
    "ExecuteTime": {
     "end_time": "2023-12-31T12:31:01.925542Z",
     "start_time": "2023-12-31T12:31:01.831671700Z"
    }
   },
   "id": "dc399af6ac1cd431",
   "execution_count": 8
  },
  {
   "cell_type": "code",
   "execution_count": 13,
   "id": "f265e3d55c9b81e0",
   "metadata": {
    "collapsed": false,
    "ExecuteTime": {
     "end_time": "2023-12-31T13:20:35.399980Z",
     "start_time": "2023-12-31T13:17:33.035937600Z"
    }
   },
   "outputs": [
    {
     "data": {
      "text/plain": "Topic Modelling: Genre:   0%|          | 0/2 [00:00<?, ?it/s]",
      "application/vnd.jupyter.widget-view+json": {
       "version_major": 2,
       "version_minor": 0,
       "model_id": "4120855319be4d33a33a904a2c9e2851"
      }
     },
     "metadata": {},
     "output_type": "display_data"
    },
    {
     "data": {
      "text/plain": "Topic Modeling: Topic:   0%|          | 0/5 [00:00<?, ?it/s]",
      "application/vnd.jupyter.widget-view+json": {
       "version_major": 2,
       "version_minor": 0,
       "model_id": "ccc1874eee844d25bf80a8b8b0c8bf35"
      }
     },
     "metadata": {},
     "output_type": "display_data"
    },
    {
     "name": "stderr",
     "output_type": "stream",
     "text": [
      "C:\\Users\\Jakub\\AppData\\Local\\Temp\\ipykernel_23252\\4284282597.py:5: MatplotlibDeprecationWarning: The get_cmap function was deprecated in Matplotlib 3.7 and will be removed two minor releases later. Use ``matplotlib.colormaps[name]`` or ``matplotlib.colormaps.get_cmap(obj)`` instead.\n",
      "  magma_colors = plt.cm.get_cmap(\"inferno\")(np.linspace(0.2, 1, 256))\n"
     ]
    },
    {
     "data": {
      "text/plain": "Topic Modeling: Topic:   0%|          | 0/5 [00:00<?, ?it/s]",
      "application/vnd.jupyter.widget-view+json": {
       "version_major": 2,
       "version_minor": 0,
       "model_id": "f2153485287a453b8d276669d132f7f1"
      }
     },
     "metadata": {},
     "output_type": "display_data"
    },
    {
     "name": "stderr",
     "output_type": "stream",
     "text": [
      "C:\\Users\\Jakub\\AppData\\Local\\Temp\\ipykernel_23252\\4284282597.py:5: MatplotlibDeprecationWarning: The get_cmap function was deprecated in Matplotlib 3.7 and will be removed two minor releases later. Use ``matplotlib.colormaps[name]`` or ``matplotlib.colormaps.get_cmap(obj)`` instead.\n",
      "  magma_colors = plt.cm.get_cmap(\"inferno\")(np.linspace(0.2, 1, 256))\n"
     ]
    },
    {
     "data": {
      "text/plain": "<Figure size 640x480 with 1 Axes>",
      "image/png": "[encoded data removed]"
     },
     "metadata": {},
     "output_type": "display_data"
    }
   ],
   "source": [
    "genre_shapes_dict = {\n",
    "    # \"metal\": \"metal_guitar.png\",\n",
    "    # \"blues\": \"saxophone_blues.png\",\n",
    "    \"classical\": \"classical_violin.png\",\n",
    "    # \"pop\": \"pop_microphone.png\",\n",
    "    # \"rock\": \"rock_guitar.png\",\n",
    "    \"hip_hop_rap\": \"hip_hop_rap_rapper.png\",\n",
    "}\n",
    "\n",
    "for genre_name, genre_shape_file in tqdm(\n",
    "    genre_shapes_dict.items(), desc=\"Topic Modelling: Genre\", leave=True\n",
    "):\n",
    "    output_folder = os.path.join(\n",
    "        data_dir, \"topic_modelling_in_shapes\", \"genres\", genre_name\n",
    "    )\n",
    "    if not os.path.exists(output_folder):\n",
    "        os.makedirs(output_folder)\n",
    "\n",
    "    model = BERTopic(language=\"english\", top_n_words=100)\n",
    "\n",
    "    texts = (\n",
    "        df_combined[df_combined[\"genre\"] == genre_name]\n",
    "        .sample(frac=1)\n",
    "        .head(100_000)[\"comment\"]\n",
    "        .values.tolist()\n",
    "    )\n",
    "    topics, probabilities = model.fit_transform(texts)\n",
    "\n",
    "    mask = np.invert(\n",
    "        np.array(\n",
    "            Image.open(\n",
    "                os.path.join(\n",
    "                    data_dir, \"topic_modelling_in_shapes\", \"shapes\", genre_shape_file\n",
    "                )\n",
    "            )\n",
    "        )\n",
    "    )\n",
    "\n",
    "    for topic_number in tqdm(range(5), desc=\"Topic Modeling: Topic\", leave=False):\n",
    "        create_wordcloud(\n",
    "            model=model,\n",
    "            topic=topic_number,\n",
    "            mask=mask,\n",
    "            file_path=os.path.join(\n",
    "                output_folder, f\"wordcloud_{topic_number}_{genre_name}.svg\"\n",
    "            ),\n",
    "        )"
   ]
  }
 ],
 "metadata": {
  "kernelspec": {
   "display_name": "Python 3 (ipykernel)",
   "language": "python",
   "name": "python3"
  },
  "language_info": {
   "codemirror_mode": {
    "name": "ipython",
    "version": 3
   },
   "file_extension": ".py",
   "mimetype": "text/x-python",
   "name": "python",
   "nbconvert_exporter": "python",
   "pygments_lexer": "ipython3",
   "version": "3.11.6"
  }
 },
 "nbformat": 4,
 "nbformat_minor": 5
}
