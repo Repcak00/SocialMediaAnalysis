{
 "cells": [
  {
   "cell_type": "code",
   "execution_count": 1,
   "id": "initial_id",
   "metadata": {
    "collapsed": true,
    "ExecuteTime": {
     "end_time": "2023-11-17T20:21:32.835355200Z",
     "start_time": "2023-11-17T20:21:29.608576400Z"
    }
   },
   "outputs": [
    {
     "name": "stderr",
     "output_type": "stream",
     "text": [
      "C:\\Users\\Jakub\\AppData\\Local\\Temp\\ipykernel_2784\\2900489150.py:5: TqdmWarning: IProgress not found. Please update jupyter and ipywidgets. See https://ipywidgets.readthedocs.io/en/stable/user_install.html\n",
      "  from tqdm.autonotebook import tqdm\n"
     ]
    }
   ],
   "source": [
    "import pandas as pd\n",
    "import os\n",
    "import torch\n",
    "import torch.cuda\n",
    "from tqdm.autonotebook import tqdm\n",
    "from transformers import BertTokenizer, BertForSequenceClassification\n",
    "from datasets import load_dataset"
   ]
  },
  {
   "cell_type": "code",
   "execution_count": 2,
   "outputs": [],
   "source": [
    "cwd = os.getcwd()\n",
    "parent_dir = os.path.abspath(os.path.join(cwd, os.pardir))\n",
    "data_dir = os.path.join(parent_dir, \"data\")\n",
    "device = torch.device(\"cuda\" if torch.cuda.is_available() else \"cpu\")"
   ],
   "metadata": {
    "collapsed": false,
    "ExecuteTime": {
     "end_time": "2023-11-17T20:21:32.886241900Z",
     "start_time": "2023-11-17T20:21:32.814356700Z"
    }
   },
   "id": "b0bc12ae10bdfff"
  },
  {
   "cell_type": "code",
   "execution_count": 3,
   "outputs": [],
   "source": [
    "data = pd.read_csv(os.path.join(data_dir, \"combined_final.csv\"))\n",
    "tokenizer = BertTokenizer.from_pretrained(\"Minej/bert-base-personality\")\n",
    "model = BertForSequenceClassification.from_pretrained(\"Minej/bert-base-personality\").to(\n",
    "    device\n",
    ")"
   ],
   "metadata": {
    "collapsed": false,
    "ExecuteTime": {
     "end_time": "2023-11-17T20:21:42.398629300Z",
     "start_time": "2023-11-17T20:21:32.875241800Z"
    }
   },
   "id": "e2ef22c5124b1569"
  },
  {
   "cell_type": "code",
   "execution_count": 4,
   "outputs": [
    {
     "data": {
      "text/plain": "                   comment_id             author                  date  \\\n0  Ugz1ByKCNN-zcHnFDmt4AaABAg       Yuri Briceño  2023-11-12T19:03:39Z   \n1  UgzEx14TY3TRXzYiY6F4AaABAg  leslie winchester  2023-11-12T18:12:49Z   \n2  UgyyXemVneI7UpYbunt4AaABAg       Jeff Packham  2023-11-12T14:25:41Z   \n3  UgxnQPStaiTWQqrwtfl4AaABAg      Reto Kaufmann  2023-11-12T13:37:51Z   \n4  UgylFha0XC_D4Amrmb94AaABAg   Thomas Schmutter  2023-11-12T10:35:46Z   \n\n                                             comment     video_id  is_reply  \\\n0                                   It  39  s y good  lDK9QqIzhwk     False   \n1  2009  2011 six string in hock  prayer  still w...  lDK9QqIzhwk     False   \n2  no talk about club  He man woman club Alfalfa ...  lDK9QqIzhwk     False   \n3   Rock and metal radio station  it   quot  shog...  lDK9QqIzhwk     False   \n4                     From Bon Living on a Prayer     lDK9QqIzhwk     False   \n\n  parent_id  channel  genre                                 emoji  \n0       NaN  bonjovi  metal                                ['❤️']  \n1       NaN  bonjovi  metal                                    []  \n2       NaN  bonjovi  metal  ['🦜', '😎', '😂', '😎', '😂', '❤️', '🎉']  \n3       NaN  bonjovi  metal                                    []  \n4       NaN  bonjovi  metal                                 ['🎉']  ",
      "text/html": "<div>\n<style scoped>\n    .dataframe tbody tr th:only-of-type {\n        vertical-align: middle;\n    }\n\n    .dataframe tbody tr th {\n        vertical-align: top;\n    }\n\n    .dataframe thead th {\n        text-align: right;\n    }\n</style>\n<table border=\"1\" class=\"dataframe\">\n  <thead>\n    <tr style=\"text-align: right;\">\n      <th></th>\n      <th>comment_id</th>\n      <th>author</th>\n      <th>date</th>\n      <th>comment</th>\n      <th>video_id</th>\n      <th>is_reply</th>\n      <th>parent_id</th>\n      <th>channel</th>\n      <th>genre</th>\n      <th>emoji</th>\n    </tr>\n  </thead>\n  <tbody>\n    <tr>\n      <th>0</th>\n      <td>Ugz1ByKCNN-zcHnFDmt4AaABAg</td>\n      <td>Yuri Briceño</td>\n      <td>2023-11-12T19:03:39Z</td>\n      <td>It  39  s y good</td>\n      <td>lDK9QqIzhwk</td>\n      <td>False</td>\n      <td>NaN</td>\n      <td>bonjovi</td>\n      <td>metal</td>\n      <td>['❤️']</td>\n    </tr>\n    <tr>\n      <th>1</th>\n      <td>UgzEx14TY3TRXzYiY6F4AaABAg</td>\n      <td>leslie winchester</td>\n      <td>2023-11-12T18:12:49Z</td>\n      <td>2009  2011 six string in hock  prayer  still w...</td>\n      <td>lDK9QqIzhwk</td>\n      <td>False</td>\n      <td>NaN</td>\n      <td>bonjovi</td>\n      <td>metal</td>\n      <td>[]</td>\n    </tr>\n    <tr>\n      <th>2</th>\n      <td>UgyyXemVneI7UpYbunt4AaABAg</td>\n      <td>Jeff Packham</td>\n      <td>2023-11-12T14:25:41Z</td>\n      <td>no talk about club  He man woman club Alfalfa ...</td>\n      <td>lDK9QqIzhwk</td>\n      <td>False</td>\n      <td>NaN</td>\n      <td>bonjovi</td>\n      <td>metal</td>\n      <td>['🦜', '😎', '😂', '😎', '😂', '❤️', '🎉']</td>\n    </tr>\n    <tr>\n      <th>3</th>\n      <td>UgxnQPStaiTWQqrwtfl4AaABAg</td>\n      <td>Reto Kaufmann</td>\n      <td>2023-11-12T13:37:51Z</td>\n      <td>Rock and metal radio station  it   quot  shog...</td>\n      <td>lDK9QqIzhwk</td>\n      <td>False</td>\n      <td>NaN</td>\n      <td>bonjovi</td>\n      <td>metal</td>\n      <td>[]</td>\n    </tr>\n    <tr>\n      <th>4</th>\n      <td>UgylFha0XC_D4Amrmb94AaABAg</td>\n      <td>Thomas Schmutter</td>\n      <td>2023-11-12T10:35:46Z</td>\n      <td>From Bon Living on a Prayer</td>\n      <td>lDK9QqIzhwk</td>\n      <td>False</td>\n      <td>NaN</td>\n      <td>bonjovi</td>\n      <td>metal</td>\n      <td>['🎉']</td>\n    </tr>\n  </tbody>\n</table>\n</div>"
     },
     "execution_count": 4,
     "metadata": {},
     "output_type": "execute_result"
    }
   ],
   "source": [
    "data.head()"
   ],
   "metadata": {
    "collapsed": false,
    "ExecuteTime": {
     "end_time": "2023-11-17T20:21:42.426607500Z",
     "start_time": "2023-11-17T20:21:42.406141700Z"
    }
   },
   "id": "c05ba95e53bca4b3"
  },
  {
   "cell_type": "code",
   "execution_count": 5,
   "outputs": [],
   "source": [
    "dataset = load_dataset(\"csv\", data_files=os.path.join(data_dir, \"combined_final.csv\"))\n",
    "dataset = dataset[\"train\"]"
   ],
   "metadata": {
    "collapsed": false,
    "ExecuteTime": {
     "end_time": "2023-11-17T20:21:43.442383600Z",
     "start_time": "2023-11-17T20:21:42.418607500Z"
    }
   },
   "id": "be02463ff6551f5f"
  },
  {
   "cell_type": "code",
   "execution_count": 6,
   "outputs": [
    {
     "name": "stderr",
     "output_type": "stream",
     "text": [
      "Map: 100%|██████████| 2300677/2300677 [07:39<00:00, 5002.10 examples/s]\n"
     ]
    }
   ],
   "source": [
    "dataset_tokenized = dataset.map(\n",
    "    lambda examples: tokenizer(\n",
    "        examples[\"comment\"], truncation=True, padding=True, return_tensors=\"np\"\n",
    "    ),\n",
    "    batched=True,\n",
    ")"
   ],
   "metadata": {
    "collapsed": false,
    "ExecuteTime": {
     "end_time": "2023-11-17T20:29:23.503913800Z",
     "start_time": "2023-11-17T20:21:43.421169100Z"
    }
   },
   "id": "bbd05ea06f380a3a"
  },
  {
   "cell_type": "code",
   "execution_count": null,
   "outputs": [],
   "source": [
    "inputs = dataset_tokenized  # .to(device)\n",
    "outputs = model(**inputs)\n",
    "predictions = outputs.logits.squeeze().detach().cpu().numpy()"
   ],
   "metadata": {
    "collapsed": false
   },
   "id": "f7fa5fb8e72440e4"
  },
  {
   "cell_type": "code",
   "execution_count": 8,
   "outputs": [],
   "source": [
    "def personality_detection(text):\n",
    "    inputs = tokenizer(text, truncation=True, padding=True, return_tensors=\"pt\").to(\n",
    "        device\n",
    "    )\n",
    "    outputs = model(**inputs)\n",
    "    predictions = outputs.logits.squeeze().detach().cpu().numpy()\n",
    "\n",
    "    label_names = [\n",
    "        \"Extroversion\",\n",
    "        \"Neuroticism\",\n",
    "        \"Agreeableness\",\n",
    "        \"Conscientiousness\",\n",
    "        \"Openness\",\n",
    "    ]\n",
    "    result = {label_names[i]: predictions[i] for i in range(len(label_names))}\n",
    "\n",
    "    return result"
   ],
   "metadata": {
    "collapsed": false,
    "ExecuteTime": {
     "end_time": "2023-11-17T20:39:25.642306300Z",
     "start_time": "2023-11-17T20:39:25.631795Z"
    }
   },
   "id": "5b7d20f12bcbba33"
  },
  {
   "cell_type": "code",
   "execution_count": 9,
   "outputs": [
    {
     "name": "stdout",
     "output_type": "stream",
     "text": [
      "{'Extroversion': -0.10676388, 'Neuroticism': 0.23157988, 'Agreeableness': -0.34132114, 'Conscientiousness': -0.9508019, 'Openness': 0.019197056}\n"
     ]
    }
   ],
   "source": [
    "text_input = \"i like dogs\"\n",
    "personality_prediction = personality_detection(text_input)\n",
    "print(personality_prediction)"
   ],
   "metadata": {
    "collapsed": false,
    "ExecuteTime": {
     "end_time": "2023-11-17T20:39:27.786530900Z",
     "start_time": "2023-11-17T20:39:26.695501100Z"
    }
   },
   "id": "c2e8c5b10e939e4b"
  },
  {
   "cell_type": "code",
   "execution_count": 10,
   "outputs": [
    {
     "name": "stderr",
     "output_type": "stream",
     "text": [
      "Computing personality: 100%|\u001B[35m██████████\u001B[0m| 2300677/2300677 [5:52:27<00:00, 108.79it/s]  \n"
     ]
    }
   ],
   "source": [
    "tqdm.pandas(total=data.shape[0], desc=\"Computing personality\", colour=\"magenta\")\n",
    "data[\"personality\"] = data.progress_apply(\n",
    "    lambda row: personality_detection(row.comment), axis=1\n",
    ")"
   ],
   "metadata": {
    "collapsed": false,
    "ExecuteTime": {
     "end_time": "2023-11-18T02:32:05.244654500Z",
     "start_time": "2023-11-17T20:39:37.618193800Z"
    }
   },
   "id": "43ebad66a8404701"
  },
  {
   "cell_type": "code",
   "execution_count": 11,
   "outputs": [],
   "source": [
    "data.to_json(\n",
    "    os.path.join(data_dir, \"combined_personality.json\"),\n",
    "    orient=\"records\",\n",
    "    indent=4,\n",
    "    force_ascii=False,\n",
    ")"
   ],
   "metadata": {
    "collapsed": false,
    "ExecuteTime": {
     "end_time": "2023-11-18T02:32:17.073537900Z",
     "start_time": "2023-11-18T02:32:05.238647800Z"
    }
   },
   "id": "ec81b44cd5690e0e"
  },
  {
   "cell_type": "markdown",
   "source": [
    "# NER COMPUTING, BATCHED VERSION "
   ],
   "metadata": {
    "collapsed": false
   },
   "id": "c6ea6fcf845efb14"
  },
  {
   "cell_type": "code",
   "execution_count": null,
   "outputs": [],
   "source": [
    "from flair.data import Sentence\n",
    "from flair.models import SequenceTagger"
   ],
   "metadata": {
    "collapsed": false
   },
   "id": "177813d444d09c8"
  },
  {
   "cell_type": "code",
   "execution_count": null,
   "outputs": [],
   "source": [
    "data = pd.read_csv(os.path.join(data_dir, \"combined_final.csv\"))\n",
    "tagger = SequenceTagger.load(\"flair/ner-english-ontonotes-large\").to(device)"
   ],
   "metadata": {
    "collapsed": false
   },
   "id": "ad7542dccf88f4b4"
  },
  {
   "cell_type": "code",
   "execution_count": null,
   "outputs": [],
   "source": [
    "tqdm.pandas(total=data.shape[0], desc=\"Sentence changing\", colour=\"yellow\")\n",
    "data[\"sentence\"] = data.progress_apply(lambda x: Sentence(x.comment), axis=1)"
   ],
   "metadata": {
    "collapsed": false
   },
   "id": "6fb7c45034890ad1"
  },
  {
   "cell_type": "code",
   "execution_count": null,
   "outputs": [],
   "source": [
    "tagger.predict(data[\"sentence\"].tolist(), mini_batch_size=1000, verbose=True)"
   ],
   "metadata": {
    "collapsed": false
   },
   "id": "a6f9d059b096ae9f"
  },
  {
   "cell_type": "code",
   "execution_count": null,
   "outputs": [],
   "source": [
    "def get_entities(sentence):\n",
    "    entities = []\n",
    "    for entity in sentence.get_spans(\"ner\"):\n",
    "        entities.append(\n",
    "            {\n",
    "                \"text\": entity.text,\n",
    "                \"type\": entity.tag,\n",
    "            }\n",
    "        )\n",
    "    return entities"
   ],
   "metadata": {
    "collapsed": false
   },
   "id": "f1904561daf6bee2"
  },
  {
   "cell_type": "code",
   "execution_count": null,
   "outputs": [],
   "source": [
    "data[\"ner\"] = data.progress_apply(lambda x: get_entities(x.sentence), axis=1)"
   ],
   "metadata": {
    "collapsed": false
   },
   "id": "433da4907a7d4d64"
  },
  {
   "cell_type": "code",
   "execution_count": null,
   "outputs": [],
   "source": [
    "data.to_json(\n",
    "    os.path.join(data_dir, \"combined_ner.json\"),\n",
    "    orient=\"records\",\n",
    "    indent=4,\n",
    "    force_ascii=False,\n",
    ")"
   ],
   "metadata": {
    "collapsed": false
   },
   "id": "d5f625e4eb6df58f"
  }
 ],
 "metadata": {
  "kernelspec": {
   "display_name": "Python 3",
   "language": "python",
   "name": "python3"
  },
  "language_info": {
   "codemirror_mode": {
    "name": "ipython",
    "version": 2
   },
   "file_extension": ".py",
   "mimetype": "text/x-python",
   "name": "python",
   "nbconvert_exporter": "python",
   "pygments_lexer": "ipython2",
   "version": "2.7.6"
  }
 },
 "nbformat": 4,
 "nbformat_minor": 5
}
