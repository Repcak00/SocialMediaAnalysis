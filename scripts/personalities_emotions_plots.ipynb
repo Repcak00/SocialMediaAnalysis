{
 "cells": [
  {
   "cell_type": "code",
   "execution_count": 7,
   "metadata": {},
   "outputs": [],
   "source": [
    "import os\n",
    "\n",
    "import pandas as pd\n",
    "from sklearn.preprocessing import MinMaxScaler"
   ]
  },
  {
   "cell_type": "code",
   "execution_count": 8,
   "metadata": {},
   "outputs": [],
   "source": [
    "cwd = os.getcwd()\n",
    "parent_dir = os.path.abspath(os.path.join(cwd, os.pardir))\n",
    "data_dir = os.path.join(parent_dir, \"data\")"
   ]
  },
  {
   "cell_type": "code",
   "execution_count": 9,
   "metadata": {},
   "outputs": [],
   "source": [
    "data = pd.read_json(\n",
    "    os.path.join(data_dir, \"personalities_split_3comments_10_300_upsamples.json\")\n",
    ")"
   ]
  },
  {
   "cell_type": "code",
   "execution_count": 10,
   "metadata": {},
   "outputs": [
    {
     "data": {
      "text/plain": [
       "500516"
      ]
     },
     "execution_count": 10,
     "metadata": {},
     "output_type": "execute_result"
    }
   ],
   "source": [
    "len(data)"
   ]
  },
  {
   "cell_type": "code",
   "execution_count": 11,
   "metadata": {},
   "outputs": [],
   "source": [
    "def group_and_clear(data, comments_threshold=7):\n",
    "    \"\"\"Clears data from duplicates and authors with less than threshold comments\"\"\"\n",
    "    # data.drop_duplicates(inplace=True)\n",
    "    original_length = len(data)\n",
    "    data_grouped = (\n",
    "        data.groupby(\"author\")\n",
    "        .size()\n",
    "        .reset_index(name=\"count\")\n",
    "        .sort_values(by=\"count\", ascending=False)\n",
    "    )\n",
    "    data_grouped = data_grouped.loc[data_grouped[\"count\"] >= comments_threshold]\n",
    "    authors = data_grouped[\"author\"].tolist()\n",
    "    data = data.loc[data[\"author\"].isin(authors)]\n",
    "    print(f\"Original length:{original_length}, after cleanup: {len(data)}\")\n",
    "    return data"
   ]
  },
  {
   "cell_type": "code",
   "execution_count": 12,
   "metadata": {},
   "outputs": [
    {
     "name": "stdout",
     "output_type": "stream",
     "text": [
      "Original length:500516, after cleanup: 248869\n"
     ]
    }
   ],
   "source": [
    "data = group_and_clear(data, comments_threshold=7)"
   ]
  },
  {
   "cell_type": "code",
   "execution_count": 13,
   "metadata": {},
   "outputs": [],
   "source": [
    "def sentence_length(data, threshold=5, smaller=False):\n",
    "    \"\"\"Removes posts with less than threshold of words\"\"\"\n",
    "    original_length = len(data)\n",
    "    if smaller:\n",
    "        data[\"comment\"] = data[\"comment\"].map(\n",
    "            lambda x: x if len(x.split()) <= threshold else \"\"\n",
    "        )\n",
    "    else:\n",
    "        data[\"comment\"] = data[\"comment\"].map(\n",
    "            lambda x: x if len(x.split()) >= threshold else \"\"\n",
    "        )\n",
    "    data = data.loc[data[\"comment\"] != \"\"]\n",
    "    print(f\"Original length:{original_length}, after cleanup: {len(data)}\")\n",
    "    return data"
   ]
  },
  {
   "cell_type": "code",
   "execution_count": 14,
   "metadata": {},
   "outputs": [
    {
     "name": "stdout",
     "output_type": "stream",
     "text": [
      "Original length:248869, after cleanup: 113702\n"
     ]
    }
   ],
   "source": [
    "data = sentence_length(data, threshold=20, smaller=False)"
   ]
  },
  {
   "cell_type": "markdown",
   "metadata": {},
   "source": [
    "## Personality plots ##"
   ]
  },
  {
   "cell_type": "code",
   "execution_count": 15,
   "metadata": {},
   "outputs": [],
   "source": [
    "data.dropna(inplace=True)\n",
    "\n",
    "df_author_mean_personality = (\n",
    "    data[[\"author\", \"I\", \"N\", \"T\", \"J\"]].groupby(\"author\").mean()\n",
    ")\n",
    "df_author_genre = data.groupby(\"author\")[\"genre\"].apply(\n",
    "    lambda x: x.value_counts().idxmax()\n",
    ")\n",
    "\n",
    "\n",
    "df_author_channel = data.groupby(\"author\")[\"channel\"].apply(\n",
    "    lambda x: x.value_counts().idxmax()\n",
    ")\n",
    "\n",
    "\n",
    "df_author_mean_personality_genre = pd.concat(\n",
    "    [df_author_mean_personality, df_author_genre, df_author_channel], axis=1\n",
    ")"
   ]
  },
  {
   "cell_type": "code",
   "execution_count": 16,
   "metadata": {},
   "outputs": [],
   "source": [
    "columns_to_scale = [\"I\", \"N\", \"T\", \"J\"]\n",
    "\n",
    "scaler = MinMaxScaler()\n",
    "\n",
    "df_author_mean_personality_genre[columns_to_scale] = scaler.fit_transform(\n",
    "    df_author_mean_personality_genre[columns_to_scale]\n",
    ")"
   ]
  },
  {
   "cell_type": "code",
   "execution_count": 17,
   "metadata": {},
   "outputs": [],
   "source": [
    "personality_mapping = {\"I\": \"E\", \"N\": \"S\", \"T\": \"F\", \"J\": \"P\"}\n",
    "\n",
    "# Apply the personality mapping and combine the personality values into strings\n",
    "df_author_mean_personality_genre[\"I\"] = df_author_mean_personality_genre[\"I\"].apply(\n",
    "    lambda x: \"E\" if x > 0.5 else \"I\"\n",
    ")\n",
    "df_author_mean_personality_genre[\"N\"] = df_author_mean_personality_genre[\"N\"].apply(\n",
    "    lambda x: \"S\" if x > 0.5 else \"N\"\n",
    ")\n",
    "df_author_mean_personality_genre[\"T\"] = df_author_mean_personality_genre[\"T\"].apply(\n",
    "    lambda x: \"F\" if x > 0.5 else \"T\"\n",
    ")\n",
    "df_author_mean_personality_genre[\"J\"] = df_author_mean_personality_genre[\"J\"].apply(\n",
    "    lambda x: \"P\" if x > 0.5 else \"J\"\n",
    ")\n",
    "\n",
    "# Combine the personality values into strings\n",
    "df_author_mean_personality_genre[\"personality\"] = df_author_mean_personality_genre[\n",
    "    [\"I\", \"N\", \"T\", \"J\"]\n",
    "].agg(\"\".join, axis=1)\n",
    "\n",
    "# Group by artist and count the occurrences of each personality type\n",
    "result = (\n",
    "    df_author_mean_personality_genre.groupby([\"channel\", \"personality\"])\n",
    "    .size()\n",
    "    .reset_index(name=\"count\")\n",
    ")\n",
    "\n",
    "# Convert the result to the desired format\n",
    "final_result = (\n",
    "    result.groupby(\"channel\")\n",
    "    .apply(lambda x: x.set_index(\"personality\")[\"count\"].to_dict())\n",
    "    .to_dict()\n",
    ")"
   ]
  },
  {
   "cell_type": "code",
   "execution_count": 18,
   "metadata": {},
   "outputs": [],
   "source": [
    "df_result = (\n",
    "    pd.DataFrame(final_result)\n",
    "    .fillna(0)\n",
    "    .reset_index()\n",
    "    .rename(columns={\"index\": \"personality\"})\n",
    ")\n",
    "\n",
    "\n",
    "df_melted = df_result.melt(\n",
    "    id_vars=\"personality\", var_name=\"artist_name\", value_name=\"count\"\n",
    ").sort_values(by=\"count\", ascending=False)"
   ]
  },
  {
   "cell_type": "markdown",
   "metadata": {},
   "source": [
    "initial plot"
   ]
  },
  {
   "cell_type": "code",
   "execution_count": 21,
   "metadata": {},
   "outputs": [
    {
     "data": {
      "application/vnd.plotly.v1+json": {
       "config": {
        "plotlyServerURL": "https://plot.ly"
       },
       "data": [
        {
         "alignmentgroup": "True",
         "hovertemplate": "Personality Type=ESTP<br>Artist Name=%{x}<br>Count=%{y}<extra></extra>",
         "legendgroup": "ESTP",
         "marker": {
          "color": "#636efa",
          "pattern": {
           "shape": ""
          }
         },
         "name": "ESTP",
         "offsetgroup": "ESTP",
         "orientation": "v",
         "showlegend": true,
         "textposition": "auto",
         "type": "bar",
         "x": [
          "kanye_west",
          "ledzeppelin",
          "metallica",
          "ghost",
          "anthrax",
          "nicki_minaj",
          "thebeatles",
          "pinkfloyd",
          "kendrick_lamar",
          "megadeth",
          "drake",
          "malone",
          "olivia",
          "slayer",
          "beethoven",
          "queen",
          "ariana_grande",
          "systemofadown",
          "billie_eilish",
          "chopin",
          "taylor_swift",
          "bonjovi",
          "ed_sheeran",
          "kirk fletcher",
          "mozart",
          "kaleo",
          "bach",
          "marcusking",
          "tylerbryant&theshakedown",
          "raycharles"
         ],
         "xaxis": "x",
         "y": [
          304,
          245,
          227,
          208,
          208,
          153,
          128,
          107,
          99,
          96,
          93,
          75,
          72,
          72,
          66,
          66,
          60,
          60,
          52,
          49,
          41,
          38,
          38,
          26,
          23,
          19,
          10,
          8,
          2,
          2
         ],
         "yaxis": "y"
        },
        {
         "alignmentgroup": "True",
         "hovertemplate": "Personality Type=ESFP<br>Artist Name=%{x}<br>Count=%{y}<extra></extra>",
         "legendgroup": "ESFP",
         "marker": {
          "color": "#EF553B",
          "pattern": {
           "shape": ""
          }
         },
         "name": "ESFP",
         "offsetgroup": "ESFP",
         "orientation": "v",
         "showlegend": true,
         "textposition": "auto",
         "type": "bar",
         "x": [
          "metallica",
          "ghost",
          "thebeatles",
          "kanye_west",
          "ledzeppelin",
          "pinkfloyd",
          "kendrick_lamar",
          "ed_sheeran",
          "queen",
          "billie_eilish",
          "malone",
          "chopin",
          "nicki_minaj",
          "bonjovi",
          "ariana_grande",
          "systemofadown",
          "olivia",
          "beethoven",
          "anthrax",
          "taylor_swift",
          "megadeth",
          "drake",
          "kaleo",
          "mozart",
          "slayer",
          "kirk fletcher",
          "marcusking",
          "bach",
          "tylerbryant&theshakedown",
          "raycharles"
         ],
         "xaxis": "x",
         "y": [
          245,
          198,
          196,
          195,
          160,
          157,
          144,
          135,
          127,
          123,
          92,
          91,
          86,
          85,
          83,
          83,
          76,
          68,
          63,
          61,
          60,
          42,
          39,
          23,
          17,
          10,
          9,
          6,
          5,
          3
         ],
         "yaxis": "y"
        },
        {
         "alignmentgroup": "True",
         "hovertemplate": "Personality Type=ESFJ<br>Artist Name=%{x}<br>Count=%{y}<extra></extra>",
         "legendgroup": "ESFJ",
         "marker": {
          "color": "#00cc96",
          "pattern": {
           "shape": ""
          }
         },
         "name": "ESFJ",
         "offsetgroup": "ESFJ",
         "orientation": "v",
         "showlegend": true,
         "textposition": "auto",
         "type": "bar",
         "x": [
          "kanye_west",
          "queen",
          "billie_eilish",
          "thebeatles",
          "metallica",
          "ghost",
          "ed_sheeran",
          "systemofadown",
          "kendrick_lamar",
          "pinkfloyd",
          "chopin",
          "bonjovi",
          "ariana_grande",
          "nicki_minaj",
          "taylor_swift",
          "beethoven",
          "ledzeppelin",
          "olivia",
          "malone",
          "drake",
          "megadeth",
          "mozart",
          "anthrax",
          "slayer",
          "kaleo",
          "bach",
          "kirk fletcher",
          "marcusking",
          "tylerbryant&theshakedown",
          "raycharles"
         ],
         "xaxis": "x",
         "y": [
          212,
          166,
          141,
          134,
          124,
          121,
          109,
          99,
          86,
          85,
          85,
          82,
          73,
          66,
          65,
          62,
          61,
          53,
          39,
          38,
          35,
          30,
          23,
          15,
          13,
          11,
          9,
          5,
          2,
          2
         ],
         "yaxis": "y"
        },
        {
         "alignmentgroup": "True",
         "hovertemplate": "Personality Type=ESTJ<br>Artist Name=%{x}<br>Count=%{y}<extra></extra>",
         "legendgroup": "ESTJ",
         "marker": {
          "color": "#ab63fa",
          "pattern": {
           "shape": ""
          }
         },
         "name": "ESTJ",
         "offsetgroup": "ESTJ",
         "orientation": "v",
         "showlegend": true,
         "textposition": "auto",
         "type": "bar",
         "x": [
          "kanye_west",
          "ghost",
          "metallica",
          "ledzeppelin",
          "thebeatles",
          "pinkfloyd",
          "queen",
          "drake",
          "nicki_minaj",
          "kendrick_lamar",
          "chopin",
          "anthrax",
          "malone",
          "megadeth",
          "billie_eilish",
          "ariana_grande",
          "beethoven",
          "taylor_swift",
          "bonjovi",
          "systemofadown",
          "slayer",
          "olivia",
          "ed_sheeran",
          "bach",
          "mozart",
          "kirk fletcher",
          "kaleo",
          "raycharles",
          "marcusking",
          "tylerbryant&theshakedown"
         ],
         "xaxis": "x",
         "y": [
          192,
          102,
          95,
          77,
          74,
          67,
          66,
          65,
          55,
          51,
          50,
          50,
          49,
          49,
          45,
          42,
          40,
          34,
          30,
          29,
          29,
          26,
          20,
          19,
          13,
          7,
          7,
          1,
          1,
          1
         ],
         "yaxis": "y"
        },
        {
         "alignmentgroup": "True",
         "hovertemplate": "Personality Type=ENFP<br>Artist Name=%{x}<br>Count=%{y}<extra></extra>",
         "legendgroup": "ENFP",
         "marker": {
          "color": "#FFA15A",
          "pattern": {
           "shape": ""
          }
         },
         "name": "ENFP",
         "offsetgroup": "ENFP",
         "orientation": "v",
         "showlegend": true,
         "textposition": "auto",
         "type": "bar",
         "x": [
          "kanye_west",
          "ghost",
          "thebeatles",
          "pinkfloyd",
          "ed_sheeran",
          "ledzeppelin",
          "kendrick_lamar",
          "metallica",
          "bonjovi",
          "systemofadown",
          "billie_eilish",
          "queen",
          "chopin",
          "anthrax",
          "malone",
          "beethoven",
          "ariana_grande",
          "megadeth",
          "mozart",
          "kaleo",
          "nicki_minaj",
          "taylor_swift",
          "olivia",
          "drake",
          "slayer",
          "kirk fletcher",
          "raycharles",
          "marcusking",
          "bach",
          "tylerbryant&theshakedown"
         ],
         "xaxis": "x",
         "y": [
          97,
          55,
          49,
          38,
          36,
          33,
          32,
          30,
          26,
          25,
          24,
          23,
          21,
          20,
          18,
          18,
          17,
          16,
          13,
          13,
          13,
          8,
          7,
          7,
          3,
          3,
          3,
          2,
          1,
          0
         ],
         "yaxis": "y"
        },
        {
         "alignmentgroup": "True",
         "hovertemplate": "Personality Type=INFP<br>Artist Name=%{x}<br>Count=%{y}<extra></extra>",
         "legendgroup": "INFP",
         "marker": {
          "color": "#19d3f3",
          "pattern": {
           "shape": ""
          }
         },
         "name": "INFP",
         "offsetgroup": "INFP",
         "orientation": "v",
         "showlegend": true,
         "textposition": "auto",
         "type": "bar",
         "x": [
          "kanye_west",
          "pinkfloyd",
          "thebeatles",
          "chopin",
          "ghost",
          "metallica",
          "ed_sheeran",
          "queen",
          "ledzeppelin",
          "systemofadown",
          "billie_eilish",
          "kendrick_lamar",
          "anthrax",
          "bonjovi",
          "malone",
          "beethoven",
          "megadeth",
          "ariana_grande",
          "kaleo",
          "slayer",
          "mozart",
          "taylor_swift",
          "olivia",
          "nicki_minaj",
          "raycharles",
          "bach",
          "kirk fletcher",
          "drake",
          "tylerbryant&theshakedown",
          "marcusking"
         ],
         "xaxis": "x",
         "y": [
          91,
          51,
          51,
          49,
          48,
          40,
          36,
          33,
          31,
          26,
          25,
          24,
          23,
          22,
          18,
          17,
          14,
          14,
          12,
          9,
          6,
          5,
          5,
          4,
          4,
          3,
          3,
          2,
          2,
          1
         ],
         "yaxis": "y"
        },
        {
         "alignmentgroup": "True",
         "hovertemplate": "Personality Type=ENTP<br>Artist Name=%{x}<br>Count=%{y}<extra></extra>",
         "legendgroup": "ENTP",
         "marker": {
          "color": "#FF6692",
          "pattern": {
           "shape": ""
          }
         },
         "name": "ENTP",
         "offsetgroup": "ENTP",
         "orientation": "v",
         "showlegend": true,
         "textposition": "auto",
         "type": "bar",
         "x": [
          "kanye_west",
          "ghost",
          "systemofadown",
          "anthrax",
          "pinkfloyd",
          "queen",
          "thebeatles",
          "metallica",
          "slayer",
          "ledzeppelin",
          "beethoven",
          "chopin",
          "megadeth",
          "bonjovi",
          "nicki_minaj",
          "olivia",
          "ariana_grande",
          "billie_eilish",
          "bach",
          "mozart",
          "raycharles",
          "taylor_swift",
          "malone",
          "drake",
          "kendrick_lamar",
          "tylerbryant&theshakedown",
          "kirk fletcher",
          "ed_sheeran",
          "kaleo",
          "marcusking"
         ],
         "xaxis": "x",
         "y": [
          46,
          17,
          11,
          10,
          9,
          9,
          7,
          7,
          6,
          6,
          5,
          4,
          3,
          3,
          3,
          2,
          2,
          1,
          1,
          1,
          1,
          1,
          1,
          1,
          1,
          1,
          0,
          0,
          0,
          0
         ],
         "yaxis": "y"
        },
        {
         "alignmentgroup": "True",
         "hovertemplate": "Personality Type=ENFJ<br>Artist Name=%{x}<br>Count=%{y}<extra></extra>",
         "legendgroup": "ENFJ",
         "marker": {
          "color": "#B6E880",
          "pattern": {
           "shape": ""
          }
         },
         "name": "ENFJ",
         "offsetgroup": "ENFJ",
         "orientation": "v",
         "showlegend": true,
         "textposition": "auto",
         "type": "bar",
         "x": [
          "kanye_west",
          "systemofadown",
          "ed_sheeran",
          "chopin",
          "thebeatles",
          "billie_eilish",
          "queen",
          "malone",
          "bonjovi",
          "pinkfloyd",
          "taylor_swift",
          "beethoven",
          "metallica",
          "olivia",
          "ghost",
          "kendrick_lamar",
          "kaleo",
          "ledzeppelin",
          "ariana_grande",
          "megadeth",
          "mozart",
          "raycharles",
          "nicki_minaj",
          "drake",
          "slayer",
          "anthrax",
          "tylerbryant&theshakedown",
          "kirk fletcher",
          "bach",
          "marcusking"
         ],
         "xaxis": "x",
         "y": [
          44,
          15,
          15,
          11,
          11,
          9,
          8,
          7,
          7,
          7,
          6,
          6,
          6,
          6,
          5,
          5,
          4,
          3,
          3,
          2,
          1,
          1,
          1,
          1,
          1,
          0,
          0,
          0,
          0,
          0
         ],
         "yaxis": "y"
        },
        {
         "alignmentgroup": "True",
         "hovertemplate": "Personality Type=INFJ<br>Artist Name=%{x}<br>Count=%{y}<extra></extra>",
         "legendgroup": "INFJ",
         "marker": {
          "color": "#FF97FF",
          "pattern": {
           "shape": ""
          }
         },
         "name": "INFJ",
         "offsetgroup": "INFJ",
         "orientation": "v",
         "showlegend": true,
         "textposition": "auto",
         "type": "bar",
         "x": [
          "kanye_west",
          "chopin",
          "metallica",
          "pinkfloyd",
          "systemofadown",
          "queen",
          "slayer",
          "ledzeppelin",
          "ed_sheeran",
          "anthrax",
          "malone",
          "thebeatles",
          "billie_eilish",
          "ghost",
          "kendrick_lamar",
          "bach",
          "olivia",
          "beethoven",
          "taylor_swift",
          "bonjovi",
          "tylerbryant&theshakedown",
          "ariana_grande",
          "raycharles",
          "kirk fletcher",
          "kaleo",
          "drake",
          "mozart",
          "nicki_minaj",
          "marcusking",
          "megadeth"
         ],
         "xaxis": "x",
         "y": [
          11,
          6,
          6,
          5,
          4,
          4,
          3,
          3,
          3,
          2,
          2,
          2,
          2,
          2,
          2,
          1,
          1,
          1,
          1,
          1,
          0,
          0,
          0,
          0,
          0,
          0,
          0,
          0,
          0,
          0
         ],
         "yaxis": "y"
        },
        {
         "alignmentgroup": "True",
         "hovertemplate": "Personality Type=INTP<br>Artist Name=%{x}<br>Count=%{y}<extra></extra>",
         "legendgroup": "INTP",
         "marker": {
          "color": "#FECB52",
          "pattern": {
           "shape": ""
          }
         },
         "name": "INTP",
         "offsetgroup": "INTP",
         "orientation": "v",
         "showlegend": true,
         "textposition": "auto",
         "type": "bar",
         "x": [
          "kanye_west",
          "ledzeppelin",
          "anthrax",
          "metallica",
          "slayer",
          "queen",
          "pinkfloyd",
          "olivia",
          "ghost",
          "billie_eilish",
          "nicki_minaj",
          "mozart",
          "megadeth",
          "bonjovi",
          "kaleo",
          "thebeatles",
          "kendrick_lamar",
          "chopin",
          "systemofadown",
          "ariana_grande",
          "tylerbryant&theshakedown",
          "raycharles",
          "taylor_swift",
          "kirk fletcher",
          "ed_sheeran",
          "drake",
          "malone",
          "beethoven",
          "bach",
          "marcusking"
         ],
         "xaxis": "x",
         "y": [
          11,
          8,
          6,
          5,
          5,
          4,
          3,
          2,
          2,
          1,
          1,
          1,
          1,
          1,
          1,
          1,
          1,
          1,
          1,
          1,
          0,
          0,
          0,
          0,
          0,
          0,
          0,
          0,
          0,
          0
         ],
         "yaxis": "y"
        },
        {
         "alignmentgroup": "True",
         "hovertemplate": "Personality Type=ENTJ<br>Artist Name=%{x}<br>Count=%{y}<extra></extra>",
         "legendgroup": "ENTJ",
         "marker": {
          "color": "#636efa",
          "pattern": {
           "shape": ""
          }
         },
         "name": "ENTJ",
         "offsetgroup": "ENTJ",
         "orientation": "v",
         "showlegend": true,
         "textposition": "auto",
         "type": "bar",
         "x": [
          "kanye_west",
          "ghost",
          "thebeatles",
          "mozart",
          "olivia",
          "nicki_minaj",
          "beethoven",
          "malone",
          "ledzeppelin",
          "systemofadown",
          "bonjovi",
          "chopin",
          "drake",
          "ariana_grande",
          "billie_eilish",
          "slayer",
          "anthrax",
          "queen",
          "tylerbryant&theshakedown",
          "raycharles",
          "taylor_swift",
          "kendrick_lamar",
          "kirk fletcher",
          "pinkfloyd",
          "ed_sheeran",
          "kaleo",
          "bach",
          "metallica",
          "marcusking",
          "megadeth"
         ],
         "xaxis": "x",
         "y": [
          8,
          4,
          3,
          1,
          1,
          1,
          1,
          1,
          1,
          1,
          1,
          1,
          1,
          1,
          1,
          1,
          0,
          0,
          0,
          0,
          0,
          0,
          0,
          0,
          0,
          0,
          0,
          0,
          0,
          0
         ],
         "yaxis": "y"
        },
        {
         "alignmentgroup": "True",
         "hovertemplate": "Personality Type=ISFP<br>Artist Name=%{x}<br>Count=%{y}<extra></extra>",
         "legendgroup": "ISFP",
         "marker": {
          "color": "#EF553B",
          "pattern": {
           "shape": ""
          }
         },
         "name": "ISFP",
         "offsetgroup": "ISFP",
         "orientation": "v",
         "showlegend": true,
         "textposition": "auto",
         "type": "bar",
         "x": [
          "metallica",
          "ariana_grande",
          "thebeatles",
          "raycharles",
          "slayer",
          "pinkfloyd",
          "queen",
          "systemofadown",
          "anthrax",
          "taylor_swift",
          "kanye_west",
          "kendrick_lamar",
          "kirk fletcher",
          "bonjovi",
          "chopin",
          "ed_sheeran",
          "drake",
          "ghost",
          "kaleo",
          "ledzeppelin",
          "billie_eilish",
          "mozart",
          "nicki_minaj",
          "bach",
          "olivia",
          "malone",
          "marcusking",
          "megadeth",
          "beethoven",
          "tylerbryant&theshakedown"
         ],
         "xaxis": "x",
         "y": [
          2,
          0,
          0,
          0,
          0,
          0,
          0,
          0,
          0,
          0,
          0,
          0,
          0,
          0,
          0,
          0,
          0,
          0,
          0,
          0,
          0,
          0,
          0,
          0,
          0,
          0,
          0,
          0,
          0,
          0
         ],
         "yaxis": "y"
        },
        {
         "alignmentgroup": "True",
         "hovertemplate": "Personality Type=INTJ<br>Artist Name=%{x}<br>Count=%{y}<extra></extra>",
         "legendgroup": "INTJ",
         "marker": {
          "color": "#00cc96",
          "pattern": {
           "shape": ""
          }
         },
         "name": "INTJ",
         "offsetgroup": "INTJ",
         "orientation": "v",
         "showlegend": true,
         "textposition": "auto",
         "type": "bar",
         "x": [
          "mozart",
          "beethoven",
          "bach",
          "pinkfloyd",
          "chopin",
          "anthrax",
          "tylerbryant&theshakedown",
          "queen",
          "thebeatles",
          "slayer",
          "raycharles",
          "systemofadown",
          "ariana_grande",
          "taylor_swift",
          "kendrick_lamar",
          "kirk fletcher",
          "bonjovi",
          "ledzeppelin",
          "kanye_west",
          "ed_sheeran",
          "drake",
          "ghost",
          "kaleo",
          "nicki_minaj",
          "olivia",
          "metallica",
          "marcusking",
          "malone",
          "billie_eilish",
          "megadeth"
         ],
         "xaxis": "x",
         "y": [
          2,
          1,
          1,
          1,
          1,
          0,
          0,
          0,
          0,
          0,
          0,
          0,
          0,
          0,
          0,
          0,
          0,
          0,
          0,
          0,
          0,
          0,
          0,
          0,
          0,
          0,
          0,
          0,
          0,
          0
         ],
         "yaxis": "y"
        },
        {
         "alignmentgroup": "True",
         "hovertemplate": "Personality Type=ISFJ<br>Artist Name=%{x}<br>Count=%{y}<extra></extra>",
         "legendgroup": "ISFJ",
         "marker": {
          "color": "#ab63fa",
          "pattern": {
           "shape": ""
          }
         },
         "name": "ISFJ",
         "offsetgroup": "ISFJ",
         "orientation": "v",
         "showlegend": true,
         "textposition": "auto",
         "type": "bar",
         "x": [
          "bonjovi",
          "tylerbryant&theshakedown",
          "thebeatles",
          "ariana_grande",
          "queen",
          "slayer",
          "raycharles",
          "systemofadown",
          "anthrax",
          "taylor_swift",
          "pinkfloyd",
          "chopin",
          "kanye_west",
          "kendrick_lamar",
          "kirk fletcher",
          "ledzeppelin",
          "ed_sheeran",
          "drake",
          "ghost",
          "kaleo",
          "billie_eilish",
          "metallica",
          "mozart",
          "nicki_minaj",
          "bach",
          "olivia",
          "malone",
          "marcusking",
          "beethoven",
          "megadeth"
         ],
         "xaxis": "x",
         "y": [
          1,
          0,
          0,
          0,
          0,
          0,
          0,
          0,
          0,
          0,
          0,
          0,
          0,
          0,
          0,
          0,
          0,
          0,
          0,
          0,
          0,
          0,
          0,
          0,
          0,
          0,
          0,
          0,
          0,
          0
         ],
         "yaxis": "y"
        },
        {
         "alignmentgroup": "True",
         "hovertemplate": "Personality Type=ISTP<br>Artist Name=%{x}<br>Count=%{y}<extra></extra>",
         "legendgroup": "ISTP",
         "marker": {
          "color": "#FFA15A",
          "pattern": {
           "shape": ""
          }
         },
         "name": "ISTP",
         "offsetgroup": "ISTP",
         "orientation": "v",
         "showlegend": true,
         "textposition": "auto",
         "type": "bar",
         "x": [
          "anthrax",
          "thebeatles",
          "queen",
          "tylerbryant&theshakedown",
          "slayer",
          "ariana_grande",
          "raycharles",
          "systemofadown",
          "taylor_swift",
          "ed_sheeran",
          "chopin",
          "kendrick_lamar",
          "kirk fletcher",
          "bonjovi",
          "ledzeppelin",
          "kanye_west",
          "ghost",
          "kaleo",
          "drake",
          "beethoven",
          "mozart",
          "nicki_minaj",
          "olivia",
          "bach",
          "pinkfloyd",
          "metallica",
          "malone",
          "marcusking",
          "billie_eilish",
          "megadeth"
         ],
         "xaxis": "x",
         "y": [
          1,
          0,
          0,
          0,
          0,
          0,
          0,
          0,
          0,
          0,
          0,
          0,
          0,
          0,
          0,
          0,
          0,
          0,
          0,
          0,
          0,
          0,
          0,
          0,
          0,
          0,
          0,
          0,
          0,
          0
         ],
         "yaxis": "y"
        }
       ],
       "layout": {
        "barmode": "relative",
        "height": 800,
        "legend": {
         "title": {
          "text": "Personality Type"
         },
         "tracegroupgap": 0
        },
        "template": {
         "data": {
          "bar": [
           {
            "error_x": {
             "color": "#2a3f5f"
            },
            "error_y": {
             "color": "#2a3f5f"
            },
            "marker": {
             "line": {
              "color": "#E5ECF6",
              "width": 0.5
             },
             "pattern": {
              "fillmode": "overlay",
              "size": 10,
              "solidity": 0.2
             }
            },
            "type": "bar"
           }
          ],
          "barpolar": [
           {
            "marker": {
             "line": {
              "color": "#E5ECF6",
              "width": 0.5
             },
             "pattern": {
              "fillmode": "overlay",
              "size": 10,
              "solidity": 0.2
             }
            },
            "type": "barpolar"
           }
          ],
          "carpet": [
           {
            "aaxis": {
             "endlinecolor": "#2a3f5f",
             "gridcolor": "white",
             "linecolor": "white",
             "minorgridcolor": "white",
             "startlinecolor": "#2a3f5f"
            },
            "baxis": {
             "endlinecolor": "#2a3f5f",
             "gridcolor": "white",
             "linecolor": "white",
             "minorgridcolor": "white",
             "startlinecolor": "#2a3f5f"
            },
            "type": "carpet"
           }
          ],
          "choropleth": [
           {
            "colorbar": {
             "outlinewidth": 0,
             "ticks": ""
            },
            "type": "choropleth"
           }
          ],
          "contour": [
           {
            "colorbar": {
             "outlinewidth": 0,
             "ticks": ""
            },
            "colorscale": [
             [
              0,
              "#0d0887"
             ],
             [
              0.1111111111111111,
              "#46039f"
             ],
             [
              0.2222222222222222,
              "#7201a8"
             ],
             [
              0.3333333333333333,
              "#9c179e"
             ],
             [
              0.4444444444444444,
              "#bd3786"
             ],
             [
              0.5555555555555556,
              "#d8576b"
             ],
             [
              0.6666666666666666,
              "#ed7953"
             ],
             [
              0.7777777777777778,
              "#fb9f3a"
             ],
             [
              0.8888888888888888,
              "#fdca26"
             ],
             [
              1,
              "#f0f921"
             ]
            ],
            "type": "contour"
           }
          ],
          "contourcarpet": [
           {
            "colorbar": {
             "outlinewidth": 0,
             "ticks": ""
            },
            "type": "contourcarpet"
           }
          ],
          "heatmap": [
           {
            "colorbar": {
             "outlinewidth": 0,
             "ticks": ""
            },
            "colorscale": [
             [
              0,
              "#0d0887"
             ],
             [
              0.1111111111111111,
              "#46039f"
             ],
             [
              0.2222222222222222,
              "#7201a8"
             ],
             [
              0.3333333333333333,
              "#9c179e"
             ],
             [
              0.4444444444444444,
              "#bd3786"
             ],
             [
              0.5555555555555556,
              "#d8576b"
             ],
             [
              0.6666666666666666,
              "#ed7953"
             ],
             [
              0.7777777777777778,
              "#fb9f3a"
             ],
             [
              0.8888888888888888,
              "#fdca26"
             ],
             [
              1,
              "#f0f921"
             ]
            ],
            "type": "heatmap"
           }
          ],
          "heatmapgl": [
           {
            "colorbar": {
             "outlinewidth": 0,
             "ticks": ""
            },
            "colorscale": [
             [
              0,
              "#0d0887"
             ],
             [
              0.1111111111111111,
              "#46039f"
             ],
             [
              0.2222222222222222,
              "#7201a8"
             ],
             [
              0.3333333333333333,
              "#9c179e"
             ],
             [
              0.4444444444444444,
              "#bd3786"
             ],
             [
              0.5555555555555556,
              "#d8576b"
             ],
             [
              0.6666666666666666,
              "#ed7953"
             ],
             [
              0.7777777777777778,
              "#fb9f3a"
             ],
             [
              0.8888888888888888,
              "#fdca26"
             ],
             [
              1,
              "#f0f921"
             ]
            ],
            "type": "heatmapgl"
           }
          ],
          "histogram": [
           {
            "marker": {
             "pattern": {
              "fillmode": "overlay",
              "size": 10,
              "solidity": 0.2
             }
            },
            "type": "histogram"
           }
          ],
          "histogram2d": [
           {
            "colorbar": {
             "outlinewidth": 0,
             "ticks": ""
            },
            "colorscale": [
             [
              0,
              "#0d0887"
             ],
             [
              0.1111111111111111,
              "#46039f"
             ],
             [
              0.2222222222222222,
              "#7201a8"
             ],
             [
              0.3333333333333333,
              "#9c179e"
             ],
             [
              0.4444444444444444,
              "#bd3786"
             ],
             [
              0.5555555555555556,
              "#d8576b"
             ],
             [
              0.6666666666666666,
              "#ed7953"
             ],
             [
              0.7777777777777778,
              "#fb9f3a"
             ],
             [
              0.8888888888888888,
              "#fdca26"
             ],
             [
              1,
              "#f0f921"
             ]
            ],
            "type": "histogram2d"
           }
          ],
          "histogram2dcontour": [
           {
            "colorbar": {
             "outlinewidth": 0,
             "ticks": ""
            },
            "colorscale": [
             [
              0,
              "#0d0887"
             ],
             [
              0.1111111111111111,
              "#46039f"
             ],
             [
              0.2222222222222222,
              "#7201a8"
             ],
             [
              0.3333333333333333,
              "#9c179e"
             ],
             [
              0.4444444444444444,
              "#bd3786"
             ],
             [
              0.5555555555555556,
              "#d8576b"
             ],
             [
              0.6666666666666666,
              "#ed7953"
             ],
             [
              0.7777777777777778,
              "#fb9f3a"
             ],
             [
              0.8888888888888888,
              "#fdca26"
             ],
             [
              1,
              "#f0f921"
             ]
            ],
            "type": "histogram2dcontour"
           }
          ],
          "mesh3d": [
           {
            "colorbar": {
             "outlinewidth": 0,
             "ticks": ""
            },
            "type": "mesh3d"
           }
          ],
          "parcoords": [
           {
            "line": {
             "colorbar": {
              "outlinewidth": 0,
              "ticks": ""
             }
            },
            "type": "parcoords"
           }
          ],
          "pie": [
           {
            "automargin": true,
            "type": "pie"
           }
          ],
          "scatter": [
           {
            "fillpattern": {
             "fillmode": "overlay",
             "size": 10,
             "solidity": 0.2
            },
            "type": "scatter"
           }
          ],
          "scatter3d": [
           {
            "line": {
             "colorbar": {
              "outlinewidth": 0,
              "ticks": ""
             }
            },
            "marker": {
             "colorbar": {
              "outlinewidth": 0,
              "ticks": ""
             }
            },
            "type": "scatter3d"
           }
          ],
          "scattercarpet": [
           {
            "marker": {
             "colorbar": {
              "outlinewidth": 0,
              "ticks": ""
             }
            },
            "type": "scattercarpet"
           }
          ],
          "scattergeo": [
           {
            "marker": {
             "colorbar": {
              "outlinewidth": 0,
              "ticks": ""
             }
            },
            "type": "scattergeo"
           }
          ],
          "scattergl": [
           {
            "marker": {
             "colorbar": {
              "outlinewidth": 0,
              "ticks": ""
             }
            },
            "type": "scattergl"
           }
          ],
          "scattermapbox": [
           {
            "marker": {
             "colorbar": {
              "outlinewidth": 0,
              "ticks": ""
             }
            },
            "type": "scattermapbox"
           }
          ],
          "scatterpolar": [
           {
            "marker": {
             "colorbar": {
              "outlinewidth": 0,
              "ticks": ""
             }
            },
            "type": "scatterpolar"
           }
          ],
          "scatterpolargl": [
           {
            "marker": {
             "colorbar": {
              "outlinewidth": 0,
              "ticks": ""
             }
            },
            "type": "scatterpolargl"
           }
          ],
          "scatterternary": [
           {
            "marker": {
             "colorbar": {
              "outlinewidth": 0,
              "ticks": ""
             }
            },
            "type": "scatterternary"
           }
          ],
          "surface": [
           {
            "colorbar": {
             "outlinewidth": 0,
             "ticks": ""
            },
            "colorscale": [
             [
              0,
              "#0d0887"
             ],
             [
              0.1111111111111111,
              "#46039f"
             ],
             [
              0.2222222222222222,
              "#7201a8"
             ],
             [
              0.3333333333333333,
              "#9c179e"
             ],
             [
              0.4444444444444444,
              "#bd3786"
             ],
             [
              0.5555555555555556,
              "#d8576b"
             ],
             [
              0.6666666666666666,
              "#ed7953"
             ],
             [
              0.7777777777777778,
              "#fb9f3a"
             ],
             [
              0.8888888888888888,
              "#fdca26"
             ],
             [
              1,
              "#f0f921"
             ]
            ],
            "type": "surface"
           }
          ],
          "table": [
           {
            "cells": {
             "fill": {
              "color": "#EBF0F8"
             },
             "line": {
              "color": "white"
             }
            },
            "header": {
             "fill": {
              "color": "#C8D4E3"
             },
             "line": {
              "color": "white"
             }
            },
            "type": "table"
           }
          ]
         },
         "layout": {
          "annotationdefaults": {
           "arrowcolor": "#2a3f5f",
           "arrowhead": 0,
           "arrowwidth": 1
          },
          "autotypenumbers": "strict",
          "coloraxis": {
           "colorbar": {
            "outlinewidth": 0,
            "ticks": ""
           }
          },
          "colorscale": {
           "diverging": [
            [
             0,
             "#8e0152"
            ],
            [
             0.1,
             "#c51b7d"
            ],
            [
             0.2,
             "#de77ae"
            ],
            [
             0.3,
             "#f1b6da"
            ],
            [
             0.4,
             "#fde0ef"
            ],
            [
             0.5,
             "#f7f7f7"
            ],
            [
             0.6,
             "#e6f5d0"
            ],
            [
             0.7,
             "#b8e186"
            ],
            [
             0.8,
             "#7fbc41"
            ],
            [
             0.9,
             "#4d9221"
            ],
            [
             1,
             "#276419"
            ]
           ],
           "sequential": [
            [
             0,
             "#0d0887"
            ],
            [
             0.1111111111111111,
             "#46039f"
            ],
            [
             0.2222222222222222,
             "#7201a8"
            ],
            [
             0.3333333333333333,
             "#9c179e"
            ],
            [
             0.4444444444444444,
             "#bd3786"
            ],
            [
             0.5555555555555556,
             "#d8576b"
            ],
            [
             0.6666666666666666,
             "#ed7953"
            ],
            [
             0.7777777777777778,
             "#fb9f3a"
            ],
            [
             0.8888888888888888,
             "#fdca26"
            ],
            [
             1,
             "#f0f921"
            ]
           ],
           "sequentialminus": [
            [
             0,
             "#0d0887"
            ],
            [
             0.1111111111111111,
             "#46039f"
            ],
            [
             0.2222222222222222,
             "#7201a8"
            ],
            [
             0.3333333333333333,
             "#9c179e"
            ],
            [
             0.4444444444444444,
             "#bd3786"
            ],
            [
             0.5555555555555556,
             "#d8576b"
            ],
            [
             0.6666666666666666,
             "#ed7953"
            ],
            [
             0.7777777777777778,
             "#fb9f3a"
            ],
            [
             0.8888888888888888,
             "#fdca26"
            ],
            [
             1,
             "#f0f921"
            ]
           ]
          },
          "colorway": [
           "#636efa",
           "#EF553B",
           "#00cc96",
           "#ab63fa",
           "#FFA15A",
           "#19d3f3",
           "#FF6692",
           "#B6E880",
           "#FF97FF",
           "#FECB52"
          ],
          "font": {
           "color": "#2a3f5f"
          },
          "geo": {
           "bgcolor": "white",
           "lakecolor": "white",
           "landcolor": "#E5ECF6",
           "showlakes": true,
           "showland": true,
           "subunitcolor": "white"
          },
          "hoverlabel": {
           "align": "left"
          },
          "hovermode": "closest",
          "mapbox": {
           "style": "light"
          },
          "paper_bgcolor": "white",
          "plot_bgcolor": "#E5ECF6",
          "polar": {
           "angularaxis": {
            "gridcolor": "white",
            "linecolor": "white",
            "ticks": ""
           },
           "bgcolor": "#E5ECF6",
           "radialaxis": {
            "gridcolor": "white",
            "linecolor": "white",
            "ticks": ""
           }
          },
          "scene": {
           "xaxis": {
            "backgroundcolor": "#E5ECF6",
            "gridcolor": "white",
            "gridwidth": 2,
            "linecolor": "white",
            "showbackground": true,
            "ticks": "",
            "zerolinecolor": "white"
           },
           "yaxis": {
            "backgroundcolor": "#E5ECF6",
            "gridcolor": "white",
            "gridwidth": 2,
            "linecolor": "white",
            "showbackground": true,
            "ticks": "",
            "zerolinecolor": "white"
           },
           "zaxis": {
            "backgroundcolor": "#E5ECF6",
            "gridcolor": "white",
            "gridwidth": 2,
            "linecolor": "white",
            "showbackground": true,
            "ticks": "",
            "zerolinecolor": "white"
           }
          },
          "shapedefaults": {
           "line": {
            "color": "#2a3f5f"
           }
          },
          "ternary": {
           "aaxis": {
            "gridcolor": "white",
            "linecolor": "white",
            "ticks": ""
           },
           "baxis": {
            "gridcolor": "white",
            "linecolor": "white",
            "ticks": ""
           },
           "bgcolor": "#E5ECF6",
           "caxis": {
            "gridcolor": "white",
            "linecolor": "white",
            "ticks": ""
           }
          },
          "title": {
           "x": 0.05
          },
          "xaxis": {
           "automargin": true,
           "gridcolor": "white",
           "linecolor": "white",
           "ticks": "",
           "title": {
            "standoff": 15
           },
           "zerolinecolor": "white",
           "zerolinewidth": 2
          },
          "yaxis": {
           "automargin": true,
           "gridcolor": "white",
           "linecolor": "white",
           "ticks": "",
           "title": {
            "standoff": 15
           },
           "zerolinecolor": "white",
           "zerolinewidth": 2
          }
         }
        },
        "title": {
         "text": "Personality Types Distribution by Artist"
        },
        "width": 1500,
        "xaxis": {
         "anchor": "y",
         "domain": [
          0,
          1
         ],
         "title": {
          "text": "Artist Name"
         }
        },
        "yaxis": {
         "anchor": "x",
         "domain": [
          0,
          1
         ],
         "title": {
          "text": "Count"
         }
        }
       }
      }
     },
     "metadata": {},
     "output_type": "display_data"
    }
   ],
   "source": [
    "import plotly.express as px\n",
    "\n",
    "fig = px.bar(\n",
    "    df_melted,\n",
    "    x=\"artist_name\",\n",
    "    y=\"count\",\n",
    "    color=\"personality\",\n",
    "    labels={\n",
    "        \"count\": \"Count\",\n",
    "        \"artist_name\": \"Artist Name\",\n",
    "        \"personality\": \"Personality Type\",\n",
    "    },\n",
    "    title=\"Personality Types Distribution by Artist\",\n",
    "    width=1500,\n",
    "    height=800,\n",
    ")\n",
    "fig.show()"
   ]
  },
  {
   "cell_type": "markdown",
   "metadata": {},
   "source": [
    "For chosen artists and in percentage"
   ]
  },
  {
   "cell_type": "code",
   "execution_count": 27,
   "metadata": {},
   "outputs": [
    {
     "data": {
      "application/vnd.plotly.v1+json": {
       "config": {
        "plotlyServerURL": "https://plot.ly"
       },
       "data": [
        {
         "alignmentgroup": "True",
         "hovertemplate": "Personality Type=ESTP<br>Artist Name=%{x}<br>Percentage=%{y}<extra></extra>",
         "legendgroup": "ESTP",
         "marker": {
          "color": "#636efa",
          "pattern": {
           "shape": ""
          }
         },
         "name": "ESTP",
         "offsetgroup": "ESTP",
         "orientation": "v",
         "showlegend": true,
         "textposition": "auto",
         "type": "bar",
         "x": [
          "anthrax",
          "metallica",
          "kanye_west",
          "pinkfloyd",
          "mozart",
          "taylor_swift",
          "billie_eilish",
          "ed_sheeran"
         ],
         "xaxis": "x",
         "y": [
          51.231527093596064,
          28.843710292249046,
          25.103220478943022,
          20.18867924528302,
          20.175438596491226,
          18.46846846846847,
          12.264150943396226,
          9.693877551020408
         ],
         "yaxis": "y"
        },
        {
         "alignmentgroup": "True",
         "hovertemplate": "Personality Type=ESFP<br>Artist Name=%{x}<br>Percentage=%{y}<extra></extra>",
         "legendgroup": "ESFP",
         "marker": {
          "color": "#EF553B",
          "pattern": {
           "shape": ""
          }
         },
         "name": "ESFP",
         "offsetgroup": "ESFP",
         "orientation": "v",
         "showlegend": true,
         "textposition": "auto",
         "type": "bar",
         "x": [
          "ed_sheeran",
          "metallica",
          "pinkfloyd",
          "billie_eilish",
          "taylor_swift",
          "mozart",
          "kanye_west",
          "anthrax"
         ],
         "xaxis": "x",
         "y": [
          34.43877551020408,
          31.13087674714104,
          29.62264150943396,
          29.009433962264154,
          27.47747747747748,
          20.175438596491226,
          16.10239471511148,
          15.517241379310345
         ],
         "yaxis": "y"
        },
        {
         "alignmentgroup": "True",
         "hovertemplate": "Personality Type=ESFJ<br>Artist Name=%{x}<br>Percentage=%{y}<extra></extra>",
         "legendgroup": "ESFJ",
         "marker": {
          "color": "#00cc96",
          "pattern": {
           "shape": ""
          }
         },
         "name": "ESFJ",
         "offsetgroup": "ESFJ",
         "orientation": "v",
         "showlegend": true,
         "textposition": "auto",
         "type": "bar",
         "x": [
          "billie_eilish",
          "taylor_swift",
          "ed_sheeran",
          "mozart",
          "kanye_west",
          "pinkfloyd",
          "metallica",
          "anthrax"
         ],
         "xaxis": "x",
         "y": [
          33.25471698113208,
          29.27927927927928,
          27.806122448979593,
          26.31578947368421,
          17.50619322873658,
          16.037735849056602,
          15.756035578144854,
          5.665024630541872
         ],
         "yaxis": "y"
        },
        {
         "alignmentgroup": "True",
         "hovertemplate": "Personality Type=ESTJ<br>Artist Name=%{x}<br>Percentage=%{y}<extra></extra>",
         "legendgroup": "ESTJ",
         "marker": {
          "color": "#ab63fa",
          "pattern": {
           "shape": ""
          }
         },
         "name": "ESTJ",
         "offsetgroup": "ESTJ",
         "orientation": "v",
         "showlegend": true,
         "textposition": "auto",
         "type": "bar",
         "x": [
          "kanye_west",
          "taylor_swift",
          "pinkfloyd",
          "anthrax",
          "metallica",
          "mozart",
          "billie_eilish",
          "ed_sheeran"
         ],
         "xaxis": "x",
         "y": [
          15.854665565648224,
          15.315315315315313,
          12.641509433962264,
          12.31527093596059,
          12.07115628970775,
          11.403508771929824,
          10.61320754716981,
          5.1020408163265305
         ],
         "yaxis": "y"
        },
        {
         "alignmentgroup": "True",
         "hovertemplate": "Personality Type=ENFP<br>Artist Name=%{x}<br>Percentage=%{y}<extra></extra>",
         "legendgroup": "ENFP",
         "marker": {
          "color": "#FFA15A",
          "pattern": {
           "shape": ""
          }
         },
         "name": "ENFP",
         "offsetgroup": "ENFP",
         "orientation": "v",
         "showlegend": true,
         "textposition": "auto",
         "type": "bar",
         "x": [
          "mozart",
          "ed_sheeran",
          "kanye_west",
          "pinkfloyd",
          "billie_eilish",
          "anthrax",
          "metallica",
          "taylor_swift"
         ],
         "xaxis": "x",
         "y": [
          11.403508771929824,
          9.183673469387756,
          8.00990916597853,
          7.169811320754717,
          5.660377358490567,
          4.926108374384237,
          3.8119440914866582,
          3.6036036036036037
         ],
         "yaxis": "y"
        },
        {
         "alignmentgroup": "True",
         "hovertemplate": "Personality Type=INFP<br>Artist Name=%{x}<br>Percentage=%{y}<extra></extra>",
         "legendgroup": "INFP",
         "marker": {
          "color": "#19d3f3",
          "pattern": {
           "shape": ""
          }
         },
         "name": "INFP",
         "offsetgroup": "INFP",
         "orientation": "v",
         "showlegend": true,
         "textposition": "auto",
         "type": "bar",
         "x": [
          "pinkfloyd",
          "ed_sheeran",
          "kanye_west",
          "billie_eilish",
          "anthrax",
          "mozart",
          "metallica",
          "taylor_swift"
         ],
         "xaxis": "x",
         "y": [
          9.622641509433963,
          9.183673469387756,
          7.514450867052023,
          5.89622641509434,
          5.665024630541872,
          5.263157894736842,
          5.082592121982211,
          2.2522522522522523
         ],
         "yaxis": "y"
        },
        {
         "alignmentgroup": "True",
         "hovertemplate": "Personality Type=ENFJ<br>Artist Name=%{x}<br>Percentage=%{y}<extra></extra>",
         "legendgroup": "ENFJ",
         "marker": {
          "color": "#FF6692",
          "pattern": {
           "shape": ""
          }
         },
         "name": "ENFJ",
         "offsetgroup": "ENFJ",
         "orientation": "v",
         "showlegend": true,
         "textposition": "auto",
         "type": "bar",
         "x": [
          "ed_sheeran",
          "kanye_west",
          "taylor_swift",
          "billie_eilish",
          "pinkfloyd",
          "mozart",
          "metallica",
          "anthrax"
         ],
         "xaxis": "x",
         "y": [
          3.826530612244898,
          3.633360858794385,
          2.7027027027027026,
          2.1226415094339623,
          1.3207547169811322,
          0.8771929824561403,
          0.7623888182973316,
          0
         ],
         "yaxis": "y"
        },
        {
         "alignmentgroup": "True",
         "hovertemplate": "Personality Type=ENTP<br>Artist Name=%{x}<br>Percentage=%{y}<extra></extra>",
         "legendgroup": "ENTP",
         "marker": {
          "color": "#B6E880",
          "pattern": {
           "shape": ""
          }
         },
         "name": "ENTP",
         "offsetgroup": "ENTP",
         "orientation": "v",
         "showlegend": true,
         "textposition": "auto",
         "type": "bar",
         "x": [
          "kanye_west",
          "anthrax",
          "pinkfloyd",
          "metallica",
          "mozart",
          "taylor_swift",
          "billie_eilish",
          "ed_sheeran"
         ],
         "xaxis": "x",
         "y": [
          3.7985136251032205,
          2.4630541871921183,
          1.6981132075471699,
          0.8894536213468869,
          0.8771929824561403,
          0.45045045045045046,
          0.2358490566037736,
          0
         ],
         "yaxis": "y"
        },
        {
         "alignmentgroup": "True",
         "hovertemplate": "Personality Type=INTJ<br>Artist Name=%{x}<br>Percentage=%{y}<extra></extra>",
         "legendgroup": "INTJ",
         "marker": {
          "color": "#FF97FF",
          "pattern": {
           "shape": ""
          }
         },
         "name": "INTJ",
         "offsetgroup": "INTJ",
         "orientation": "v",
         "showlegend": true,
         "textposition": "auto",
         "type": "bar",
         "x": [
          "mozart",
          "pinkfloyd",
          "metallica",
          "billie_eilish",
          "ed_sheeran",
          "anthrax",
          "taylor_swift",
          "kanye_west"
         ],
         "xaxis": "x",
         "y": [
          1.7543859649122806,
          0.18867924528301888,
          0,
          0,
          0,
          0,
          0,
          0
         ],
         "yaxis": "y"
        },
        {
         "alignmentgroup": "True",
         "hovertemplate": "Personality Type=INTP<br>Artist Name=%{x}<br>Percentage=%{y}<extra></extra>",
         "legendgroup": "INTP",
         "marker": {
          "color": "#FECB52",
          "pattern": {
           "shape": ""
          }
         },
         "name": "INTP",
         "offsetgroup": "INTP",
         "orientation": "v",
         "showlegend": true,
         "textposition": "auto",
         "type": "bar",
         "x": [
          "anthrax",
          "kanye_west",
          "mozart",
          "metallica",
          "pinkfloyd",
          "billie_eilish",
          "ed_sheeran",
          "taylor_swift"
         ],
         "xaxis": "x",
         "y": [
          1.477832512315271,
          0.9083402146985963,
          0.8771929824561403,
          0.6353240152477764,
          0.5660377358490566,
          0.2358490566037736,
          0,
          0
         ],
         "yaxis": "y"
        },
        {
         "alignmentgroup": "True",
         "hovertemplate": "Personality Type=INFJ<br>Artist Name=%{x}<br>Percentage=%{y}<extra></extra>",
         "legendgroup": "INFJ",
         "marker": {
          "color": "#636efa",
          "pattern": {
           "shape": ""
          }
         },
         "name": "INFJ",
         "offsetgroup": "INFJ",
         "orientation": "v",
         "showlegend": true,
         "textposition": "auto",
         "type": "bar",
         "x": [
          "pinkfloyd",
          "kanye_west",
          "ed_sheeran",
          "metallica",
          "anthrax",
          "billie_eilish",
          "taylor_swift",
          "mozart"
         ],
         "xaxis": "x",
         "y": [
          0.9433962264150944,
          0.9083402146985963,
          0.7653061224489796,
          0.7623888182973316,
          0.49261083743842365,
          0.4716981132075472,
          0.45045045045045046,
          0
         ],
         "yaxis": "y"
        },
        {
         "alignmentgroup": "True",
         "hovertemplate": "Personality Type=ENTJ<br>Artist Name=%{x}<br>Percentage=%{y}<extra></extra>",
         "legendgroup": "ENTJ",
         "marker": {
          "color": "#EF553B",
          "pattern": {
           "shape": ""
          }
         },
         "name": "ENTJ",
         "offsetgroup": "ENTJ",
         "orientation": "v",
         "showlegend": true,
         "textposition": "auto",
         "type": "bar",
         "x": [
          "mozart",
          "kanye_west",
          "billie_eilish",
          "metallica",
          "ed_sheeran",
          "pinkfloyd",
          "taylor_swift",
          "anthrax"
         ],
         "xaxis": "x",
         "y": [
          0.8771929824561403,
          0.6606110652353426,
          0.2358490566037736,
          0,
          0,
          0,
          0,
          0
         ],
         "yaxis": "y"
        },
        {
         "alignmentgroup": "True",
         "hovertemplate": "Personality Type=ISFP<br>Artist Name=%{x}<br>Percentage=%{y}<extra></extra>",
         "legendgroup": "ISFP",
         "marker": {
          "color": "#00cc96",
          "pattern": {
           "shape": ""
          }
         },
         "name": "ISFP",
         "offsetgroup": "ISFP",
         "orientation": "v",
         "showlegend": true,
         "textposition": "auto",
         "type": "bar",
         "x": [
          "metallica",
          "ed_sheeran",
          "billie_eilish",
          "mozart",
          "pinkfloyd",
          "anthrax",
          "taylor_swift",
          "kanye_west"
         ],
         "xaxis": "x",
         "y": [
          0.25412960609911056,
          0,
          0,
          0,
          0,
          0,
          0,
          0
         ],
         "yaxis": "y"
        },
        {
         "alignmentgroup": "True",
         "hovertemplate": "Personality Type=ISTP<br>Artist Name=%{x}<br>Percentage=%{y}<extra></extra>",
         "legendgroup": "ISTP",
         "marker": {
          "color": "#ab63fa",
          "pattern": {
           "shape": ""
          }
         },
         "name": "ISTP",
         "offsetgroup": "ISTP",
         "orientation": "v",
         "showlegend": true,
         "textposition": "auto",
         "type": "bar",
         "x": [
          "anthrax",
          "mozart",
          "pinkfloyd",
          "metallica",
          "ed_sheeran",
          "kanye_west",
          "taylor_swift",
          "billie_eilish"
         ],
         "xaxis": "x",
         "y": [
          0.24630541871921183,
          0,
          0,
          0,
          0,
          0,
          0,
          0
         ],
         "yaxis": "y"
        },
        {
         "alignmentgroup": "True",
         "hovertemplate": "Personality Type=ISFJ<br>Artist Name=%{x}<br>Percentage=%{y}<extra></extra>",
         "legendgroup": "ISFJ",
         "marker": {
          "color": "#FFA15A",
          "pattern": {
           "shape": ""
          }
         },
         "name": "ISFJ",
         "offsetgroup": "ISFJ",
         "orientation": "v",
         "showlegend": true,
         "textposition": "auto",
         "type": "bar",
         "x": [
          "ed_sheeran",
          "billie_eilish",
          "metallica",
          "mozart",
          "anthrax",
          "taylor_swift",
          "pinkfloyd",
          "kanye_west"
         ],
         "xaxis": "x",
         "y": [
          0,
          0,
          0,
          0,
          0,
          0,
          0,
          0
         ],
         "yaxis": "y"
        }
       ],
       "layout": {
        "barmode": "relative",
        "height": 500,
        "legend": {
         "title": {
          "text": "Personality Type"
         },
         "tracegroupgap": 0
        },
        "template": {
         "data": {
          "bar": [
           {
            "error_x": {
             "color": "#2a3f5f"
            },
            "error_y": {
             "color": "#2a3f5f"
            },
            "marker": {
             "line": {
              "color": "#E5ECF6",
              "width": 0.5
             },
             "pattern": {
              "fillmode": "overlay",
              "size": 10,
              "solidity": 0.2
             }
            },
            "type": "bar"
           }
          ],
          "barpolar": [
           {
            "marker": {
             "line": {
              "color": "#E5ECF6",
              "width": 0.5
             },
             "pattern": {
              "fillmode": "overlay",
              "size": 10,
              "solidity": 0.2
             }
            },
            "type": "barpolar"
           }
          ],
          "carpet": [
           {
            "aaxis": {
             "endlinecolor": "#2a3f5f",
             "gridcolor": "white",
             "linecolor": "white",
             "minorgridcolor": "white",
             "startlinecolor": "#2a3f5f"
            },
            "baxis": {
             "endlinecolor": "#2a3f5f",
             "gridcolor": "white",
             "linecolor": "white",
             "minorgridcolor": "white",
             "startlinecolor": "#2a3f5f"
            },
            "type": "carpet"
           }
          ],
          "choropleth": [
           {
            "colorbar": {
             "outlinewidth": 0,
             "ticks": ""
            },
            "type": "choropleth"
           }
          ],
          "contour": [
           {
            "colorbar": {
             "outlinewidth": 0,
             "ticks": ""
            },
            "colorscale": [
             [
              0,
              "#0d0887"
             ],
             [
              0.1111111111111111,
              "#46039f"
             ],
             [
              0.2222222222222222,
              "#7201a8"
             ],
             [
              0.3333333333333333,
              "#9c179e"
             ],
             [
              0.4444444444444444,
              "#bd3786"
             ],
             [
              0.5555555555555556,
              "#d8576b"
             ],
             [
              0.6666666666666666,
              "#ed7953"
             ],
             [
              0.7777777777777778,
              "#fb9f3a"
             ],
             [
              0.8888888888888888,
              "#fdca26"
             ],
             [
              1,
              "#f0f921"
             ]
            ],
            "type": "contour"
           }
          ],
          "contourcarpet": [
           {
            "colorbar": {
             "outlinewidth": 0,
             "ticks": ""
            },
            "type": "contourcarpet"
           }
          ],
          "heatmap": [
           {
            "colorbar": {
             "outlinewidth": 0,
             "ticks": ""
            },
            "colorscale": [
             [
              0,
              "#0d0887"
             ],
             [
              0.1111111111111111,
              "#46039f"
             ],
             [
              0.2222222222222222,
              "#7201a8"
             ],
             [
              0.3333333333333333,
              "#9c179e"
             ],
             [
              0.4444444444444444,
              "#bd3786"
             ],
             [
              0.5555555555555556,
              "#d8576b"
             ],
             [
              0.6666666666666666,
              "#ed7953"
             ],
             [
              0.7777777777777778,
              "#fb9f3a"
             ],
             [
              0.8888888888888888,
              "#fdca26"
             ],
             [
              1,
              "#f0f921"
             ]
            ],
            "type": "heatmap"
           }
          ],
          "heatmapgl": [
           {
            "colorbar": {
             "outlinewidth": 0,
             "ticks": ""
            },
            "colorscale": [
             [
              0,
              "#0d0887"
             ],
             [
              0.1111111111111111,
              "#46039f"
             ],
             [
              0.2222222222222222,
              "#7201a8"
             ],
             [
              0.3333333333333333,
              "#9c179e"
             ],
             [
              0.4444444444444444,
              "#bd3786"
             ],
             [
              0.5555555555555556,
              "#d8576b"
             ],
             [
              0.6666666666666666,
              "#ed7953"
             ],
             [
              0.7777777777777778,
              "#fb9f3a"
             ],
             [
              0.8888888888888888,
              "#fdca26"
             ],
             [
              1,
              "#f0f921"
             ]
            ],
            "type": "heatmapgl"
           }
          ],
          "histogram": [
           {
            "marker": {
             "pattern": {
              "fillmode": "overlay",
              "size": 10,
              "solidity": 0.2
             }
            },
            "type": "histogram"
           }
          ],
          "histogram2d": [
           {
            "colorbar": {
             "outlinewidth": 0,
             "ticks": ""
            },
            "colorscale": [
             [
              0,
              "#0d0887"
             ],
             [
              0.1111111111111111,
              "#46039f"
             ],
             [
              0.2222222222222222,
              "#7201a8"
             ],
             [
              0.3333333333333333,
              "#9c179e"
             ],
             [
              0.4444444444444444,
              "#bd3786"
             ],
             [
              0.5555555555555556,
              "#d8576b"
             ],
             [
              0.6666666666666666,
              "#ed7953"
             ],
             [
              0.7777777777777778,
              "#fb9f3a"
             ],
             [
              0.8888888888888888,
              "#fdca26"
             ],
             [
              1,
              "#f0f921"
             ]
            ],
            "type": "histogram2d"
           }
          ],
          "histogram2dcontour": [
           {
            "colorbar": {
             "outlinewidth": 0,
             "ticks": ""
            },
            "colorscale": [
             [
              0,
              "#0d0887"
             ],
             [
              0.1111111111111111,
              "#46039f"
             ],
             [
              0.2222222222222222,
              "#7201a8"
             ],
             [
              0.3333333333333333,
              "#9c179e"
             ],
             [
              0.4444444444444444,
              "#bd3786"
             ],
             [
              0.5555555555555556,
              "#d8576b"
             ],
             [
              0.6666666666666666,
              "#ed7953"
             ],
             [
              0.7777777777777778,
              "#fb9f3a"
             ],
             [
              0.8888888888888888,
              "#fdca26"
             ],
             [
              1,
              "#f0f921"
             ]
            ],
            "type": "histogram2dcontour"
           }
          ],
          "mesh3d": [
           {
            "colorbar": {
             "outlinewidth": 0,
             "ticks": ""
            },
            "type": "mesh3d"
           }
          ],
          "parcoords": [
           {
            "line": {
             "colorbar": {
              "outlinewidth": 0,
              "ticks": ""
             }
            },
            "type": "parcoords"
           }
          ],
          "pie": [
           {
            "automargin": true,
            "type": "pie"
           }
          ],
          "scatter": [
           {
            "fillpattern": {
             "fillmode": "overlay",
             "size": 10,
             "solidity": 0.2
            },
            "type": "scatter"
           }
          ],
          "scatter3d": [
           {
            "line": {
             "colorbar": {
              "outlinewidth": 0,
              "ticks": ""
             }
            },
            "marker": {
             "colorbar": {
              "outlinewidth": 0,
              "ticks": ""
             }
            },
            "type": "scatter3d"
           }
          ],
          "scattercarpet": [
           {
            "marker": {
             "colorbar": {
              "outlinewidth": 0,
              "ticks": ""
             }
            },
            "type": "scattercarpet"
           }
          ],
          "scattergeo": [
           {
            "marker": {
             "colorbar": {
              "outlinewidth": 0,
              "ticks": ""
             }
            },
            "type": "scattergeo"
           }
          ],
          "scattergl": [
           {
            "marker": {
             "colorbar": {
              "outlinewidth": 0,
              "ticks": ""
             }
            },
            "type": "scattergl"
           }
          ],
          "scattermapbox": [
           {
            "marker": {
             "colorbar": {
              "outlinewidth": 0,
              "ticks": ""
             }
            },
            "type": "scattermapbox"
           }
          ],
          "scatterpolar": [
           {
            "marker": {
             "colorbar": {
              "outlinewidth": 0,
              "ticks": ""
             }
            },
            "type": "scatterpolar"
           }
          ],
          "scatterpolargl": [
           {
            "marker": {
             "colorbar": {
              "outlinewidth": 0,
              "ticks": ""
             }
            },
            "type": "scatterpolargl"
           }
          ],
          "scatterternary": [
           {
            "marker": {
             "colorbar": {
              "outlinewidth": 0,
              "ticks": ""
             }
            },
            "type": "scatterternary"
           }
          ],
          "surface": [
           {
            "colorbar": {
             "outlinewidth": 0,
             "ticks": ""
            },
            "colorscale": [
             [
              0,
              "#0d0887"
             ],
             [
              0.1111111111111111,
              "#46039f"
             ],
             [
              0.2222222222222222,
              "#7201a8"
             ],
             [
              0.3333333333333333,
              "#9c179e"
             ],
             [
              0.4444444444444444,
              "#bd3786"
             ],
             [
              0.5555555555555556,
              "#d8576b"
             ],
             [
              0.6666666666666666,
              "#ed7953"
             ],
             [
              0.7777777777777778,
              "#fb9f3a"
             ],
             [
              0.8888888888888888,
              "#fdca26"
             ],
             [
              1,
              "#f0f921"
             ]
            ],
            "type": "surface"
           }
          ],
          "table": [
           {
            "cells": {
             "fill": {
              "color": "#EBF0F8"
             },
             "line": {
              "color": "white"
             }
            },
            "header": {
             "fill": {
              "color": "#C8D4E3"
             },
             "line": {
              "color": "white"
             }
            },
            "type": "table"
           }
          ]
         },
         "layout": {
          "annotationdefaults": {
           "arrowcolor": "#2a3f5f",
           "arrowhead": 0,
           "arrowwidth": 1
          },
          "autotypenumbers": "strict",
          "coloraxis": {
           "colorbar": {
            "outlinewidth": 0,
            "ticks": ""
           }
          },
          "colorscale": {
           "diverging": [
            [
             0,
             "#8e0152"
            ],
            [
             0.1,
             "#c51b7d"
            ],
            [
             0.2,
             "#de77ae"
            ],
            [
             0.3,
             "#f1b6da"
            ],
            [
             0.4,
             "#fde0ef"
            ],
            [
             0.5,
             "#f7f7f7"
            ],
            [
             0.6,
             "#e6f5d0"
            ],
            [
             0.7,
             "#b8e186"
            ],
            [
             0.8,
             "#7fbc41"
            ],
            [
             0.9,
             "#4d9221"
            ],
            [
             1,
             "#276419"
            ]
           ],
           "sequential": [
            [
             0,
             "#0d0887"
            ],
            [
             0.1111111111111111,
             "#46039f"
            ],
            [
             0.2222222222222222,
             "#7201a8"
            ],
            [
             0.3333333333333333,
             "#9c179e"
            ],
            [
             0.4444444444444444,
             "#bd3786"
            ],
            [
             0.5555555555555556,
             "#d8576b"
            ],
            [
             0.6666666666666666,
             "#ed7953"
            ],
            [
             0.7777777777777778,
             "#fb9f3a"
            ],
            [
             0.8888888888888888,
             "#fdca26"
            ],
            [
             1,
             "#f0f921"
            ]
           ],
           "sequentialminus": [
            [
             0,
             "#0d0887"
            ],
            [
             0.1111111111111111,
             "#46039f"
            ],
            [
             0.2222222222222222,
             "#7201a8"
            ],
            [
             0.3333333333333333,
             "#9c179e"
            ],
            [
             0.4444444444444444,
             "#bd3786"
            ],
            [
             0.5555555555555556,
             "#d8576b"
            ],
            [
             0.6666666666666666,
             "#ed7953"
            ],
            [
             0.7777777777777778,
             "#fb9f3a"
            ],
            [
             0.8888888888888888,
             "#fdca26"
            ],
            [
             1,
             "#f0f921"
            ]
           ]
          },
          "colorway": [
           "#636efa",
           "#EF553B",
           "#00cc96",
           "#ab63fa",
           "#FFA15A",
           "#19d3f3",
           "#FF6692",
           "#B6E880",
           "#FF97FF",
           "#FECB52"
          ],
          "font": {
           "color": "#2a3f5f"
          },
          "geo": {
           "bgcolor": "white",
           "lakecolor": "white",
           "landcolor": "#E5ECF6",
           "showlakes": true,
           "showland": true,
           "subunitcolor": "white"
          },
          "hoverlabel": {
           "align": "left"
          },
          "hovermode": "closest",
          "mapbox": {
           "style": "light"
          },
          "paper_bgcolor": "white",
          "plot_bgcolor": "#E5ECF6",
          "polar": {
           "angularaxis": {
            "gridcolor": "white",
            "linecolor": "white",
            "ticks": ""
           },
           "bgcolor": "#E5ECF6",
           "radialaxis": {
            "gridcolor": "white",
            "linecolor": "white",
            "ticks": ""
           }
          },
          "scene": {
           "xaxis": {
            "backgroundcolor": "#E5ECF6",
            "gridcolor": "white",
            "gridwidth": 2,
            "linecolor": "white",
            "showbackground": true,
            "ticks": "",
            "zerolinecolor": "white"
           },
           "yaxis": {
            "backgroundcolor": "#E5ECF6",
            "gridcolor": "white",
            "gridwidth": 2,
            "linecolor": "white",
            "showbackground": true,
            "ticks": "",
            "zerolinecolor": "white"
           },
           "zaxis": {
            "backgroundcolor": "#E5ECF6",
            "gridcolor": "white",
            "gridwidth": 2,
            "linecolor": "white",
            "showbackground": true,
            "ticks": "",
            "zerolinecolor": "white"
           }
          },
          "shapedefaults": {
           "line": {
            "color": "#2a3f5f"
           }
          },
          "ternary": {
           "aaxis": {
            "gridcolor": "white",
            "linecolor": "white",
            "ticks": ""
           },
           "baxis": {
            "gridcolor": "white",
            "linecolor": "white",
            "ticks": ""
           },
           "bgcolor": "#E5ECF6",
           "caxis": {
            "gridcolor": "white",
            "linecolor": "white",
            "ticks": ""
           }
          },
          "title": {
           "x": 0.05
          },
          "xaxis": {
           "automargin": true,
           "gridcolor": "white",
           "linecolor": "white",
           "ticks": "",
           "title": {
            "standoff": 15
           },
           "zerolinecolor": "white",
           "zerolinewidth": 2
          },
          "yaxis": {
           "automargin": true,
           "gridcolor": "white",
           "linecolor": "white",
           "ticks": "",
           "title": {
            "standoff": 15
           },
           "zerolinecolor": "white",
           "zerolinewidth": 2
          }
         }
        },
        "title": {
         "text": "Personality Types Distribution by Artist"
        },
        "width": 1500,
        "xaxis": {
         "anchor": "y",
         "categoryarray": [
          "anthrax",
          "billie_eilish",
          "ed_sheeran",
          "kanye_west",
          "metallica",
          "mozart",
          "pinkfloyd",
          "taylor_swift"
         ],
         "categoryorder": "array",
         "domain": [
          0,
          1
         ],
         "title": {
          "text": "Artist Name"
         }
        },
        "yaxis": {
         "anchor": "x",
         "domain": [
          0,
          1
         ],
         "title": {
          "text": "Percentage"
         }
        }
       }
      }
     },
     "metadata": {},
     "output_type": "display_data"
    }
   ],
   "source": [
    "desired_arists = [\n",
    "    \"anthrax\",\n",
    "    \"ed_sheeran\",\n",
    "    \"ray_charles\",\n",
    "    \"mozart\",\n",
    "    \"metallica\",\n",
    "    \"billie_eilish\",\n",
    "    \"pinkfloyd\",\n",
    "    \"taylor_swift\",\n",
    "    \"kanye_west\",\n",
    "]\n",
    "\n",
    "\n",
    "df_melted = df_result.melt(\n",
    "    id_vars=\"personality\", var_name=\"artist_name\", value_name=\"count\"\n",
    ").sort_values(by=\"count\", ascending=False)\n",
    "\n",
    "\n",
    "df_melted = df_melted.loc[df_melted[\"artist_name\"].isin(desired_arists)]\n",
    "total_counts = df_melted.groupby(\"artist_name\")[\"count\"].sum()\n",
    "\n",
    "\n",
    "df_melted[\"percentage\"] = (\n",
    "    df_melted[\"count\"] / df_melted[\"artist_name\"].map(total_counts) * 100\n",
    ")\n",
    "\n",
    "\n",
    "genre_mapping = df_author_mean_personality_genre.set_index(\"channel\")[\"genre\"].to_dict()\n",
    "\n",
    "\n",
    "df_melted[\"genre\"] = df_melted[\"artist_name\"].map(genre_mapping)\n",
    "df_melted = df_melted.sort_values(by=\"percentage\", ascending=False)\n",
    "\n",
    "\n",
    "fig = px.bar(\n",
    "    df_melted,\n",
    "    x=\"artist_name\",\n",
    "    y=\"percentage\",\n",
    "    color=\"personality\",\n",
    "    labels={\n",
    "        \"percentage\": \"Percentage\",\n",
    "        \"artist_name\": \"Artist Name\",\n",
    "        \"personality\": \"Personality Type\",\n",
    "    },\n",
    "    title=\"Personality Types Distribution by Artist\",\n",
    "    category_orders={\"artist_name\": sorted(df_melted[\"artist_name\"].unique())},\n",
    "    height=500,\n",
    "    width=1500,\n",
    ")\n",
    "fig.show()"
   ]
  },
  {
   "cell_type": "markdown",
   "metadata": {},
   "source": [
    "For chosen genre(all artits) and in percentage"
   ]
  },
  {
   "cell_type": "code",
   "execution_count": 26,
   "metadata": {},
   "outputs": [
    {
     "data": {
      "application/vnd.plotly.v1+json": {
       "config": {
        "plotlyServerURL": "https://plot.ly"
       },
       "data": [
        {
         "alignmentgroup": "True",
         "hovertemplate": "Personality Type=ESFP<br>Artist Name=%{x}<br>Percentage=%{y}<extra></extra>",
         "legendgroup": "ESFP",
         "marker": {
          "color": "#636efa",
          "pattern": {
           "shape": ""
          }
         },
         "name": "ESFP",
         "offsetgroup": "ESFP",
         "orientation": "v",
         "showlegend": true,
         "textposition": "auto",
         "type": "bar",
         "x": [
          "ed_sheeran",
          "malone",
          "olivia",
          "billie_eilish",
          "ariana_grande",
          "taylor_swift"
         ],
         "xaxis": "x",
         "y": [
          34.43877551020408,
          30.4635761589404,
          30.278884462151396,
          29.009433962264154,
          28.040540540540544,
          27.47747747747748
         ],
         "yaxis": "y"
        },
        {
         "alignmentgroup": "True",
         "hovertemplate": "Personality Type=ESFJ<br>Artist Name=%{x}<br>Percentage=%{y}<extra></extra>",
         "legendgroup": "ESFJ",
         "marker": {
          "color": "#EF553B",
          "pattern": {
           "shape": ""
          }
         },
         "name": "ESFJ",
         "offsetgroup": "ESFJ",
         "orientation": "v",
         "showlegend": true,
         "textposition": "auto",
         "type": "bar",
         "x": [
          "billie_eilish",
          "taylor_swift",
          "ed_sheeran",
          "ariana_grande",
          "olivia",
          "malone"
         ],
         "xaxis": "x",
         "y": [
          33.25471698113208,
          29.27927927927928,
          27.806122448979593,
          24.66216216216216,
          21.115537848605577,
          12.91390728476821
         ],
         "yaxis": "y"
        },
        {
         "alignmentgroup": "True",
         "hovertemplate": "Personality Type=ESTP<br>Artist Name=%{x}<br>Percentage=%{y}<extra></extra>",
         "legendgroup": "ESTP",
         "marker": {
          "color": "#00cc96",
          "pattern": {
           "shape": ""
          }
         },
         "name": "ESTP",
         "offsetgroup": "ESTP",
         "orientation": "v",
         "showlegend": true,
         "textposition": "auto",
         "type": "bar",
         "x": [
          "olivia",
          "malone",
          "ariana_grande",
          "taylor_swift",
          "billie_eilish",
          "ed_sheeran"
         ],
         "xaxis": "x",
         "y": [
          28.68525896414343,
          24.834437086092713,
          20.27027027027027,
          18.46846846846847,
          12.264150943396226,
          9.693877551020408
         ],
         "yaxis": "y"
        },
        {
         "alignmentgroup": "True",
         "hovertemplate": "Personality Type=ESTJ<br>Artist Name=%{x}<br>Percentage=%{y}<extra></extra>",
         "legendgroup": "ESTJ",
         "marker": {
          "color": "#ab63fa",
          "pattern": {
           "shape": ""
          }
         },
         "name": "ESTJ",
         "offsetgroup": "ESTJ",
         "orientation": "v",
         "showlegend": true,
         "textposition": "auto",
         "type": "bar",
         "x": [
          "malone",
          "taylor_swift",
          "ariana_grande",
          "billie_eilish",
          "olivia",
          "ed_sheeran"
         ],
         "xaxis": "x",
         "y": [
          16.225165562913908,
          15.315315315315313,
          14.18918918918919,
          10.61320754716981,
          10.358565737051793,
          5.1020408163265305
         ],
         "yaxis": "y"
        },
        {
         "alignmentgroup": "True",
         "hovertemplate": "Personality Type=ENFP<br>Artist Name=%{x}<br>Percentage=%{y}<extra></extra>",
         "legendgroup": "ENFP",
         "marker": {
          "color": "#FFA15A",
          "pattern": {
           "shape": ""
          }
         },
         "name": "ENFP",
         "offsetgroup": "ENFP",
         "orientation": "v",
         "showlegend": true,
         "textposition": "auto",
         "type": "bar",
         "x": [
          "ed_sheeran",
          "malone",
          "ariana_grande",
          "billie_eilish",
          "taylor_swift",
          "olivia"
         ],
         "xaxis": "x",
         "y": [
          9.183673469387756,
          5.960264900662252,
          5.743243243243244,
          5.660377358490567,
          3.6036036036036037,
          2.788844621513944
         ],
         "yaxis": "y"
        },
        {
         "alignmentgroup": "True",
         "hovertemplate": "Personality Type=INFP<br>Artist Name=%{x}<br>Percentage=%{y}<extra></extra>",
         "legendgroup": "INFP",
         "marker": {
          "color": "#19d3f3",
          "pattern": {
           "shape": ""
          }
         },
         "name": "INFP",
         "offsetgroup": "INFP",
         "orientation": "v",
         "showlegend": true,
         "textposition": "auto",
         "type": "bar",
         "x": [
          "ed_sheeran",
          "malone",
          "billie_eilish",
          "ariana_grande",
          "taylor_swift",
          "olivia"
         ],
         "xaxis": "x",
         "y": [
          9.183673469387756,
          5.960264900662252,
          5.89622641509434,
          4.72972972972973,
          2.2522522522522523,
          1.9920318725099602
         ],
         "yaxis": "y"
        },
        {
         "alignmentgroup": "True",
         "hovertemplate": "Personality Type=ENFJ<br>Artist Name=%{x}<br>Percentage=%{y}<extra></extra>",
         "legendgroup": "ENFJ",
         "marker": {
          "color": "#FF6692",
          "pattern": {
           "shape": ""
          }
         },
         "name": "ENFJ",
         "offsetgroup": "ENFJ",
         "orientation": "v",
         "showlegend": true,
         "textposition": "auto",
         "type": "bar",
         "x": [
          "ed_sheeran",
          "taylor_swift",
          "olivia",
          "malone",
          "billie_eilish",
          "ariana_grande"
         ],
         "xaxis": "x",
         "y": [
          3.826530612244898,
          2.7027027027027026,
          2.3904382470119523,
          2.3178807947019866,
          2.1226415094339623,
          1.0135135135135136
         ],
         "yaxis": "y"
        },
        {
         "alignmentgroup": "True",
         "hovertemplate": "Personality Type=INTP<br>Artist Name=%{x}<br>Percentage=%{y}<extra></extra>",
         "legendgroup": "INTP",
         "marker": {
          "color": "#B6E880",
          "pattern": {
           "shape": ""
          }
         },
         "name": "INTP",
         "offsetgroup": "INTP",
         "orientation": "v",
         "showlegend": true,
         "textposition": "auto",
         "type": "bar",
         "x": [
          "olivia",
          "ariana_grande",
          "billie_eilish",
          "malone",
          "ed_sheeran",
          "taylor_swift"
         ],
         "xaxis": "x",
         "y": [
          0.796812749003984,
          0.33783783783783783,
          0.2358490566037736,
          0,
          0,
          0
         ],
         "yaxis": "y"
        },
        {
         "alignmentgroup": "True",
         "hovertemplate": "Personality Type=ENTP<br>Artist Name=%{x}<br>Percentage=%{y}<extra></extra>",
         "legendgroup": "ENTP",
         "marker": {
          "color": "#FF97FF",
          "pattern": {
           "shape": ""
          }
         },
         "name": "ENTP",
         "offsetgroup": "ENTP",
         "orientation": "v",
         "showlegend": true,
         "textposition": "auto",
         "type": "bar",
         "x": [
          "olivia",
          "ariana_grande",
          "taylor_swift",
          "malone",
          "billie_eilish",
          "ed_sheeran"
         ],
         "xaxis": "x",
         "y": [
          0.796812749003984,
          0.6756756756756757,
          0.45045045045045046,
          0.33112582781456956,
          0.2358490566037736,
          0
         ],
         "yaxis": "y"
        },
        {
         "alignmentgroup": "True",
         "hovertemplate": "Personality Type=INFJ<br>Artist Name=%{x}<br>Percentage=%{y}<extra></extra>",
         "legendgroup": "INFJ",
         "marker": {
          "color": "#FECB52",
          "pattern": {
           "shape": ""
          }
         },
         "name": "INFJ",
         "offsetgroup": "INFJ",
         "orientation": "v",
         "showlegend": true,
         "textposition": "auto",
         "type": "bar",
         "x": [
          "ed_sheeran",
          "malone",
          "billie_eilish",
          "taylor_swift",
          "olivia",
          "ariana_grande"
         ],
         "xaxis": "x",
         "y": [
          0.7653061224489796,
          0.6622516556291391,
          0.4716981132075472,
          0.45045045045045046,
          0.398406374501992,
          0
         ],
         "yaxis": "y"
        },
        {
         "alignmentgroup": "True",
         "hovertemplate": "Personality Type=ENTJ<br>Artist Name=%{x}<br>Percentage=%{y}<extra></extra>",
         "legendgroup": "ENTJ",
         "marker": {
          "color": "#636efa",
          "pattern": {
           "shape": ""
          }
         },
         "name": "ENTJ",
         "offsetgroup": "ENTJ",
         "orientation": "v",
         "showlegend": true,
         "textposition": "auto",
         "type": "bar",
         "x": [
          "olivia",
          "ariana_grande",
          "malone",
          "billie_eilish",
          "ed_sheeran",
          "taylor_swift"
         ],
         "xaxis": "x",
         "y": [
          0.398406374501992,
          0.33783783783783783,
          0.33112582781456956,
          0.2358490566037736,
          0,
          0
         ],
         "yaxis": "y"
        },
        {
         "alignmentgroup": "True",
         "hovertemplate": "Personality Type=ISFP<br>Artist Name=%{x}<br>Percentage=%{y}<extra></extra>",
         "legendgroup": "ISFP",
         "marker": {
          "color": "#EF553B",
          "pattern": {
           "shape": ""
          }
         },
         "name": "ISFP",
         "offsetgroup": "ISFP",
         "orientation": "v",
         "showlegend": true,
         "textposition": "auto",
         "type": "bar",
         "x": [
          "billie_eilish",
          "ed_sheeran",
          "malone",
          "olivia",
          "ariana_grande",
          "taylor_swift"
         ],
         "xaxis": "x",
         "y": [
          0,
          0,
          0,
          0,
          0,
          0
         ],
         "yaxis": "y"
        },
        {
         "alignmentgroup": "True",
         "hovertemplate": "Personality Type=ISFJ<br>Artist Name=%{x}<br>Percentage=%{y}<extra></extra>",
         "legendgroup": "ISFJ",
         "marker": {
          "color": "#00cc96",
          "pattern": {
           "shape": ""
          }
         },
         "name": "ISFJ",
         "offsetgroup": "ISFJ",
         "orientation": "v",
         "showlegend": true,
         "textposition": "auto",
         "type": "bar",
         "x": [
          "billie_eilish",
          "ed_sheeran",
          "olivia",
          "malone",
          "taylor_swift",
          "ariana_grande"
         ],
         "xaxis": "x",
         "y": [
          0,
          0,
          0,
          0,
          0,
          0
         ],
         "yaxis": "y"
        },
        {
         "alignmentgroup": "True",
         "hovertemplate": "Personality Type=INTJ<br>Artist Name=%{x}<br>Percentage=%{y}<extra></extra>",
         "legendgroup": "INTJ",
         "marker": {
          "color": "#ab63fa",
          "pattern": {
           "shape": ""
          }
         },
         "name": "INTJ",
         "offsetgroup": "INTJ",
         "orientation": "v",
         "showlegend": true,
         "textposition": "auto",
         "type": "bar",
         "x": [
          "ed_sheeran",
          "billie_eilish",
          "olivia",
          "malone",
          "ariana_grande",
          "taylor_swift"
         ],
         "xaxis": "x",
         "y": [
          0,
          0,
          0,
          0,
          0,
          0
         ],
         "yaxis": "y"
        },
        {
         "alignmentgroup": "True",
         "hovertemplate": "Personality Type=ISTP<br>Artist Name=%{x}<br>Percentage=%{y}<extra></extra>",
         "legendgroup": "ISTP",
         "marker": {
          "color": "#FFA15A",
          "pattern": {
           "shape": ""
          }
         },
         "name": "ISTP",
         "offsetgroup": "ISTP",
         "orientation": "v",
         "showlegend": true,
         "textposition": "auto",
         "type": "bar",
         "x": [
          "billie_eilish",
          "olivia",
          "malone",
          "ariana_grande",
          "taylor_swift",
          "ed_sheeran"
         ],
         "xaxis": "x",
         "y": [
          0,
          0,
          0,
          0,
          0,
          0
         ],
         "yaxis": "y"
        }
       ],
       "layout": {
        "barmode": "relative",
        "legend": {
         "title": {
          "text": "Personality Type"
         },
         "tracegroupgap": 0
        },
        "template": {
         "data": {
          "bar": [
           {
            "error_x": {
             "color": "#2a3f5f"
            },
            "error_y": {
             "color": "#2a3f5f"
            },
            "marker": {
             "line": {
              "color": "#E5ECF6",
              "width": 0.5
             },
             "pattern": {
              "fillmode": "overlay",
              "size": 10,
              "solidity": 0.2
             }
            },
            "type": "bar"
           }
          ],
          "barpolar": [
           {
            "marker": {
             "line": {
              "color": "#E5ECF6",
              "width": 0.5
             },
             "pattern": {
              "fillmode": "overlay",
              "size": 10,
              "solidity": 0.2
             }
            },
            "type": "barpolar"
           }
          ],
          "carpet": [
           {
            "aaxis": {
             "endlinecolor": "#2a3f5f",
             "gridcolor": "white",
             "linecolor": "white",
             "minorgridcolor": "white",
             "startlinecolor": "#2a3f5f"
            },
            "baxis": {
             "endlinecolor": "#2a3f5f",
             "gridcolor": "white",
             "linecolor": "white",
             "minorgridcolor": "white",
             "startlinecolor": "#2a3f5f"
            },
            "type": "carpet"
           }
          ],
          "choropleth": [
           {
            "colorbar": {
             "outlinewidth": 0,
             "ticks": ""
            },
            "type": "choropleth"
           }
          ],
          "contour": [
           {
            "colorbar": {
             "outlinewidth": 0,
             "ticks": ""
            },
            "colorscale": [
             [
              0,
              "#0d0887"
             ],
             [
              0.1111111111111111,
              "#46039f"
             ],
             [
              0.2222222222222222,
              "#7201a8"
             ],
             [
              0.3333333333333333,
              "#9c179e"
             ],
             [
              0.4444444444444444,
              "#bd3786"
             ],
             [
              0.5555555555555556,
              "#d8576b"
             ],
             [
              0.6666666666666666,
              "#ed7953"
             ],
             [
              0.7777777777777778,
              "#fb9f3a"
             ],
             [
              0.8888888888888888,
              "#fdca26"
             ],
             [
              1,
              "#f0f921"
             ]
            ],
            "type": "contour"
           }
          ],
          "contourcarpet": [
           {
            "colorbar": {
             "outlinewidth": 0,
             "ticks": ""
            },
            "type": "contourcarpet"
           }
          ],
          "heatmap": [
           {
            "colorbar": {
             "outlinewidth": 0,
             "ticks": ""
            },
            "colorscale": [
             [
              0,
              "#0d0887"
             ],
             [
              0.1111111111111111,
              "#46039f"
             ],
             [
              0.2222222222222222,
              "#7201a8"
             ],
             [
              0.3333333333333333,
              "#9c179e"
             ],
             [
              0.4444444444444444,
              "#bd3786"
             ],
             [
              0.5555555555555556,
              "#d8576b"
             ],
             [
              0.6666666666666666,
              "#ed7953"
             ],
             [
              0.7777777777777778,
              "#fb9f3a"
             ],
             [
              0.8888888888888888,
              "#fdca26"
             ],
             [
              1,
              "#f0f921"
             ]
            ],
            "type": "heatmap"
           }
          ],
          "heatmapgl": [
           {
            "colorbar": {
             "outlinewidth": 0,
             "ticks": ""
            },
            "colorscale": [
             [
              0,
              "#0d0887"
             ],
             [
              0.1111111111111111,
              "#46039f"
             ],
             [
              0.2222222222222222,
              "#7201a8"
             ],
             [
              0.3333333333333333,
              "#9c179e"
             ],
             [
              0.4444444444444444,
              "#bd3786"
             ],
             [
              0.5555555555555556,
              "#d8576b"
             ],
             [
              0.6666666666666666,
              "#ed7953"
             ],
             [
              0.7777777777777778,
              "#fb9f3a"
             ],
             [
              0.8888888888888888,
              "#fdca26"
             ],
             [
              1,
              "#f0f921"
             ]
            ],
            "type": "heatmapgl"
           }
          ],
          "histogram": [
           {
            "marker": {
             "pattern": {
              "fillmode": "overlay",
              "size": 10,
              "solidity": 0.2
             }
            },
            "type": "histogram"
           }
          ],
          "histogram2d": [
           {
            "colorbar": {
             "outlinewidth": 0,
             "ticks": ""
            },
            "colorscale": [
             [
              0,
              "#0d0887"
             ],
             [
              0.1111111111111111,
              "#46039f"
             ],
             [
              0.2222222222222222,
              "#7201a8"
             ],
             [
              0.3333333333333333,
              "#9c179e"
             ],
             [
              0.4444444444444444,
              "#bd3786"
             ],
             [
              0.5555555555555556,
              "#d8576b"
             ],
             [
              0.6666666666666666,
              "#ed7953"
             ],
             [
              0.7777777777777778,
              "#fb9f3a"
             ],
             [
              0.8888888888888888,
              "#fdca26"
             ],
             [
              1,
              "#f0f921"
             ]
            ],
            "type": "histogram2d"
           }
          ],
          "histogram2dcontour": [
           {
            "colorbar": {
             "outlinewidth": 0,
             "ticks": ""
            },
            "colorscale": [
             [
              0,
              "#0d0887"
             ],
             [
              0.1111111111111111,
              "#46039f"
             ],
             [
              0.2222222222222222,
              "#7201a8"
             ],
             [
              0.3333333333333333,
              "#9c179e"
             ],
             [
              0.4444444444444444,
              "#bd3786"
             ],
             [
              0.5555555555555556,
              "#d8576b"
             ],
             [
              0.6666666666666666,
              "#ed7953"
             ],
             [
              0.7777777777777778,
              "#fb9f3a"
             ],
             [
              0.8888888888888888,
              "#fdca26"
             ],
             [
              1,
              "#f0f921"
             ]
            ],
            "type": "histogram2dcontour"
           }
          ],
          "mesh3d": [
           {
            "colorbar": {
             "outlinewidth": 0,
             "ticks": ""
            },
            "type": "mesh3d"
           }
          ],
          "parcoords": [
           {
            "line": {
             "colorbar": {
              "outlinewidth": 0,
              "ticks": ""
             }
            },
            "type": "parcoords"
           }
          ],
          "pie": [
           {
            "automargin": true,
            "type": "pie"
           }
          ],
          "scatter": [
           {
            "fillpattern": {
             "fillmode": "overlay",
             "size": 10,
             "solidity": 0.2
            },
            "type": "scatter"
           }
          ],
          "scatter3d": [
           {
            "line": {
             "colorbar": {
              "outlinewidth": 0,
              "ticks": ""
             }
            },
            "marker": {
             "colorbar": {
              "outlinewidth": 0,
              "ticks": ""
             }
            },
            "type": "scatter3d"
           }
          ],
          "scattercarpet": [
           {
            "marker": {
             "colorbar": {
              "outlinewidth": 0,
              "ticks": ""
             }
            },
            "type": "scattercarpet"
           }
          ],
          "scattergeo": [
           {
            "marker": {
             "colorbar": {
              "outlinewidth": 0,
              "ticks": ""
             }
            },
            "type": "scattergeo"
           }
          ],
          "scattergl": [
           {
            "marker": {
             "colorbar": {
              "outlinewidth": 0,
              "ticks": ""
             }
            },
            "type": "scattergl"
           }
          ],
          "scattermapbox": [
           {
            "marker": {
             "colorbar": {
              "outlinewidth": 0,
              "ticks": ""
             }
            },
            "type": "scattermapbox"
           }
          ],
          "scatterpolar": [
           {
            "marker": {
             "colorbar": {
              "outlinewidth": 0,
              "ticks": ""
             }
            },
            "type": "scatterpolar"
           }
          ],
          "scatterpolargl": [
           {
            "marker": {
             "colorbar": {
              "outlinewidth": 0,
              "ticks": ""
             }
            },
            "type": "scatterpolargl"
           }
          ],
          "scatterternary": [
           {
            "marker": {
             "colorbar": {
              "outlinewidth": 0,
              "ticks": ""
             }
            },
            "type": "scatterternary"
           }
          ],
          "surface": [
           {
            "colorbar": {
             "outlinewidth": 0,
             "ticks": ""
            },
            "colorscale": [
             [
              0,
              "#0d0887"
             ],
             [
              0.1111111111111111,
              "#46039f"
             ],
             [
              0.2222222222222222,
              "#7201a8"
             ],
             [
              0.3333333333333333,
              "#9c179e"
             ],
             [
              0.4444444444444444,
              "#bd3786"
             ],
             [
              0.5555555555555556,
              "#d8576b"
             ],
             [
              0.6666666666666666,
              "#ed7953"
             ],
             [
              0.7777777777777778,
              "#fb9f3a"
             ],
             [
              0.8888888888888888,
              "#fdca26"
             ],
             [
              1,
              "#f0f921"
             ]
            ],
            "type": "surface"
           }
          ],
          "table": [
           {
            "cells": {
             "fill": {
              "color": "#EBF0F8"
             },
             "line": {
              "color": "white"
             }
            },
            "header": {
             "fill": {
              "color": "#C8D4E3"
             },
             "line": {
              "color": "white"
             }
            },
            "type": "table"
           }
          ]
         },
         "layout": {
          "annotationdefaults": {
           "arrowcolor": "#2a3f5f",
           "arrowhead": 0,
           "arrowwidth": 1
          },
          "autotypenumbers": "strict",
          "coloraxis": {
           "colorbar": {
            "outlinewidth": 0,
            "ticks": ""
           }
          },
          "colorscale": {
           "diverging": [
            [
             0,
             "#8e0152"
            ],
            [
             0.1,
             "#c51b7d"
            ],
            [
             0.2,
             "#de77ae"
            ],
            [
             0.3,
             "#f1b6da"
            ],
            [
             0.4,
             "#fde0ef"
            ],
            [
             0.5,
             "#f7f7f7"
            ],
            [
             0.6,
             "#e6f5d0"
            ],
            [
             0.7,
             "#b8e186"
            ],
            [
             0.8,
             "#7fbc41"
            ],
            [
             0.9,
             "#4d9221"
            ],
            [
             1,
             "#276419"
            ]
           ],
           "sequential": [
            [
             0,
             "#0d0887"
            ],
            [
             0.1111111111111111,
             "#46039f"
            ],
            [
             0.2222222222222222,
             "#7201a8"
            ],
            [
             0.3333333333333333,
             "#9c179e"
            ],
            [
             0.4444444444444444,
             "#bd3786"
            ],
            [
             0.5555555555555556,
             "#d8576b"
            ],
            [
             0.6666666666666666,
             "#ed7953"
            ],
            [
             0.7777777777777778,
             "#fb9f3a"
            ],
            [
             0.8888888888888888,
             "#fdca26"
            ],
            [
             1,
             "#f0f921"
            ]
           ],
           "sequentialminus": [
            [
             0,
             "#0d0887"
            ],
            [
             0.1111111111111111,
             "#46039f"
            ],
            [
             0.2222222222222222,
             "#7201a8"
            ],
            [
             0.3333333333333333,
             "#9c179e"
            ],
            [
             0.4444444444444444,
             "#bd3786"
            ],
            [
             0.5555555555555556,
             "#d8576b"
            ],
            [
             0.6666666666666666,
             "#ed7953"
            ],
            [
             0.7777777777777778,
             "#fb9f3a"
            ],
            [
             0.8888888888888888,
             "#fdca26"
            ],
            [
             1,
             "#f0f921"
            ]
           ]
          },
          "colorway": [
           "#636efa",
           "#EF553B",
           "#00cc96",
           "#ab63fa",
           "#FFA15A",
           "#19d3f3",
           "#FF6692",
           "#B6E880",
           "#FF97FF",
           "#FECB52"
          ],
          "font": {
           "color": "#2a3f5f"
          },
          "geo": {
           "bgcolor": "white",
           "lakecolor": "white",
           "landcolor": "#E5ECF6",
           "showlakes": true,
           "showland": true,
           "subunitcolor": "white"
          },
          "hoverlabel": {
           "align": "left"
          },
          "hovermode": "closest",
          "mapbox": {
           "style": "light"
          },
          "paper_bgcolor": "white",
          "plot_bgcolor": "#E5ECF6",
          "polar": {
           "angularaxis": {
            "gridcolor": "white",
            "linecolor": "white",
            "ticks": ""
           },
           "bgcolor": "#E5ECF6",
           "radialaxis": {
            "gridcolor": "white",
            "linecolor": "white",
            "ticks": ""
           }
          },
          "scene": {
           "xaxis": {
            "backgroundcolor": "#E5ECF6",
            "gridcolor": "white",
            "gridwidth": 2,
            "linecolor": "white",
            "showbackground": true,
            "ticks": "",
            "zerolinecolor": "white"
           },
           "yaxis": {
            "backgroundcolor": "#E5ECF6",
            "gridcolor": "white",
            "gridwidth": 2,
            "linecolor": "white",
            "showbackground": true,
            "ticks": "",
            "zerolinecolor": "white"
           },
           "zaxis": {
            "backgroundcolor": "#E5ECF6",
            "gridcolor": "white",
            "gridwidth": 2,
            "linecolor": "white",
            "showbackground": true,
            "ticks": "",
            "zerolinecolor": "white"
           }
          },
          "shapedefaults": {
           "line": {
            "color": "#2a3f5f"
           }
          },
          "ternary": {
           "aaxis": {
            "gridcolor": "white",
            "linecolor": "white",
            "ticks": ""
           },
           "baxis": {
            "gridcolor": "white",
            "linecolor": "white",
            "ticks": ""
           },
           "bgcolor": "#E5ECF6",
           "caxis": {
            "gridcolor": "white",
            "linecolor": "white",
            "ticks": ""
           }
          },
          "title": {
           "x": 0.05
          },
          "xaxis": {
           "automargin": true,
           "gridcolor": "white",
           "linecolor": "white",
           "ticks": "",
           "title": {
            "standoff": 15
           },
           "zerolinecolor": "white",
           "zerolinewidth": 2
          },
          "yaxis": {
           "automargin": true,
           "gridcolor": "white",
           "linecolor": "white",
           "ticks": "",
           "title": {
            "standoff": 15
           },
           "zerolinecolor": "white",
           "zerolinewidth": 2
          }
         }
        },
        "title": {
         "text": "Personality Types Distribution for pop Genre"
        },
        "xaxis": {
         "anchor": "y",
         "categoryarray": [
          "ariana_grande",
          "billie_eilish",
          "ed_sheeran",
          "malone",
          "olivia",
          "taylor_swift"
         ],
         "categoryorder": "array",
         "domain": [
          0,
          1
         ],
         "title": {
          "text": "Artist Name"
         }
        },
        "yaxis": {
         "anchor": "x",
         "domain": [
          0,
          1
         ],
         "title": {
          "text": "Percentage"
         }
        }
       }
      }
     },
     "metadata": {},
     "output_type": "display_data"
    }
   ],
   "source": [
    "df_melted = df_result.melt(\n",
    "    id_vars=\"personality\", var_name=\"artist_name\", value_name=\"count\"\n",
    ").sort_values(by=\"count\", ascending=False)\n",
    "\n",
    "total_counts = df_melted.groupby(\"artist_name\")[\"count\"].sum()\n",
    "\n",
    "\n",
    "df_melted[\"percentage\"] = (\n",
    "    df_melted[\"count\"] / df_melted[\"artist_name\"].map(total_counts) * 100\n",
    ")\n",
    "\n",
    "\n",
    "genre_mapping = df_author_mean_personality_genre.set_index(\"channel\")[\"genre\"].to_dict()\n",
    "\n",
    "\n",
    "df_melted[\"genre\"] = df_melted[\"artist_name\"].map(genre_mapping)\n",
    "df_melted = df_melted.sort_values(by=\"percentage\", ascending=False)\n",
    "\n",
    "\n",
    "chosen_genre = \"pop\"\n",
    "genre_df = df_melted[df_melted[\"genre\"] == chosen_genre]\n",
    "\n",
    "# Create the bar plot with facets based on artist_name\n",
    "fig = px.bar(\n",
    "    genre_df,\n",
    "    x=\"artist_name\",\n",
    "    y=\"percentage\",\n",
    "    color=\"personality\",\n",
    "    labels={\n",
    "        \"percentage\": \"Percentage\",\n",
    "        \"artist_name\": \"Artist Name\",\n",
    "        \"personality\": \"Personality Type\",\n",
    "    },\n",
    "    title=f\"Personality Types Distribution for {chosen_genre} Genre\",\n",
    "    category_orders={\"artist_name\": sorted(genre_df[\"artist_name\"].unique())},\n",
    ")  # Optional: Sort artist names\n",
    "\n",
    "# Show the plot\n",
    "fig.show()"
   ]
  },
  {
   "cell_type": "markdown",
   "metadata": {},
   "source": [
    "## Emo plots ##"
   ]
  },
  {
   "cell_type": "code",
   "execution_count": 28,
   "metadata": {},
   "outputs": [
    {
     "data": {
      "text/html": [
       "<div>\n",
       "<style scoped>\n",
       "    .dataframe tbody tr th:only-of-type {\n",
       "        vertical-align: middle;\n",
       "    }\n",
       "\n",
       "    .dataframe tbody tr th {\n",
       "        vertical-align: top;\n",
       "    }\n",
       "\n",
       "    .dataframe thead th {\n",
       "        text-align: right;\n",
       "    }\n",
       "</style>\n",
       "<table border=\"1\" class=\"dataframe\">\n",
       "  <thead>\n",
       "    <tr style=\"text-align: right;\">\n",
       "      <th></th>\n",
       "      <th>comment_id</th>\n",
       "      <th>author</th>\n",
       "      <th>date</th>\n",
       "      <th>comment</th>\n",
       "      <th>video_id</th>\n",
       "      <th>is_reply</th>\n",
       "      <th>parent_id</th>\n",
       "      <th>channel</th>\n",
       "      <th>genre</th>\n",
       "      <th>emoji</th>\n",
       "      <th>emotion</th>\n",
       "      <th>mbti</th>\n",
       "      <th>I</th>\n",
       "      <th>N</th>\n",
       "      <th>T</th>\n",
       "      <th>J</th>\n",
       "    </tr>\n",
       "  </thead>\n",
       "  <tbody>\n",
       "    <tr>\n",
       "      <th>34</th>\n",
       "      <td>UgwdwMoZyivskemlInd4AaABAg.9w_8W7ei0Xx9wcvEWc7Pz3</td>\n",
       "      <td>Christian Manifestation Channel</td>\n",
       "      <td>2023-11-02 23:49:23</td>\n",
       "      <td>I  39  m always a die hard fan of Bon since in...</td>\n",
       "      <td>lDK9QqIzhwk</td>\n",
       "      <td>True</td>\n",
       "      <td>UgwdwMoZyivskemlInd4AaABAg</td>\n",
       "      <td>bonjovi</td>\n",
       "      <td>metal</td>\n",
       "      <td>['😊', '😍', '🤗', '😍', '😘', '😘']</td>\n",
       "      <td>approval</td>\n",
       "      <td>{'type': ['E', 'S', 'F', 'J'], 'preds': [0.935...</td>\n",
       "      <td>0.935273</td>\n",
       "      <td>0.860599</td>\n",
       "      <td>0.809209</td>\n",
       "      <td>0.407116</td>\n",
       "    </tr>\n",
       "    <tr>\n",
       "      <th>37</th>\n",
       "      <td>Ugzj3o4e0uPwdQfjSwV4AaABAg.9wVkpgboc0h9x0T8O7VEkb</td>\n",
       "      <td>Gary Carr</td>\n",
       "      <td>2023-11-12 12:36:09</td>\n",
       "      <td>One of my song of all  time  It ’ s just simpl...</td>\n",
       "      <td>lDK9QqIzhwk</td>\n",
       "      <td>True</td>\n",
       "      <td>Ugzj3o4e0uPwdQfjSwV4AaABAg</td>\n",
       "      <td>bonjovi</td>\n",
       "      <td>metal</td>\n",
       "      <td>['❤️']</td>\n",
       "      <td>love</td>\n",
       "      <td>{'type': ['E', 'S', 'F', 'P'], 'preds': [0.955...</td>\n",
       "      <td>0.955575</td>\n",
       "      <td>0.858568</td>\n",
       "      <td>0.823778</td>\n",
       "      <td>0.594128</td>\n",
       "    </tr>\n",
       "    <tr>\n",
       "      <th>50</th>\n",
       "      <td>UgwCY7MWnT7m-fTfeNV4AaABAg.9w5GGawcewi9w5IX7pChaJ</td>\n",
       "      <td>Dante</td>\n",
       "      <td>2023-10-20 13:08:13</td>\n",
       "      <td>so far       1969  The original by Shocking Bl...</td>\n",
       "      <td>lDK9QqIzhwk</td>\n",
       "      <td>True</td>\n",
       "      <td>UgwCY7MWnT7m-fTfeNV4AaABAg</td>\n",
       "      <td>bonjovi</td>\n",
       "      <td>metal</td>\n",
       "      <td>[': (TW:', ': The original Venus by Shocking B...</td>\n",
       "      <td>neutral</td>\n",
       "      <td>{'type': ['I', 'N', 'T', 'P'], 'preds': [0.294...</td>\n",
       "      <td>0.294976</td>\n",
       "      <td>0.291326</td>\n",
       "      <td>0.470297</td>\n",
       "      <td>0.597860</td>\n",
       "    </tr>\n",
       "    <tr>\n",
       "      <th>51</th>\n",
       "      <td>UgwCY7MWnT7m-fTfeNV4AaABAg.9w5GGawcewi9w5xBJHk8gI</td>\n",
       "      <td>goober</td>\n",
       "      <td>2023-10-20 19:12:14</td>\n",
       "      <td>so far       1969  The original by Shocking Bl...</td>\n",
       "      <td>lDK9QqIzhwk</td>\n",
       "      <td>True</td>\n",
       "      <td>UgwCY7MWnT7m-fTfeNV4AaABAg</td>\n",
       "      <td>bonjovi</td>\n",
       "      <td>metal</td>\n",
       "      <td>[': (TW:', ': The original Venus by Shocking B...</td>\n",
       "      <td>neutral</td>\n",
       "      <td>{'type': ['I', 'N', 'T', 'P'], 'preds': [0.294...</td>\n",
       "      <td>0.294976</td>\n",
       "      <td>0.291326</td>\n",
       "      <td>0.470297</td>\n",
       "      <td>0.597860</td>\n",
       "    </tr>\n",
       "    <tr>\n",
       "      <th>54</th>\n",
       "      <td>Ugy1N4k_CAomaQ3VbBd4AaABAg.9w0i2Alm8cG9x0TFR6PG51</td>\n",
       "      <td>Gary Carr</td>\n",
       "      <td>2023-11-12 12:37:07</td>\n",
       "      <td>this be one of the best bon ever  i wish more ...</td>\n",
       "      <td>lDK9QqIzhwk</td>\n",
       "      <td>True</td>\n",
       "      <td>Ugy1N4k_CAomaQ3VbBd4AaABAg</td>\n",
       "      <td>bonjovi</td>\n",
       "      <td>metal</td>\n",
       "      <td>['🎸', '🎸']</td>\n",
       "      <td>admiration</td>\n",
       "      <td>{'type': ['E', 'S', 'F', 'P'], 'preds': [0.890...</td>\n",
       "      <td>0.890215</td>\n",
       "      <td>0.773742</td>\n",
       "      <td>0.897463</td>\n",
       "      <td>0.508214</td>\n",
       "    </tr>\n",
       "  </tbody>\n",
       "</table>\n",
       "</div>"
      ],
      "text/plain": [
       "                                           comment_id  \\\n",
       "34  UgwdwMoZyivskemlInd4AaABAg.9w_8W7ei0Xx9wcvEWc7Pz3   \n",
       "37  Ugzj3o4e0uPwdQfjSwV4AaABAg.9wVkpgboc0h9x0T8O7VEkb   \n",
       "50  UgwCY7MWnT7m-fTfeNV4AaABAg.9w5GGawcewi9w5IX7pChaJ   \n",
       "51  UgwCY7MWnT7m-fTfeNV4AaABAg.9w5GGawcewi9w5xBJHk8gI   \n",
       "54  Ugy1N4k_CAomaQ3VbBd4AaABAg.9w0i2Alm8cG9x0TFR6PG51   \n",
       "\n",
       "                             author                date  \\\n",
       "34  Christian Manifestation Channel 2023-11-02 23:49:23   \n",
       "37                        Gary Carr 2023-11-12 12:36:09   \n",
       "50                            Dante 2023-10-20 13:08:13   \n",
       "51                           goober 2023-10-20 19:12:14   \n",
       "54                        Gary Carr 2023-11-12 12:37:07   \n",
       "\n",
       "                                              comment     video_id  is_reply  \\\n",
       "34  I  39  m always a die hard fan of Bon since in...  lDK9QqIzhwk      True   \n",
       "37  One of my song of all  time  It ’ s just simpl...  lDK9QqIzhwk      True   \n",
       "50  so far       1969  The original by Shocking Bl...  lDK9QqIzhwk      True   \n",
       "51  so far       1969  The original by Shocking Bl...  lDK9QqIzhwk      True   \n",
       "54  this be one of the best bon ever  i wish more ...  lDK9QqIzhwk      True   \n",
       "\n",
       "                     parent_id  channel  genre  \\\n",
       "34  UgwdwMoZyivskemlInd4AaABAg  bonjovi  metal   \n",
       "37  Ugzj3o4e0uPwdQfjSwV4AaABAg  bonjovi  metal   \n",
       "50  UgwCY7MWnT7m-fTfeNV4AaABAg  bonjovi  metal   \n",
       "51  UgwCY7MWnT7m-fTfeNV4AaABAg  bonjovi  metal   \n",
       "54  Ugy1N4k_CAomaQ3VbBd4AaABAg  bonjovi  metal   \n",
       "\n",
       "                                                emoji     emotion  \\\n",
       "34                     ['😊', '😍', '🤗', '😍', '😘', '😘']    approval   \n",
       "37                                             ['❤️']        love   \n",
       "50  [': (TW:', ': The original Venus by Shocking B...     neutral   \n",
       "51  [': (TW:', ': The original Venus by Shocking B...     neutral   \n",
       "54                                         ['🎸', '🎸']  admiration   \n",
       "\n",
       "                                                 mbti         I         N  \\\n",
       "34  {'type': ['E', 'S', 'F', 'J'], 'preds': [0.935...  0.935273  0.860599   \n",
       "37  {'type': ['E', 'S', 'F', 'P'], 'preds': [0.955...  0.955575  0.858568   \n",
       "50  {'type': ['I', 'N', 'T', 'P'], 'preds': [0.294...  0.294976  0.291326   \n",
       "51  {'type': ['I', 'N', 'T', 'P'], 'preds': [0.294...  0.294976  0.291326   \n",
       "54  {'type': ['E', 'S', 'F', 'P'], 'preds': [0.890...  0.890215  0.773742   \n",
       "\n",
       "           T         J  \n",
       "34  0.809209  0.407116  \n",
       "37  0.823778  0.594128  \n",
       "50  0.470297  0.597860  \n",
       "51  0.470297  0.597860  \n",
       "54  0.897463  0.508214  "
      ]
     },
     "execution_count": 28,
     "metadata": {},
     "output_type": "execute_result"
    }
   ],
   "source": [
    "data.head()"
   ]
  },
  {
   "cell_type": "markdown",
   "metadata": {},
   "source": [
    "Emotions as x-axis, comparison of certain emotions between particular artists"
   ]
  },
  {
   "cell_type": "code",
   "execution_count": 29,
   "metadata": {},
   "outputs": [
    {
     "data": {
      "application/vnd.plotly.v1+json": {
       "config": {
        "plotlyServerURL": "https://plot.ly"
       },
       "data": [
        {
         "alignmentgroup": "True",
         "bingroup": "x",
         "histfunc": "sum",
         "hovertemplate": "channel=kanye_west<br>emotion=%{x}<br>sum of percentage=%{y}<extra></extra>",
         "legendgroup": "kanye_west",
         "marker": {
          "color": "#636efa",
          "pattern": {
           "shape": ""
          }
         },
         "name": "kanye_west",
         "offsetgroup": "kanye_west",
         "orientation": "v",
         "showlegend": true,
         "type": "histogram",
         "x": [
          "fear",
          "remorse",
          "sadness",
          "admiration",
          "love"
         ],
         "xaxis": "x",
         "y": [
          34.72222222222222,
          25,
          19.524405506883603,
          17.583141257820216,
          10.432190760059612
         ],
         "yaxis": "y"
        },
        {
         "alignmentgroup": "True",
         "bingroup": "x",
         "histfunc": "sum",
         "hovertemplate": "channel=metallica<br>emotion=%{x}<br>sum of percentage=%{y}<extra></extra>",
         "legendgroup": "metallica",
         "marker": {
          "color": "#EF553B",
          "pattern": {
           "shape": ""
          }
         },
         "name": "metallica",
         "offsetgroup": "metallica",
         "orientation": "v",
         "showlegend": true,
         "type": "histogram",
         "x": [
          "admiration",
          "fear",
          "remorse",
          "love",
          "sadness"
         ],
         "xaxis": "x",
         "y": [
          33.19064866644715,
          23.61111111111111,
          22.82608695652174,
          20.715350223546945,
          14.518147684605756
         ],
         "yaxis": "y"
        },
        {
         "alignmentgroup": "True",
         "bingroup": "x",
         "histfunc": "sum",
         "hovertemplate": "channel=ed_sheeran<br>emotion=%{x}<br>sum of percentage=%{y}<extra></extra>",
         "legendgroup": "ed_sheeran",
         "marker": {
          "color": "#00cc96",
          "pattern": {
           "shape": ""
          }
         },
         "name": "ed_sheeran",
         "offsetgroup": "ed_sheeran",
         "orientation": "v",
         "showlegend": true,
         "type": "histogram",
         "x": [
          "love",
          "sadness",
          "admiration",
          "remorse",
          "fear"
         ],
         "xaxis": "x",
         "y": [
          27.47143566815698,
          20.275344180225282,
          13.730655251893314,
          13.043478260869565,
          9.722222222222223
         ],
         "yaxis": "y"
        },
        {
         "alignmentgroup": "True",
         "bingroup": "x",
         "histfunc": "sum",
         "hovertemplate": "channel=pinkfloyd<br>emotion=%{x}<br>sum of percentage=%{y}<extra></extra>",
         "legendgroup": "pinkfloyd",
         "marker": {
          "color": "#ab63fa",
          "pattern": {
           "shape": ""
          }
         },
         "name": "pinkfloyd",
         "offsetgroup": "pinkfloyd",
         "orientation": "v",
         "showlegend": true,
         "type": "histogram",
         "x": [
          "sadness",
          "fear",
          "remorse",
          "admiration",
          "love"
         ],
         "xaxis": "x",
         "y": [
          25.406758448060074,
          16.666666666666664,
          16.304347826086957,
          14.981890023049061,
          11.723795330352708
         ],
         "yaxis": "y"
        },
        {
         "alignmentgroup": "True",
         "bingroup": "x",
         "histfunc": "sum",
         "hovertemplate": "channel=billie_eilish<br>emotion=%{x}<br>sum of percentage=%{y}<extra></extra>",
         "legendgroup": "billie_eilish",
         "marker": {
          "color": "#FFA15A",
          "pattern": {
           "shape": ""
          }
         },
         "name": "billie_eilish",
         "offsetgroup": "billie_eilish",
         "orientation": "v",
         "showlegend": true,
         "type": "histogram",
         "x": [
          "love",
          "sadness",
          "fear",
          "admiration",
          "remorse"
         ],
         "xaxis": "x",
         "y": [
          21.808246398410333,
          17.647058823529413,
          15.277777777777779,
          15.014817253868951,
          14.130434782608695
         ],
         "yaxis": "y"
        },
        {
         "alignmentgroup": "True",
         "bingroup": "x",
         "histfunc": "sum",
         "hovertemplate": "channel=taylor_swift<br>emotion=%{x}<br>sum of percentage=%{y}<extra></extra>",
         "legendgroup": "taylor_swift",
         "marker": {
          "color": "#19d3f3",
          "pattern": {
           "shape": ""
          }
         },
         "name": "taylor_swift",
         "offsetgroup": "taylor_swift",
         "orientation": "v",
         "showlegend": true,
         "type": "histogram",
         "x": [
          "remorse",
          "love",
          "admiration",
          "sadness"
         ],
         "xaxis": "x",
         "y": [
          8.695652173913043,
          7.848981619473423,
          5.498847546921304,
          2.6282853566958697
         ],
         "yaxis": "y"
        }
       ],
       "layout": {
        "barmode": "group",
        "height": 500,
        "legend": {
         "title": {
          "text": "channel"
         },
         "tracegroupgap": 0
        },
        "margin": {
         "t": 60
        },
        "template": {
         "data": {
          "bar": [
           {
            "error_x": {
             "color": "#2a3f5f"
            },
            "error_y": {
             "color": "#2a3f5f"
            },
            "marker": {
             "line": {
              "color": "#E5ECF6",
              "width": 0.5
             },
             "pattern": {
              "fillmode": "overlay",
              "size": 10,
              "solidity": 0.2
             }
            },
            "type": "bar"
           }
          ],
          "barpolar": [
           {
            "marker": {
             "line": {
              "color": "#E5ECF6",
              "width": 0.5
             },
             "pattern": {
              "fillmode": "overlay",
              "size": 10,
              "solidity": 0.2
             }
            },
            "type": "barpolar"
           }
          ],
          "carpet": [
           {
            "aaxis": {
             "endlinecolor": "#2a3f5f",
             "gridcolor": "white",
             "linecolor": "white",
             "minorgridcolor": "white",
             "startlinecolor": "#2a3f5f"
            },
            "baxis": {
             "endlinecolor": "#2a3f5f",
             "gridcolor": "white",
             "linecolor": "white",
             "minorgridcolor": "white",
             "startlinecolor": "#2a3f5f"
            },
            "type": "carpet"
           }
          ],
          "choropleth": [
           {
            "colorbar": {
             "outlinewidth": 0,
             "ticks": ""
            },
            "type": "choropleth"
           }
          ],
          "contour": [
           {
            "colorbar": {
             "outlinewidth": 0,
             "ticks": ""
            },
            "colorscale": [
             [
              0,
              "#0d0887"
             ],
             [
              0.1111111111111111,
              "#46039f"
             ],
             [
              0.2222222222222222,
              "#7201a8"
             ],
             [
              0.3333333333333333,
              "#9c179e"
             ],
             [
              0.4444444444444444,
              "#bd3786"
             ],
             [
              0.5555555555555556,
              "#d8576b"
             ],
             [
              0.6666666666666666,
              "#ed7953"
             ],
             [
              0.7777777777777778,
              "#fb9f3a"
             ],
             [
              0.8888888888888888,
              "#fdca26"
             ],
             [
              1,
              "#f0f921"
             ]
            ],
            "type": "contour"
           }
          ],
          "contourcarpet": [
           {
            "colorbar": {
             "outlinewidth": 0,
             "ticks": ""
            },
            "type": "contourcarpet"
           }
          ],
          "heatmap": [
           {
            "colorbar": {
             "outlinewidth": 0,
             "ticks": ""
            },
            "colorscale": [
             [
              0,
              "#0d0887"
             ],
             [
              0.1111111111111111,
              "#46039f"
             ],
             [
              0.2222222222222222,
              "#7201a8"
             ],
             [
              0.3333333333333333,
              "#9c179e"
             ],
             [
              0.4444444444444444,
              "#bd3786"
             ],
             [
              0.5555555555555556,
              "#d8576b"
             ],
             [
              0.6666666666666666,
              "#ed7953"
             ],
             [
              0.7777777777777778,
              "#fb9f3a"
             ],
             [
              0.8888888888888888,
              "#fdca26"
             ],
             [
              1,
              "#f0f921"
             ]
            ],
            "type": "heatmap"
           }
          ],
          "heatmapgl": [
           {
            "colorbar": {
             "outlinewidth": 0,
             "ticks": ""
            },
            "colorscale": [
             [
              0,
              "#0d0887"
             ],
             [
              0.1111111111111111,
              "#46039f"
             ],
             [
              0.2222222222222222,
              "#7201a8"
             ],
             [
              0.3333333333333333,
              "#9c179e"
             ],
             [
              0.4444444444444444,
              "#bd3786"
             ],
             [
              0.5555555555555556,
              "#d8576b"
             ],
             [
              0.6666666666666666,
              "#ed7953"
             ],
             [
              0.7777777777777778,
              "#fb9f3a"
             ],
             [
              0.8888888888888888,
              "#fdca26"
             ],
             [
              1,
              "#f0f921"
             ]
            ],
            "type": "heatmapgl"
           }
          ],
          "histogram": [
           {
            "marker": {
             "pattern": {
              "fillmode": "overlay",
              "size": 10,
              "solidity": 0.2
             }
            },
            "type": "histogram"
           }
          ],
          "histogram2d": [
           {
            "colorbar": {
             "outlinewidth": 0,
             "ticks": ""
            },
            "colorscale": [
             [
              0,
              "#0d0887"
             ],
             [
              0.1111111111111111,
              "#46039f"
             ],
             [
              0.2222222222222222,
              "#7201a8"
             ],
             [
              0.3333333333333333,
              "#9c179e"
             ],
             [
              0.4444444444444444,
              "#bd3786"
             ],
             [
              0.5555555555555556,
              "#d8576b"
             ],
             [
              0.6666666666666666,
              "#ed7953"
             ],
             [
              0.7777777777777778,
              "#fb9f3a"
             ],
             [
              0.8888888888888888,
              "#fdca26"
             ],
             [
              1,
              "#f0f921"
             ]
            ],
            "type": "histogram2d"
           }
          ],
          "histogram2dcontour": [
           {
            "colorbar": {
             "outlinewidth": 0,
             "ticks": ""
            },
            "colorscale": [
             [
              0,
              "#0d0887"
             ],
             [
              0.1111111111111111,
              "#46039f"
             ],
             [
              0.2222222222222222,
              "#7201a8"
             ],
             [
              0.3333333333333333,
              "#9c179e"
             ],
             [
              0.4444444444444444,
              "#bd3786"
             ],
             [
              0.5555555555555556,
              "#d8576b"
             ],
             [
              0.6666666666666666,
              "#ed7953"
             ],
             [
              0.7777777777777778,
              "#fb9f3a"
             ],
             [
              0.8888888888888888,
              "#fdca26"
             ],
             [
              1,
              "#f0f921"
             ]
            ],
            "type": "histogram2dcontour"
           }
          ],
          "mesh3d": [
           {
            "colorbar": {
             "outlinewidth": 0,
             "ticks": ""
            },
            "type": "mesh3d"
           }
          ],
          "parcoords": [
           {
            "line": {
             "colorbar": {
              "outlinewidth": 0,
              "ticks": ""
             }
            },
            "type": "parcoords"
           }
          ],
          "pie": [
           {
            "automargin": true,
            "type": "pie"
           }
          ],
          "scatter": [
           {
            "fillpattern": {
             "fillmode": "overlay",
             "size": 10,
             "solidity": 0.2
            },
            "type": "scatter"
           }
          ],
          "scatter3d": [
           {
            "line": {
             "colorbar": {
              "outlinewidth": 0,
              "ticks": ""
             }
            },
            "marker": {
             "colorbar": {
              "outlinewidth": 0,
              "ticks": ""
             }
            },
            "type": "scatter3d"
           }
          ],
          "scattercarpet": [
           {
            "marker": {
             "colorbar": {
              "outlinewidth": 0,
              "ticks": ""
             }
            },
            "type": "scattercarpet"
           }
          ],
          "scattergeo": [
           {
            "marker": {
             "colorbar": {
              "outlinewidth": 0,
              "ticks": ""
             }
            },
            "type": "scattergeo"
           }
          ],
          "scattergl": [
           {
            "marker": {
             "colorbar": {
              "outlinewidth": 0,
              "ticks": ""
             }
            },
            "type": "scattergl"
           }
          ],
          "scattermapbox": [
           {
            "marker": {
             "colorbar": {
              "outlinewidth": 0,
              "ticks": ""
             }
            },
            "type": "scattermapbox"
           }
          ],
          "scatterpolar": [
           {
            "marker": {
             "colorbar": {
              "outlinewidth": 0,
              "ticks": ""
             }
            },
            "type": "scatterpolar"
           }
          ],
          "scatterpolargl": [
           {
            "marker": {
             "colorbar": {
              "outlinewidth": 0,
              "ticks": ""
             }
            },
            "type": "scatterpolargl"
           }
          ],
          "scatterternary": [
           {
            "marker": {
             "colorbar": {
              "outlinewidth": 0,
              "ticks": ""
             }
            },
            "type": "scatterternary"
           }
          ],
          "surface": [
           {
            "colorbar": {
             "outlinewidth": 0,
             "ticks": ""
            },
            "colorscale": [
             [
              0,
              "#0d0887"
             ],
             [
              0.1111111111111111,
              "#46039f"
             ],
             [
              0.2222222222222222,
              "#7201a8"
             ],
             [
              0.3333333333333333,
              "#9c179e"
             ],
             [
              0.4444444444444444,
              "#bd3786"
             ],
             [
              0.5555555555555556,
              "#d8576b"
             ],
             [
              0.6666666666666666,
              "#ed7953"
             ],
             [
              0.7777777777777778,
              "#fb9f3a"
             ],
             [
              0.8888888888888888,
              "#fdca26"
             ],
             [
              1,
              "#f0f921"
             ]
            ],
            "type": "surface"
           }
          ],
          "table": [
           {
            "cells": {
             "fill": {
              "color": "#EBF0F8"
             },
             "line": {
              "color": "white"
             }
            },
            "header": {
             "fill": {
              "color": "#C8D4E3"
             },
             "line": {
              "color": "white"
             }
            },
            "type": "table"
           }
          ]
         },
         "layout": {
          "annotationdefaults": {
           "arrowcolor": "#2a3f5f",
           "arrowhead": 0,
           "arrowwidth": 1
          },
          "autotypenumbers": "strict",
          "coloraxis": {
           "colorbar": {
            "outlinewidth": 0,
            "ticks": ""
           }
          },
          "colorscale": {
           "diverging": [
            [
             0,
             "#8e0152"
            ],
            [
             0.1,
             "#c51b7d"
            ],
            [
             0.2,
             "#de77ae"
            ],
            [
             0.3,
             "#f1b6da"
            ],
            [
             0.4,
             "#fde0ef"
            ],
            [
             0.5,
             "#f7f7f7"
            ],
            [
             0.6,
             "#e6f5d0"
            ],
            [
             0.7,
             "#b8e186"
            ],
            [
             0.8,
             "#7fbc41"
            ],
            [
             0.9,
             "#4d9221"
            ],
            [
             1,
             "#276419"
            ]
           ],
           "sequential": [
            [
             0,
             "#0d0887"
            ],
            [
             0.1111111111111111,
             "#46039f"
            ],
            [
             0.2222222222222222,
             "#7201a8"
            ],
            [
             0.3333333333333333,
             "#9c179e"
            ],
            [
             0.4444444444444444,
             "#bd3786"
            ],
            [
             0.5555555555555556,
             "#d8576b"
            ],
            [
             0.6666666666666666,
             "#ed7953"
            ],
            [
             0.7777777777777778,
             "#fb9f3a"
            ],
            [
             0.8888888888888888,
             "#fdca26"
            ],
            [
             1,
             "#f0f921"
            ]
           ],
           "sequentialminus": [
            [
             0,
             "#0d0887"
            ],
            [
             0.1111111111111111,
             "#46039f"
            ],
            [
             0.2222222222222222,
             "#7201a8"
            ],
            [
             0.3333333333333333,
             "#9c179e"
            ],
            [
             0.4444444444444444,
             "#bd3786"
            ],
            [
             0.5555555555555556,
             "#d8576b"
            ],
            [
             0.6666666666666666,
             "#ed7953"
            ],
            [
             0.7777777777777778,
             "#fb9f3a"
            ],
            [
             0.8888888888888888,
             "#fdca26"
            ],
            [
             1,
             "#f0f921"
            ]
           ]
          },
          "colorway": [
           "#636efa",
           "#EF553B",
           "#00cc96",
           "#ab63fa",
           "#FFA15A",
           "#19d3f3",
           "#FF6692",
           "#B6E880",
           "#FF97FF",
           "#FECB52"
          ],
          "font": {
           "color": "#2a3f5f"
          },
          "geo": {
           "bgcolor": "white",
           "lakecolor": "white",
           "landcolor": "#E5ECF6",
           "showlakes": true,
           "showland": true,
           "subunitcolor": "white"
          },
          "hoverlabel": {
           "align": "left"
          },
          "hovermode": "closest",
          "mapbox": {
           "style": "light"
          },
          "paper_bgcolor": "white",
          "plot_bgcolor": "#E5ECF6",
          "polar": {
           "angularaxis": {
            "gridcolor": "white",
            "linecolor": "white",
            "ticks": ""
           },
           "bgcolor": "#E5ECF6",
           "radialaxis": {
            "gridcolor": "white",
            "linecolor": "white",
            "ticks": ""
           }
          },
          "scene": {
           "xaxis": {
            "backgroundcolor": "#E5ECF6",
            "gridcolor": "white",
            "gridwidth": 2,
            "linecolor": "white",
            "showbackground": true,
            "ticks": "",
            "zerolinecolor": "white"
           },
           "yaxis": {
            "backgroundcolor": "#E5ECF6",
            "gridcolor": "white",
            "gridwidth": 2,
            "linecolor": "white",
            "showbackground": true,
            "ticks": "",
            "zerolinecolor": "white"
           },
           "zaxis": {
            "backgroundcolor": "#E5ECF6",
            "gridcolor": "white",
            "gridwidth": 2,
            "linecolor": "white",
            "showbackground": true,
            "ticks": "",
            "zerolinecolor": "white"
           }
          },
          "shapedefaults": {
           "line": {
            "color": "#2a3f5f"
           }
          },
          "ternary": {
           "aaxis": {
            "gridcolor": "white",
            "linecolor": "white",
            "ticks": ""
           },
           "baxis": {
            "gridcolor": "white",
            "linecolor": "white",
            "ticks": ""
           },
           "bgcolor": "#E5ECF6",
           "caxis": {
            "gridcolor": "white",
            "linecolor": "white",
            "ticks": ""
           }
          },
          "title": {
           "x": 0.05
          },
          "xaxis": {
           "automargin": true,
           "gridcolor": "white",
           "linecolor": "white",
           "ticks": "",
           "title": {
            "standoff": 15
           },
           "zerolinecolor": "white",
           "zerolinewidth": 2
          },
          "yaxis": {
           "automargin": true,
           "gridcolor": "white",
           "linecolor": "white",
           "ticks": "",
           "title": {
            "standoff": 15
           },
           "zerolinecolor": "white",
           "zerolinewidth": 2
          }
         }
        },
        "title": {
         "automargin": true,
         "font": {
          "size": 100
         },
         "yref": "paper"
        },
        "width": 1400,
        "xaxis": {
         "anchor": "y",
         "domain": [
          0,
          1
         ],
         "title": {
          "text": "emotion"
         }
        },
        "yaxis": {
         "anchor": "x",
         "domain": [
          0,
          1
         ],
         "title": {
          "text": "sum of percentage"
         }
        }
       }
      }
     },
     "metadata": {},
     "output_type": "display_data"
    }
   ],
   "source": [
    "import plotly.express as px\n",
    "\n",
    "desired_emotions = [\"sadness\", \"love\", \"admiration\", \"fear\", \"remorse\"]\n",
    "desired_arists = [\n",
    "    \"ed_sheeran\",\n",
    "    \"metallica\",\n",
    "    \"billie_eilish\",\n",
    "    \"pinkfloyd\",\n",
    "    \"taylor_swift\",\n",
    "    \"kanye_west\",\n",
    "]\n",
    "grouped = data.groupby([\"emotion\", \"channel\"]).size().reset_index(name=\"count\")\n",
    "\n",
    "grouped = grouped.loc[grouped[\"emotion\"].isin(desired_emotions)]\n",
    "grouped = grouped.loc[grouped[\"channel\"].isin(desired_arists)]\n",
    "source_total = grouped.groupby(\"emotion\")[\"count\"].transform(\"sum\")\n",
    "\n",
    "grouped[\"percentage\"] = (grouped[\"count\"] / source_total) * 100\n",
    "grouped = grouped.sort_values(by=\"percentage\", ascending=False)\n",
    "\n",
    "fig = px.histogram(\n",
    "    grouped,\n",
    "    x=\"emotion\",\n",
    "    y=\"percentage\",\n",
    "    color=\"channel\",\n",
    "    barmode=\"group\",\n",
    "    height=500,\n",
    "    width=1400,\n",
    ")\n",
    "fig.update_layout(title=dict(font=dict(size=100), automargin=True, yref=\"paper\"))\n",
    "fig.show()"
   ]
  },
  {
   "cell_type": "markdown",
   "metadata": {},
   "source": [
    "By genre, comparison of emotions for each artist"
   ]
  },
  {
   "cell_type": "code",
   "execution_count": 31,
   "metadata": {},
   "outputs": [
    {
     "data": {
      "application/vnd.plotly.v1+json": {
       "config": {
        "plotlyServerURL": "https://plot.ly"
       },
       "data": [
        {
         "alignmentgroup": "True",
         "bingroup": "x",
         "histfunc": "sum",
         "hovertemplate": "emotion=admiration<br>channel=%{x}<br>sum of percentage=%{y}<extra></extra>",
         "legendgroup": "admiration",
         "marker": {
          "color": "rgb(179,226,205)",
          "pattern": {
           "shape": ""
          }
         },
         "name": "admiration",
         "offsetgroup": "admiration",
         "orientation": "v",
         "showlegend": true,
         "type": "histogram",
         "x": [
          "ledzeppelin",
          "queen",
          "bonjovi",
          "pinkfloyd",
          "thebeatles",
          "systemofadown",
          "thebeatles",
          "systemofadown",
          "pinkfloyd",
          "bonjovi"
         ],
         "xaxis": "x",
         "y": [
          43.40159271899886,
          36.88670829616414,
          30.269266480965644,
          25.1187648456057,
          16.38163816381638,
          14.333333333333334,
          10.171017101710172,
          3.6666666666666665,
          1.9002375296912115,
          1.4856081708449396
         ],
         "yaxis": "y"
        },
        {
         "alignmentgroup": "True",
         "bingroup": "x",
         "histfunc": "sum",
         "hovertemplate": "emotion=love<br>channel=%{x}<br>sum of percentage=%{y}<extra></extra>",
         "legendgroup": "love",
         "marker": {
          "color": "#FF97FF",
          "pattern": {
           "shape": ""
          }
         },
         "name": "love",
         "offsetgroup": "love",
         "orientation": "v",
         "showlegend": true,
         "type": "histogram",
         "x": [
          "bonjovi",
          "queen",
          "ledzeppelin",
          "systemofadown",
          "pinkfloyd",
          "thebeatles",
          "thebeatles",
          "pinkfloyd",
          "systemofadown",
          "bonjovi"
         ],
         "xaxis": "x",
         "y": [
          21.262766945218196,
          17.662801070472792,
          12.85551763367463,
          10.833333333333334,
          10.21377672209026,
          7.065706570657065,
          6.615661566156615,
          3.800475059382423,
          2,
          1.2070566388115136
         ],
         "yaxis": "y"
        },
        {
         "alignmentgroup": "True",
         "bingroup": "x",
         "histfunc": "sum",
         "hovertemplate": "emotion=gratitude<br>channel=%{x}<br>sum of percentage=%{y}<extra></extra>",
         "legendgroup": "gratitude",
         "marker": {
          "color": "#FECB52",
          "pattern": {
           "shape": ""
          }
         },
         "name": "gratitude",
         "offsetgroup": "gratitude",
         "orientation": "v",
         "showlegend": true,
         "type": "histogram",
         "x": [
          "systemofadown",
          "queen",
          "bonjovi",
          "thebeatles",
          "ledzeppelin",
          "pinkfloyd",
          "thebeatles",
          "pinkfloyd",
          "systemofadown",
          "bonjovi"
         ],
         "xaxis": "x",
         "y": [
          13.333333333333334,
          9.946476360392506,
          9.656453110492109,
          8.505850585058505,
          7.451649601820249,
          6.591448931116389,
          1.5751575157515751,
          0.8907363420427553,
          0.8333333333333334,
          0.3714020427112349
         ],
         "yaxis": "y"
        },
        {
         "alignmentgroup": "True",
         "bingroup": "x",
         "histfunc": "sum",
         "hovertemplate": "emotion=caring<br>channel=%{x}<br>sum of percentage=%{y}<extra></extra>",
         "legendgroup": "caring",
         "marker": {
          "color": "rgb(230,245,201)",
          "pattern": {
           "shape": ""
          }
         },
         "name": "caring",
         "offsetgroup": "caring",
         "orientation": "v",
         "showlegend": true,
         "type": "histogram",
         "x": [
          "systemofadown",
          "bonjovi",
          "thebeatles",
          "queen",
          "ledzeppelin",
          "pinkfloyd",
          "thebeatles",
          "bonjovi",
          "systemofadown"
         ],
         "xaxis": "x",
         "y": [
          8.083333333333332,
          2.5998142989786444,
          2.295229522952295,
          1.4272970561998217,
          0.7394766780432309,
          0.5938242280285035,
          0.22502250225022502,
          0.18570102135561745,
          0.16666666666666669
         ],
         "yaxis": "y"
        },
        {
         "alignmentgroup": "True",
         "bingroup": "x",
         "histfunc": "sum",
         "hovertemplate": "emotion=sadness<br>channel=%{x}<br>sum of percentage=%{y}<extra></extra>",
         "legendgroup": "sadness",
         "marker": {
          "color": "#636efa",
          "pattern": {
           "shape": ""
          }
         },
         "name": "sadness",
         "offsetgroup": "sadness",
         "orientation": "v",
         "showlegend": true,
         "type": "histogram",
         "x": [
          "systemofadown",
          "pinkfloyd",
          "queen",
          "bonjovi",
          "pinkfloyd",
          "ledzeppelin",
          "thebeatles",
          "thebeatles",
          "bonjovi",
          "systemofadown"
         ],
         "xaxis": "x",
         "y": [
          7.083333333333333,
          6.65083135391924,
          5.664585191793042,
          5.571030640668524,
          5.403800475059382,
          5.290102389078498,
          2.8802880288028803,
          2.8352835283528353,
          0.3714020427112349,
          0.08333333333333334
         ],
         "yaxis": "y"
        },
        {
         "alignmentgroup": "True",
         "bingroup": "x",
         "histfunc": "sum",
         "hovertemplate": "emotion=desire<br>channel=%{x}<br>sum of percentage=%{y}<extra></extra>",
         "legendgroup": "desire",
         "marker": {
          "color": "rgb(204,204,204)",
          "pattern": {
           "shape": ""
          }
         },
         "name": "desire",
         "offsetgroup": "desire",
         "orientation": "v",
         "showlegend": true,
         "type": "histogram",
         "x": [
          "pinkfloyd",
          "systemofadown",
          "queen",
          "pinkfloyd",
          "ledzeppelin",
          "bonjovi",
          "thebeatles",
          "thebeatles",
          "systemofadown",
          "bonjovi"
         ],
         "xaxis": "x",
         "y": [
          6.0570071258907365,
          4.666666666666667,
          3.3452274754683318,
          3.32541567695962,
          2.04778156996587,
          2.042711234911792,
          1.5751575157515751,
          1.3051305130513051,
          0.33333333333333337,
          0.18570102135561745
         ],
         "yaxis": "y"
        },
        {
         "alignmentgroup": "True",
         "bingroup": "x",
         "histfunc": "sum",
         "hovertemplate": "emotion=excitement<br>channel=%{x}<br>sum of percentage=%{y}<extra></extra>",
         "legendgroup": "excitement",
         "marker": {
          "color": "#EF553B",
          "pattern": {
           "shape": ""
          }
         },
         "name": "excitement",
         "offsetgroup": "excitement",
         "orientation": "v",
         "showlegend": true,
         "type": "histogram",
         "x": [
          "thebeatles",
          "pinkfloyd",
          "systemofadown",
          "queen",
          "ledzeppelin",
          "bonjovi",
          "thebeatles",
          "systemofadown",
          "pinkfloyd"
         ],
         "xaxis": "x",
         "y": [
          5.265526552655266,
          2.0783847980997625,
          1.7500000000000002,
          1.694915254237288,
          1.5358361774744027,
          1.392757660167131,
          0.8100810081008101,
          0.25,
          0.05938242280285036
         ],
         "yaxis": "y"
        },
        {
         "alignmentgroup": "True",
         "bingroup": "x",
         "histfunc": "sum",
         "hovertemplate": "emotion=optimism<br>channel=%{x}<br>sum of percentage=%{y}<extra></extra>",
         "legendgroup": "optimism",
         "marker": {
          "color": "#00cc96",
          "pattern": {
           "shape": ""
          }
         },
         "name": "optimism",
         "offsetgroup": "optimism",
         "orientation": "v",
         "showlegend": true,
         "type": "histogram",
         "x": [
          "systemofadown",
          "bonjovi",
          "thebeatles",
          "pinkfloyd",
          "queen",
          "ledzeppelin",
          "thebeatles",
          "pinkfloyd",
          "bonjovi",
          "systemofadown"
         ],
         "xaxis": "x",
         "y": [
          4.916666666666666,
          2.971216341689879,
          2.25022502250225,
          1.72209026128266,
          1.650312221231044,
          1.3651877133105803,
          0.54005400540054,
          0.23752969121140144,
          0.18570102135561745,
          0.08333333333333334
         ],
         "yaxis": "y"
        },
        {
         "alignmentgroup": "True",
         "bingroup": "x",
         "histfunc": "sum",
         "hovertemplate": "emotion=joy<br>channel=%{x}<br>sum of percentage=%{y}<extra></extra>",
         "legendgroup": "joy",
         "marker": {
          "color": "#ab63fa",
          "pattern": {
           "shape": ""
          }
         },
         "name": "joy",
         "offsetgroup": "joy",
         "orientation": "v",
         "showlegend": true,
         "type": "histogram",
         "x": [
          "ledzeppelin",
          "systemofadown",
          "thebeatles",
          "bonjovi",
          "queen",
          "pinkfloyd",
          "thebeatles",
          "bonjovi",
          "pinkfloyd",
          "systemofadown"
         ],
         "xaxis": "x",
         "y": [
          4.835039817974971,
          4.75,
          4.23042304230423,
          3.1569173630454963,
          2.8991971454058874,
          2.6128266033254155,
          2.205220522052205,
          0.5571030640668524,
          0.5344418052256532,
          0.33333333333333337
         ],
         "yaxis": "y"
        },
        {
         "alignmentgroup": "True",
         "bingroup": "x",
         "histfunc": "sum",
         "hovertemplate": "emotion=disappointment<br>channel=%{x}<br>sum of percentage=%{y}<extra></extra>",
         "legendgroup": "disappointment",
         "marker": {
          "color": "#FFA15A",
          "pattern": {
           "shape": ""
          }
         },
         "name": "disappointment",
         "offsetgroup": "disappointment",
         "orientation": "v",
         "showlegend": true,
         "type": "histogram",
         "x": [
          "pinkfloyd",
          "bonjovi",
          "queen",
          "thebeatles",
          "ledzeppelin",
          "systemofadown",
          "thebeatles",
          "pinkfloyd"
         ],
         "xaxis": "x",
         "y": [
          4.275534441805226,
          3.5283194057567315,
          3.479036574487065,
          3.4203420342034203,
          3.299203640500569,
          2.3333333333333335,
          0.585058505850585,
          0.4156769596199525
         ],
         "yaxis": "y"
        },
        {
         "alignmentgroup": "True",
         "bingroup": "x",
         "histfunc": "sum",
         "hovertemplate": "emotion=approval<br>channel=%{x}<br>sum of percentage=%{y}<extra></extra>",
         "legendgroup": "approval",
         "marker": {
          "color": "rgb(244,202,228)",
          "pattern": {
           "shape": ""
          }
         },
         "name": "approval",
         "offsetgroup": "approval",
         "orientation": "v",
         "showlegend": true,
         "type": "histogram",
         "x": [
          "ledzeppelin",
          "pinkfloyd",
          "queen",
          "systemofadown",
          "thebeatles",
          "bonjovi",
          "systemofadown",
          "bonjovi",
          "thebeatles",
          "pinkfloyd"
         ],
         "xaxis": "x",
         "y": [
          3.35608646188851,
          3.2066508313539197,
          2.4531668153434434,
          2.3333333333333335,
          1.6651665166516652,
          1.4856081708449396,
          0.6666666666666667,
          0.4642525533890436,
          0.45004500450045004,
          0.17814726840855108
         ],
         "yaxis": "y"
        },
        {
         "alignmentgroup": "True",
         "bingroup": "x",
         "histfunc": "sum",
         "hovertemplate": "emotion=curiosity<br>channel=%{x}<br>sum of percentage=%{y}<extra></extra>",
         "legendgroup": "curiosity",
         "marker": {
          "color": "rgb(241,226,204)",
          "pattern": {
           "shape": ""
          }
         },
         "name": "curiosity",
         "offsetgroup": "curiosity",
         "orientation": "v",
         "showlegend": true,
         "type": "histogram",
         "x": [
          "systemofadown",
          "ledzeppelin",
          "systemofadown",
          "pinkfloyd",
          "thebeatles",
          "thebeatles",
          "queen",
          "bonjovi",
          "pinkfloyd"
         ],
         "xaxis": "x",
         "y": [
          3.25,
          1.877133105802048,
          1.6666666666666667,
          1.5439429928741093,
          1.5301530153015301,
          1.3951395139513951,
          0.936663693131133,
          0.6499535747446611,
          0.4750593824228029
         ],
         "yaxis": "y"
        },
        {
         "alignmentgroup": "True",
         "bingroup": "x",
         "histfunc": "sum",
         "hovertemplate": "emotion=confusion<br>channel=%{x}<br>sum of percentage=%{y}<extra></extra>",
         "legendgroup": "confusion",
         "marker": {
          "color": "rgb(255,242,174)",
          "pattern": {
           "shape": ""
          }
         },
         "name": "confusion",
         "offsetgroup": "confusion",
         "orientation": "v",
         "showlegend": true,
         "type": "histogram",
         "x": [
          "ledzeppelin",
          "queen",
          "thebeatles",
          "pinkfloyd",
          "bonjovi",
          "thebeatles",
          "systemofadown",
          "systemofadown",
          "pinkfloyd"
         ],
         "xaxis": "x",
         "y": [
          2.3321956769055743,
          1.9625334522747548,
          1.4851485148514851,
          1.4845605700712587,
          1.392757660167131,
          0.8550855085508551,
          0.8333333333333334,
          0.16666666666666669,
          0.05938242280285036
         ],
         "yaxis": "y"
        },
        {
         "alignmentgroup": "True",
         "bingroup": "x",
         "histfunc": "sum",
         "hovertemplate": "emotion=disapproval<br>channel=%{x}<br>sum of percentage=%{y}<extra></extra>",
         "legendgroup": "disapproval",
         "marker": {
          "color": "#19d3f3",
          "pattern": {
           "shape": ""
          }
         },
         "name": "disapproval",
         "offsetgroup": "disapproval",
         "orientation": "v",
         "showlegend": true,
         "type": "histogram",
         "x": [
          "pinkfloyd",
          "bonjovi",
          "systemofadown",
          "thebeatles",
          "queen",
          "ledzeppelin",
          "thebeatles",
          "pinkfloyd",
          "systemofadown"
         ],
         "xaxis": "x",
         "y": [
          2.137767220902613,
          1.8570102135561743,
          1.5833333333333335,
          1.3951395139513951,
          1.3380909901873328,
          1.2514220705346986,
          0.40504050405040504,
          0.17814726840855108,
          0.16666666666666669
         ],
         "yaxis": "y"
        },
        {
         "alignmentgroup": "True",
         "bingroup": "x",
         "histfunc": "sum",
         "hovertemplate": "emotion=surprise<br>channel=%{x}<br>sum of percentage=%{y}<extra></extra>",
         "legendgroup": "surprise",
         "marker": {
          "color": "#FF6692",
          "pattern": {
           "shape": ""
          }
         },
         "name": "surprise",
         "offsetgroup": "surprise",
         "orientation": "v",
         "showlegend": true,
         "type": "histogram",
         "x": [
          "queen",
          "thebeatles",
          "ledzeppelin",
          "systemofadown",
          "pinkfloyd",
          "thebeatles",
          "bonjovi",
          "systemofadown",
          "pinkfloyd"
         ],
         "xaxis": "x",
         "y": [
          2.0517395182872438,
          1.935193519351935,
          1.877133105802048,
          1.0833333333333335,
          0.9501187648456058,
          0.585058505850585,
          0.5571030640668524,
          0.25,
          0.11876484560570072
         ],
         "yaxis": "y"
        },
        {
         "alignmentgroup": "True",
         "bingroup": "x",
         "histfunc": "sum",
         "hovertemplate": "emotion=annoyance<br>channel=%{x}<br>sum of percentage=%{y}<extra></extra>",
         "legendgroup": "annoyance",
         "marker": {
          "color": "rgb(203,213,232)",
          "pattern": {
           "shape": ""
          }
         },
         "name": "annoyance",
         "offsetgroup": "annoyance",
         "orientation": "v",
         "showlegend": true,
         "type": "histogram",
         "x": [
          "thebeatles",
          "pinkfloyd",
          "ledzeppelin",
          "bonjovi",
          "queen",
          "systemofadown",
          "thebeatles",
          "pinkfloyd"
         ],
         "xaxis": "x",
         "y": [
          1.8901890189018902,
          1.840855106888361,
          1.763367463026166,
          1.1142061281337048,
          0.9812667261373774,
          0.75,
          0.36003600360036003,
          0.11876484560570072
         ],
         "yaxis": "y"
        },
        {
         "alignmentgroup": "True",
         "bingroup": "x",
         "histfunc": "sum",
         "hovertemplate": "emotion=remorse<br>channel=%{x}<br>sum of percentage=%{y}<extra></extra>",
         "legendgroup": "remorse",
         "marker": {
          "color": "#B6E880",
          "pattern": {
           "shape": ""
          }
         },
         "name": "remorse",
         "offsetgroup": "remorse",
         "orientation": "v",
         "showlegend": true,
         "type": "histogram",
         "x": [
          "bonjovi",
          "queen",
          "ledzeppelin",
          "systemofadown",
          "pinkfloyd",
          "thebeatles",
          "thebeatles",
          "pinkfloyd"
         ],
         "xaxis": "x",
         "y": [
          1.8570102135561743,
          1.5611061552185548,
          1.5358361774744027,
          1.4166666666666665,
          0.831353919239905,
          0.54005400540054,
          0.27002700270027,
          0.05938242280285036
         ],
         "yaxis": "y"
        },
        {
         "alignmentgroup": "True",
         "bingroup": "x",
         "histfunc": "sum",
         "hovertemplate": "emotion=anger<br>channel=%{x}<br>sum of percentage=%{y}<extra></extra>",
         "legendgroup": "anger",
         "marker": {
          "color": "rgb(253,205,172)",
          "pattern": {
           "shape": ""
          }
         },
         "name": "anger",
         "offsetgroup": "anger",
         "orientation": "v",
         "showlegend": true,
         "type": "histogram",
         "x": [
          "systemofadown",
          "queen",
          "pinkfloyd",
          "ledzeppelin",
          "bonjovi",
          "thebeatles",
          "thebeatles",
          "bonjovi",
          "systemofadown"
         ],
         "xaxis": "x",
         "y": [
          1.8333333333333333,
          0.936663693131133,
          0.6532066508313539,
          0.5688282138794084,
          0.4642525533890436,
          0.31503150315031503,
          0.22502250225022502,
          0.09285051067780872,
          0.08333333333333334
         ],
         "yaxis": "y"
        },
        {
         "alignmentgroup": "True",
         "bingroup": "x",
         "histfunc": "sum",
         "hovertemplate": "emotion=amusement<br>channel=%{x}<br>sum of percentage=%{y}<extra></extra>",
         "legendgroup": "amusement",
         "marker": {
          "color": "#FF97FF",
          "pattern": {
           "shape": ""
          }
         },
         "name": "amusement",
         "offsetgroup": "amusement",
         "orientation": "v",
         "showlegend": true,
         "type": "histogram",
         "x": [
          "thebeatles",
          "queen",
          "ledzeppelin",
          "bonjovi",
          "pinkfloyd",
          "thebeatles",
          "systemofadown",
          "pinkfloyd",
          "systemofadown"
         ],
         "xaxis": "x",
         "y": [
          1.3951395139513951,
          1.159678858162355,
          1.0807736063708762,
          0.9285051067780872,
          0.7125890736342043,
          0.6750675067506751,
          0.4166666666666667,
          0.17814726840855108,
          0.08333333333333334
         ],
         "yaxis": "y"
        },
        {
         "alignmentgroup": "True",
         "bingroup": "x",
         "histfunc": "sum",
         "hovertemplate": "emotion=fear<br>channel=%{x}<br>sum of percentage=%{y}<extra></extra>",
         "legendgroup": "fear",
         "marker": {
          "color": "#FECB52",
          "pattern": {
           "shape": ""
          }
         },
         "name": "fear",
         "offsetgroup": "fear",
         "orientation": "v",
         "showlegend": true,
         "type": "histogram",
         "x": [
          "systemofadown",
          "queen",
          "pinkfloyd",
          "bonjovi",
          "thebeatles",
          "thebeatles",
          "ledzeppelin"
         ],
         "xaxis": "x",
         "y": [
          1.0833333333333335,
          0.7136485280999109,
          0.7125890736342043,
          0.4642525533890436,
          0.36003600360036003,
          0.135013501350135,
          0.05688282138794084
         ],
         "yaxis": "y"
        },
        {
         "alignmentgroup": "True",
         "bingroup": "x",
         "histfunc": "sum",
         "hovertemplate": "emotion=embarrassment<br>channel=%{x}<br>sum of percentage=%{y}<extra></extra>",
         "legendgroup": "embarrassment",
         "marker": {
          "color": "#636efa",
          "pattern": {
           "shape": ""
          }
         },
         "name": "embarrassment",
         "offsetgroup": "embarrassment",
         "orientation": "v",
         "showlegend": true,
         "type": "histogram",
         "x": [
          "bonjovi",
          "systemofadown",
          "ledzeppelin",
          "queen",
          "pinkfloyd",
          "thebeatles",
          "thebeatles"
         ],
         "xaxis": "x",
         "y": [
          0.9285051067780872,
          0.6666666666666667,
          0.6257110352673493,
          0.31222123104371097,
          0.29691211401425177,
          0.18001800180018002,
          0.045004500450045004
         ],
         "yaxis": "y"
        },
        {
         "alignmentgroup": "True",
         "bingroup": "x",
         "histfunc": "sum",
         "hovertemplate": "emotion=disgust<br>channel=%{x}<br>sum of percentage=%{y}<extra></extra>",
         "legendgroup": "disgust",
         "marker": {
          "color": "#EF553B",
          "pattern": {
           "shape": ""
          }
         },
         "name": "disgust",
         "offsetgroup": "disgust",
         "orientation": "v",
         "showlegend": true,
         "type": "histogram",
         "x": [
          "systemofadown",
          "pinkfloyd",
          "thebeatles",
          "queen",
          "bonjovi",
          "thebeatles",
          "systemofadown",
          "ledzeppelin"
         ],
         "xaxis": "x",
         "y": [
          0.9166666666666666,
          0.8907363420427553,
          0.45004500450045004,
          0.40142729705619984,
          0.18570102135561745,
          0.18001800180018002,
          0.08333333333333334,
          0.05688282138794084
         ],
         "yaxis": "y"
        },
        {
         "alignmentgroup": "True",
         "bingroup": "x",
         "histfunc": "sum",
         "hovertemplate": "emotion=realization<br>channel=%{x}<br>sum of percentage=%{y}<extra></extra>",
         "legendgroup": "realization",
         "marker": {
          "color": "#00cc96",
          "pattern": {
           "shape": ""
          }
         },
         "name": "realization",
         "offsetgroup": "realization",
         "orientation": "v",
         "showlegend": true,
         "type": "histogram",
         "x": [
          "ledzeppelin",
          "systemofadown",
          "queen",
          "pinkfloyd",
          "bonjovi",
          "thebeatles",
          "pinkfloyd",
          "systemofadown",
          "thebeatles"
         ],
         "xaxis": "x",
         "y": [
          0.7963594994311717,
          0.5833333333333334,
          0.535236396074933,
          0.4750593824228029,
          0.4642525533890436,
          0.45004500450045004,
          0.4156769596199525,
          0.08333333333333334,
          0.045004500450045004
         ],
         "yaxis": "y"
        },
        {
         "alignmentgroup": "True",
         "bingroup": "x",
         "histfunc": "sum",
         "hovertemplate": "emotion=nervousness<br>channel=%{x}<br>sum of percentage=%{y}<extra></extra>",
         "legendgroup": "nervousness",
         "marker": {
          "color": "#ab63fa",
          "pattern": {
           "shape": ""
          }
         },
         "name": "nervousness",
         "offsetgroup": "nervousness",
         "orientation": "v",
         "showlegend": true,
         "type": "histogram",
         "x": [
          "systemofadown",
          "bonjovi",
          "thebeatles"
         ],
         "xaxis": "x",
         "y": [
          0.16666666666666669,
          0.09285051067780872,
          0.045004500450045004
         ],
         "yaxis": "y"
        }
       ],
       "layout": {
        "barmode": "group",
        "height": 400,
        "legend": {
         "title": {
          "text": "emotion"
         },
         "tracegroupgap": 0
        },
        "margin": {
         "t": 60
        },
        "template": {
         "data": {
          "bar": [
           {
            "error_x": {
             "color": "#2a3f5f"
            },
            "error_y": {
             "color": "#2a3f5f"
            },
            "marker": {
             "line": {
              "color": "#E5ECF6",
              "width": 0.5
             },
             "pattern": {
              "fillmode": "overlay",
              "size": 10,
              "solidity": 0.2
             }
            },
            "type": "bar"
           }
          ],
          "barpolar": [
           {
            "marker": {
             "line": {
              "color": "#E5ECF6",
              "width": 0.5
             },
             "pattern": {
              "fillmode": "overlay",
              "size": 10,
              "solidity": 0.2
             }
            },
            "type": "barpolar"
           }
          ],
          "carpet": [
           {
            "aaxis": {
             "endlinecolor": "#2a3f5f",
             "gridcolor": "white",
             "linecolor": "white",
             "minorgridcolor": "white",
             "startlinecolor": "#2a3f5f"
            },
            "baxis": {
             "endlinecolor": "#2a3f5f",
             "gridcolor": "white",
             "linecolor": "white",
             "minorgridcolor": "white",
             "startlinecolor": "#2a3f5f"
            },
            "type": "carpet"
           }
          ],
          "choropleth": [
           {
            "colorbar": {
             "outlinewidth": 0,
             "ticks": ""
            },
            "type": "choropleth"
           }
          ],
          "contour": [
           {
            "colorbar": {
             "outlinewidth": 0,
             "ticks": ""
            },
            "colorscale": [
             [
              0,
              "#0d0887"
             ],
             [
              0.1111111111111111,
              "#46039f"
             ],
             [
              0.2222222222222222,
              "#7201a8"
             ],
             [
              0.3333333333333333,
              "#9c179e"
             ],
             [
              0.4444444444444444,
              "#bd3786"
             ],
             [
              0.5555555555555556,
              "#d8576b"
             ],
             [
              0.6666666666666666,
              "#ed7953"
             ],
             [
              0.7777777777777778,
              "#fb9f3a"
             ],
             [
              0.8888888888888888,
              "#fdca26"
             ],
             [
              1,
              "#f0f921"
             ]
            ],
            "type": "contour"
           }
          ],
          "contourcarpet": [
           {
            "colorbar": {
             "outlinewidth": 0,
             "ticks": ""
            },
            "type": "contourcarpet"
           }
          ],
          "heatmap": [
           {
            "colorbar": {
             "outlinewidth": 0,
             "ticks": ""
            },
            "colorscale": [
             [
              0,
              "#0d0887"
             ],
             [
              0.1111111111111111,
              "#46039f"
             ],
             [
              0.2222222222222222,
              "#7201a8"
             ],
             [
              0.3333333333333333,
              "#9c179e"
             ],
             [
              0.4444444444444444,
              "#bd3786"
             ],
             [
              0.5555555555555556,
              "#d8576b"
             ],
             [
              0.6666666666666666,
              "#ed7953"
             ],
             [
              0.7777777777777778,
              "#fb9f3a"
             ],
             [
              0.8888888888888888,
              "#fdca26"
             ],
             [
              1,
              "#f0f921"
             ]
            ],
            "type": "heatmap"
           }
          ],
          "heatmapgl": [
           {
            "colorbar": {
             "outlinewidth": 0,
             "ticks": ""
            },
            "colorscale": [
             [
              0,
              "#0d0887"
             ],
             [
              0.1111111111111111,
              "#46039f"
             ],
             [
              0.2222222222222222,
              "#7201a8"
             ],
             [
              0.3333333333333333,
              "#9c179e"
             ],
             [
              0.4444444444444444,
              "#bd3786"
             ],
             [
              0.5555555555555556,
              "#d8576b"
             ],
             [
              0.6666666666666666,
              "#ed7953"
             ],
             [
              0.7777777777777778,
              "#fb9f3a"
             ],
             [
              0.8888888888888888,
              "#fdca26"
             ],
             [
              1,
              "#f0f921"
             ]
            ],
            "type": "heatmapgl"
           }
          ],
          "histogram": [
           {
            "marker": {
             "pattern": {
              "fillmode": "overlay",
              "size": 10,
              "solidity": 0.2
             }
            },
            "type": "histogram"
           }
          ],
          "histogram2d": [
           {
            "colorbar": {
             "outlinewidth": 0,
             "ticks": ""
            },
            "colorscale": [
             [
              0,
              "#0d0887"
             ],
             [
              0.1111111111111111,
              "#46039f"
             ],
             [
              0.2222222222222222,
              "#7201a8"
             ],
             [
              0.3333333333333333,
              "#9c179e"
             ],
             [
              0.4444444444444444,
              "#bd3786"
             ],
             [
              0.5555555555555556,
              "#d8576b"
             ],
             [
              0.6666666666666666,
              "#ed7953"
             ],
             [
              0.7777777777777778,
              "#fb9f3a"
             ],
             [
              0.8888888888888888,
              "#fdca26"
             ],
             [
              1,
              "#f0f921"
             ]
            ],
            "type": "histogram2d"
           }
          ],
          "histogram2dcontour": [
           {
            "colorbar": {
             "outlinewidth": 0,
             "ticks": ""
            },
            "colorscale": [
             [
              0,
              "#0d0887"
             ],
             [
              0.1111111111111111,
              "#46039f"
             ],
             [
              0.2222222222222222,
              "#7201a8"
             ],
             [
              0.3333333333333333,
              "#9c179e"
             ],
             [
              0.4444444444444444,
              "#bd3786"
             ],
             [
              0.5555555555555556,
              "#d8576b"
             ],
             [
              0.6666666666666666,
              "#ed7953"
             ],
             [
              0.7777777777777778,
              "#fb9f3a"
             ],
             [
              0.8888888888888888,
              "#fdca26"
             ],
             [
              1,
              "#f0f921"
             ]
            ],
            "type": "histogram2dcontour"
           }
          ],
          "mesh3d": [
           {
            "colorbar": {
             "outlinewidth": 0,
             "ticks": ""
            },
            "type": "mesh3d"
           }
          ],
          "parcoords": [
           {
            "line": {
             "colorbar": {
              "outlinewidth": 0,
              "ticks": ""
             }
            },
            "type": "parcoords"
           }
          ],
          "pie": [
           {
            "automargin": true,
            "type": "pie"
           }
          ],
          "scatter": [
           {
            "fillpattern": {
             "fillmode": "overlay",
             "size": 10,
             "solidity": 0.2
            },
            "type": "scatter"
           }
          ],
          "scatter3d": [
           {
            "line": {
             "colorbar": {
              "outlinewidth": 0,
              "ticks": ""
             }
            },
            "marker": {
             "colorbar": {
              "outlinewidth": 0,
              "ticks": ""
             }
            },
            "type": "scatter3d"
           }
          ],
          "scattercarpet": [
           {
            "marker": {
             "colorbar": {
              "outlinewidth": 0,
              "ticks": ""
             }
            },
            "type": "scattercarpet"
           }
          ],
          "scattergeo": [
           {
            "marker": {
             "colorbar": {
              "outlinewidth": 0,
              "ticks": ""
             }
            },
            "type": "scattergeo"
           }
          ],
          "scattergl": [
           {
            "marker": {
             "colorbar": {
              "outlinewidth": 0,
              "ticks": ""
             }
            },
            "type": "scattergl"
           }
          ],
          "scattermapbox": [
           {
            "marker": {
             "colorbar": {
              "outlinewidth": 0,
              "ticks": ""
             }
            },
            "type": "scattermapbox"
           }
          ],
          "scatterpolar": [
           {
            "marker": {
             "colorbar": {
              "outlinewidth": 0,
              "ticks": ""
             }
            },
            "type": "scatterpolar"
           }
          ],
          "scatterpolargl": [
           {
            "marker": {
             "colorbar": {
              "outlinewidth": 0,
              "ticks": ""
             }
            },
            "type": "scatterpolargl"
           }
          ],
          "scatterternary": [
           {
            "marker": {
             "colorbar": {
              "outlinewidth": 0,
              "ticks": ""
             }
            },
            "type": "scatterternary"
           }
          ],
          "surface": [
           {
            "colorbar": {
             "outlinewidth": 0,
             "ticks": ""
            },
            "colorscale": [
             [
              0,
              "#0d0887"
             ],
             [
              0.1111111111111111,
              "#46039f"
             ],
             [
              0.2222222222222222,
              "#7201a8"
             ],
             [
              0.3333333333333333,
              "#9c179e"
             ],
             [
              0.4444444444444444,
              "#bd3786"
             ],
             [
              0.5555555555555556,
              "#d8576b"
             ],
             [
              0.6666666666666666,
              "#ed7953"
             ],
             [
              0.7777777777777778,
              "#fb9f3a"
             ],
             [
              0.8888888888888888,
              "#fdca26"
             ],
             [
              1,
              "#f0f921"
             ]
            ],
            "type": "surface"
           }
          ],
          "table": [
           {
            "cells": {
             "fill": {
              "color": "#EBF0F8"
             },
             "line": {
              "color": "white"
             }
            },
            "header": {
             "fill": {
              "color": "#C8D4E3"
             },
             "line": {
              "color": "white"
             }
            },
            "type": "table"
           }
          ]
         },
         "layout": {
          "annotationdefaults": {
           "arrowcolor": "#2a3f5f",
           "arrowhead": 0,
           "arrowwidth": 1
          },
          "autotypenumbers": "strict",
          "coloraxis": {
           "colorbar": {
            "outlinewidth": 0,
            "ticks": ""
           }
          },
          "colorscale": {
           "diverging": [
            [
             0,
             "#8e0152"
            ],
            [
             0.1,
             "#c51b7d"
            ],
            [
             0.2,
             "#de77ae"
            ],
            [
             0.3,
             "#f1b6da"
            ],
            [
             0.4,
             "#fde0ef"
            ],
            [
             0.5,
             "#f7f7f7"
            ],
            [
             0.6,
             "#e6f5d0"
            ],
            [
             0.7,
             "#b8e186"
            ],
            [
             0.8,
             "#7fbc41"
            ],
            [
             0.9,
             "#4d9221"
            ],
            [
             1,
             "#276419"
            ]
           ],
           "sequential": [
            [
             0,
             "#0d0887"
            ],
            [
             0.1111111111111111,
             "#46039f"
            ],
            [
             0.2222222222222222,
             "#7201a8"
            ],
            [
             0.3333333333333333,
             "#9c179e"
            ],
            [
             0.4444444444444444,
             "#bd3786"
            ],
            [
             0.5555555555555556,
             "#d8576b"
            ],
            [
             0.6666666666666666,
             "#ed7953"
            ],
            [
             0.7777777777777778,
             "#fb9f3a"
            ],
            [
             0.8888888888888888,
             "#fdca26"
            ],
            [
             1,
             "#f0f921"
            ]
           ],
           "sequentialminus": [
            [
             0,
             "#0d0887"
            ],
            [
             0.1111111111111111,
             "#46039f"
            ],
            [
             0.2222222222222222,
             "#7201a8"
            ],
            [
             0.3333333333333333,
             "#9c179e"
            ],
            [
             0.4444444444444444,
             "#bd3786"
            ],
            [
             0.5555555555555556,
             "#d8576b"
            ],
            [
             0.6666666666666666,
             "#ed7953"
            ],
            [
             0.7777777777777778,
             "#fb9f3a"
            ],
            [
             0.8888888888888888,
             "#fdca26"
            ],
            [
             1,
             "#f0f921"
            ]
           ]
          },
          "colorway": [
           "#636efa",
           "#EF553B",
           "#00cc96",
           "#ab63fa",
           "#FFA15A",
           "#19d3f3",
           "#FF6692",
           "#B6E880",
           "#FF97FF",
           "#FECB52"
          ],
          "font": {
           "color": "#2a3f5f"
          },
          "geo": {
           "bgcolor": "white",
           "lakecolor": "white",
           "landcolor": "#E5ECF6",
           "showlakes": true,
           "showland": true,
           "subunitcolor": "white"
          },
          "hoverlabel": {
           "align": "left"
          },
          "hovermode": "closest",
          "mapbox": {
           "style": "light"
          },
          "paper_bgcolor": "white",
          "plot_bgcolor": "#E5ECF6",
          "polar": {
           "angularaxis": {
            "gridcolor": "white",
            "linecolor": "white",
            "ticks": ""
           },
           "bgcolor": "#E5ECF6",
           "radialaxis": {
            "gridcolor": "white",
            "linecolor": "white",
            "ticks": ""
           }
          },
          "scene": {
           "xaxis": {
            "backgroundcolor": "#E5ECF6",
            "gridcolor": "white",
            "gridwidth": 2,
            "linecolor": "white",
            "showbackground": true,
            "ticks": "",
            "zerolinecolor": "white"
           },
           "yaxis": {
            "backgroundcolor": "#E5ECF6",
            "gridcolor": "white",
            "gridwidth": 2,
            "linecolor": "white",
            "showbackground": true,
            "ticks": "",
            "zerolinecolor": "white"
           },
           "zaxis": {
            "backgroundcolor": "#E5ECF6",
            "gridcolor": "white",
            "gridwidth": 2,
            "linecolor": "white",
            "showbackground": true,
            "ticks": "",
            "zerolinecolor": "white"
           }
          },
          "shapedefaults": {
           "line": {
            "color": "#2a3f5f"
           }
          },
          "ternary": {
           "aaxis": {
            "gridcolor": "white",
            "linecolor": "white",
            "ticks": ""
           },
           "baxis": {
            "gridcolor": "white",
            "linecolor": "white",
            "ticks": ""
           },
           "bgcolor": "#E5ECF6",
           "caxis": {
            "gridcolor": "white",
            "linecolor": "white",
            "ticks": ""
           }
          },
          "title": {
           "x": 0.05
          },
          "xaxis": {
           "automargin": true,
           "gridcolor": "white",
           "linecolor": "white",
           "ticks": "",
           "title": {
            "standoff": 15
           },
           "zerolinecolor": "white",
           "zerolinewidth": 2
          },
          "yaxis": {
           "automargin": true,
           "gridcolor": "white",
           "linecolor": "white",
           "ticks": "",
           "title": {
            "standoff": 15
           },
           "zerolinecolor": "white",
           "zerolinewidth": 2
          }
         }
        },
        "title": {
         "text": "rock"
        },
        "xaxis": {
         "anchor": "y",
         "domain": [
          0,
          1
         ],
         "title": {
          "text": "Artist"
         }
        },
        "yaxis": {
         "anchor": "x",
         "domain": [
          0,
          1
         ],
         "title": {
          "text": "Percentage of comments"
         }
        }
       }
      }
     },
     "metadata": {},
     "output_type": "display_data"
    },
    {
     "data": {
      "application/vnd.plotly.v1+json": {
       "config": {
        "plotlyServerURL": "https://plot.ly"
       },
       "data": [
        {
         "alignmentgroup": "True",
         "bingroup": "x",
         "histfunc": "sum",
         "hovertemplate": "emotion=gratitude<br>channel=%{x}<br>sum of percentage=%{y}<extra></extra>",
         "legendgroup": "gratitude",
         "marker": {
          "color": "#FF97FF",
          "pattern": {
           "shape": ""
          }
         },
         "name": "gratitude",
         "offsetgroup": "gratitude",
         "orientation": "v",
         "showlegend": true,
         "type": "histogram",
         "x": [
          "kirk fletcher",
          "kaleo",
          "raycharles",
          "tylerbryant&theshakedown",
          "marcusking"
         ],
         "xaxis": "x",
         "y": [
          40.09661835748793,
          11.013215859030836,
          8,
          5.555555555555555,
          4.166666666666666
         ],
         "yaxis": "y"
        },
        {
         "alignmentgroup": "True",
         "bingroup": "x",
         "histfunc": "sum",
         "hovertemplate": "emotion=admiration<br>channel=%{x}<br>sum of percentage=%{y}<extra></extra>",
         "legendgroup": "admiration",
         "marker": {
          "color": "rgb(179,226,205)",
          "pattern": {
           "shape": ""
          }
         },
         "name": "admiration",
         "offsetgroup": "admiration",
         "orientation": "v",
         "showlegend": true,
         "type": "histogram",
         "x": [
          "raycharles",
          "marcusking",
          "tylerbryant&theshakedown",
          "kaleo",
          "kirk fletcher"
         ],
         "xaxis": "x",
         "y": [
          40,
          38.88888888888889,
          33.33333333333333,
          30.837004405286343,
          23.67149758454106
         ],
         "yaxis": "y"
        },
        {
         "alignmentgroup": "True",
         "bingroup": "x",
         "histfunc": "sum",
         "hovertemplate": "emotion=love<br>channel=%{x}<br>sum of percentage=%{y}<extra></extra>",
         "legendgroup": "love",
         "marker": {
          "color": "#FECB52",
          "pattern": {
           "shape": ""
          }
         },
         "name": "love",
         "offsetgroup": "love",
         "orientation": "v",
         "showlegend": true,
         "type": "histogram",
         "x": [
          "marcusking",
          "tylerbryant&theshakedown",
          "kaleo",
          "kirk fletcher",
          "raycharles"
         ],
         "xaxis": "x",
         "y": [
          31.944444444444443,
          16.666666666666664,
          15.859030837004406,
          12.560386473429952,
          8
         ],
         "yaxis": "y"
        },
        {
         "alignmentgroup": "True",
         "bingroup": "x",
         "histfunc": "sum",
         "hovertemplate": "emotion=sadness<br>channel=%{x}<br>sum of percentage=%{y}<extra></extra>",
         "legendgroup": "sadness",
         "marker": {
          "color": "#636efa",
          "pattern": {
           "shape": ""
          }
         },
         "name": "sadness",
         "offsetgroup": "sadness",
         "orientation": "v",
         "showlegend": true,
         "type": "histogram",
         "x": [
          "raycharles",
          "kaleo",
          "kirk fletcher"
         ],
         "xaxis": "x",
         "y": [
          16,
          6.607929515418502,
          0.4830917874396135
         ],
         "yaxis": "y"
        },
        {
         "alignmentgroup": "True",
         "bingroup": "x",
         "histfunc": "sum",
         "hovertemplate": "emotion=optimism<br>channel=%{x}<br>sum of percentage=%{y}<extra></extra>",
         "legendgroup": "optimism",
         "marker": {
          "color": "#EF553B",
          "pattern": {
           "shape": ""
          }
         },
         "name": "optimism",
         "offsetgroup": "optimism",
         "orientation": "v",
         "showlegend": true,
         "type": "histogram",
         "x": [
          "tylerbryant&theshakedown",
          "kaleo",
          "marcusking",
          "kirk fletcher"
         ],
         "xaxis": "x",
         "y": [
          13.88888888888889,
          4.405286343612335,
          2.7777777777777777,
          1.4492753623188406
         ],
         "yaxis": "y"
        },
        {
         "alignmentgroup": "True",
         "bingroup": "x",
         "histfunc": "sum",
         "hovertemplate": "emotion=realization<br>channel=%{x}<br>sum of percentage=%{y}<extra></extra>",
         "legendgroup": "realization",
         "marker": {
          "color": "#00cc96",
          "pattern": {
           "shape": ""
          }
         },
         "name": "realization",
         "offsetgroup": "realization",
         "orientation": "v",
         "showlegend": true,
         "type": "histogram",
         "x": [
          "raycharles",
          "kirk fletcher",
          "kaleo"
         ],
         "xaxis": "x",
         "y": [
          12,
          0.4830917874396135,
          0.4405286343612335
         ],
         "yaxis": "y"
        },
        {
         "alignmentgroup": "True",
         "bingroup": "x",
         "histfunc": "sum",
         "hovertemplate": "emotion=desire<br>channel=%{x}<br>sum of percentage=%{y}<extra></extra>",
         "legendgroup": "desire",
         "marker": {
          "color": "rgb(204,204,204)",
          "pattern": {
           "shape": ""
          }
         },
         "name": "desire",
         "offsetgroup": "desire",
         "orientation": "v",
         "showlegend": true,
         "type": "histogram",
         "x": [
          "tylerbryant&theshakedown",
          "kaleo",
          "kirk fletcher"
         ],
         "xaxis": "x",
         "y": [
          11.11111111111111,
          6.607929515418502,
          0.4830917874396135
         ],
         "yaxis": "y"
        },
        {
         "alignmentgroup": "True",
         "bingroup": "x",
         "histfunc": "sum",
         "hovertemplate": "emotion=disappointment<br>channel=%{x}<br>sum of percentage=%{y}<extra></extra>",
         "legendgroup": "disappointment",
         "marker": {
          "color": "#ab63fa",
          "pattern": {
           "shape": ""
          }
         },
         "name": "disappointment",
         "offsetgroup": "disappointment",
         "orientation": "v",
         "showlegend": true,
         "type": "histogram",
         "x": [
          "raycharles",
          "marcusking",
          "kaleo",
          "kirk fletcher"
         ],
         "xaxis": "x",
         "y": [
          8,
          5.555555555555555,
          1.3215859030837005,
          0.4830917874396135
         ],
         "yaxis": "y"
        },
        {
         "alignmentgroup": "True",
         "bingroup": "x",
         "histfunc": "sum",
         "hovertemplate": "emotion=curiosity<br>channel=%{x}<br>sum of percentage=%{y}<extra></extra>",
         "legendgroup": "curiosity",
         "marker": {
          "color": "rgb(241,226,204)",
          "pattern": {
           "shape": ""
          }
         },
         "name": "curiosity",
         "offsetgroup": "curiosity",
         "orientation": "v",
         "showlegend": true,
         "type": "histogram",
         "x": [
          "tylerbryant&theshakedown",
          "kirk fletcher",
          "kaleo"
         ],
         "xaxis": "x",
         "y": [
          5.555555555555555,
          4.3478260869565215,
          0.4405286343612335
         ],
         "yaxis": "y"
        },
        {
         "alignmentgroup": "True",
         "bingroup": "x",
         "histfunc": "sum",
         "hovertemplate": "emotion=confusion<br>channel=%{x}<br>sum of percentage=%{y}<extra></extra>",
         "legendgroup": "confusion",
         "marker": {
          "color": "rgb(255,242,174)",
          "pattern": {
           "shape": ""
          }
         },
         "name": "confusion",
         "offsetgroup": "confusion",
         "orientation": "v",
         "showlegend": true,
         "type": "histogram",
         "x": [
          "tylerbryant&theshakedown",
          "marcusking",
          "kaleo"
         ],
         "xaxis": "x",
         "y": [
          5.555555555555555,
          4.166666666666666,
          2.643171806167401
         ],
         "yaxis": "y"
        },
        {
         "alignmentgroup": "True",
         "bingroup": "x",
         "histfunc": "sum",
         "hovertemplate": "emotion=joy<br>channel=%{x}<br>sum of percentage=%{y}<extra></extra>",
         "legendgroup": "joy",
         "marker": {
          "color": "#FFA15A",
          "pattern": {
           "shape": ""
          }
         },
         "name": "joy",
         "offsetgroup": "joy",
         "orientation": "v",
         "showlegend": true,
         "type": "histogram",
         "x": [
          "tylerbryant&theshakedown",
          "kaleo",
          "kirk fletcher",
          "raycharles",
          "marcusking"
         ],
         "xaxis": "x",
         "y": [
          5.555555555555555,
          4.405286343612335,
          4.3478260869565215,
          4,
          1.3888888888888888
         ],
         "yaxis": "y"
        },
        {
         "alignmentgroup": "True",
         "bingroup": "x",
         "histfunc": "sum",
         "hovertemplate": "emotion=approval<br>channel=%{x}<br>sum of percentage=%{y}<extra></extra>",
         "legendgroup": "approval",
         "marker": {
          "color": "rgb(244,202,228)",
          "pattern": {
           "shape": ""
          }
         },
         "name": "approval",
         "offsetgroup": "approval",
         "orientation": "v",
         "showlegend": true,
         "type": "histogram",
         "x": [
          "kirk fletcher",
          "raycharles",
          "kaleo",
          "marcusking"
         ],
         "xaxis": "x",
         "y": [
          5.314009661835748,
          4,
          1.762114537444934,
          1.3888888888888888
         ],
         "yaxis": "y"
        },
        {
         "alignmentgroup": "True",
         "bingroup": "x",
         "histfunc": "sum",
         "hovertemplate": "emotion=excitement<br>channel=%{x}<br>sum of percentage=%{y}<extra></extra>",
         "legendgroup": "excitement",
         "marker": {
          "color": "#19d3f3",
          "pattern": {
           "shape": ""
          }
         },
         "name": "excitement",
         "offsetgroup": "excitement",
         "orientation": "v",
         "showlegend": true,
         "type": "histogram",
         "x": [
          "marcusking",
          "kaleo",
          "tylerbryant&theshakedown",
          "kirk fletcher"
         ],
         "xaxis": "x",
         "y": [
          4.166666666666666,
          3.0837004405286343,
          2.7777777777777777,
          0.966183574879227
         ],
         "yaxis": "y"
        },
        {
         "alignmentgroup": "True",
         "bingroup": "x",
         "histfunc": "sum",
         "hovertemplate": "emotion=caring<br>channel=%{x}<br>sum of percentage=%{y}<extra></extra>",
         "legendgroup": "caring",
         "marker": {
          "color": "rgb(230,245,201)",
          "pattern": {
           "shape": ""
          }
         },
         "name": "caring",
         "offsetgroup": "caring",
         "orientation": "v",
         "showlegend": true,
         "type": "histogram",
         "x": [
          "kirk fletcher",
          "kaleo"
         ],
         "xaxis": "x",
         "y": [
          2.898550724637681,
          1.762114537444934
         ],
         "yaxis": "y"
        },
        {
         "alignmentgroup": "True",
         "bingroup": "x",
         "histfunc": "sum",
         "hovertemplate": "emotion=annoyance<br>channel=%{x}<br>sum of percentage=%{y}<extra></extra>",
         "legendgroup": "annoyance",
         "marker": {
          "color": "rgb(203,213,232)",
          "pattern": {
           "shape": ""
          }
         },
         "name": "annoyance",
         "offsetgroup": "annoyance",
         "orientation": "v",
         "showlegend": true,
         "type": "histogram",
         "x": [
          "kaleo",
          "marcusking"
         ],
         "xaxis": "x",
         "y": [
          2.2026431718061676,
          1.3888888888888888
         ],
         "yaxis": "y"
        },
        {
         "alignmentgroup": "True",
         "bingroup": "x",
         "histfunc": "sum",
         "hovertemplate": "emotion=surprise<br>channel=%{x}<br>sum of percentage=%{y}<extra></extra>",
         "legendgroup": "surprise",
         "marker": {
          "color": "#FF6692",
          "pattern": {
           "shape": ""
          }
         },
         "name": "surprise",
         "offsetgroup": "surprise",
         "orientation": "v",
         "showlegend": true,
         "type": "histogram",
         "x": [
          "kaleo",
          "marcusking",
          "kirk fletcher"
         ],
         "xaxis": "x",
         "y": [
          2.2026431718061676,
          1.3888888888888888,
          0.4830917874396135
         ],
         "yaxis": "y"
        },
        {
         "alignmentgroup": "True",
         "bingroup": "x",
         "histfunc": "sum",
         "hovertemplate": "emotion=disapproval<br>channel=%{x}<br>sum of percentage=%{y}<extra></extra>",
         "legendgroup": "disapproval",
         "marker": {
          "color": "#B6E880",
          "pattern": {
           "shape": ""
          }
         },
         "name": "disapproval",
         "offsetgroup": "disapproval",
         "orientation": "v",
         "showlegend": true,
         "type": "histogram",
         "x": [
          "kaleo",
          "marcusking",
          "kirk fletcher"
         ],
         "xaxis": "x",
         "y": [
          1.762114537444934,
          1.3888888888888888,
          0.4830917874396135
         ],
         "yaxis": "y"
        },
        {
         "alignmentgroup": "True",
         "bingroup": "x",
         "histfunc": "sum",
         "hovertemplate": "emotion=remorse<br>channel=%{x}<br>sum of percentage=%{y}<extra></extra>",
         "legendgroup": "remorse",
         "marker": {
          "color": "#FF97FF",
          "pattern": {
           "shape": ""
          }
         },
         "name": "remorse",
         "offsetgroup": "remorse",
         "orientation": "v",
         "showlegend": true,
         "type": "histogram",
         "x": [
          "marcusking",
          "kaleo",
          "kirk fletcher"
         ],
         "xaxis": "x",
         "y": [
          1.3888888888888888,
          0.881057268722467,
          0.4830917874396135
         ],
         "yaxis": "y"
        },
        {
         "alignmentgroup": "True",
         "bingroup": "x",
         "histfunc": "sum",
         "hovertemplate": "emotion=amusement<br>channel=%{x}<br>sum of percentage=%{y}<extra></extra>",
         "legendgroup": "amusement",
         "marker": {
          "color": "#FECB52",
          "pattern": {
           "shape": ""
          }
         },
         "name": "amusement",
         "offsetgroup": "amusement",
         "orientation": "v",
         "showlegend": true,
         "type": "histogram",
         "x": [
          "kirk fletcher"
         ],
         "xaxis": "x",
         "y": [
          0.966183574879227
         ],
         "yaxis": "y"
        },
        {
         "alignmentgroup": "True",
         "bingroup": "x",
         "histfunc": "sum",
         "hovertemplate": "emotion=anger<br>channel=%{x}<br>sum of percentage=%{y}<extra></extra>",
         "legendgroup": "anger",
         "marker": {
          "color": "rgb(253,205,172)",
          "pattern": {
           "shape": ""
          }
         },
         "name": "anger",
         "offsetgroup": "anger",
         "orientation": "v",
         "showlegend": true,
         "type": "histogram",
         "x": [
          "kaleo"
         ],
         "xaxis": "x",
         "y": [
          0.881057268722467
         ],
         "yaxis": "y"
        },
        {
         "alignmentgroup": "True",
         "bingroup": "x",
         "histfunc": "sum",
         "hovertemplate": "emotion=embarrassment<br>channel=%{x}<br>sum of percentage=%{y}<extra></extra>",
         "legendgroup": "embarrassment",
         "marker": {
          "color": "#636efa",
          "pattern": {
           "shape": ""
          }
         },
         "name": "embarrassment",
         "offsetgroup": "embarrassment",
         "orientation": "v",
         "showlegend": true,
         "type": "histogram",
         "x": [
          "kaleo"
         ],
         "xaxis": "x",
         "y": [
          0.4405286343612335
         ],
         "yaxis": "y"
        },
        {
         "alignmentgroup": "True",
         "bingroup": "x",
         "histfunc": "sum",
         "hovertemplate": "emotion=disgust<br>channel=%{x}<br>sum of percentage=%{y}<extra></extra>",
         "legendgroup": "disgust",
         "marker": {
          "color": "#EF553B",
          "pattern": {
           "shape": ""
          }
         },
         "name": "disgust",
         "offsetgroup": "disgust",
         "orientation": "v",
         "showlegend": true,
         "type": "histogram",
         "x": [
          "kaleo"
         ],
         "xaxis": "x",
         "y": [
          0.4405286343612335
         ],
         "yaxis": "y"
        }
       ],
       "layout": {
        "barmode": "group",
        "height": 400,
        "legend": {
         "title": {
          "text": "emotion"
         },
         "tracegroupgap": 0
        },
        "margin": {
         "t": 60
        },
        "template": {
         "data": {
          "bar": [
           {
            "error_x": {
             "color": "#2a3f5f"
            },
            "error_y": {
             "color": "#2a3f5f"
            },
            "marker": {
             "line": {
              "color": "#E5ECF6",
              "width": 0.5
             },
             "pattern": {
              "fillmode": "overlay",
              "size": 10,
              "solidity": 0.2
             }
            },
            "type": "bar"
           }
          ],
          "barpolar": [
           {
            "marker": {
             "line": {
              "color": "#E5ECF6",
              "width": 0.5
             },
             "pattern": {
              "fillmode": "overlay",
              "size": 10,
              "solidity": 0.2
             }
            },
            "type": "barpolar"
           }
          ],
          "carpet": [
           {
            "aaxis": {
             "endlinecolor": "#2a3f5f",
             "gridcolor": "white",
             "linecolor": "white",
             "minorgridcolor": "white",
             "startlinecolor": "#2a3f5f"
            },
            "baxis": {
             "endlinecolor": "#2a3f5f",
             "gridcolor": "white",
             "linecolor": "white",
             "minorgridcolor": "white",
             "startlinecolor": "#2a3f5f"
            },
            "type": "carpet"
           }
          ],
          "choropleth": [
           {
            "colorbar": {
             "outlinewidth": 0,
             "ticks": ""
            },
            "type": "choropleth"
           }
          ],
          "contour": [
           {
            "colorbar": {
             "outlinewidth": 0,
             "ticks": ""
            },
            "colorscale": [
             [
              0,
              "#0d0887"
             ],
             [
              0.1111111111111111,
              "#46039f"
             ],
             [
              0.2222222222222222,
              "#7201a8"
             ],
             [
              0.3333333333333333,
              "#9c179e"
             ],
             [
              0.4444444444444444,
              "#bd3786"
             ],
             [
              0.5555555555555556,
              "#d8576b"
             ],
             [
              0.6666666666666666,
              "#ed7953"
             ],
             [
              0.7777777777777778,
              "#fb9f3a"
             ],
             [
              0.8888888888888888,
              "#fdca26"
             ],
             [
              1,
              "#f0f921"
             ]
            ],
            "type": "contour"
           }
          ],
          "contourcarpet": [
           {
            "colorbar": {
             "outlinewidth": 0,
             "ticks": ""
            },
            "type": "contourcarpet"
           }
          ],
          "heatmap": [
           {
            "colorbar": {
             "outlinewidth": 0,
             "ticks": ""
            },
            "colorscale": [
             [
              0,
              "#0d0887"
             ],
             [
              0.1111111111111111,
              "#46039f"
             ],
             [
              0.2222222222222222,
              "#7201a8"
             ],
             [
              0.3333333333333333,
              "#9c179e"
             ],
             [
              0.4444444444444444,
              "#bd3786"
             ],
             [
              0.5555555555555556,
              "#d8576b"
             ],
             [
              0.6666666666666666,
              "#ed7953"
             ],
             [
              0.7777777777777778,
              "#fb9f3a"
             ],
             [
              0.8888888888888888,
              "#fdca26"
             ],
             [
              1,
              "#f0f921"
             ]
            ],
            "type": "heatmap"
           }
          ],
          "heatmapgl": [
           {
            "colorbar": {
             "outlinewidth": 0,
             "ticks": ""
            },
            "colorscale": [
             [
              0,
              "#0d0887"
             ],
             [
              0.1111111111111111,
              "#46039f"
             ],
             [
              0.2222222222222222,
              "#7201a8"
             ],
             [
              0.3333333333333333,
              "#9c179e"
             ],
             [
              0.4444444444444444,
              "#bd3786"
             ],
             [
              0.5555555555555556,
              "#d8576b"
             ],
             [
              0.6666666666666666,
              "#ed7953"
             ],
             [
              0.7777777777777778,
              "#fb9f3a"
             ],
             [
              0.8888888888888888,
              "#fdca26"
             ],
             [
              1,
              "#f0f921"
             ]
            ],
            "type": "heatmapgl"
           }
          ],
          "histogram": [
           {
            "marker": {
             "pattern": {
              "fillmode": "overlay",
              "size": 10,
              "solidity": 0.2
             }
            },
            "type": "histogram"
           }
          ],
          "histogram2d": [
           {
            "colorbar": {
             "outlinewidth": 0,
             "ticks": ""
            },
            "colorscale": [
             [
              0,
              "#0d0887"
             ],
             [
              0.1111111111111111,
              "#46039f"
             ],
             [
              0.2222222222222222,
              "#7201a8"
             ],
             [
              0.3333333333333333,
              "#9c179e"
             ],
             [
              0.4444444444444444,
              "#bd3786"
             ],
             [
              0.5555555555555556,
              "#d8576b"
             ],
             [
              0.6666666666666666,
              "#ed7953"
             ],
             [
              0.7777777777777778,
              "#fb9f3a"
             ],
             [
              0.8888888888888888,
              "#fdca26"
             ],
             [
              1,
              "#f0f921"
             ]
            ],
            "type": "histogram2d"
           }
          ],
          "histogram2dcontour": [
           {
            "colorbar": {
             "outlinewidth": 0,
             "ticks": ""
            },
            "colorscale": [
             [
              0,
              "#0d0887"
             ],
             [
              0.1111111111111111,
              "#46039f"
             ],
             [
              0.2222222222222222,
              "#7201a8"
             ],
             [
              0.3333333333333333,
              "#9c179e"
             ],
             [
              0.4444444444444444,
              "#bd3786"
             ],
             [
              0.5555555555555556,
              "#d8576b"
             ],
             [
              0.6666666666666666,
              "#ed7953"
             ],
             [
              0.7777777777777778,
              "#fb9f3a"
             ],
             [
              0.8888888888888888,
              "#fdca26"
             ],
             [
              1,
              "#f0f921"
             ]
            ],
            "type": "histogram2dcontour"
           }
          ],
          "mesh3d": [
           {
            "colorbar": {
             "outlinewidth": 0,
             "ticks": ""
            },
            "type": "mesh3d"
           }
          ],
          "parcoords": [
           {
            "line": {
             "colorbar": {
              "outlinewidth": 0,
              "ticks": ""
             }
            },
            "type": "parcoords"
           }
          ],
          "pie": [
           {
            "automargin": true,
            "type": "pie"
           }
          ],
          "scatter": [
           {
            "fillpattern": {
             "fillmode": "overlay",
             "size": 10,
             "solidity": 0.2
            },
            "type": "scatter"
           }
          ],
          "scatter3d": [
           {
            "line": {
             "colorbar": {
              "outlinewidth": 0,
              "ticks": ""
             }
            },
            "marker": {
             "colorbar": {
              "outlinewidth": 0,
              "ticks": ""
             }
            },
            "type": "scatter3d"
           }
          ],
          "scattercarpet": [
           {
            "marker": {
             "colorbar": {
              "outlinewidth": 0,
              "ticks": ""
             }
            },
            "type": "scattercarpet"
           }
          ],
          "scattergeo": [
           {
            "marker": {
             "colorbar": {
              "outlinewidth": 0,
              "ticks": ""
             }
            },
            "type": "scattergeo"
           }
          ],
          "scattergl": [
           {
            "marker": {
             "colorbar": {
              "outlinewidth": 0,
              "ticks": ""
             }
            },
            "type": "scattergl"
           }
          ],
          "scattermapbox": [
           {
            "marker": {
             "colorbar": {
              "outlinewidth": 0,
              "ticks": ""
             }
            },
            "type": "scattermapbox"
           }
          ],
          "scatterpolar": [
           {
            "marker": {
             "colorbar": {
              "outlinewidth": 0,
              "ticks": ""
             }
            },
            "type": "scatterpolar"
           }
          ],
          "scatterpolargl": [
           {
            "marker": {
             "colorbar": {
              "outlinewidth": 0,
              "ticks": ""
             }
            },
            "type": "scatterpolargl"
           }
          ],
          "scatterternary": [
           {
            "marker": {
             "colorbar": {
              "outlinewidth": 0,
              "ticks": ""
             }
            },
            "type": "scatterternary"
           }
          ],
          "surface": [
           {
            "colorbar": {
             "outlinewidth": 0,
             "ticks": ""
            },
            "colorscale": [
             [
              0,
              "#0d0887"
             ],
             [
              0.1111111111111111,
              "#46039f"
             ],
             [
              0.2222222222222222,
              "#7201a8"
             ],
             [
              0.3333333333333333,
              "#9c179e"
             ],
             [
              0.4444444444444444,
              "#bd3786"
             ],
             [
              0.5555555555555556,
              "#d8576b"
             ],
             [
              0.6666666666666666,
              "#ed7953"
             ],
             [
              0.7777777777777778,
              "#fb9f3a"
             ],
             [
              0.8888888888888888,
              "#fdca26"
             ],
             [
              1,
              "#f0f921"
             ]
            ],
            "type": "surface"
           }
          ],
          "table": [
           {
            "cells": {
             "fill": {
              "color": "#EBF0F8"
             },
             "line": {
              "color": "white"
             }
            },
            "header": {
             "fill": {
              "color": "#C8D4E3"
             },
             "line": {
              "color": "white"
             }
            },
            "type": "table"
           }
          ]
         },
         "layout": {
          "annotationdefaults": {
           "arrowcolor": "#2a3f5f",
           "arrowhead": 0,
           "arrowwidth": 1
          },
          "autotypenumbers": "strict",
          "coloraxis": {
           "colorbar": {
            "outlinewidth": 0,
            "ticks": ""
           }
          },
          "colorscale": {
           "diverging": [
            [
             0,
             "#8e0152"
            ],
            [
             0.1,
             "#c51b7d"
            ],
            [
             0.2,
             "#de77ae"
            ],
            [
             0.3,
             "#f1b6da"
            ],
            [
             0.4,
             "#fde0ef"
            ],
            [
             0.5,
             "#f7f7f7"
            ],
            [
             0.6,
             "#e6f5d0"
            ],
            [
             0.7,
             "#b8e186"
            ],
            [
             0.8,
             "#7fbc41"
            ],
            [
             0.9,
             "#4d9221"
            ],
            [
             1,
             "#276419"
            ]
           ],
           "sequential": [
            [
             0,
             "#0d0887"
            ],
            [
             0.1111111111111111,
             "#46039f"
            ],
            [
             0.2222222222222222,
             "#7201a8"
            ],
            [
             0.3333333333333333,
             "#9c179e"
            ],
            [
             0.4444444444444444,
             "#bd3786"
            ],
            [
             0.5555555555555556,
             "#d8576b"
            ],
            [
             0.6666666666666666,
             "#ed7953"
            ],
            [
             0.7777777777777778,
             "#fb9f3a"
            ],
            [
             0.8888888888888888,
             "#fdca26"
            ],
            [
             1,
             "#f0f921"
            ]
           ],
           "sequentialminus": [
            [
             0,
             "#0d0887"
            ],
            [
             0.1111111111111111,
             "#46039f"
            ],
            [
             0.2222222222222222,
             "#7201a8"
            ],
            [
             0.3333333333333333,
             "#9c179e"
            ],
            [
             0.4444444444444444,
             "#bd3786"
            ],
            [
             0.5555555555555556,
             "#d8576b"
            ],
            [
             0.6666666666666666,
             "#ed7953"
            ],
            [
             0.7777777777777778,
             "#fb9f3a"
            ],
            [
             0.8888888888888888,
             "#fdca26"
            ],
            [
             1,
             "#f0f921"
            ]
           ]
          },
          "colorway": [
           "#636efa",
           "#EF553B",
           "#00cc96",
           "#ab63fa",
           "#FFA15A",
           "#19d3f3",
           "#FF6692",
           "#B6E880",
           "#FF97FF",
           "#FECB52"
          ],
          "font": {
           "color": "#2a3f5f"
          },
          "geo": {
           "bgcolor": "white",
           "lakecolor": "white",
           "landcolor": "#E5ECF6",
           "showlakes": true,
           "showland": true,
           "subunitcolor": "white"
          },
          "hoverlabel": {
           "align": "left"
          },
          "hovermode": "closest",
          "mapbox": {
           "style": "light"
          },
          "paper_bgcolor": "white",
          "plot_bgcolor": "#E5ECF6",
          "polar": {
           "angularaxis": {
            "gridcolor": "white",
            "linecolor": "white",
            "ticks": ""
           },
           "bgcolor": "#E5ECF6",
           "radialaxis": {
            "gridcolor": "white",
            "linecolor": "white",
            "ticks": ""
           }
          },
          "scene": {
           "xaxis": {
            "backgroundcolor": "#E5ECF6",
            "gridcolor": "white",
            "gridwidth": 2,
            "linecolor": "white",
            "showbackground": true,
            "ticks": "",
            "zerolinecolor": "white"
           },
           "yaxis": {
            "backgroundcolor": "#E5ECF6",
            "gridcolor": "white",
            "gridwidth": 2,
            "linecolor": "white",
            "showbackground": true,
            "ticks": "",
            "zerolinecolor": "white"
           },
           "zaxis": {
            "backgroundcolor": "#E5ECF6",
            "gridcolor": "white",
            "gridwidth": 2,
            "linecolor": "white",
            "showbackground": true,
            "ticks": "",
            "zerolinecolor": "white"
           }
          },
          "shapedefaults": {
           "line": {
            "color": "#2a3f5f"
           }
          },
          "ternary": {
           "aaxis": {
            "gridcolor": "white",
            "linecolor": "white",
            "ticks": ""
           },
           "baxis": {
            "gridcolor": "white",
            "linecolor": "white",
            "ticks": ""
           },
           "bgcolor": "#E5ECF6",
           "caxis": {
            "gridcolor": "white",
            "linecolor": "white",
            "ticks": ""
           }
          },
          "title": {
           "x": 0.05
          },
          "xaxis": {
           "automargin": true,
           "gridcolor": "white",
           "linecolor": "white",
           "ticks": "",
           "title": {
            "standoff": 15
           },
           "zerolinecolor": "white",
           "zerolinewidth": 2
          },
          "yaxis": {
           "automargin": true,
           "gridcolor": "white",
           "linecolor": "white",
           "ticks": "",
           "title": {
            "standoff": 15
           },
           "zerolinecolor": "white",
           "zerolinewidth": 2
          }
         }
        },
        "title": {
         "text": "blues"
        },
        "xaxis": {
         "anchor": "y",
         "domain": [
          0,
          1
         ],
         "title": {
          "text": "Artist"
         }
        },
        "yaxis": {
         "anchor": "x",
         "domain": [
          0,
          1
         ],
         "title": {
          "text": "Percentage of comments"
         }
        }
       }
      }
     },
     "metadata": {},
     "output_type": "display_data"
    },
    {
     "data": {
      "application/vnd.plotly.v1+json": {
       "config": {
        "plotlyServerURL": "https://plot.ly"
       },
       "data": [
        {
         "alignmentgroup": "True",
         "bingroup": "x",
         "histfunc": "sum",
         "hovertemplate": "emotion=admiration<br>channel=%{x}<br>sum of percentage=%{y}<extra></extra>",
         "legendgroup": "admiration",
         "marker": {
          "color": "rgb(179,226,205)",
          "pattern": {
           "shape": ""
          }
         },
         "name": "admiration",
         "offsetgroup": "admiration",
         "orientation": "v",
         "showlegend": true,
         "type": "histogram",
         "x": [
          "anthrax",
          "metallica",
          "megadeth",
          "slayer",
          "ghost"
         ],
         "xaxis": "x",
         "y": [
          37.461617195496416,
          37.127071823204425,
          33.160621761658035,
          30.033003300330037,
          25.188323917137478
         ],
         "yaxis": "y"
        },
        {
         "alignmentgroup": "True",
         "bingroup": "x",
         "histfunc": "sum",
         "hovertemplate": "emotion=love<br>channel=%{x}<br>sum of percentage=%{y}<extra></extra>",
         "legendgroup": "love",
         "marker": {
          "color": "#FF97FF",
          "pattern": {
           "shape": ""
          }
         },
         "name": "love",
         "offsetgroup": "love",
         "orientation": "v",
         "showlegend": true,
         "type": "histogram",
         "x": [
          "ghost",
          "anthrax",
          "metallica",
          "megadeth",
          "slayer"
         ],
         "xaxis": "x",
         "y": [
          20.951035781544256,
          18.014329580348004,
          15.359116022099448,
          12.953367875647666,
          10.561056105610561
         ],
         "yaxis": "y"
        },
        {
         "alignmentgroup": "True",
         "bingroup": "x",
         "histfunc": "sum",
         "hovertemplate": "emotion=gratitude<br>channel=%{x}<br>sum of percentage=%{y}<extra></extra>",
         "legendgroup": "gratitude",
         "marker": {
          "color": "#FECB52",
          "pattern": {
           "shape": ""
          }
         },
         "name": "gratitude",
         "offsetgroup": "gratitude",
         "orientation": "v",
         "showlegend": true,
         "type": "histogram",
         "x": [
          "slayer",
          "metallica",
          "megadeth",
          "anthrax",
          "ghost"
         ],
         "xaxis": "x",
         "y": [
          9.570957095709572,
          8.913443830570902,
          5.872193436960276,
          5.834186284544525,
          5.790960451977401
         ],
         "yaxis": "y"
        },
        {
         "alignmentgroup": "True",
         "bingroup": "x",
         "histfunc": "sum",
         "hovertemplate": "emotion=disappointment<br>channel=%{x}<br>sum of percentage=%{y}<extra></extra>",
         "legendgroup": "disappointment",
         "marker": {
          "color": "#636efa",
          "pattern": {
           "shape": ""
          }
         },
         "name": "disappointment",
         "offsetgroup": "disappointment",
         "orientation": "v",
         "showlegend": true,
         "type": "histogram",
         "x": [
          "anthrax",
          "slayer",
          "metallica",
          "ghost",
          "megadeth"
         ],
         "xaxis": "x",
         "y": [
          6.345957011258956,
          4.9504950495049505,
          4.530386740331491,
          3.531073446327684,
          3.1088082901554404
         ],
         "yaxis": "y"
        },
        {
         "alignmentgroup": "True",
         "bingroup": "x",
         "histfunc": "sum",
         "hovertemplate": "emotion=joy<br>channel=%{x}<br>sum of percentage=%{y}<extra></extra>",
         "legendgroup": "joy",
         "marker": {
          "color": "#EF553B",
          "pattern": {
           "shape": ""
          }
         },
         "name": "joy",
         "offsetgroup": "joy",
         "orientation": "v",
         "showlegend": true,
         "type": "histogram",
         "x": [
          "slayer",
          "metallica",
          "anthrax",
          "megadeth",
          "ghost"
         ],
         "xaxis": "x",
         "y": [
          6.270627062706271,
          5.156537753222836,
          4.810644831115661,
          4.66321243523316,
          3.8606403013182673
         ],
         "yaxis": "y"
        },
        {
         "alignmentgroup": "True",
         "bingroup": "x",
         "histfunc": "sum",
         "hovertemplate": "emotion=annoyance<br>channel=%{x}<br>sum of percentage=%{y}<extra></extra>",
         "legendgroup": "annoyance",
         "marker": {
          "color": "rgb(203,213,232)",
          "pattern": {
           "shape": ""
          }
         },
         "name": "annoyance",
         "offsetgroup": "annoyance",
         "orientation": "v",
         "showlegend": true,
         "type": "histogram",
         "x": [
          "slayer",
          "megadeth",
          "metallica",
          "ghost",
          "anthrax"
         ],
         "xaxis": "x",
         "y": [
          5.9405940594059405,
          3.281519861830743,
          2.430939226519337,
          2.354048964218456,
          1.2282497441146365
         ],
         "yaxis": "y"
        },
        {
         "alignmentgroup": "True",
         "bingroup": "x",
         "histfunc": "sum",
         "hovertemplate": "emotion=confusion<br>channel=%{x}<br>sum of percentage=%{y}<extra></extra>",
         "legendgroup": "confusion",
         "marker": {
          "color": "rgb(255,242,174)",
          "pattern": {
           "shape": ""
          }
         },
         "name": "confusion",
         "offsetgroup": "confusion",
         "orientation": "v",
         "showlegend": true,
         "type": "histogram",
         "x": [
          "slayer",
          "megadeth",
          "ghost",
          "anthrax",
          "metallica"
         ],
         "xaxis": "x",
         "y": [
          5.2805280528052805,
          4.8359240069084635,
          4.23728813559322,
          2.456499488229273,
          2.209944751381215
         ],
         "yaxis": "y"
        },
        {
         "alignmentgroup": "True",
         "bingroup": "x",
         "histfunc": "sum",
         "hovertemplate": "emotion=amusement<br>channel=%{x}<br>sum of percentage=%{y}<extra></extra>",
         "legendgroup": "amusement",
         "marker": {
          "color": "#00cc96",
          "pattern": {
           "shape": ""
          }
         },
         "name": "amusement",
         "offsetgroup": "amusement",
         "orientation": "v",
         "showlegend": true,
         "type": "histogram",
         "x": [
          "ghost",
          "anthrax",
          "megadeth",
          "metallica",
          "slayer"
         ],
         "xaxis": "x",
         "y": [
          4.425612052730696,
          2.3541453428863868,
          2.072538860103627,
          0.8103130755064457,
          0.33003300330033003
         ],
         "yaxis": "y"
        },
        {
         "alignmentgroup": "True",
         "bingroup": "x",
         "histfunc": "sum",
         "hovertemplate": "emotion=approval<br>channel=%{x}<br>sum of percentage=%{y}<extra></extra>",
         "legendgroup": "approval",
         "marker": {
          "color": "rgb(244,202,228)",
          "pattern": {
           "shape": ""
          }
         },
         "name": "approval",
         "offsetgroup": "approval",
         "orientation": "v",
         "showlegend": true,
         "type": "histogram",
         "x": [
          "slayer",
          "anthrax",
          "megadeth",
          "metallica",
          "ghost"
         ],
         "xaxis": "x",
         "y": [
          4.29042904290429,
          3.2753326509723646,
          2.763385146804836,
          2.7624309392265194,
          2.7306967984934087
         ],
         "yaxis": "y"
        },
        {
         "alignmentgroup": "True",
         "bingroup": "x",
         "histfunc": "sum",
         "hovertemplate": "emotion=sadness<br>channel=%{x}<br>sum of percentage=%{y}<extra></extra>",
         "legendgroup": "sadness",
         "marker": {
          "color": "#ab63fa",
          "pattern": {
           "shape": ""
          }
         },
         "name": "sadness",
         "offsetgroup": "sadness",
         "orientation": "v",
         "showlegend": true,
         "type": "histogram",
         "x": [
          "metallica",
          "ghost",
          "megadeth",
          "anthrax",
          "slayer"
         ],
         "xaxis": "x",
         "y": [
          4.27255985267035,
          3.954802259887006,
          3.6269430051813467,
          3.172978505629478,
          2.6402640264026402
         ],
         "yaxis": "y"
        },
        {
         "alignmentgroup": "True",
         "bingroup": "x",
         "histfunc": "sum",
         "hovertemplate": "emotion=optimism<br>channel=%{x}<br>sum of percentage=%{y}<extra></extra>",
         "legendgroup": "optimism",
         "marker": {
          "color": "#FFA15A",
          "pattern": {
           "shape": ""
          }
         },
         "name": "optimism",
         "offsetgroup": "optimism",
         "orientation": "v",
         "showlegend": true,
         "type": "histogram",
         "x": [
          "megadeth",
          "metallica",
          "slayer",
          "ghost",
          "anthrax"
         ],
         "xaxis": "x",
         "y": [
          3.7996545768566494,
          3.0939226519337018,
          2.9702970297029703,
          2.6836158192090394,
          2.2517911975435005
         ],
         "yaxis": "y"
        },
        {
         "alignmentgroup": "True",
         "bingroup": "x",
         "histfunc": "sum",
         "hovertemplate": "emotion=desire<br>channel=%{x}<br>sum of percentage=%{y}<extra></extra>",
         "legendgroup": "desire",
         "marker": {
          "color": "rgb(204,204,204)",
          "pattern": {
           "shape": ""
          }
         },
         "name": "desire",
         "offsetgroup": "desire",
         "orientation": "v",
         "showlegend": true,
         "type": "histogram",
         "x": [
          "ghost",
          "slayer",
          "megadeth",
          "metallica",
          "anthrax"
         ],
         "xaxis": "x",
         "y": [
          3.71939736346516,
          3.6303630363036308,
          2.936096718480138,
          2.0257826887661143,
          1.5353121801432956
         ],
         "yaxis": "y"
        },
        {
         "alignmentgroup": "True",
         "bingroup": "x",
         "histfunc": "sum",
         "hovertemplate": "emotion=excitement<br>channel=%{x}<br>sum of percentage=%{y}<extra></extra>",
         "legendgroup": "excitement",
         "marker": {
          "color": "#19d3f3",
          "pattern": {
           "shape": ""
          }
         },
         "name": "excitement",
         "offsetgroup": "excitement",
         "orientation": "v",
         "showlegend": true,
         "type": "histogram",
         "x": [
          "megadeth",
          "ghost",
          "metallica",
          "anthrax",
          "slayer"
         ],
         "xaxis": "x",
         "y": [
          3.281519861830743,
          3.1073446327683616,
          2.9097605893186005,
          1.5353121801432956,
          0.6600660066006601
         ],
         "yaxis": "y"
        },
        {
         "alignmentgroup": "True",
         "bingroup": "x",
         "histfunc": "sum",
         "hovertemplate": "emotion=disapproval<br>channel=%{x}<br>sum of percentage=%{y}<extra></extra>",
         "legendgroup": "disapproval",
         "marker": {
          "color": "#FF6692",
          "pattern": {
           "shape": ""
          }
         },
         "name": "disapproval",
         "offsetgroup": "disapproval",
         "orientation": "v",
         "showlegend": true,
         "type": "histogram",
         "x": [
          "ghost",
          "metallica",
          "anthrax",
          "megadeth",
          "slayer"
         ],
         "xaxis": "x",
         "y": [
          3.248587570621469,
          1.9152854511970532,
          1.5353121801432956,
          0.5181347150259068,
          0.33003300330033003
         ],
         "yaxis": "y"
        },
        {
         "alignmentgroup": "True",
         "bingroup": "x",
         "histfunc": "sum",
         "hovertemplate": "emotion=fear<br>channel=%{x}<br>sum of percentage=%{y}<extra></extra>",
         "legendgroup": "fear",
         "marker": {
          "color": "#B6E880",
          "pattern": {
           "shape": ""
          }
         },
         "name": "fear",
         "offsetgroup": "fear",
         "orientation": "v",
         "showlegend": true,
         "type": "histogram",
         "x": [
          "slayer",
          "megadeth",
          "metallica",
          "anthrax",
          "ghost"
         ],
         "xaxis": "x",
         "y": [
          2.9702970297029703,
          0.8635578583765112,
          0.6261510128913443,
          0.511770726714432,
          0.423728813559322
         ],
         "yaxis": "y"
        },
        {
         "alignmentgroup": "True",
         "bingroup": "x",
         "histfunc": "sum",
         "hovertemplate": "emotion=surprise<br>channel=%{x}<br>sum of percentage=%{y}<extra></extra>",
         "legendgroup": "surprise",
         "marker": {
          "color": "#FF97FF",
          "pattern": {
           "shape": ""
          }
         },
         "name": "surprise",
         "offsetgroup": "surprise",
         "orientation": "v",
         "showlegend": true,
         "type": "histogram",
         "x": [
          "megadeth",
          "anthrax",
          "ghost",
          "metallica",
          "slayer"
         ],
         "xaxis": "x",
         "y": [
          2.936096718480138,
          2.2517911975435005,
          2.024482109227872,
          1.2154696132596685,
          0.6600660066006601
         ],
         "yaxis": "y"
        },
        {
         "alignmentgroup": "True",
         "bingroup": "x",
         "histfunc": "sum",
         "hovertemplate": "emotion=curiosity<br>channel=%{x}<br>sum of percentage=%{y}<extra></extra>",
         "legendgroup": "curiosity",
         "marker": {
          "color": "rgb(241,226,204)",
          "pattern": {
           "shape": ""
          }
         },
         "name": "curiosity",
         "offsetgroup": "curiosity",
         "orientation": "v",
         "showlegend": true,
         "type": "histogram",
         "x": [
          "slayer",
          "megadeth",
          "ghost",
          "anthrax",
          "metallica"
         ],
         "xaxis": "x",
         "y": [
          2.6402640264026402,
          2.2452504317789295,
          1.9303201506591336,
          1.4329580348004094,
          0.8103130755064457
         ],
         "yaxis": "y"
        },
        {
         "alignmentgroup": "True",
         "bingroup": "x",
         "histfunc": "sum",
         "hovertemplate": "emotion=anger<br>channel=%{x}<br>sum of percentage=%{y}<extra></extra>",
         "legendgroup": "anger",
         "marker": {
          "color": "rgb(253,205,172)",
          "pattern": {
           "shape": ""
          }
         },
         "name": "anger",
         "offsetgroup": "anger",
         "orientation": "v",
         "showlegend": true,
         "type": "histogram",
         "x": [
          "slayer",
          "megadeth",
          "ghost",
          "metallica",
          "anthrax"
         ],
         "xaxis": "x",
         "y": [
          2.6402640264026402,
          1.2089810017271159,
          0.800376647834275,
          0.5156537753222836,
          0.2047082906857728
         ],
         "yaxis": "y"
        },
        {
         "alignmentgroup": "True",
         "bingroup": "x",
         "histfunc": "sum",
         "hovertemplate": "emotion=remorse<br>channel=%{x}<br>sum of percentage=%{y}<extra></extra>",
         "legendgroup": "remorse",
         "marker": {
          "color": "#FECB52",
          "pattern": {
           "shape": ""
          }
         },
         "name": "remorse",
         "offsetgroup": "remorse",
         "orientation": "v",
         "showlegend": true,
         "type": "histogram",
         "x": [
          "megadeth",
          "slayer",
          "anthrax",
          "ghost",
          "metallica"
         ],
         "xaxis": "x",
         "y": [
          2.072538860103627,
          1.9801980198019802,
          1.9447287615148412,
          1.5536723163841808,
          0.7734806629834254
         ],
         "yaxis": "y"
        },
        {
         "alignmentgroup": "True",
         "bingroup": "x",
         "histfunc": "sum",
         "hovertemplate": "emotion=caring<br>channel=%{x}<br>sum of percentage=%{y}<extra></extra>",
         "legendgroup": "caring",
         "marker": {
          "color": "rgb(230,245,201)",
          "pattern": {
           "shape": ""
          }
         },
         "name": "caring",
         "offsetgroup": "caring",
         "orientation": "v",
         "showlegend": true,
         "type": "histogram",
         "x": [
          "megadeth",
          "metallica",
          "ghost",
          "slayer"
         ],
         "xaxis": "x",
         "y": [
          1.5544041450777202,
          1.5101289134438307,
          0.4708097928436911,
          0.33003300330033003
         ],
         "yaxis": "y"
        },
        {
         "alignmentgroup": "True",
         "bingroup": "x",
         "histfunc": "sum",
         "hovertemplate": "emotion=disgust<br>channel=%{x}<br>sum of percentage=%{y}<extra></extra>",
         "legendgroup": "disgust",
         "marker": {
          "color": "#636efa",
          "pattern": {
           "shape": ""
          }
         },
         "name": "disgust",
         "offsetgroup": "disgust",
         "orientation": "v",
         "showlegend": true,
         "type": "histogram",
         "x": [
          "ghost",
          "anthrax",
          "megadeth",
          "metallica"
         ],
         "xaxis": "x",
         "y": [
          1.4124293785310735,
          0.6141248720573182,
          0.5181347150259068,
          0.22099447513812157
         ],
         "yaxis": "y"
        },
        {
         "alignmentgroup": "True",
         "bingroup": "x",
         "histfunc": "sum",
         "hovertemplate": "emotion=realization<br>channel=%{x}<br>sum of percentage=%{y}<extra></extra>",
         "legendgroup": "realization",
         "marker": {
          "color": "#EF553B",
          "pattern": {
           "shape": ""
          }
         },
         "name": "realization",
         "offsetgroup": "realization",
         "orientation": "v",
         "showlegend": true,
         "type": "histogram",
         "x": [
          "anthrax",
          "slayer",
          "ghost",
          "megadeth",
          "metallica"
         ],
         "xaxis": "x",
         "y": [
          1.023541453428864,
          0.9900990099009901,
          0.8945386064030132,
          0.8635578583765112,
          0.3683241252302026
         ],
         "yaxis": "y"
        },
        {
         "alignmentgroup": "True",
         "bingroup": "x",
         "histfunc": "sum",
         "hovertemplate": "emotion=nervousness<br>channel=%{x}<br>sum of percentage=%{y}<extra></extra>",
         "legendgroup": "nervousness",
         "marker": {
          "color": "#00cc96",
          "pattern": {
           "shape": ""
          }
         },
         "name": "nervousness",
         "offsetgroup": "nervousness",
         "orientation": "v",
         "showlegend": true,
         "type": "histogram",
         "x": [
          "ghost",
          "megadeth",
          "metallica"
         ],
         "xaxis": "x",
         "y": [
          0.5649717514124294,
          0.5181347150259068,
          0.1841620626151013
         ],
         "yaxis": "y"
        },
        {
         "alignmentgroup": "True",
         "bingroup": "x",
         "histfunc": "sum",
         "hovertemplate": "emotion=embarrassment<br>channel=%{x}<br>sum of percentage=%{y}<extra></extra>",
         "legendgroup": "embarrassment",
         "marker": {
          "color": "#ab63fa",
          "pattern": {
           "shape": ""
          }
         },
         "name": "embarrassment",
         "offsetgroup": "embarrassment",
         "orientation": "v",
         "showlegend": true,
         "type": "histogram",
         "x": [
          "megadeth",
          "slayer",
          "metallica",
          "anthrax",
          "ghost"
         ],
         "xaxis": "x",
         "y": [
          0.3454231433506045,
          0.33003300330033003,
          0.2578268876611418,
          0.2047082906857728,
          0.14124293785310735
         ],
         "yaxis": "y"
        }
       ],
       "layout": {
        "barmode": "group",
        "height": 400,
        "legend": {
         "title": {
          "text": "emotion"
         },
         "tracegroupgap": 0
        },
        "margin": {
         "t": 60
        },
        "template": {
         "data": {
          "bar": [
           {
            "error_x": {
             "color": "#2a3f5f"
            },
            "error_y": {
             "color": "#2a3f5f"
            },
            "marker": {
             "line": {
              "color": "#E5ECF6",
              "width": 0.5
             },
             "pattern": {
              "fillmode": "overlay",
              "size": 10,
              "solidity": 0.2
             }
            },
            "type": "bar"
           }
          ],
          "barpolar": [
           {
            "marker": {
             "line": {
              "color": "#E5ECF6",
              "width": 0.5
             },
             "pattern": {
              "fillmode": "overlay",
              "size": 10,
              "solidity": 0.2
             }
            },
            "type": "barpolar"
           }
          ],
          "carpet": [
           {
            "aaxis": {
             "endlinecolor": "#2a3f5f",
             "gridcolor": "white",
             "linecolor": "white",
             "minorgridcolor": "white",
             "startlinecolor": "#2a3f5f"
            },
            "baxis": {
             "endlinecolor": "#2a3f5f",
             "gridcolor": "white",
             "linecolor": "white",
             "minorgridcolor": "white",
             "startlinecolor": "#2a3f5f"
            },
            "type": "carpet"
           }
          ],
          "choropleth": [
           {
            "colorbar": {
             "outlinewidth": 0,
             "ticks": ""
            },
            "type": "choropleth"
           }
          ],
          "contour": [
           {
            "colorbar": {
             "outlinewidth": 0,
             "ticks": ""
            },
            "colorscale": [
             [
              0,
              "#0d0887"
             ],
             [
              0.1111111111111111,
              "#46039f"
             ],
             [
              0.2222222222222222,
              "#7201a8"
             ],
             [
              0.3333333333333333,
              "#9c179e"
             ],
             [
              0.4444444444444444,
              "#bd3786"
             ],
             [
              0.5555555555555556,
              "#d8576b"
             ],
             [
              0.6666666666666666,
              "#ed7953"
             ],
             [
              0.7777777777777778,
              "#fb9f3a"
             ],
             [
              0.8888888888888888,
              "#fdca26"
             ],
             [
              1,
              "#f0f921"
             ]
            ],
            "type": "contour"
           }
          ],
          "contourcarpet": [
           {
            "colorbar": {
             "outlinewidth": 0,
             "ticks": ""
            },
            "type": "contourcarpet"
           }
          ],
          "heatmap": [
           {
            "colorbar": {
             "outlinewidth": 0,
             "ticks": ""
            },
            "colorscale": [
             [
              0,
              "#0d0887"
             ],
             [
              0.1111111111111111,
              "#46039f"
             ],
             [
              0.2222222222222222,
              "#7201a8"
             ],
             [
              0.3333333333333333,
              "#9c179e"
             ],
             [
              0.4444444444444444,
              "#bd3786"
             ],
             [
              0.5555555555555556,
              "#d8576b"
             ],
             [
              0.6666666666666666,
              "#ed7953"
             ],
             [
              0.7777777777777778,
              "#fb9f3a"
             ],
             [
              0.8888888888888888,
              "#fdca26"
             ],
             [
              1,
              "#f0f921"
             ]
            ],
            "type": "heatmap"
           }
          ],
          "heatmapgl": [
           {
            "colorbar": {
             "outlinewidth": 0,
             "ticks": ""
            },
            "colorscale": [
             [
              0,
              "#0d0887"
             ],
             [
              0.1111111111111111,
              "#46039f"
             ],
             [
              0.2222222222222222,
              "#7201a8"
             ],
             [
              0.3333333333333333,
              "#9c179e"
             ],
             [
              0.4444444444444444,
              "#bd3786"
             ],
             [
              0.5555555555555556,
              "#d8576b"
             ],
             [
              0.6666666666666666,
              "#ed7953"
             ],
             [
              0.7777777777777778,
              "#fb9f3a"
             ],
             [
              0.8888888888888888,
              "#fdca26"
             ],
             [
              1,
              "#f0f921"
             ]
            ],
            "type": "heatmapgl"
           }
          ],
          "histogram": [
           {
            "marker": {
             "pattern": {
              "fillmode": "overlay",
              "size": 10,
              "solidity": 0.2
             }
            },
            "type": "histogram"
           }
          ],
          "histogram2d": [
           {
            "colorbar": {
             "outlinewidth": 0,
             "ticks": ""
            },
            "colorscale": [
             [
              0,
              "#0d0887"
             ],
             [
              0.1111111111111111,
              "#46039f"
             ],
             [
              0.2222222222222222,
              "#7201a8"
             ],
             [
              0.3333333333333333,
              "#9c179e"
             ],
             [
              0.4444444444444444,
              "#bd3786"
             ],
             [
              0.5555555555555556,
              "#d8576b"
             ],
             [
              0.6666666666666666,
              "#ed7953"
             ],
             [
              0.7777777777777778,
              "#fb9f3a"
             ],
             [
              0.8888888888888888,
              "#fdca26"
             ],
             [
              1,
              "#f0f921"
             ]
            ],
            "type": "histogram2d"
           }
          ],
          "histogram2dcontour": [
           {
            "colorbar": {
             "outlinewidth": 0,
             "ticks": ""
            },
            "colorscale": [
             [
              0,
              "#0d0887"
             ],
             [
              0.1111111111111111,
              "#46039f"
             ],
             [
              0.2222222222222222,
              "#7201a8"
             ],
             [
              0.3333333333333333,
              "#9c179e"
             ],
             [
              0.4444444444444444,
              "#bd3786"
             ],
             [
              0.5555555555555556,
              "#d8576b"
             ],
             [
              0.6666666666666666,
              "#ed7953"
             ],
             [
              0.7777777777777778,
              "#fb9f3a"
             ],
             [
              0.8888888888888888,
              "#fdca26"
             ],
             [
              1,
              "#f0f921"
             ]
            ],
            "type": "histogram2dcontour"
           }
          ],
          "mesh3d": [
           {
            "colorbar": {
             "outlinewidth": 0,
             "ticks": ""
            },
            "type": "mesh3d"
           }
          ],
          "parcoords": [
           {
            "line": {
             "colorbar": {
              "outlinewidth": 0,
              "ticks": ""
             }
            },
            "type": "parcoords"
           }
          ],
          "pie": [
           {
            "automargin": true,
            "type": "pie"
           }
          ],
          "scatter": [
           {
            "fillpattern": {
             "fillmode": "overlay",
             "size": 10,
             "solidity": 0.2
            },
            "type": "scatter"
           }
          ],
          "scatter3d": [
           {
            "line": {
             "colorbar": {
              "outlinewidth": 0,
              "ticks": ""
             }
            },
            "marker": {
             "colorbar": {
              "outlinewidth": 0,
              "ticks": ""
             }
            },
            "type": "scatter3d"
           }
          ],
          "scattercarpet": [
           {
            "marker": {
             "colorbar": {
              "outlinewidth": 0,
              "ticks": ""
             }
            },
            "type": "scattercarpet"
           }
          ],
          "scattergeo": [
           {
            "marker": {
             "colorbar": {
              "outlinewidth": 0,
              "ticks": ""
             }
            },
            "type": "scattergeo"
           }
          ],
          "scattergl": [
           {
            "marker": {
             "colorbar": {
              "outlinewidth": 0,
              "ticks": ""
             }
            },
            "type": "scattergl"
           }
          ],
          "scattermapbox": [
           {
            "marker": {
             "colorbar": {
              "outlinewidth": 0,
              "ticks": ""
             }
            },
            "type": "scattermapbox"
           }
          ],
          "scatterpolar": [
           {
            "marker": {
             "colorbar": {
              "outlinewidth": 0,
              "ticks": ""
             }
            },
            "type": "scatterpolar"
           }
          ],
          "scatterpolargl": [
           {
            "marker": {
             "colorbar": {
              "outlinewidth": 0,
              "ticks": ""
             }
            },
            "type": "scatterpolargl"
           }
          ],
          "scatterternary": [
           {
            "marker": {
             "colorbar": {
              "outlinewidth": 0,
              "ticks": ""
             }
            },
            "type": "scatterternary"
           }
          ],
          "surface": [
           {
            "colorbar": {
             "outlinewidth": 0,
             "ticks": ""
            },
            "colorscale": [
             [
              0,
              "#0d0887"
             ],
             [
              0.1111111111111111,
              "#46039f"
             ],
             [
              0.2222222222222222,
              "#7201a8"
             ],
             [
              0.3333333333333333,
              "#9c179e"
             ],
             [
              0.4444444444444444,
              "#bd3786"
             ],
             [
              0.5555555555555556,
              "#d8576b"
             ],
             [
              0.6666666666666666,
              "#ed7953"
             ],
             [
              0.7777777777777778,
              "#fb9f3a"
             ],
             [
              0.8888888888888888,
              "#fdca26"
             ],
             [
              1,
              "#f0f921"
             ]
            ],
            "type": "surface"
           }
          ],
          "table": [
           {
            "cells": {
             "fill": {
              "color": "#EBF0F8"
             },
             "line": {
              "color": "white"
             }
            },
            "header": {
             "fill": {
              "color": "#C8D4E3"
             },
             "line": {
              "color": "white"
             }
            },
            "type": "table"
           }
          ]
         },
         "layout": {
          "annotationdefaults": {
           "arrowcolor": "#2a3f5f",
           "arrowhead": 0,
           "arrowwidth": 1
          },
          "autotypenumbers": "strict",
          "coloraxis": {
           "colorbar": {
            "outlinewidth": 0,
            "ticks": ""
           }
          },
          "colorscale": {
           "diverging": [
            [
             0,
             "#8e0152"
            ],
            [
             0.1,
             "#c51b7d"
            ],
            [
             0.2,
             "#de77ae"
            ],
            [
             0.3,
             "#f1b6da"
            ],
            [
             0.4,
             "#fde0ef"
            ],
            [
             0.5,
             "#f7f7f7"
            ],
            [
             0.6,
             "#e6f5d0"
            ],
            [
             0.7,
             "#b8e186"
            ],
            [
             0.8,
             "#7fbc41"
            ],
            [
             0.9,
             "#4d9221"
            ],
            [
             1,
             "#276419"
            ]
           ],
           "sequential": [
            [
             0,
             "#0d0887"
            ],
            [
             0.1111111111111111,
             "#46039f"
            ],
            [
             0.2222222222222222,
             "#7201a8"
            ],
            [
             0.3333333333333333,
             "#9c179e"
            ],
            [
             0.4444444444444444,
             "#bd3786"
            ],
            [
             0.5555555555555556,
             "#d8576b"
            ],
            [
             0.6666666666666666,
             "#ed7953"
            ],
            [
             0.7777777777777778,
             "#fb9f3a"
            ],
            [
             0.8888888888888888,
             "#fdca26"
            ],
            [
             1,
             "#f0f921"
            ]
           ],
           "sequentialminus": [
            [
             0,
             "#0d0887"
            ],
            [
             0.1111111111111111,
             "#46039f"
            ],
            [
             0.2222222222222222,
             "#7201a8"
            ],
            [
             0.3333333333333333,
             "#9c179e"
            ],
            [
             0.4444444444444444,
             "#bd3786"
            ],
            [
             0.5555555555555556,
             "#d8576b"
            ],
            [
             0.6666666666666666,
             "#ed7953"
            ],
            [
             0.7777777777777778,
             "#fb9f3a"
            ],
            [
             0.8888888888888888,
             "#fdca26"
            ],
            [
             1,
             "#f0f921"
            ]
           ]
          },
          "colorway": [
           "#636efa",
           "#EF553B",
           "#00cc96",
           "#ab63fa",
           "#FFA15A",
           "#19d3f3",
           "#FF6692",
           "#B6E880",
           "#FF97FF",
           "#FECB52"
          ],
          "font": {
           "color": "#2a3f5f"
          },
          "geo": {
           "bgcolor": "white",
           "lakecolor": "white",
           "landcolor": "#E5ECF6",
           "showlakes": true,
           "showland": true,
           "subunitcolor": "white"
          },
          "hoverlabel": {
           "align": "left"
          },
          "hovermode": "closest",
          "mapbox": {
           "style": "light"
          },
          "paper_bgcolor": "white",
          "plot_bgcolor": "#E5ECF6",
          "polar": {
           "angularaxis": {
            "gridcolor": "white",
            "linecolor": "white",
            "ticks": ""
           },
           "bgcolor": "#E5ECF6",
           "radialaxis": {
            "gridcolor": "white",
            "linecolor": "white",
            "ticks": ""
           }
          },
          "scene": {
           "xaxis": {
            "backgroundcolor": "#E5ECF6",
            "gridcolor": "white",
            "gridwidth": 2,
            "linecolor": "white",
            "showbackground": true,
            "ticks": "",
            "zerolinecolor": "white"
           },
           "yaxis": {
            "backgroundcolor": "#E5ECF6",
            "gridcolor": "white",
            "gridwidth": 2,
            "linecolor": "white",
            "showbackground": true,
            "ticks": "",
            "zerolinecolor": "white"
           },
           "zaxis": {
            "backgroundcolor": "#E5ECF6",
            "gridcolor": "white",
            "gridwidth": 2,
            "linecolor": "white",
            "showbackground": true,
            "ticks": "",
            "zerolinecolor": "white"
           }
          },
          "shapedefaults": {
           "line": {
            "color": "#2a3f5f"
           }
          },
          "ternary": {
           "aaxis": {
            "gridcolor": "white",
            "linecolor": "white",
            "ticks": ""
           },
           "baxis": {
            "gridcolor": "white",
            "linecolor": "white",
            "ticks": ""
           },
           "bgcolor": "#E5ECF6",
           "caxis": {
            "gridcolor": "white",
            "linecolor": "white",
            "ticks": ""
           }
          },
          "title": {
           "x": 0.05
          },
          "xaxis": {
           "automargin": true,
           "gridcolor": "white",
           "linecolor": "white",
           "ticks": "",
           "title": {
            "standoff": 15
           },
           "zerolinecolor": "white",
           "zerolinewidth": 2
          },
          "yaxis": {
           "automargin": true,
           "gridcolor": "white",
           "linecolor": "white",
           "ticks": "",
           "title": {
            "standoff": 15
           },
           "zerolinecolor": "white",
           "zerolinewidth": 2
          }
         }
        },
        "title": {
         "text": "metal"
        },
        "xaxis": {
         "anchor": "y",
         "domain": [
          0,
          1
         ],
         "title": {
          "text": "Artist"
         }
        },
        "yaxis": {
         "anchor": "x",
         "domain": [
          0,
          1
         ],
         "title": {
          "text": "Percentage of comments"
         }
        }
       }
      }
     },
     "metadata": {},
     "output_type": "display_data"
    },
    {
     "data": {
      "application/vnd.plotly.v1+json": {
       "config": {
        "plotlyServerURL": "https://plot.ly"
       },
       "data": [
        {
         "alignmentgroup": "True",
         "bingroup": "x",
         "histfunc": "sum",
         "hovertemplate": "emotion=admiration<br>channel=%{x}<br>sum of percentage=%{y}<extra></extra>",
         "legendgroup": "admiration",
         "marker": {
          "color": "rgb(179,226,205)",
          "pattern": {
           "shape": ""
          }
         },
         "name": "admiration",
         "offsetgroup": "admiration",
         "orientation": "v",
         "showlegend": true,
         "type": "histogram",
         "x": [
          "bach",
          "beethoven",
          "mozart",
          "chopin"
         ],
         "xaxis": "x",
         "y": [
          37.30569948186528,
          24.5136186770428,
          22.19679633867277,
          16.008316008316008
         ],
         "yaxis": "y"
        },
        {
         "alignmentgroup": "True",
         "bingroup": "x",
         "histfunc": "sum",
         "hovertemplate": "emotion=gratitude<br>channel=%{x}<br>sum of percentage=%{y}<extra></extra>",
         "legendgroup": "gratitude",
         "marker": {
          "color": "#FF97FF",
          "pattern": {
           "shape": ""
          }
         },
         "name": "gratitude",
         "offsetgroup": "gratitude",
         "orientation": "v",
         "showlegend": true,
         "type": "histogram",
         "x": [
          "bach",
          "mozart",
          "chopin",
          "beethoven"
         ],
         "xaxis": "x",
         "y": [
          16.580310880829018,
          16.247139588100687,
          10.602910602910603,
          3.3073929961089497
         ],
         "yaxis": "y"
        },
        {
         "alignmentgroup": "True",
         "bingroup": "x",
         "histfunc": "sum",
         "hovertemplate": "emotion=love<br>channel=%{x}<br>sum of percentage=%{y}<extra></extra>",
         "legendgroup": "love",
         "marker": {
          "color": "#FECB52",
          "pattern": {
           "shape": ""
          }
         },
         "name": "love",
         "offsetgroup": "love",
         "orientation": "v",
         "showlegend": true,
         "type": "histogram",
         "x": [
          "mozart",
          "bach",
          "beethoven",
          "chopin"
         ],
         "xaxis": "x",
         "y": [
          15.331807780320366,
          13.471502590673575,
          11.673151750972762,
          10.395010395010395
         ],
         "yaxis": "y"
        },
        {
         "alignmentgroup": "True",
         "bingroup": "x",
         "histfunc": "sum",
         "hovertemplate": "emotion=sadness<br>channel=%{x}<br>sum of percentage=%{y}<extra></extra>",
         "legendgroup": "sadness",
         "marker": {
          "color": "#636efa",
          "pattern": {
           "shape": ""
          }
         },
         "name": "sadness",
         "offsetgroup": "sadness",
         "orientation": "v",
         "showlegend": true,
         "type": "histogram",
         "x": [
          "beethoven",
          "chopin",
          "bach",
          "mozart"
         ],
         "xaxis": "x",
         "y": [
          11.089494163424124,
          10.4989604989605,
          3.1088082901554404,
          2.745995423340961
         ],
         "yaxis": "y"
        },
        {
         "alignmentgroup": "True",
         "bingroup": "x",
         "histfunc": "sum",
         "hovertemplate": "emotion=joy<br>channel=%{x}<br>sum of percentage=%{y}<extra></extra>",
         "legendgroup": "joy",
         "marker": {
          "color": "#EF553B",
          "pattern": {
           "shape": ""
          }
         },
         "name": "joy",
         "offsetgroup": "joy",
         "orientation": "v",
         "showlegend": true,
         "type": "histogram",
         "x": [
          "chopin",
          "mozart",
          "bach",
          "beethoven"
         ],
         "xaxis": "x",
         "y": [
          9.667359667359667,
          7.780320366132723,
          6.217616580310881,
          5.252918287937743
         ],
         "yaxis": "y"
        },
        {
         "alignmentgroup": "True",
         "bingroup": "x",
         "histfunc": "sum",
         "hovertemplate": "emotion=optimism<br>channel=%{x}<br>sum of percentage=%{y}<extra></extra>",
         "legendgroup": "optimism",
         "marker": {
          "color": "#00cc96",
          "pattern": {
           "shape": ""
          }
         },
         "name": "optimism",
         "offsetgroup": "optimism",
         "orientation": "v",
         "showlegend": true,
         "type": "histogram",
         "x": [
          "chopin",
          "beethoven",
          "bach",
          "mozart"
         ],
         "xaxis": "x",
         "y": [
          8.004158004158004,
          4.085603112840467,
          3.1088082901554404,
          2.9748283752860414
         ],
         "yaxis": "y"
        },
        {
         "alignmentgroup": "True",
         "bingroup": "x",
         "histfunc": "sum",
         "hovertemplate": "emotion=confusion<br>channel=%{x}<br>sum of percentage=%{y}<extra></extra>",
         "legendgroup": "confusion",
         "marker": {
          "color": "rgb(255,242,174)",
          "pattern": {
           "shape": ""
          }
         },
         "name": "confusion",
         "offsetgroup": "confusion",
         "orientation": "v",
         "showlegend": true,
         "type": "histogram",
         "x": [
          "beethoven",
          "mozart",
          "chopin",
          "bach"
         ],
         "xaxis": "x",
         "y": [
          5.447470817120623,
          4.576659038901601,
          3.4303534303534304,
          0.5181347150259068
         ],
         "yaxis": "y"
        },
        {
         "alignmentgroup": "True",
         "bingroup": "x",
         "histfunc": "sum",
         "hovertemplate": "emotion=curiosity<br>channel=%{x}<br>sum of percentage=%{y}<extra></extra>",
         "legendgroup": "curiosity",
         "marker": {
          "color": "rgb(241,226,204)",
          "pattern": {
           "shape": ""
          }
         },
         "name": "curiosity",
         "offsetgroup": "curiosity",
         "orientation": "v",
         "showlegend": true,
         "type": "histogram",
         "x": [
          "chopin",
          "beethoven",
          "bach",
          "mozart"
         ],
         "xaxis": "x",
         "y": [
          4.98960498960499,
          4.669260700389105,
          4.145077720207254,
          3.8901601830663615
         ],
         "yaxis": "y"
        },
        {
         "alignmentgroup": "True",
         "bingroup": "x",
         "histfunc": "sum",
         "hovertemplate": "emotion=desire<br>channel=%{x}<br>sum of percentage=%{y}<extra></extra>",
         "legendgroup": "desire",
         "marker": {
          "color": "rgb(204,204,204)",
          "pattern": {
           "shape": ""
          }
         },
         "name": "desire",
         "offsetgroup": "desire",
         "orientation": "v",
         "showlegend": true,
         "type": "histogram",
         "x": [
          "beethoven",
          "chopin",
          "mozart",
          "bach"
         ],
         "xaxis": "x",
         "y": [
          4.474708171206226,
          4.054054054054054,
          3.6613272311212817,
          0.5181347150259068
         ],
         "yaxis": "y"
        },
        {
         "alignmentgroup": "True",
         "bingroup": "x",
         "histfunc": "sum",
         "hovertemplate": "emotion=disappointment<br>channel=%{x}<br>sum of percentage=%{y}<extra></extra>",
         "legendgroup": "disappointment",
         "marker": {
          "color": "#ab63fa",
          "pattern": {
           "shape": ""
          }
         },
         "name": "disappointment",
         "offsetgroup": "disappointment",
         "orientation": "v",
         "showlegend": true,
         "type": "histogram",
         "x": [
          "chopin",
          "beethoven",
          "mozart"
         ],
         "xaxis": "x",
         "y": [
          4.46985446985447,
          1.9455252918287937,
          1.8306636155606408
         ],
         "yaxis": "y"
        },
        {
         "alignmentgroup": "True",
         "bingroup": "x",
         "histfunc": "sum",
         "hovertemplate": "emotion=caring<br>channel=%{x}<br>sum of percentage=%{y}<extra></extra>",
         "legendgroup": "caring",
         "marker": {
          "color": "rgb(230,245,201)",
          "pattern": {
           "shape": ""
          }
         },
         "name": "caring",
         "offsetgroup": "caring",
         "orientation": "v",
         "showlegend": true,
         "type": "histogram",
         "x": [
          "chopin",
          "mozart",
          "beethoven",
          "bach"
         ],
         "xaxis": "x",
         "y": [
          4.158004158004158,
          2.9748283752860414,
          2.7237354085603114,
          1.0362694300518136
         ],
         "yaxis": "y"
        },
        {
         "alignmentgroup": "True",
         "bingroup": "x",
         "histfunc": "sum",
         "hovertemplate": "emotion=anger<br>channel=%{x}<br>sum of percentage=%{y}<extra></extra>",
         "legendgroup": "anger",
         "marker": {
          "color": "rgb(253,205,172)",
          "pattern": {
           "shape": ""
          }
         },
         "name": "anger",
         "offsetgroup": "anger",
         "orientation": "v",
         "showlegend": true,
         "type": "histogram",
         "x": [
          "bach",
          "beethoven",
          "mozart",
          "chopin"
         ],
         "xaxis": "x",
         "y": [
          4.145077720207254,
          1.7509727626459144,
          0.9153318077803204,
          0.6237006237006237
         ],
         "yaxis": "y"
        },
        {
         "alignmentgroup": "True",
         "bingroup": "x",
         "histfunc": "sum",
         "hovertemplate": "emotion=approval<br>channel=%{x}<br>sum of percentage=%{y}<extra></extra>",
         "legendgroup": "approval",
         "marker": {
          "color": "rgb(244,202,228)",
          "pattern": {
           "shape": ""
          }
         },
         "name": "approval",
         "offsetgroup": "approval",
         "orientation": "v",
         "showlegend": true,
         "type": "histogram",
         "x": [
          "beethoven",
          "mozart",
          "chopin",
          "bach"
         ],
         "xaxis": "x",
         "y": [
          3.501945525291829,
          2.517162471395881,
          2.2869022869022873,
          2.072538860103627
         ],
         "yaxis": "y"
        },
        {
         "alignmentgroup": "True",
         "bingroup": "x",
         "histfunc": "sum",
         "hovertemplate": "emotion=surprise<br>channel=%{x}<br>sum of percentage=%{y}<extra></extra>",
         "legendgroup": "surprise",
         "marker": {
          "color": "#FFA15A",
          "pattern": {
           "shape": ""
          }
         },
         "name": "surprise",
         "offsetgroup": "surprise",
         "orientation": "v",
         "showlegend": true,
         "type": "histogram",
         "x": [
          "beethoven",
          "mozart",
          "chopin"
         ],
         "xaxis": "x",
         "y": [
          2.9182879377431905,
          1.8306636155606408,
          1.7671517671517671
         ],
         "yaxis": "y"
        },
        {
         "alignmentgroup": "True",
         "bingroup": "x",
         "histfunc": "sum",
         "hovertemplate": "emotion=amusement<br>channel=%{x}<br>sum of percentage=%{y}<extra></extra>",
         "legendgroup": "amusement",
         "marker": {
          "color": "#19d3f3",
          "pattern": {
           "shape": ""
          }
         },
         "name": "amusement",
         "offsetgroup": "amusement",
         "orientation": "v",
         "showlegend": true,
         "type": "histogram",
         "x": [
          "beethoven",
          "mozart",
          "chopin"
         ],
         "xaxis": "x",
         "y": [
          2.9182879377431905,
          1.1441647597254003,
          0.9355509355509356
         ],
         "yaxis": "y"
        },
        {
         "alignmentgroup": "True",
         "bingroup": "x",
         "histfunc": "sum",
         "hovertemplate": "emotion=annoyance<br>channel=%{x}<br>sum of percentage=%{y}<extra></extra>",
         "legendgroup": "annoyance",
         "marker": {
          "color": "rgb(203,213,232)",
          "pattern": {
           "shape": ""
          }
         },
         "name": "annoyance",
         "offsetgroup": "annoyance",
         "orientation": "v",
         "showlegend": true,
         "type": "histogram",
         "x": [
          "bach",
          "mozart",
          "chopin",
          "beethoven"
         ],
         "xaxis": "x",
         "y": [
          2.5906735751295336,
          1.6018306636155606,
          1.3513513513513513,
          1.1673151750972763
         ],
         "yaxis": "y"
        },
        {
         "alignmentgroup": "True",
         "bingroup": "x",
         "histfunc": "sum",
         "hovertemplate": "emotion=excitement<br>channel=%{x}<br>sum of percentage=%{y}<extra></extra>",
         "legendgroup": "excitement",
         "marker": {
          "color": "#FF6692",
          "pattern": {
           "shape": ""
          }
         },
         "name": "excitement",
         "offsetgroup": "excitement",
         "orientation": "v",
         "showlegend": true,
         "type": "histogram",
         "x": [
          "bach",
          "beethoven",
          "chopin",
          "mozart"
         ],
         "xaxis": "x",
         "y": [
          2.5906735751295336,
          2.529182879377432,
          1.8711018711018712,
          1.8306636155606408
         ],
         "yaxis": "y"
        },
        {
         "alignmentgroup": "True",
         "bingroup": "x",
         "histfunc": "sum",
         "hovertemplate": "emotion=remorse<br>channel=%{x}<br>sum of percentage=%{y}<extra></extra>",
         "legendgroup": "remorse",
         "marker": {
          "color": "#B6E880",
          "pattern": {
           "shape": ""
          }
         },
         "name": "remorse",
         "offsetgroup": "remorse",
         "orientation": "v",
         "showlegend": true,
         "type": "histogram",
         "x": [
          "mozart",
          "chopin",
          "bach",
          "beethoven"
         ],
         "xaxis": "x",
         "y": [
          2.2883295194508007,
          1.1434511434511436,
          0.5181347150259068,
          0.19455252918287938
         ],
         "yaxis": "y"
        },
        {
         "alignmentgroup": "True",
         "bingroup": "x",
         "histfunc": "sum",
         "hovertemplate": "emotion=disapproval<br>channel=%{x}<br>sum of percentage=%{y}<extra></extra>",
         "legendgroup": "disapproval",
         "marker": {
          "color": "#FF97FF",
          "pattern": {
           "shape": ""
          }
         },
         "name": "disapproval",
         "offsetgroup": "disapproval",
         "orientation": "v",
         "showlegend": true,
         "type": "histogram",
         "x": [
          "beethoven",
          "bach",
          "mozart",
          "chopin"
         ],
         "xaxis": "x",
         "y": [
          1.9455252918287937,
          1.0362694300518136,
          0.6864988558352403,
          0.2079002079002079
         ],
         "yaxis": "y"
        },
        {
         "alignmentgroup": "True",
         "bingroup": "x",
         "histfunc": "sum",
         "hovertemplate": "emotion=realization<br>channel=%{x}<br>sum of percentage=%{y}<extra></extra>",
         "legendgroup": "realization",
         "marker": {
          "color": "#FECB52",
          "pattern": {
           "shape": ""
          }
         },
         "name": "realization",
         "offsetgroup": "realization",
         "orientation": "v",
         "showlegend": true,
         "type": "histogram",
         "x": [
          "chopin",
          "mozart",
          "beethoven",
          "bach"
         ],
         "xaxis": "x",
         "y": [
          1.7671517671517671,
          1.6018306636155606,
          1.3618677042801557,
          1.0362694300518136
         ],
         "yaxis": "y"
        },
        {
         "alignmentgroup": "True",
         "bingroup": "x",
         "histfunc": "sum",
         "hovertemplate": "emotion=fear<br>channel=%{x}<br>sum of percentage=%{y}<extra></extra>",
         "legendgroup": "fear",
         "marker": {
          "color": "#636efa",
          "pattern": {
           "shape": ""
          }
         },
         "name": "fear",
         "offsetgroup": "fear",
         "orientation": "v",
         "showlegend": true,
         "type": "histogram",
         "x": [
          "beethoven",
          "chopin",
          "mozart"
         ],
         "xaxis": "x",
         "y": [
          1.1673151750972763,
          0.6237006237006237,
          0.4576659038901602
         ],
         "yaxis": "y"
        },
        {
         "alignmentgroup": "True",
         "bingroup": "x",
         "histfunc": "sum",
         "hovertemplate": "emotion=disgust<br>channel=%{x}<br>sum of percentage=%{y}<extra></extra>",
         "legendgroup": "disgust",
         "marker": {
          "color": "#EF553B",
          "pattern": {
           "shape": ""
          }
         },
         "name": "disgust",
         "offsetgroup": "disgust",
         "orientation": "v",
         "showlegend": true,
         "type": "histogram",
         "x": [
          "beethoven",
          "chopin",
          "mozart"
         ],
         "xaxis": "x",
         "y": [
          0.7782101167315175,
          0.4158004158004158,
          0.2288329519450801
         ],
         "yaxis": "y"
        },
        {
         "alignmentgroup": "True",
         "bingroup": "x",
         "histfunc": "sum",
         "hovertemplate": "emotion=embarrassment<br>channel=%{x}<br>sum of percentage=%{y}<extra></extra>",
         "legendgroup": "embarrassment",
         "marker": {
          "color": "#00cc96",
          "pattern": {
           "shape": ""
          }
         },
         "name": "embarrassment",
         "offsetgroup": "embarrassment",
         "orientation": "v",
         "showlegend": true,
         "type": "histogram",
         "x": [
          "mozart",
          "chopin",
          "beethoven"
         ],
         "xaxis": "x",
         "y": [
          0.4576659038901602,
          0.4158004158004158,
          0.19455252918287938
         ],
         "yaxis": "y"
        },
        {
         "alignmentgroup": "True",
         "bingroup": "x",
         "histfunc": "sum",
         "hovertemplate": "emotion=nervousness<br>channel=%{x}<br>sum of percentage=%{y}<extra></extra>",
         "legendgroup": "nervousness",
         "marker": {
          "color": "#ab63fa",
          "pattern": {
           "shape": ""
          }
         },
         "name": "nervousness",
         "offsetgroup": "nervousness",
         "orientation": "v",
         "showlegend": true,
         "type": "histogram",
         "x": [
          "beethoven",
          "chopin",
          "mozart"
         ],
         "xaxis": "x",
         "y": [
          0.38910505836575876,
          0.31185031185031187,
          0.2288329519450801
         ],
         "yaxis": "y"
        }
       ],
       "layout": {
        "barmode": "group",
        "height": 400,
        "legend": {
         "title": {
          "text": "emotion"
         },
         "tracegroupgap": 0
        },
        "margin": {
         "t": 60
        },
        "template": {
         "data": {
          "bar": [
           {
            "error_x": {
             "color": "#2a3f5f"
            },
            "error_y": {
             "color": "#2a3f5f"
            },
            "marker": {
             "line": {
              "color": "#E5ECF6",
              "width": 0.5
             },
             "pattern": {
              "fillmode": "overlay",
              "size": 10,
              "solidity": 0.2
             }
            },
            "type": "bar"
           }
          ],
          "barpolar": [
           {
            "marker": {
             "line": {
              "color": "#E5ECF6",
              "width": 0.5
             },
             "pattern": {
              "fillmode": "overlay",
              "size": 10,
              "solidity": 0.2
             }
            },
            "type": "barpolar"
           }
          ],
          "carpet": [
           {
            "aaxis": {
             "endlinecolor": "#2a3f5f",
             "gridcolor": "white",
             "linecolor": "white",
             "minorgridcolor": "white",
             "startlinecolor": "#2a3f5f"
            },
            "baxis": {
             "endlinecolor": "#2a3f5f",
             "gridcolor": "white",
             "linecolor": "white",
             "minorgridcolor": "white",
             "startlinecolor": "#2a3f5f"
            },
            "type": "carpet"
           }
          ],
          "choropleth": [
           {
            "colorbar": {
             "outlinewidth": 0,
             "ticks": ""
            },
            "type": "choropleth"
           }
          ],
          "contour": [
           {
            "colorbar": {
             "outlinewidth": 0,
             "ticks": ""
            },
            "colorscale": [
             [
              0,
              "#0d0887"
             ],
             [
              0.1111111111111111,
              "#46039f"
             ],
             [
              0.2222222222222222,
              "#7201a8"
             ],
             [
              0.3333333333333333,
              "#9c179e"
             ],
             [
              0.4444444444444444,
              "#bd3786"
             ],
             [
              0.5555555555555556,
              "#d8576b"
             ],
             [
              0.6666666666666666,
              "#ed7953"
             ],
             [
              0.7777777777777778,
              "#fb9f3a"
             ],
             [
              0.8888888888888888,
              "#fdca26"
             ],
             [
              1,
              "#f0f921"
             ]
            ],
            "type": "contour"
           }
          ],
          "contourcarpet": [
           {
            "colorbar": {
             "outlinewidth": 0,
             "ticks": ""
            },
            "type": "contourcarpet"
           }
          ],
          "heatmap": [
           {
            "colorbar": {
             "outlinewidth": 0,
             "ticks": ""
            },
            "colorscale": [
             [
              0,
              "#0d0887"
             ],
             [
              0.1111111111111111,
              "#46039f"
             ],
             [
              0.2222222222222222,
              "#7201a8"
             ],
             [
              0.3333333333333333,
              "#9c179e"
             ],
             [
              0.4444444444444444,
              "#bd3786"
             ],
             [
              0.5555555555555556,
              "#d8576b"
             ],
             [
              0.6666666666666666,
              "#ed7953"
             ],
             [
              0.7777777777777778,
              "#fb9f3a"
             ],
             [
              0.8888888888888888,
              "#fdca26"
             ],
             [
              1,
              "#f0f921"
             ]
            ],
            "type": "heatmap"
           }
          ],
          "heatmapgl": [
           {
            "colorbar": {
             "outlinewidth": 0,
             "ticks": ""
            },
            "colorscale": [
             [
              0,
              "#0d0887"
             ],
             [
              0.1111111111111111,
              "#46039f"
             ],
             [
              0.2222222222222222,
              "#7201a8"
             ],
             [
              0.3333333333333333,
              "#9c179e"
             ],
             [
              0.4444444444444444,
              "#bd3786"
             ],
             [
              0.5555555555555556,
              "#d8576b"
             ],
             [
              0.6666666666666666,
              "#ed7953"
             ],
             [
              0.7777777777777778,
              "#fb9f3a"
             ],
             [
              0.8888888888888888,
              "#fdca26"
             ],
             [
              1,
              "#f0f921"
             ]
            ],
            "type": "heatmapgl"
           }
          ],
          "histogram": [
           {
            "marker": {
             "pattern": {
              "fillmode": "overlay",
              "size": 10,
              "solidity": 0.2
             }
            },
            "type": "histogram"
           }
          ],
          "histogram2d": [
           {
            "colorbar": {
             "outlinewidth": 0,
             "ticks": ""
            },
            "colorscale": [
             [
              0,
              "#0d0887"
             ],
             [
              0.1111111111111111,
              "#46039f"
             ],
             [
              0.2222222222222222,
              "#7201a8"
             ],
             [
              0.3333333333333333,
              "#9c179e"
             ],
             [
              0.4444444444444444,
              "#bd3786"
             ],
             [
              0.5555555555555556,
              "#d8576b"
             ],
             [
              0.6666666666666666,
              "#ed7953"
             ],
             [
              0.7777777777777778,
              "#fb9f3a"
             ],
             [
              0.8888888888888888,
              "#fdca26"
             ],
             [
              1,
              "#f0f921"
             ]
            ],
            "type": "histogram2d"
           }
          ],
          "histogram2dcontour": [
           {
            "colorbar": {
             "outlinewidth": 0,
             "ticks": ""
            },
            "colorscale": [
             [
              0,
              "#0d0887"
             ],
             [
              0.1111111111111111,
              "#46039f"
             ],
             [
              0.2222222222222222,
              "#7201a8"
             ],
             [
              0.3333333333333333,
              "#9c179e"
             ],
             [
              0.4444444444444444,
              "#bd3786"
             ],
             [
              0.5555555555555556,
              "#d8576b"
             ],
             [
              0.6666666666666666,
              "#ed7953"
             ],
             [
              0.7777777777777778,
              "#fb9f3a"
             ],
             [
              0.8888888888888888,
              "#fdca26"
             ],
             [
              1,
              "#f0f921"
             ]
            ],
            "type": "histogram2dcontour"
           }
          ],
          "mesh3d": [
           {
            "colorbar": {
             "outlinewidth": 0,
             "ticks": ""
            },
            "type": "mesh3d"
           }
          ],
          "parcoords": [
           {
            "line": {
             "colorbar": {
              "outlinewidth": 0,
              "ticks": ""
             }
            },
            "type": "parcoords"
           }
          ],
          "pie": [
           {
            "automargin": true,
            "type": "pie"
           }
          ],
          "scatter": [
           {
            "fillpattern": {
             "fillmode": "overlay",
             "size": 10,
             "solidity": 0.2
            },
            "type": "scatter"
           }
          ],
          "scatter3d": [
           {
            "line": {
             "colorbar": {
              "outlinewidth": 0,
              "ticks": ""
             }
            },
            "marker": {
             "colorbar": {
              "outlinewidth": 0,
              "ticks": ""
             }
            },
            "type": "scatter3d"
           }
          ],
          "scattercarpet": [
           {
            "marker": {
             "colorbar": {
              "outlinewidth": 0,
              "ticks": ""
             }
            },
            "type": "scattercarpet"
           }
          ],
          "scattergeo": [
           {
            "marker": {
             "colorbar": {
              "outlinewidth": 0,
              "ticks": ""
             }
            },
            "type": "scattergeo"
           }
          ],
          "scattergl": [
           {
            "marker": {
             "colorbar": {
              "outlinewidth": 0,
              "ticks": ""
             }
            },
            "type": "scattergl"
           }
          ],
          "scattermapbox": [
           {
            "marker": {
             "colorbar": {
              "outlinewidth": 0,
              "ticks": ""
             }
            },
            "type": "scattermapbox"
           }
          ],
          "scatterpolar": [
           {
            "marker": {
             "colorbar": {
              "outlinewidth": 0,
              "ticks": ""
             }
            },
            "type": "scatterpolar"
           }
          ],
          "scatterpolargl": [
           {
            "marker": {
             "colorbar": {
              "outlinewidth": 0,
              "ticks": ""
             }
            },
            "type": "scatterpolargl"
           }
          ],
          "scatterternary": [
           {
            "marker": {
             "colorbar": {
              "outlinewidth": 0,
              "ticks": ""
             }
            },
            "type": "scatterternary"
           }
          ],
          "surface": [
           {
            "colorbar": {
             "outlinewidth": 0,
             "ticks": ""
            },
            "colorscale": [
             [
              0,
              "#0d0887"
             ],
             [
              0.1111111111111111,
              "#46039f"
             ],
             [
              0.2222222222222222,
              "#7201a8"
             ],
             [
              0.3333333333333333,
              "#9c179e"
             ],
             [
              0.4444444444444444,
              "#bd3786"
             ],
             [
              0.5555555555555556,
              "#d8576b"
             ],
             [
              0.6666666666666666,
              "#ed7953"
             ],
             [
              0.7777777777777778,
              "#fb9f3a"
             ],
             [
              0.8888888888888888,
              "#fdca26"
             ],
             [
              1,
              "#f0f921"
             ]
            ],
            "type": "surface"
           }
          ],
          "table": [
           {
            "cells": {
             "fill": {
              "color": "#EBF0F8"
             },
             "line": {
              "color": "white"
             }
            },
            "header": {
             "fill": {
              "color": "#C8D4E3"
             },
             "line": {
              "color": "white"
             }
            },
            "type": "table"
           }
          ]
         },
         "layout": {
          "annotationdefaults": {
           "arrowcolor": "#2a3f5f",
           "arrowhead": 0,
           "arrowwidth": 1
          },
          "autotypenumbers": "strict",
          "coloraxis": {
           "colorbar": {
            "outlinewidth": 0,
            "ticks": ""
           }
          },
          "colorscale": {
           "diverging": [
            [
             0,
             "#8e0152"
            ],
            [
             0.1,
             "#c51b7d"
            ],
            [
             0.2,
             "#de77ae"
            ],
            [
             0.3,
             "#f1b6da"
            ],
            [
             0.4,
             "#fde0ef"
            ],
            [
             0.5,
             "#f7f7f7"
            ],
            [
             0.6,
             "#e6f5d0"
            ],
            [
             0.7,
             "#b8e186"
            ],
            [
             0.8,
             "#7fbc41"
            ],
            [
             0.9,
             "#4d9221"
            ],
            [
             1,
             "#276419"
            ]
           ],
           "sequential": [
            [
             0,
             "#0d0887"
            ],
            [
             0.1111111111111111,
             "#46039f"
            ],
            [
             0.2222222222222222,
             "#7201a8"
            ],
            [
             0.3333333333333333,
             "#9c179e"
            ],
            [
             0.4444444444444444,
             "#bd3786"
            ],
            [
             0.5555555555555556,
             "#d8576b"
            ],
            [
             0.6666666666666666,
             "#ed7953"
            ],
            [
             0.7777777777777778,
             "#fb9f3a"
            ],
            [
             0.8888888888888888,
             "#fdca26"
            ],
            [
             1,
             "#f0f921"
            ]
           ],
           "sequentialminus": [
            [
             0,
             "#0d0887"
            ],
            [
             0.1111111111111111,
             "#46039f"
            ],
            [
             0.2222222222222222,
             "#7201a8"
            ],
            [
             0.3333333333333333,
             "#9c179e"
            ],
            [
             0.4444444444444444,
             "#bd3786"
            ],
            [
             0.5555555555555556,
             "#d8576b"
            ],
            [
             0.6666666666666666,
             "#ed7953"
            ],
            [
             0.7777777777777778,
             "#fb9f3a"
            ],
            [
             0.8888888888888888,
             "#fdca26"
            ],
            [
             1,
             "#f0f921"
            ]
           ]
          },
          "colorway": [
           "#636efa",
           "#EF553B",
           "#00cc96",
           "#ab63fa",
           "#FFA15A",
           "#19d3f3",
           "#FF6692",
           "#B6E880",
           "#FF97FF",
           "#FECB52"
          ],
          "font": {
           "color": "#2a3f5f"
          },
          "geo": {
           "bgcolor": "white",
           "lakecolor": "white",
           "landcolor": "#E5ECF6",
           "showlakes": true,
           "showland": true,
           "subunitcolor": "white"
          },
          "hoverlabel": {
           "align": "left"
          },
          "hovermode": "closest",
          "mapbox": {
           "style": "light"
          },
          "paper_bgcolor": "white",
          "plot_bgcolor": "#E5ECF6",
          "polar": {
           "angularaxis": {
            "gridcolor": "white",
            "linecolor": "white",
            "ticks": ""
           },
           "bgcolor": "#E5ECF6",
           "radialaxis": {
            "gridcolor": "white",
            "linecolor": "white",
            "ticks": ""
           }
          },
          "scene": {
           "xaxis": {
            "backgroundcolor": "#E5ECF6",
            "gridcolor": "white",
            "gridwidth": 2,
            "linecolor": "white",
            "showbackground": true,
            "ticks": "",
            "zerolinecolor": "white"
           },
           "yaxis": {
            "backgroundcolor": "#E5ECF6",
            "gridcolor": "white",
            "gridwidth": 2,
            "linecolor": "white",
            "showbackground": true,
            "ticks": "",
            "zerolinecolor": "white"
           },
           "zaxis": {
            "backgroundcolor": "#E5ECF6",
            "gridcolor": "white",
            "gridwidth": 2,
            "linecolor": "white",
            "showbackground": true,
            "ticks": "",
            "zerolinecolor": "white"
           }
          },
          "shapedefaults": {
           "line": {
            "color": "#2a3f5f"
           }
          },
          "ternary": {
           "aaxis": {
            "gridcolor": "white",
            "linecolor": "white",
            "ticks": ""
           },
           "baxis": {
            "gridcolor": "white",
            "linecolor": "white",
            "ticks": ""
           },
           "bgcolor": "#E5ECF6",
           "caxis": {
            "gridcolor": "white",
            "linecolor": "white",
            "ticks": ""
           }
          },
          "title": {
           "x": 0.05
          },
          "xaxis": {
           "automargin": true,
           "gridcolor": "white",
           "linecolor": "white",
           "ticks": "",
           "title": {
            "standoff": 15
           },
           "zerolinecolor": "white",
           "zerolinewidth": 2
          },
          "yaxis": {
           "automargin": true,
           "gridcolor": "white",
           "linecolor": "white",
           "ticks": "",
           "title": {
            "standoff": 15
           },
           "zerolinecolor": "white",
           "zerolinewidth": 2
          }
         }
        },
        "title": {
         "text": "classical"
        },
        "xaxis": {
         "anchor": "y",
         "domain": [
          0,
          1
         ],
         "title": {
          "text": "Artist"
         }
        },
        "yaxis": {
         "anchor": "x",
         "domain": [
          0,
          1
         ],
         "title": {
          "text": "Percentage of comments"
         }
        }
       }
      }
     },
     "metadata": {},
     "output_type": "display_data"
    },
    {
     "data": {
      "application/vnd.plotly.v1+json": {
       "config": {
        "plotlyServerURL": "https://plot.ly"
       },
       "data": [
        {
         "alignmentgroup": "True",
         "bingroup": "x",
         "histfunc": "sum",
         "hovertemplate": "emotion=admiration<br>channel=%{x}<br>sum of percentage=%{y}<extra></extra>",
         "legendgroup": "admiration",
         "marker": {
          "color": "rgb(179,226,205)",
          "pattern": {
           "shape": ""
          }
         },
         "name": "admiration",
         "offsetgroup": "admiration",
         "orientation": "v",
         "showlegend": true,
         "type": "histogram",
         "x": [
          "ariana_grande",
          "olivia",
          "malone",
          "billie_eilish",
          "taylor_swift",
          "ed_sheeran"
         ],
         "xaxis": "x",
         "y": [
          36.74293405114401,
          32.794830371567045,
          31.818181818181817,
          28.25278810408922,
          27.833333333333332,
          23.153803442531924
         ],
         "yaxis": "y"
        },
        {
         "alignmentgroup": "True",
         "bingroup": "x",
         "histfunc": "sum",
         "hovertemplate": "emotion=love<br>channel=%{x}<br>sum of percentage=%{y}<extra></extra>",
         "legendgroup": "love",
         "marker": {
          "color": "#FF97FF",
          "pattern": {
           "shape": ""
          }
         },
         "name": "love",
         "offsetgroup": "love",
         "orientation": "v",
         "showlegend": true,
         "type": "histogram",
         "x": [
          "ed_sheeran",
          "billie_eilish",
          "taylor_swift",
          "ariana_grande",
          "malone",
          "olivia"
         ],
         "xaxis": "x",
         "y": [
          30.705163797890062,
          27.199504337050804,
          26.333333333333332,
          25.3028263795424,
          19.93006993006993,
          19.22455573505654
         ],
         "yaxis": "y"
        },
        {
         "alignmentgroup": "True",
         "bingroup": "x",
         "histfunc": "sum",
         "hovertemplate": "emotion=gratitude<br>channel=%{x}<br>sum of percentage=%{y}<extra></extra>",
         "legendgroup": "gratitude",
         "marker": {
          "color": "#FECB52",
          "pattern": {
           "shape": ""
          }
         },
         "name": "gratitude",
         "offsetgroup": "gratitude",
         "orientation": "v",
         "showlegend": true,
         "type": "histogram",
         "x": [
          "ed_sheeran",
          "malone",
          "billie_eilish",
          "taylor_swift",
          "ariana_grande",
          "olivia"
         ],
         "xaxis": "x",
         "y": [
          16.60188784008884,
          12.004662004662006,
          9.355638166047088,
          8.333333333333332,
          6.998654104979811,
          5.977382875605816
         ],
         "yaxis": "y"
        },
        {
         "alignmentgroup": "True",
         "bingroup": "x",
         "histfunc": "sum",
         "hovertemplate": "emotion=sadness<br>channel=%{x}<br>sum of percentage=%{y}<extra></extra>",
         "legendgroup": "sadness",
         "marker": {
          "color": "#636efa",
          "pattern": {
           "shape": ""
          }
         },
         "name": "sadness",
         "offsetgroup": "sadness",
         "orientation": "v",
         "showlegend": true,
         "type": "histogram",
         "x": [
          "ed_sheeran",
          "billie_eilish",
          "olivia",
          "ariana_grande",
          "taylor_swift",
          "malone"
         ],
         "xaxis": "x",
         "y": [
          8.995002776235426,
          8.736059479553903,
          6.623586429725363,
          4.8452220726783315,
          3.5000000000000004,
          3.4965034965034967
         ],
         "yaxis": "y"
        },
        {
         "alignmentgroup": "True",
         "bingroup": "x",
         "histfunc": "sum",
         "hovertemplate": "emotion=joy<br>channel=%{x}<br>sum of percentage=%{y}<extra></extra>",
         "legendgroup": "joy",
         "marker": {
          "color": "#EF553B",
          "pattern": {
           "shape": ""
          }
         },
         "name": "joy",
         "offsetgroup": "joy",
         "orientation": "v",
         "showlegend": true,
         "type": "histogram",
         "x": [
          "malone",
          "olivia",
          "billie_eilish",
          "taylor_swift",
          "ariana_grande",
          "ed_sheeran"
         ],
         "xaxis": "x",
         "y": [
          5.827505827505827,
          4.846526655896607,
          4.708798017348203,
          4.666666666666667,
          3.4993270524899054,
          2.8872848417545804
         ],
         "yaxis": "y"
        },
        {
         "alignmentgroup": "True",
         "bingroup": "x",
         "histfunc": "sum",
         "hovertemplate": "emotion=excitement<br>channel=%{x}<br>sum of percentage=%{y}<extra></extra>",
         "legendgroup": "excitement",
         "marker": {
          "color": "#00cc96",
          "pattern": {
           "shape": ""
          }
         },
         "name": "excitement",
         "offsetgroup": "excitement",
         "orientation": "v",
         "showlegend": true,
         "type": "histogram",
         "x": [
          "taylor_swift",
          "olivia",
          "ariana_grande",
          "ed_sheeran",
          "billie_eilish",
          "malone"
         ],
         "xaxis": "x",
         "y": [
          5.666666666666666,
          4.846526655896607,
          2.6917900403768504,
          2.109938922820655,
          2.1065675340768277,
          1.3986013986013985
         ],
         "yaxis": "y"
        },
        {
         "alignmentgroup": "True",
         "bingroup": "x",
         "histfunc": "sum",
         "hovertemplate": "emotion=desire<br>channel=%{x}<br>sum of percentage=%{y}<extra></extra>",
         "legendgroup": "desire",
         "marker": {
          "color": "rgb(204,204,204)",
          "pattern": {
           "shape": ""
          }
         },
         "name": "desire",
         "offsetgroup": "desire",
         "orientation": "v",
         "showlegend": true,
         "type": "histogram",
         "x": [
          "taylor_swift",
          "malone",
          "olivia",
          "ed_sheeran",
          "billie_eilish",
          "ariana_grande"
         ],
         "xaxis": "x",
         "y": [
          4,
          3.8461538461538463,
          3.5541195476575123,
          2.7762354247640197,
          2.292441140024783,
          2.2880215343203227
         ],
         "yaxis": "y"
        },
        {
         "alignmentgroup": "True",
         "bingroup": "x",
         "histfunc": "sum",
         "hovertemplate": "emotion=optimism<br>channel=%{x}<br>sum of percentage=%{y}<extra></extra>",
         "legendgroup": "optimism",
         "marker": {
          "color": "#ab63fa",
          "pattern": {
           "shape": ""
          }
         },
         "name": "optimism",
         "offsetgroup": "optimism",
         "orientation": "v",
         "showlegend": true,
         "type": "histogram",
         "x": [
          "olivia",
          "billie_eilish",
          "malone",
          "ariana_grande",
          "taylor_swift",
          "ed_sheeran"
         ],
         "xaxis": "x",
         "y": [
          3.877221324717286,
          3.1598513011152414,
          2.4475524475524475,
          2.4226110363391657,
          2.166666666666667,
          2.0544142143253747
         ],
         "yaxis": "y"
        },
        {
         "alignmentgroup": "True",
         "bingroup": "x",
         "histfunc": "sum",
         "hovertemplate": "emotion=approval<br>channel=%{x}<br>sum of percentage=%{y}<extra></extra>",
         "legendgroup": "approval",
         "marker": {
          "color": "rgb(244,202,228)",
          "pattern": {
           "shape": ""
          }
         },
         "name": "approval",
         "offsetgroup": "approval",
         "orientation": "v",
         "showlegend": true,
         "type": "histogram",
         "x": [
          "malone",
          "ariana_grande",
          "ed_sheeran",
          "taylor_swift",
          "olivia",
          "billie_eilish"
         ],
         "xaxis": "x",
         "y": [
          3.613053613053613,
          2.1534320323014806,
          1.5546918378678511,
          1.1666666666666667,
          1.1308562197092082,
          1.1152416356877324
         ],
         "yaxis": "y"
        },
        {
         "alignmentgroup": "True",
         "bingroup": "x",
         "histfunc": "sum",
         "hovertemplate": "emotion=caring<br>channel=%{x}<br>sum of percentage=%{y}<extra></extra>",
         "legendgroup": "caring",
         "marker": {
          "color": "rgb(230,245,201)",
          "pattern": {
           "shape": ""
          }
         },
         "name": "caring",
         "offsetgroup": "caring",
         "orientation": "v",
         "showlegend": true,
         "type": "histogram",
         "x": [
          "malone",
          "taylor_swift",
          "billie_eilish",
          "olivia",
          "ed_sheeran",
          "ariana_grande"
         ],
         "xaxis": "x",
         "y": [
          3.146853146853147,
          1.8333333333333333,
          1.2391573729863694,
          1.1308562197092082,
          0.9994447529150472,
          0.6729475100942126
         ],
         "yaxis": "y"
        },
        {
         "alignmentgroup": "True",
         "bingroup": "x",
         "histfunc": "sum",
         "hovertemplate": "emotion=confusion<br>channel=%{x}<br>sum of percentage=%{y}<extra></extra>",
         "legendgroup": "confusion",
         "marker": {
          "color": "rgb(255,242,174)",
          "pattern": {
           "shape": ""
          }
         },
         "name": "confusion",
         "offsetgroup": "confusion",
         "orientation": "v",
         "showlegend": true,
         "type": "histogram",
         "x": [
          "malone",
          "taylor_swift",
          "ariana_grande",
          "olivia",
          "billie_eilish",
          "ed_sheeran"
         ],
         "xaxis": "x",
         "y": [
          2.9137529137529135,
          2.5,
          2.1534320323014806,
          1.7770597738287561,
          1.6109045848822798,
          1.3881177123820099
         ],
         "yaxis": "y"
        },
        {
         "alignmentgroup": "True",
         "bingroup": "x",
         "histfunc": "sum",
         "hovertemplate": "emotion=annoyance<br>channel=%{x}<br>sum of percentage=%{y}<extra></extra>",
         "legendgroup": "annoyance",
         "marker": {
          "color": "rgb(203,213,232)",
          "pattern": {
           "shape": ""
          }
         },
         "name": "annoyance",
         "offsetgroup": "annoyance",
         "orientation": "v",
         "showlegend": true,
         "type": "histogram",
         "x": [
          "olivia",
          "malone",
          "ed_sheeran",
          "billie_eilish",
          "ariana_grande",
          "taylor_swift"
         ],
         "xaxis": "x",
         "y": [
          2.5848142164781907,
          1.048951048951049,
          0.9994447529150472,
          0.7434944237918215,
          0.6729475100942126,
          0.5
         ],
         "yaxis": "y"
        },
        {
         "alignmentgroup": "True",
         "bingroup": "x",
         "histfunc": "sum",
         "hovertemplate": "emotion=amusement<br>channel=%{x}<br>sum of percentage=%{y}<extra></extra>",
         "legendgroup": "amusement",
         "marker": {
          "color": "#FFA15A",
          "pattern": {
           "shape": ""
          }
         },
         "name": "amusement",
         "offsetgroup": "amusement",
         "orientation": "v",
         "showlegend": true,
         "type": "histogram",
         "x": [
          "olivia",
          "malone",
          "taylor_swift",
          "ariana_grande",
          "ed_sheeran",
          "billie_eilish"
         ],
         "xaxis": "x",
         "y": [
          2.2617124394184165,
          1.3986013986013985,
          1.3333333333333335,
          0.9421265141318977,
          0.6662965019433648,
          0.6195786864931847
         ],
         "yaxis": "y"
        },
        {
         "alignmentgroup": "True",
         "bingroup": "x",
         "histfunc": "sum",
         "hovertemplate": "emotion=curiosity<br>channel=%{x}<br>sum of percentage=%{y}<extra></extra>",
         "legendgroup": "curiosity",
         "marker": {
          "color": "rgb(241,226,204)",
          "pattern": {
           "shape": ""
          }
         },
         "name": "curiosity",
         "offsetgroup": "curiosity",
         "orientation": "v",
         "showlegend": true,
         "type": "histogram",
         "x": [
          "taylor_swift",
          "olivia",
          "malone",
          "billie_eilish",
          "ariana_grande",
          "ed_sheeran"
         ],
         "xaxis": "x",
         "y": [
          2,
          1.2924071082390953,
          0.9324009324009324,
          0.929368029739777,
          0.8075370121130552,
          0.44419766796224325
         ],
         "yaxis": "y"
        },
        {
         "alignmentgroup": "True",
         "bingroup": "x",
         "histfunc": "sum",
         "hovertemplate": "emotion=remorse<br>channel=%{x}<br>sum of percentage=%{y}<extra></extra>",
         "legendgroup": "remorse",
         "marker": {
          "color": "#19d3f3",
          "pattern": {
           "shape": ""
          }
         },
         "name": "remorse",
         "offsetgroup": "remorse",
         "orientation": "v",
         "showlegend": true,
         "type": "histogram",
         "x": [
          "ariana_grande",
          "taylor_swift",
          "billie_eilish",
          "ed_sheeran",
          "olivia",
          "malone"
         ],
         "xaxis": "x",
         "y": [
          1.8842530282637955,
          1.3333333333333335,
          0.8054522924411399,
          0.6662965019433648,
          0.6462035541195477,
          0.5827505827505828
         ],
         "yaxis": "y"
        },
        {
         "alignmentgroup": "True",
         "bingroup": "x",
         "histfunc": "sum",
         "hovertemplate": "emotion=disapproval<br>channel=%{x}<br>sum of percentage=%{y}<extra></extra>",
         "legendgroup": "disapproval",
         "marker": {
          "color": "#FF6692",
          "pattern": {
           "shape": ""
          }
         },
         "name": "disapproval",
         "offsetgroup": "disapproval",
         "orientation": "v",
         "showlegend": true,
         "type": "histogram",
         "x": [
          "taylor_swift",
          "ariana_grande",
          "olivia",
          "billie_eilish",
          "malone",
          "ed_sheeran"
         ],
         "xaxis": "x",
         "y": [
          1.8333333333333333,
          1.4804845222072678,
          0.9693053311793215,
          0.929368029739777,
          0.5827505827505828,
          0.3331482509716824
         ],
         "yaxis": "y"
        },
        {
         "alignmentgroup": "True",
         "bingroup": "x",
         "histfunc": "sum",
         "hovertemplate": "emotion=anger<br>channel=%{x}<br>sum of percentage=%{y}<extra></extra>",
         "legendgroup": "anger",
         "marker": {
          "color": "rgb(253,205,172)",
          "pattern": {
           "shape": ""
          }
         },
         "name": "anger",
         "offsetgroup": "anger",
         "orientation": "v",
         "showlegend": true,
         "type": "histogram",
         "x": [
          "olivia",
          "ariana_grande",
          "billie_eilish",
          "ed_sheeran",
          "taylor_swift"
         ],
         "xaxis": "x",
         "y": [
          1.7770597738287561,
          1.0767160161507403,
          0.8054522924411399,
          0.3886729594669628,
          0.33333333333333337
         ],
         "yaxis": "y"
        },
        {
         "alignmentgroup": "True",
         "bingroup": "x",
         "histfunc": "sum",
         "hovertemplate": "emotion=realization<br>channel=%{x}<br>sum of percentage=%{y}<extra></extra>",
         "legendgroup": "realization",
         "marker": {
          "color": "#B6E880",
          "pattern": {
           "shape": ""
          }
         },
         "name": "realization",
         "offsetgroup": "realization",
         "orientation": "v",
         "showlegend": true,
         "type": "histogram",
         "x": [
          "olivia",
          "taylor_swift",
          "ed_sheeran",
          "malone",
          "billie_eilish",
          "ariana_grande"
         ],
         "xaxis": "x",
         "y": [
          1.7770597738287561,
          1.3333333333333335,
          1.0549694614103275,
          1.048951048951049,
          0.8674101610904585,
          0.6729475100942126
         ],
         "yaxis": "y"
        },
        {
         "alignmentgroup": "True",
         "bingroup": "x",
         "histfunc": "sum",
         "hovertemplate": "emotion=surprise<br>channel=%{x}<br>sum of percentage=%{y}<extra></extra>",
         "legendgroup": "surprise",
         "marker": {
          "color": "#FF97FF",
          "pattern": {
           "shape": ""
          }
         },
         "name": "surprise",
         "offsetgroup": "surprise",
         "orientation": "v",
         "showlegend": true,
         "type": "histogram",
         "x": [
          "billie_eilish",
          "ariana_grande",
          "taylor_swift",
          "malone",
          "ed_sheeran",
          "olivia"
         ],
         "xaxis": "x",
         "y": [
          1.734820322180917,
          1.4804845222072678,
          1.1666666666666667,
          0.9324009324009324,
          0.5552470849528041,
          0.48465266558966075
         ],
         "yaxis": "y"
        },
        {
         "alignmentgroup": "True",
         "bingroup": "x",
         "histfunc": "sum",
         "hovertemplate": "emotion=disappointment<br>channel=%{x}<br>sum of percentage=%{y}<extra></extra>",
         "legendgroup": "disappointment",
         "marker": {
          "color": "#FECB52",
          "pattern": {
           "shape": ""
          }
         },
         "name": "disappointment",
         "offsetgroup": "disappointment",
         "orientation": "v",
         "showlegend": true,
         "type": "histogram",
         "x": [
          "taylor_swift",
          "billie_eilish",
          "malone",
          "ed_sheeran",
          "olivia",
          "ariana_grande"
         ],
         "xaxis": "x",
         "y": [
          1.6666666666666667,
          1.3011152416356877,
          1.1655011655011656,
          1.1104941699056081,
          0.9693053311793215,
          0.6729475100942126
         ],
         "yaxis": "y"
        },
        {
         "alignmentgroup": "True",
         "bingroup": "x",
         "histfunc": "sum",
         "hovertemplate": "emotion=fear<br>channel=%{x}<br>sum of percentage=%{y}<extra></extra>",
         "legendgroup": "fear",
         "marker": {
          "color": "#636efa",
          "pattern": {
           "shape": ""
          }
         },
         "name": "fear",
         "offsetgroup": "fear",
         "orientation": "v",
         "showlegend": true,
         "type": "histogram",
         "x": [
          "malone",
          "billie_eilish",
          "ed_sheeran",
          "ariana_grande"
         ],
         "xaxis": "x",
         "y": [
          1.048951048951049,
          0.6815365551425031,
          0.3886729594669628,
          0.13458950201884254
         ],
         "yaxis": "y"
        },
        {
         "alignmentgroup": "True",
         "bingroup": "x",
         "histfunc": "sum",
         "hovertemplate": "emotion=embarrassment<br>channel=%{x}<br>sum of percentage=%{y}<extra></extra>",
         "legendgroup": "embarrassment",
         "marker": {
          "color": "#EF553B",
          "pattern": {
           "shape": ""
          }
         },
         "name": "embarrassment",
         "offsetgroup": "embarrassment",
         "orientation": "v",
         "showlegend": true,
         "type": "histogram",
         "x": [
          "olivia",
          "billie_eilish",
          "malone"
         ],
         "xaxis": "x",
         "y": [
          0.9693053311793215,
          0.18587360594795538,
          0.11655011655011654
         ],
         "yaxis": "y"
        },
        {
         "alignmentgroup": "True",
         "bingroup": "x",
         "histfunc": "sum",
         "hovertemplate": "emotion=disgust<br>channel=%{x}<br>sum of percentage=%{y}<extra></extra>",
         "legendgroup": "disgust",
         "marker": {
          "color": "#00cc96",
          "pattern": {
           "shape": ""
          }
         },
         "name": "disgust",
         "offsetgroup": "disgust",
         "orientation": "v",
         "showlegend": true,
         "type": "histogram",
         "x": [
          "malone",
          "olivia",
          "ariana_grande",
          "billie_eilish",
          "taylor_swift",
          "ed_sheeran"
         ],
         "xaxis": "x",
         "y": [
          0.6993006993006993,
          0.48465266558966075,
          0.4037685060565276,
          0.37174721189591076,
          0.16666666666666669,
          0.1665741254858412
         ],
         "yaxis": "y"
        },
        {
         "alignmentgroup": "True",
         "bingroup": "x",
         "histfunc": "sum",
         "hovertemplate": "emotion=nervousness<br>channel=%{x}<br>sum of percentage=%{y}<extra></extra>",
         "legendgroup": "nervousness",
         "marker": {
          "color": "#ab63fa",
          "pattern": {
           "shape": ""
          }
         },
         "name": "nervousness",
         "offsetgroup": "nervousness",
         "orientation": "v",
         "showlegend": true,
         "type": "histogram",
         "x": [
          "taylor_swift",
          "billie_eilish"
         ],
         "xaxis": "x",
         "y": [
          0.33333333333333337,
          0.24783147459727387
         ],
         "yaxis": "y"
        }
       ],
       "layout": {
        "barmode": "group",
        "height": 400,
        "legend": {
         "title": {
          "text": "emotion"
         },
         "tracegroupgap": 0
        },
        "margin": {
         "t": 60
        },
        "template": {
         "data": {
          "bar": [
           {
            "error_x": {
             "color": "#2a3f5f"
            },
            "error_y": {
             "color": "#2a3f5f"
            },
            "marker": {
             "line": {
              "color": "#E5ECF6",
              "width": 0.5
             },
             "pattern": {
              "fillmode": "overlay",
              "size": 10,
              "solidity": 0.2
             }
            },
            "type": "bar"
           }
          ],
          "barpolar": [
           {
            "marker": {
             "line": {
              "color": "#E5ECF6",
              "width": 0.5
             },
             "pattern": {
              "fillmode": "overlay",
              "size": 10,
              "solidity": 0.2
             }
            },
            "type": "barpolar"
           }
          ],
          "carpet": [
           {
            "aaxis": {
             "endlinecolor": "#2a3f5f",
             "gridcolor": "white",
             "linecolor": "white",
             "minorgridcolor": "white",
             "startlinecolor": "#2a3f5f"
            },
            "baxis": {
             "endlinecolor": "#2a3f5f",
             "gridcolor": "white",
             "linecolor": "white",
             "minorgridcolor": "white",
             "startlinecolor": "#2a3f5f"
            },
            "type": "carpet"
           }
          ],
          "choropleth": [
           {
            "colorbar": {
             "outlinewidth": 0,
             "ticks": ""
            },
            "type": "choropleth"
           }
          ],
          "contour": [
           {
            "colorbar": {
             "outlinewidth": 0,
             "ticks": ""
            },
            "colorscale": [
             [
              0,
              "#0d0887"
             ],
             [
              0.1111111111111111,
              "#46039f"
             ],
             [
              0.2222222222222222,
              "#7201a8"
             ],
             [
              0.3333333333333333,
              "#9c179e"
             ],
             [
              0.4444444444444444,
              "#bd3786"
             ],
             [
              0.5555555555555556,
              "#d8576b"
             ],
             [
              0.6666666666666666,
              "#ed7953"
             ],
             [
              0.7777777777777778,
              "#fb9f3a"
             ],
             [
              0.8888888888888888,
              "#fdca26"
             ],
             [
              1,
              "#f0f921"
             ]
            ],
            "type": "contour"
           }
          ],
          "contourcarpet": [
           {
            "colorbar": {
             "outlinewidth": 0,
             "ticks": ""
            },
            "type": "contourcarpet"
           }
          ],
          "heatmap": [
           {
            "colorbar": {
             "outlinewidth": 0,
             "ticks": ""
            },
            "colorscale": [
             [
              0,
              "#0d0887"
             ],
             [
              0.1111111111111111,
              "#46039f"
             ],
             [
              0.2222222222222222,
              "#7201a8"
             ],
             [
              0.3333333333333333,
              "#9c179e"
             ],
             [
              0.4444444444444444,
              "#bd3786"
             ],
             [
              0.5555555555555556,
              "#d8576b"
             ],
             [
              0.6666666666666666,
              "#ed7953"
             ],
             [
              0.7777777777777778,
              "#fb9f3a"
             ],
             [
              0.8888888888888888,
              "#fdca26"
             ],
             [
              1,
              "#f0f921"
             ]
            ],
            "type": "heatmap"
           }
          ],
          "heatmapgl": [
           {
            "colorbar": {
             "outlinewidth": 0,
             "ticks": ""
            },
            "colorscale": [
             [
              0,
              "#0d0887"
             ],
             [
              0.1111111111111111,
              "#46039f"
             ],
             [
              0.2222222222222222,
              "#7201a8"
             ],
             [
              0.3333333333333333,
              "#9c179e"
             ],
             [
              0.4444444444444444,
              "#bd3786"
             ],
             [
              0.5555555555555556,
              "#d8576b"
             ],
             [
              0.6666666666666666,
              "#ed7953"
             ],
             [
              0.7777777777777778,
              "#fb9f3a"
             ],
             [
              0.8888888888888888,
              "#fdca26"
             ],
             [
              1,
              "#f0f921"
             ]
            ],
            "type": "heatmapgl"
           }
          ],
          "histogram": [
           {
            "marker": {
             "pattern": {
              "fillmode": "overlay",
              "size": 10,
              "solidity": 0.2
             }
            },
            "type": "histogram"
           }
          ],
          "histogram2d": [
           {
            "colorbar": {
             "outlinewidth": 0,
             "ticks": ""
            },
            "colorscale": [
             [
              0,
              "#0d0887"
             ],
             [
              0.1111111111111111,
              "#46039f"
             ],
             [
              0.2222222222222222,
              "#7201a8"
             ],
             [
              0.3333333333333333,
              "#9c179e"
             ],
             [
              0.4444444444444444,
              "#bd3786"
             ],
             [
              0.5555555555555556,
              "#d8576b"
             ],
             [
              0.6666666666666666,
              "#ed7953"
             ],
             [
              0.7777777777777778,
              "#fb9f3a"
             ],
             [
              0.8888888888888888,
              "#fdca26"
             ],
             [
              1,
              "#f0f921"
             ]
            ],
            "type": "histogram2d"
           }
          ],
          "histogram2dcontour": [
           {
            "colorbar": {
             "outlinewidth": 0,
             "ticks": ""
            },
            "colorscale": [
             [
              0,
              "#0d0887"
             ],
             [
              0.1111111111111111,
              "#46039f"
             ],
             [
              0.2222222222222222,
              "#7201a8"
             ],
             [
              0.3333333333333333,
              "#9c179e"
             ],
             [
              0.4444444444444444,
              "#bd3786"
             ],
             [
              0.5555555555555556,
              "#d8576b"
             ],
             [
              0.6666666666666666,
              "#ed7953"
             ],
             [
              0.7777777777777778,
              "#fb9f3a"
             ],
             [
              0.8888888888888888,
              "#fdca26"
             ],
             [
              1,
              "#f0f921"
             ]
            ],
            "type": "histogram2dcontour"
           }
          ],
          "mesh3d": [
           {
            "colorbar": {
             "outlinewidth": 0,
             "ticks": ""
            },
            "type": "mesh3d"
           }
          ],
          "parcoords": [
           {
            "line": {
             "colorbar": {
              "outlinewidth": 0,
              "ticks": ""
             }
            },
            "type": "parcoords"
           }
          ],
          "pie": [
           {
            "automargin": true,
            "type": "pie"
           }
          ],
          "scatter": [
           {
            "fillpattern": {
             "fillmode": "overlay",
             "size": 10,
             "solidity": 0.2
            },
            "type": "scatter"
           }
          ],
          "scatter3d": [
           {
            "line": {
             "colorbar": {
              "outlinewidth": 0,
              "ticks": ""
             }
            },
            "marker": {
             "colorbar": {
              "outlinewidth": 0,
              "ticks": ""
             }
            },
            "type": "scatter3d"
           }
          ],
          "scattercarpet": [
           {
            "marker": {
             "colorbar": {
              "outlinewidth": 0,
              "ticks": ""
             }
            },
            "type": "scattercarpet"
           }
          ],
          "scattergeo": [
           {
            "marker": {
             "colorbar": {
              "outlinewidth": 0,
              "ticks": ""
             }
            },
            "type": "scattergeo"
           }
          ],
          "scattergl": [
           {
            "marker": {
             "colorbar": {
              "outlinewidth": 0,
              "ticks": ""
             }
            },
            "type": "scattergl"
           }
          ],
          "scattermapbox": [
           {
            "marker": {
             "colorbar": {
              "outlinewidth": 0,
              "ticks": ""
             }
            },
            "type": "scattermapbox"
           }
          ],
          "scatterpolar": [
           {
            "marker": {
             "colorbar": {
              "outlinewidth": 0,
              "ticks": ""
             }
            },
            "type": "scatterpolar"
           }
          ],
          "scatterpolargl": [
           {
            "marker": {
             "colorbar": {
              "outlinewidth": 0,
              "ticks": ""
             }
            },
            "type": "scatterpolargl"
           }
          ],
          "scatterternary": [
           {
            "marker": {
             "colorbar": {
              "outlinewidth": 0,
              "ticks": ""
             }
            },
            "type": "scatterternary"
           }
          ],
          "surface": [
           {
            "colorbar": {
             "outlinewidth": 0,
             "ticks": ""
            },
            "colorscale": [
             [
              0,
              "#0d0887"
             ],
             [
              0.1111111111111111,
              "#46039f"
             ],
             [
              0.2222222222222222,
              "#7201a8"
             ],
             [
              0.3333333333333333,
              "#9c179e"
             ],
             [
              0.4444444444444444,
              "#bd3786"
             ],
             [
              0.5555555555555556,
              "#d8576b"
             ],
             [
              0.6666666666666666,
              "#ed7953"
             ],
             [
              0.7777777777777778,
              "#fb9f3a"
             ],
             [
              0.8888888888888888,
              "#fdca26"
             ],
             [
              1,
              "#f0f921"
             ]
            ],
            "type": "surface"
           }
          ],
          "table": [
           {
            "cells": {
             "fill": {
              "color": "#EBF0F8"
             },
             "line": {
              "color": "white"
             }
            },
            "header": {
             "fill": {
              "color": "#C8D4E3"
             },
             "line": {
              "color": "white"
             }
            },
            "type": "table"
           }
          ]
         },
         "layout": {
          "annotationdefaults": {
           "arrowcolor": "#2a3f5f",
           "arrowhead": 0,
           "arrowwidth": 1
          },
          "autotypenumbers": "strict",
          "coloraxis": {
           "colorbar": {
            "outlinewidth": 0,
            "ticks": ""
           }
          },
          "colorscale": {
           "diverging": [
            [
             0,
             "#8e0152"
            ],
            [
             0.1,
             "#c51b7d"
            ],
            [
             0.2,
             "#de77ae"
            ],
            [
             0.3,
             "#f1b6da"
            ],
            [
             0.4,
             "#fde0ef"
            ],
            [
             0.5,
             "#f7f7f7"
            ],
            [
             0.6,
             "#e6f5d0"
            ],
            [
             0.7,
             "#b8e186"
            ],
            [
             0.8,
             "#7fbc41"
            ],
            [
             0.9,
             "#4d9221"
            ],
            [
             1,
             "#276419"
            ]
           ],
           "sequential": [
            [
             0,
             "#0d0887"
            ],
            [
             0.1111111111111111,
             "#46039f"
            ],
            [
             0.2222222222222222,
             "#7201a8"
            ],
            [
             0.3333333333333333,
             "#9c179e"
            ],
            [
             0.4444444444444444,
             "#bd3786"
            ],
            [
             0.5555555555555556,
             "#d8576b"
            ],
            [
             0.6666666666666666,
             "#ed7953"
            ],
            [
             0.7777777777777778,
             "#fb9f3a"
            ],
            [
             0.8888888888888888,
             "#fdca26"
            ],
            [
             1,
             "#f0f921"
            ]
           ],
           "sequentialminus": [
            [
             0,
             "#0d0887"
            ],
            [
             0.1111111111111111,
             "#46039f"
            ],
            [
             0.2222222222222222,
             "#7201a8"
            ],
            [
             0.3333333333333333,
             "#9c179e"
            ],
            [
             0.4444444444444444,
             "#bd3786"
            ],
            [
             0.5555555555555556,
             "#d8576b"
            ],
            [
             0.6666666666666666,
             "#ed7953"
            ],
            [
             0.7777777777777778,
             "#fb9f3a"
            ],
            [
             0.8888888888888888,
             "#fdca26"
            ],
            [
             1,
             "#f0f921"
            ]
           ]
          },
          "colorway": [
           "#636efa",
           "#EF553B",
           "#00cc96",
           "#ab63fa",
           "#FFA15A",
           "#19d3f3",
           "#FF6692",
           "#B6E880",
           "#FF97FF",
           "#FECB52"
          ],
          "font": {
           "color": "#2a3f5f"
          },
          "geo": {
           "bgcolor": "white",
           "lakecolor": "white",
           "landcolor": "#E5ECF6",
           "showlakes": true,
           "showland": true,
           "subunitcolor": "white"
          },
          "hoverlabel": {
           "align": "left"
          },
          "hovermode": "closest",
          "mapbox": {
           "style": "light"
          },
          "paper_bgcolor": "white",
          "plot_bgcolor": "#E5ECF6",
          "polar": {
           "angularaxis": {
            "gridcolor": "white",
            "linecolor": "white",
            "ticks": ""
           },
           "bgcolor": "#E5ECF6",
           "radialaxis": {
            "gridcolor": "white",
            "linecolor": "white",
            "ticks": ""
           }
          },
          "scene": {
           "xaxis": {
            "backgroundcolor": "#E5ECF6",
            "gridcolor": "white",
            "gridwidth": 2,
            "linecolor": "white",
            "showbackground": true,
            "ticks": "",
            "zerolinecolor": "white"
           },
           "yaxis": {
            "backgroundcolor": "#E5ECF6",
            "gridcolor": "white",
            "gridwidth": 2,
            "linecolor": "white",
            "showbackground": true,
            "ticks": "",
            "zerolinecolor": "white"
           },
           "zaxis": {
            "backgroundcolor": "#E5ECF6",
            "gridcolor": "white",
            "gridwidth": 2,
            "linecolor": "white",
            "showbackground": true,
            "ticks": "",
            "zerolinecolor": "white"
           }
          },
          "shapedefaults": {
           "line": {
            "color": "#2a3f5f"
           }
          },
          "ternary": {
           "aaxis": {
            "gridcolor": "white",
            "linecolor": "white",
            "ticks": ""
           },
           "baxis": {
            "gridcolor": "white",
            "linecolor": "white",
            "ticks": ""
           },
           "bgcolor": "#E5ECF6",
           "caxis": {
            "gridcolor": "white",
            "linecolor": "white",
            "ticks": ""
           }
          },
          "title": {
           "x": 0.05
          },
          "xaxis": {
           "automargin": true,
           "gridcolor": "white",
           "linecolor": "white",
           "ticks": "",
           "title": {
            "standoff": 15
           },
           "zerolinecolor": "white",
           "zerolinewidth": 2
          },
          "yaxis": {
           "automargin": true,
           "gridcolor": "white",
           "linecolor": "white",
           "ticks": "",
           "title": {
            "standoff": 15
           },
           "zerolinecolor": "white",
           "zerolinewidth": 2
          }
         }
        },
        "title": {
         "text": "pop"
        },
        "xaxis": {
         "anchor": "y",
         "domain": [
          0,
          1
         ],
         "title": {
          "text": "Artist"
         }
        },
        "yaxis": {
         "anchor": "x",
         "domain": [
          0,
          1
         ],
         "title": {
          "text": "Percentage of comments"
         }
        }
       }
      }
     },
     "metadata": {},
     "output_type": "display_data"
    },
    {
     "data": {
      "application/vnd.plotly.v1+json": {
       "config": {
        "plotlyServerURL": "https://plot.ly"
       },
       "data": [
        {
         "alignmentgroup": "True",
         "bingroup": "x",
         "histfunc": "sum",
         "hovertemplate": "emotion=admiration<br>channel=%{x}<br>sum of percentage=%{y}<extra></extra>",
         "legendgroup": "admiration",
         "marker": {
          "color": "rgb(179,226,205)",
          "pattern": {
           "shape": ""
          }
         },
         "name": "admiration",
         "offsetgroup": "admiration",
         "orientation": "v",
         "showlegend": true,
         "type": "histogram",
         "x": [
          "kendrick_lamar",
          "drake",
          "nicki_minaj",
          "kanye_west"
         ],
         "xaxis": "x",
         "y": [
          33.26210826210826,
          32.86516853932584,
          27.74566473988439,
          26.215022091310754
         ],
         "yaxis": "y"
        },
        {
         "alignmentgroup": "True",
         "bingroup": "x",
         "histfunc": "sum",
         "hovertemplate": "emotion=love<br>channel=%{x}<br>sum of percentage=%{y}<extra></extra>",
         "legendgroup": "love",
         "marker": {
          "color": "#FF97FF",
          "pattern": {
           "shape": ""
          }
         },
         "name": "love",
         "offsetgroup": "love",
         "orientation": "v",
         "showlegend": true,
         "type": "histogram",
         "x": [
          "nicki_minaj",
          "kendrick_lamar",
          "kanye_west",
          "drake"
         ],
         "xaxis": "x",
         "y": [
          25.26837324525186,
          14.529914529914532,
          10.309278350515463,
          10.112359550561797
         ],
         "yaxis": "y"
        },
        {
         "alignmentgroup": "True",
         "bingroup": "x",
         "histfunc": "sum",
         "hovertemplate": "emotion=gratitude<br>channel=%{x}<br>sum of percentage=%{y}<extra></extra>",
         "legendgroup": "gratitude",
         "marker": {
          "color": "#FECB52",
          "pattern": {
           "shape": ""
          }
         },
         "name": "gratitude",
         "offsetgroup": "gratitude",
         "orientation": "v",
         "showlegend": true,
         "type": "histogram",
         "x": [
          "kendrick_lamar",
          "kanye_west",
          "nicki_minaj",
          "drake"
         ],
         "xaxis": "x",
         "y": [
          9.9002849002849,
          6.283750613647521,
          5.532617671345995,
          4.49438202247191
         ],
         "yaxis": "y"
        },
        {
         "alignmentgroup": "True",
         "bingroup": "x",
         "histfunc": "sum",
         "hovertemplate": "emotion=sadness<br>channel=%{x}<br>sum of percentage=%{y}<extra></extra>",
         "legendgroup": "sadness",
         "marker": {
          "color": "#636efa",
          "pattern": {
           "shape": ""
          }
         },
         "name": "sadness",
         "offsetgroup": "sadness",
         "orientation": "v",
         "showlegend": true,
         "type": "histogram",
         "x": [
          "kanye_west",
          "drake",
          "kendrick_lamar",
          "nicki_minaj"
         ],
         "xaxis": "x",
         "y": [
          7.658321060382916,
          6.179775280898876,
          5.982905982905983,
          2.477291494632535
         ],
         "yaxis": "y"
        },
        {
         "alignmentgroup": "True",
         "bingroup": "x",
         "histfunc": "sum",
         "hovertemplate": "emotion=caring<br>channel=%{x}<br>sum of percentage=%{y}<extra></extra>",
         "legendgroup": "caring",
         "marker": {
          "color": "rgb(230,245,201)",
          "pattern": {
           "shape": ""
          }
         },
         "name": "caring",
         "offsetgroup": "caring",
         "orientation": "v",
         "showlegend": true,
         "type": "histogram",
         "x": [
          "kanye_west",
          "drake",
          "nicki_minaj",
          "kendrick_lamar"
         ],
         "xaxis": "x",
         "y": [
          7.216494845360824,
          3.651685393258427,
          2.1469859620148637,
          1.8518518518518516
         ],
         "yaxis": "y"
        },
        {
         "alignmentgroup": "True",
         "bingroup": "x",
         "histfunc": "sum",
         "hovertemplate": "emotion=confusion<br>channel=%{x}<br>sum of percentage=%{y}<extra></extra>",
         "legendgroup": "confusion",
         "marker": {
          "color": "rgb(255,242,174)",
          "pattern": {
           "shape": ""
          }
         },
         "name": "confusion",
         "offsetgroup": "confusion",
         "orientation": "v",
         "showlegend": true,
         "type": "histogram",
         "x": [
          "drake",
          "kanye_west",
          "nicki_minaj",
          "kendrick_lamar"
         ],
         "xaxis": "x",
         "y": [
          6.741573033707865,
          3.8782523318605793,
          2.8075970272502064,
          1.9943019943019942
         ],
         "yaxis": "y"
        },
        {
         "alignmentgroup": "True",
         "bingroup": "x",
         "histfunc": "sum",
         "hovertemplate": "emotion=annoyance<br>channel=%{x}<br>sum of percentage=%{y}<extra></extra>",
         "legendgroup": "annoyance",
         "marker": {
          "color": "rgb(203,213,232)",
          "pattern": {
           "shape": ""
          }
         },
         "name": "annoyance",
         "offsetgroup": "annoyance",
         "orientation": "v",
         "showlegend": true,
         "type": "histogram",
         "x": [
          "kanye_west",
          "nicki_minaj",
          "drake",
          "kendrick_lamar"
         ],
         "xaxis": "x",
         "y": [
          6.676485027000491,
          5.037159372419488,
          3.932584269662921,
          2.7777777777777777
         ],
         "yaxis": "y"
        },
        {
         "alignmentgroup": "True",
         "bingroup": "x",
         "histfunc": "sum",
         "hovertemplate": "emotion=approval<br>channel=%{x}<br>sum of percentage=%{y}<extra></extra>",
         "legendgroup": "approval",
         "marker": {
          "color": "rgb(244,202,228)",
          "pattern": {
           "shape": ""
          }
         },
         "name": "approval",
         "offsetgroup": "approval",
         "orientation": "v",
         "showlegend": true,
         "type": "histogram",
         "x": [
          "kendrick_lamar",
          "kanye_west",
          "drake",
          "nicki_minaj"
         ],
         "xaxis": "x",
         "y": [
          6.1253561253561255,
          5.498281786941581,
          4.775280898876404,
          2.972749793559042
         ],
         "yaxis": "y"
        },
        {
         "alignmentgroup": "True",
         "bingroup": "x",
         "histfunc": "sum",
         "hovertemplate": "emotion=optimism<br>channel=%{x}<br>sum of percentage=%{y}<extra></extra>",
         "legendgroup": "optimism",
         "marker": {
          "color": "#EF553B",
          "pattern": {
           "shape": ""
          }
         },
         "name": "optimism",
         "offsetgroup": "optimism",
         "orientation": "v",
         "showlegend": true,
         "type": "histogram",
         "x": [
          "kanye_west",
          "drake",
          "kendrick_lamar",
          "nicki_minaj"
         ],
         "xaxis": "x",
         "y": [
          5.007363770250368,
          2.528089887640449,
          2.2792022792022792,
          1.6515276630883566
         ],
         "yaxis": "y"
        },
        {
         "alignmentgroup": "True",
         "bingroup": "x",
         "histfunc": "sum",
         "hovertemplate": "emotion=desire<br>channel=%{x}<br>sum of percentage=%{y}<extra></extra>",
         "legendgroup": "desire",
         "marker": {
          "color": "rgb(204,204,204)",
          "pattern": {
           "shape": ""
          }
         },
         "name": "desire",
         "offsetgroup": "desire",
         "orientation": "v",
         "showlegend": true,
         "type": "histogram",
         "x": [
          "drake",
          "nicki_minaj",
          "kanye_west",
          "kendrick_lamar"
         ],
         "xaxis": "x",
         "y": [
          3.932584269662921,
          2.972749793559042,
          1.9636720667648502,
          1.7094017094017095
         ],
         "yaxis": "y"
        },
        {
         "alignmentgroup": "True",
         "bingroup": "x",
         "histfunc": "sum",
         "hovertemplate": "emotion=disappointment<br>channel=%{x}<br>sum of percentage=%{y}<extra></extra>",
         "legendgroup": "disappointment",
         "marker": {
          "color": "#00cc96",
          "pattern": {
           "shape": ""
          }
         },
         "name": "disappointment",
         "offsetgroup": "disappointment",
         "orientation": "v",
         "showlegend": true,
         "type": "histogram",
         "x": [
          "drake",
          "kendrick_lamar",
          "nicki_minaj",
          "kanye_west"
         ],
         "xaxis": "x",
         "y": [
          3.932584269662921,
          3.8461538461538463,
          2.972749793559042,
          1.2763868433971526
         ],
         "yaxis": "y"
        },
        {
         "alignmentgroup": "True",
         "bingroup": "x",
         "histfunc": "sum",
         "hovertemplate": "emotion=joy<br>channel=%{x}<br>sum of percentage=%{y}<extra></extra>",
         "legendgroup": "joy",
         "marker": {
          "color": "#ab63fa",
          "pattern": {
           "shape": ""
          }
         },
         "name": "joy",
         "offsetgroup": "joy",
         "orientation": "v",
         "showlegend": true,
         "type": "histogram",
         "x": [
          "kendrick_lamar",
          "nicki_minaj",
          "kanye_west",
          "drake"
         ],
         "xaxis": "x",
         "y": [
          3.561253561253561,
          3.5507844756399667,
          2.0127638684339715,
          1.4044943820224718
         ],
         "yaxis": "y"
        },
        {
         "alignmentgroup": "True",
         "bingroup": "x",
         "histfunc": "sum",
         "hovertemplate": "emotion=disapproval<br>channel=%{x}<br>sum of percentage=%{y}<extra></extra>",
         "legendgroup": "disapproval",
         "marker": {
          "color": "#FFA15A",
          "pattern": {
           "shape": ""
          }
         },
         "name": "disapproval",
         "offsetgroup": "disapproval",
         "orientation": "v",
         "showlegend": true,
         "type": "histogram",
         "x": [
          "nicki_minaj",
          "kanye_west",
          "kendrick_lamar",
          "drake"
         ],
         "xaxis": "x",
         "y": [
          3.3030553261767133,
          2.7491408934707904,
          2.4216524216524213,
          1.6853932584269662
         ],
         "yaxis": "y"
        },
        {
         "alignmentgroup": "True",
         "bingroup": "x",
         "histfunc": "sum",
         "hovertemplate": "emotion=excitement<br>channel=%{x}<br>sum of percentage=%{y}<extra></extra>",
         "legendgroup": "excitement",
         "marker": {
          "color": "#19d3f3",
          "pattern": {
           "shape": ""
          }
         },
         "name": "excitement",
         "offsetgroup": "excitement",
         "orientation": "v",
         "showlegend": true,
         "type": "histogram",
         "x": [
          "nicki_minaj",
          "drake",
          "kendrick_lamar",
          "kanye_west"
         ],
         "xaxis": "x",
         "y": [
          2.559867877786953,
          1.6853932584269662,
          1.1396011396011396,
          1.129111438389789
         ],
         "yaxis": "y"
        },
        {
         "alignmentgroup": "True",
         "bingroup": "x",
         "histfunc": "sum",
         "hovertemplate": "emotion=surprise<br>channel=%{x}<br>sum of percentage=%{y}<extra></extra>",
         "legendgroup": "surprise",
         "marker": {
          "color": "#FF6692",
          "pattern": {
           "shape": ""
          }
         },
         "name": "surprise",
         "offsetgroup": "surprise",
         "orientation": "v",
         "showlegend": true,
         "type": "histogram",
         "x": [
          "kendrick_lamar",
          "nicki_minaj",
          "drake",
          "kanye_west"
         ],
         "xaxis": "x",
         "y": [
          2.492877492877493,
          1.568951279933939,
          1.4044943820224718,
          1.1782032400589102
         ],
         "yaxis": "y"
        },
        {
         "alignmentgroup": "True",
         "bingroup": "x",
         "histfunc": "sum",
         "hovertemplate": "emotion=curiosity<br>channel=%{x}<br>sum of percentage=%{y}<extra></extra>",
         "legendgroup": "curiosity",
         "marker": {
          "color": "rgb(241,226,204)",
          "pattern": {
           "shape": ""
          }
         },
         "name": "curiosity",
         "offsetgroup": "curiosity",
         "orientation": "v",
         "showlegend": true,
         "type": "histogram",
         "x": [
          "drake",
          "kanye_west",
          "nicki_minaj",
          "kendrick_lamar"
         ],
         "xaxis": "x",
         "y": [
          2.247191011235955,
          1.8163966617574867,
          1.4037985136251032,
          0.8547008547008548
         ],
         "yaxis": "y"
        },
        {
         "alignmentgroup": "True",
         "bingroup": "x",
         "histfunc": "sum",
         "hovertemplate": "emotion=realization<br>channel=%{x}<br>sum of percentage=%{y}<extra></extra>",
         "legendgroup": "realization",
         "marker": {
          "color": "#B6E880",
          "pattern": {
           "shape": ""
          }
         },
         "name": "realization",
         "offsetgroup": "realization",
         "orientation": "v",
         "showlegend": true,
         "type": "histogram",
         "x": [
          "drake",
          "kendrick_lamar",
          "kanye_west",
          "nicki_minaj"
         ],
         "xaxis": "x",
         "y": [
          2.247191011235955,
          1.3532763532763532,
          1.2272950417280315,
          0.3303055326176713
         ],
         "yaxis": "y"
        },
        {
         "alignmentgroup": "True",
         "bingroup": "x",
         "histfunc": "sum",
         "hovertemplate": "emotion=amusement<br>channel=%{x}<br>sum of percentage=%{y}<extra></extra>",
         "legendgroup": "amusement",
         "marker": {
          "color": "#FF97FF",
          "pattern": {
           "shape": ""
          }
         },
         "name": "amusement",
         "offsetgroup": "amusement",
         "orientation": "v",
         "showlegend": true,
         "type": "histogram",
         "x": [
          "drake",
          "kanye_west",
          "nicki_minaj",
          "kendrick_lamar"
         ],
         "xaxis": "x",
         "y": [
          2.247191011235955,
          1.8163966617574867,
          1.568951279933939,
          1.4245014245014245
         ],
         "yaxis": "y"
        },
        {
         "alignmentgroup": "True",
         "bingroup": "x",
         "histfunc": "sum",
         "hovertemplate": "emotion=anger<br>channel=%{x}<br>sum of percentage=%{y}<extra></extra>",
         "legendgroup": "anger",
         "marker": {
          "color": "rgb(253,205,172)",
          "pattern": {
           "shape": ""
          }
         },
         "name": "anger",
         "offsetgroup": "anger",
         "orientation": "v",
         "showlegend": true,
         "type": "histogram",
         "x": [
          "kanye_west",
          "drake",
          "nicki_minaj",
          "kendrick_lamar"
         ],
         "xaxis": "x",
         "y": [
          1.8163966617574867,
          1.4044943820224718,
          0.8257638315441783,
          0.4273504273504274
         ],
         "yaxis": "y"
        },
        {
         "alignmentgroup": "True",
         "bingroup": "x",
         "histfunc": "sum",
         "hovertemplate": "emotion=disgust<br>channel=%{x}<br>sum of percentage=%{y}<extra></extra>",
         "legendgroup": "disgust",
         "marker": {
          "color": "#FECB52",
          "pattern": {
           "shape": ""
          }
         },
         "name": "disgust",
         "offsetgroup": "disgust",
         "orientation": "v",
         "showlegend": true,
         "type": "histogram",
         "x": [
          "kanye_west",
          "nicki_minaj",
          "drake",
          "kendrick_lamar"
         ],
         "xaxis": "x",
         "y": [
          1.6200294550810017,
          1.1560693641618496,
          1.1235955056179776,
          0.3561253561253561
         ],
         "yaxis": "y"
        },
        {
         "alignmentgroup": "True",
         "bingroup": "x",
         "histfunc": "sum",
         "hovertemplate": "emotion=remorse<br>channel=%{x}<br>sum of percentage=%{y}<extra></extra>",
         "legendgroup": "remorse",
         "marker": {
          "color": "#636efa",
          "pattern": {
           "shape": ""
          }
         },
         "name": "remorse",
         "offsetgroup": "remorse",
         "orientation": "v",
         "showlegend": true,
         "type": "histogram",
         "x": [
          "nicki_minaj",
          "kanye_west",
          "kendrick_lamar",
          "drake"
         ],
         "xaxis": "x",
         "y": [
          1.568951279933939,
          1.129111438389789,
          0.641025641025641,
          0.5617977528089888
         ],
         "yaxis": "y"
        },
        {
         "alignmentgroup": "True",
         "bingroup": "x",
         "histfunc": "sum",
         "hovertemplate": "emotion=fear<br>channel=%{x}<br>sum of percentage=%{y}<extra></extra>",
         "legendgroup": "fear",
         "marker": {
          "color": "#EF553B",
          "pattern": {
           "shape": ""
          }
         },
         "name": "fear",
         "offsetgroup": "fear",
         "orientation": "v",
         "showlegend": true,
         "type": "histogram",
         "x": [
          "kanye_west",
          "kendrick_lamar",
          "drake",
          "nicki_minaj"
         ],
         "xaxis": "x",
         "y": [
          1.2272950417280315,
          0.7122507122507122,
          0.5617977528089888,
          0.3303055326176713
         ],
         "yaxis": "y"
        },
        {
         "alignmentgroup": "True",
         "bingroup": "x",
         "histfunc": "sum",
         "hovertemplate": "emotion=embarrassment<br>channel=%{x}<br>sum of percentage=%{y}<extra></extra>",
         "legendgroup": "embarrassment",
         "marker": {
          "color": "#00cc96",
          "pattern": {
           "shape": ""
          }
         },
         "name": "embarrassment",
         "offsetgroup": "embarrassment",
         "orientation": "v",
         "showlegend": true,
         "type": "histogram",
         "x": [
          "kanye_west",
          "kendrick_lamar",
          "drake",
          "nicki_minaj"
         ],
         "xaxis": "x",
         "y": [
          0.29455081001472755,
          0.2849002849002849,
          0.2808988764044944,
          0.2477291494632535
         ],
         "yaxis": "y"
        },
        {
         "alignmentgroup": "True",
         "bingroup": "x",
         "histfunc": "sum",
         "hovertemplate": "emotion=nervousness<br>channel=%{x}<br>sum of percentage=%{y}<extra></extra>",
         "legendgroup": "nervousness",
         "marker": {
          "color": "#ab63fa",
          "pattern": {
           "shape": ""
          }
         },
         "name": "nervousness",
         "offsetgroup": "nervousness",
         "orientation": "v",
         "showlegend": true,
         "type": "histogram",
         "x": [
          "kendrick_lamar"
         ],
         "xaxis": "x",
         "y": [
          0.07122507122507123
         ],
         "yaxis": "y"
        }
       ],
       "layout": {
        "barmode": "group",
        "height": 400,
        "legend": {
         "title": {
          "text": "emotion"
         },
         "tracegroupgap": 0
        },
        "margin": {
         "t": 60
        },
        "template": {
         "data": {
          "bar": [
           {
            "error_x": {
             "color": "#2a3f5f"
            },
            "error_y": {
             "color": "#2a3f5f"
            },
            "marker": {
             "line": {
              "color": "#E5ECF6",
              "width": 0.5
             },
             "pattern": {
              "fillmode": "overlay",
              "size": 10,
              "solidity": 0.2
             }
            },
            "type": "bar"
           }
          ],
          "barpolar": [
           {
            "marker": {
             "line": {
              "color": "#E5ECF6",
              "width": 0.5
             },
             "pattern": {
              "fillmode": "overlay",
              "size": 10,
              "solidity": 0.2
             }
            },
            "type": "barpolar"
           }
          ],
          "carpet": [
           {
            "aaxis": {
             "endlinecolor": "#2a3f5f",
             "gridcolor": "white",
             "linecolor": "white",
             "minorgridcolor": "white",
             "startlinecolor": "#2a3f5f"
            },
            "baxis": {
             "endlinecolor": "#2a3f5f",
             "gridcolor": "white",
             "linecolor": "white",
             "minorgridcolor": "white",
             "startlinecolor": "#2a3f5f"
            },
            "type": "carpet"
           }
          ],
          "choropleth": [
           {
            "colorbar": {
             "outlinewidth": 0,
             "ticks": ""
            },
            "type": "choropleth"
           }
          ],
          "contour": [
           {
            "colorbar": {
             "outlinewidth": 0,
             "ticks": ""
            },
            "colorscale": [
             [
              0,
              "#0d0887"
             ],
             [
              0.1111111111111111,
              "#46039f"
             ],
             [
              0.2222222222222222,
              "#7201a8"
             ],
             [
              0.3333333333333333,
              "#9c179e"
             ],
             [
              0.4444444444444444,
              "#bd3786"
             ],
             [
              0.5555555555555556,
              "#d8576b"
             ],
             [
              0.6666666666666666,
              "#ed7953"
             ],
             [
              0.7777777777777778,
              "#fb9f3a"
             ],
             [
              0.8888888888888888,
              "#fdca26"
             ],
             [
              1,
              "#f0f921"
             ]
            ],
            "type": "contour"
           }
          ],
          "contourcarpet": [
           {
            "colorbar": {
             "outlinewidth": 0,
             "ticks": ""
            },
            "type": "contourcarpet"
           }
          ],
          "heatmap": [
           {
            "colorbar": {
             "outlinewidth": 0,
             "ticks": ""
            },
            "colorscale": [
             [
              0,
              "#0d0887"
             ],
             [
              0.1111111111111111,
              "#46039f"
             ],
             [
              0.2222222222222222,
              "#7201a8"
             ],
             [
              0.3333333333333333,
              "#9c179e"
             ],
             [
              0.4444444444444444,
              "#bd3786"
             ],
             [
              0.5555555555555556,
              "#d8576b"
             ],
             [
              0.6666666666666666,
              "#ed7953"
             ],
             [
              0.7777777777777778,
              "#fb9f3a"
             ],
             [
              0.8888888888888888,
              "#fdca26"
             ],
             [
              1,
              "#f0f921"
             ]
            ],
            "type": "heatmap"
           }
          ],
          "heatmapgl": [
           {
            "colorbar": {
             "outlinewidth": 0,
             "ticks": ""
            },
            "colorscale": [
             [
              0,
              "#0d0887"
             ],
             [
              0.1111111111111111,
              "#46039f"
             ],
             [
              0.2222222222222222,
              "#7201a8"
             ],
             [
              0.3333333333333333,
              "#9c179e"
             ],
             [
              0.4444444444444444,
              "#bd3786"
             ],
             [
              0.5555555555555556,
              "#d8576b"
             ],
             [
              0.6666666666666666,
              "#ed7953"
             ],
             [
              0.7777777777777778,
              "#fb9f3a"
             ],
             [
              0.8888888888888888,
              "#fdca26"
             ],
             [
              1,
              "#f0f921"
             ]
            ],
            "type": "heatmapgl"
           }
          ],
          "histogram": [
           {
            "marker": {
             "pattern": {
              "fillmode": "overlay",
              "size": 10,
              "solidity": 0.2
             }
            },
            "type": "histogram"
           }
          ],
          "histogram2d": [
           {
            "colorbar": {
             "outlinewidth": 0,
             "ticks": ""
            },
            "colorscale": [
             [
              0,
              "#0d0887"
             ],
             [
              0.1111111111111111,
              "#46039f"
             ],
             [
              0.2222222222222222,
              "#7201a8"
             ],
             [
              0.3333333333333333,
              "#9c179e"
             ],
             [
              0.4444444444444444,
              "#bd3786"
             ],
             [
              0.5555555555555556,
              "#d8576b"
             ],
             [
              0.6666666666666666,
              "#ed7953"
             ],
             [
              0.7777777777777778,
              "#fb9f3a"
             ],
             [
              0.8888888888888888,
              "#fdca26"
             ],
             [
              1,
              "#f0f921"
             ]
            ],
            "type": "histogram2d"
           }
          ],
          "histogram2dcontour": [
           {
            "colorbar": {
             "outlinewidth": 0,
             "ticks": ""
            },
            "colorscale": [
             [
              0,
              "#0d0887"
             ],
             [
              0.1111111111111111,
              "#46039f"
             ],
             [
              0.2222222222222222,
              "#7201a8"
             ],
             [
              0.3333333333333333,
              "#9c179e"
             ],
             [
              0.4444444444444444,
              "#bd3786"
             ],
             [
              0.5555555555555556,
              "#d8576b"
             ],
             [
              0.6666666666666666,
              "#ed7953"
             ],
             [
              0.7777777777777778,
              "#fb9f3a"
             ],
             [
              0.8888888888888888,
              "#fdca26"
             ],
             [
              1,
              "#f0f921"
             ]
            ],
            "type": "histogram2dcontour"
           }
          ],
          "mesh3d": [
           {
            "colorbar": {
             "outlinewidth": 0,
             "ticks": ""
            },
            "type": "mesh3d"
           }
          ],
          "parcoords": [
           {
            "line": {
             "colorbar": {
              "outlinewidth": 0,
              "ticks": ""
             }
            },
            "type": "parcoords"
           }
          ],
          "pie": [
           {
            "automargin": true,
            "type": "pie"
           }
          ],
          "scatter": [
           {
            "fillpattern": {
             "fillmode": "overlay",
             "size": 10,
             "solidity": 0.2
            },
            "type": "scatter"
           }
          ],
          "scatter3d": [
           {
            "line": {
             "colorbar": {
              "outlinewidth": 0,
              "ticks": ""
             }
            },
            "marker": {
             "colorbar": {
              "outlinewidth": 0,
              "ticks": ""
             }
            },
            "type": "scatter3d"
           }
          ],
          "scattercarpet": [
           {
            "marker": {
             "colorbar": {
              "outlinewidth": 0,
              "ticks": ""
             }
            },
            "type": "scattercarpet"
           }
          ],
          "scattergeo": [
           {
            "marker": {
             "colorbar": {
              "outlinewidth": 0,
              "ticks": ""
             }
            },
            "type": "scattergeo"
           }
          ],
          "scattergl": [
           {
            "marker": {
             "colorbar": {
              "outlinewidth": 0,
              "ticks": ""
             }
            },
            "type": "scattergl"
           }
          ],
          "scattermapbox": [
           {
            "marker": {
             "colorbar": {
              "outlinewidth": 0,
              "ticks": ""
             }
            },
            "type": "scattermapbox"
           }
          ],
          "scatterpolar": [
           {
            "marker": {
             "colorbar": {
              "outlinewidth": 0,
              "ticks": ""
             }
            },
            "type": "scatterpolar"
           }
          ],
          "scatterpolargl": [
           {
            "marker": {
             "colorbar": {
              "outlinewidth": 0,
              "ticks": ""
             }
            },
            "type": "scatterpolargl"
           }
          ],
          "scatterternary": [
           {
            "marker": {
             "colorbar": {
              "outlinewidth": 0,
              "ticks": ""
             }
            },
            "type": "scatterternary"
           }
          ],
          "surface": [
           {
            "colorbar": {
             "outlinewidth": 0,
             "ticks": ""
            },
            "colorscale": [
             [
              0,
              "#0d0887"
             ],
             [
              0.1111111111111111,
              "#46039f"
             ],
             [
              0.2222222222222222,
              "#7201a8"
             ],
             [
              0.3333333333333333,
              "#9c179e"
             ],
             [
              0.4444444444444444,
              "#bd3786"
             ],
             [
              0.5555555555555556,
              "#d8576b"
             ],
             [
              0.6666666666666666,
              "#ed7953"
             ],
             [
              0.7777777777777778,
              "#fb9f3a"
             ],
             [
              0.8888888888888888,
              "#fdca26"
             ],
             [
              1,
              "#f0f921"
             ]
            ],
            "type": "surface"
           }
          ],
          "table": [
           {
            "cells": {
             "fill": {
              "color": "#EBF0F8"
             },
             "line": {
              "color": "white"
             }
            },
            "header": {
             "fill": {
              "color": "#C8D4E3"
             },
             "line": {
              "color": "white"
             }
            },
            "type": "table"
           }
          ]
         },
         "layout": {
          "annotationdefaults": {
           "arrowcolor": "#2a3f5f",
           "arrowhead": 0,
           "arrowwidth": 1
          },
          "autotypenumbers": "strict",
          "coloraxis": {
           "colorbar": {
            "outlinewidth": 0,
            "ticks": ""
           }
          },
          "colorscale": {
           "diverging": [
            [
             0,
             "#8e0152"
            ],
            [
             0.1,
             "#c51b7d"
            ],
            [
             0.2,
             "#de77ae"
            ],
            [
             0.3,
             "#f1b6da"
            ],
            [
             0.4,
             "#fde0ef"
            ],
            [
             0.5,
             "#f7f7f7"
            ],
            [
             0.6,
             "#e6f5d0"
            ],
            [
             0.7,
             "#b8e186"
            ],
            [
             0.8,
             "#7fbc41"
            ],
            [
             0.9,
             "#4d9221"
            ],
            [
             1,
             "#276419"
            ]
           ],
           "sequential": [
            [
             0,
             "#0d0887"
            ],
            [
             0.1111111111111111,
             "#46039f"
            ],
            [
             0.2222222222222222,
             "#7201a8"
            ],
            [
             0.3333333333333333,
             "#9c179e"
            ],
            [
             0.4444444444444444,
             "#bd3786"
            ],
            [
             0.5555555555555556,
             "#d8576b"
            ],
            [
             0.6666666666666666,
             "#ed7953"
            ],
            [
             0.7777777777777778,
             "#fb9f3a"
            ],
            [
             0.8888888888888888,
             "#fdca26"
            ],
            [
             1,
             "#f0f921"
            ]
           ],
           "sequentialminus": [
            [
             0,
             "#0d0887"
            ],
            [
             0.1111111111111111,
             "#46039f"
            ],
            [
             0.2222222222222222,
             "#7201a8"
            ],
            [
             0.3333333333333333,
             "#9c179e"
            ],
            [
             0.4444444444444444,
             "#bd3786"
            ],
            [
             0.5555555555555556,
             "#d8576b"
            ],
            [
             0.6666666666666666,
             "#ed7953"
            ],
            [
             0.7777777777777778,
             "#fb9f3a"
            ],
            [
             0.8888888888888888,
             "#fdca26"
            ],
            [
             1,
             "#f0f921"
            ]
           ]
          },
          "colorway": [
           "#636efa",
           "#EF553B",
           "#00cc96",
           "#ab63fa",
           "#FFA15A",
           "#19d3f3",
           "#FF6692",
           "#B6E880",
           "#FF97FF",
           "#FECB52"
          ],
          "font": {
           "color": "#2a3f5f"
          },
          "geo": {
           "bgcolor": "white",
           "lakecolor": "white",
           "landcolor": "#E5ECF6",
           "showlakes": true,
           "showland": true,
           "subunitcolor": "white"
          },
          "hoverlabel": {
           "align": "left"
          },
          "hovermode": "closest",
          "mapbox": {
           "style": "light"
          },
          "paper_bgcolor": "white",
          "plot_bgcolor": "#E5ECF6",
          "polar": {
           "angularaxis": {
            "gridcolor": "white",
            "linecolor": "white",
            "ticks": ""
           },
           "bgcolor": "#E5ECF6",
           "radialaxis": {
            "gridcolor": "white",
            "linecolor": "white",
            "ticks": ""
           }
          },
          "scene": {
           "xaxis": {
            "backgroundcolor": "#E5ECF6",
            "gridcolor": "white",
            "gridwidth": 2,
            "linecolor": "white",
            "showbackground": true,
            "ticks": "",
            "zerolinecolor": "white"
           },
           "yaxis": {
            "backgroundcolor": "#E5ECF6",
            "gridcolor": "white",
            "gridwidth": 2,
            "linecolor": "white",
            "showbackground": true,
            "ticks": "",
            "zerolinecolor": "white"
           },
           "zaxis": {
            "backgroundcolor": "#E5ECF6",
            "gridcolor": "white",
            "gridwidth": 2,
            "linecolor": "white",
            "showbackground": true,
            "ticks": "",
            "zerolinecolor": "white"
           }
          },
          "shapedefaults": {
           "line": {
            "color": "#2a3f5f"
           }
          },
          "ternary": {
           "aaxis": {
            "gridcolor": "white",
            "linecolor": "white",
            "ticks": ""
           },
           "baxis": {
            "gridcolor": "white",
            "linecolor": "white",
            "ticks": ""
           },
           "bgcolor": "#E5ECF6",
           "caxis": {
            "gridcolor": "white",
            "linecolor": "white",
            "ticks": ""
           }
          },
          "title": {
           "x": 0.05
          },
          "xaxis": {
           "automargin": true,
           "gridcolor": "white",
           "linecolor": "white",
           "ticks": "",
           "title": {
            "standoff": 15
           },
           "zerolinecolor": "white",
           "zerolinewidth": 2
          },
          "yaxis": {
           "automargin": true,
           "gridcolor": "white",
           "linecolor": "white",
           "ticks": "",
           "title": {
            "standoff": 15
           },
           "zerolinecolor": "white",
           "zerolinewidth": 2
          }
         }
        },
        "title": {
         "text": "hip_hop_rap"
        },
        "xaxis": {
         "anchor": "y",
         "domain": [
          0,
          1
         ],
         "title": {
          "text": "Artist"
         }
        },
        "yaxis": {
         "anchor": "x",
         "domain": [
          0,
          1
         ],
         "title": {
          "text": "Percentage of comments"
         }
        }
       }
      }
     },
     "metadata": {},
     "output_type": "display_data"
    },
    {
     "data": {
      "application/vnd.plotly.v1+json": {
       "config": {
        "plotlyServerURL": "https://plot.ly"
       },
       "data": [
        {
         "alignmentgroup": "True",
         "bingroup": "x",
         "histfunc": "sum",
         "hovertemplate": "emotion=admiration<br>channel=%{x}<br>sum of percentage=%{y}<extra></extra>",
         "legendgroup": "admiration",
         "marker": {
          "color": "rgb(179,226,205)",
          "pattern": {
           "shape": ""
          }
         },
         "name": "admiration",
         "offsetgroup": "admiration",
         "orientation": "v",
         "showlegend": true,
         "type": "histogram",
         "x": [
          "kendrick_lamar",
          "drake",
          "nicki_minaj",
          "kanye_west"
         ],
         "xaxis": "x",
         "y": [
          33.26210826210826,
          32.86516853932584,
          27.74566473988439,
          26.215022091310754
         ],
         "yaxis": "y"
        },
        {
         "alignmentgroup": "True",
         "bingroup": "x",
         "histfunc": "sum",
         "hovertemplate": "emotion=love<br>channel=%{x}<br>sum of percentage=%{y}<extra></extra>",
         "legendgroup": "love",
         "marker": {
          "color": "#FF97FF",
          "pattern": {
           "shape": ""
          }
         },
         "name": "love",
         "offsetgroup": "love",
         "orientation": "v",
         "showlegend": true,
         "type": "histogram",
         "x": [
          "nicki_minaj",
          "kendrick_lamar",
          "kanye_west",
          "drake"
         ],
         "xaxis": "x",
         "y": [
          25.26837324525186,
          14.529914529914532,
          10.309278350515463,
          10.112359550561797
         ],
         "yaxis": "y"
        },
        {
         "alignmentgroup": "True",
         "bingroup": "x",
         "histfunc": "sum",
         "hovertemplate": "emotion=gratitude<br>channel=%{x}<br>sum of percentage=%{y}<extra></extra>",
         "legendgroup": "gratitude",
         "marker": {
          "color": "#FECB52",
          "pattern": {
           "shape": ""
          }
         },
         "name": "gratitude",
         "offsetgroup": "gratitude",
         "orientation": "v",
         "showlegend": true,
         "type": "histogram",
         "x": [
          "kendrick_lamar",
          "kanye_west",
          "nicki_minaj",
          "drake"
         ],
         "xaxis": "x",
         "y": [
          9.9002849002849,
          6.283750613647521,
          5.532617671345995,
          4.49438202247191
         ],
         "yaxis": "y"
        },
        {
         "alignmentgroup": "True",
         "bingroup": "x",
         "histfunc": "sum",
         "hovertemplate": "emotion=sadness<br>channel=%{x}<br>sum of percentage=%{y}<extra></extra>",
         "legendgroup": "sadness",
         "marker": {
          "color": "#636efa",
          "pattern": {
           "shape": ""
          }
         },
         "name": "sadness",
         "offsetgroup": "sadness",
         "orientation": "v",
         "showlegend": true,
         "type": "histogram",
         "x": [
          "kanye_west",
          "drake",
          "kendrick_lamar",
          "nicki_minaj"
         ],
         "xaxis": "x",
         "y": [
          7.658321060382916,
          6.179775280898876,
          5.982905982905983,
          2.477291494632535
         ],
         "yaxis": "y"
        },
        {
         "alignmentgroup": "True",
         "bingroup": "x",
         "histfunc": "sum",
         "hovertemplate": "emotion=caring<br>channel=%{x}<br>sum of percentage=%{y}<extra></extra>",
         "legendgroup": "caring",
         "marker": {
          "color": "rgb(230,245,201)",
          "pattern": {
           "shape": ""
          }
         },
         "name": "caring",
         "offsetgroup": "caring",
         "orientation": "v",
         "showlegend": true,
         "type": "histogram",
         "x": [
          "kanye_west",
          "drake",
          "nicki_minaj",
          "kendrick_lamar"
         ],
         "xaxis": "x",
         "y": [
          7.216494845360824,
          3.651685393258427,
          2.1469859620148637,
          1.8518518518518516
         ],
         "yaxis": "y"
        },
        {
         "alignmentgroup": "True",
         "bingroup": "x",
         "histfunc": "sum",
         "hovertemplate": "emotion=confusion<br>channel=%{x}<br>sum of percentage=%{y}<extra></extra>",
         "legendgroup": "confusion",
         "marker": {
          "color": "rgb(255,242,174)",
          "pattern": {
           "shape": ""
          }
         },
         "name": "confusion",
         "offsetgroup": "confusion",
         "orientation": "v",
         "showlegend": true,
         "type": "histogram",
         "x": [
          "drake",
          "kanye_west",
          "nicki_minaj",
          "kendrick_lamar"
         ],
         "xaxis": "x",
         "y": [
          6.741573033707865,
          3.8782523318605793,
          2.8075970272502064,
          1.9943019943019942
         ],
         "yaxis": "y"
        },
        {
         "alignmentgroup": "True",
         "bingroup": "x",
         "histfunc": "sum",
         "hovertemplate": "emotion=annoyance<br>channel=%{x}<br>sum of percentage=%{y}<extra></extra>",
         "legendgroup": "annoyance",
         "marker": {
          "color": "rgb(203,213,232)",
          "pattern": {
           "shape": ""
          }
         },
         "name": "annoyance",
         "offsetgroup": "annoyance",
         "orientation": "v",
         "showlegend": true,
         "type": "histogram",
         "x": [
          "kanye_west",
          "nicki_minaj",
          "drake",
          "kendrick_lamar"
         ],
         "xaxis": "x",
         "y": [
          6.676485027000491,
          5.037159372419488,
          3.932584269662921,
          2.7777777777777777
         ],
         "yaxis": "y"
        },
        {
         "alignmentgroup": "True",
         "bingroup": "x",
         "histfunc": "sum",
         "hovertemplate": "emotion=approval<br>channel=%{x}<br>sum of percentage=%{y}<extra></extra>",
         "legendgroup": "approval",
         "marker": {
          "color": "rgb(244,202,228)",
          "pattern": {
           "shape": ""
          }
         },
         "name": "approval",
         "offsetgroup": "approval",
         "orientation": "v",
         "showlegend": true,
         "type": "histogram",
         "x": [
          "kendrick_lamar",
          "kanye_west",
          "drake",
          "nicki_minaj"
         ],
         "xaxis": "x",
         "y": [
          6.1253561253561255,
          5.498281786941581,
          4.775280898876404,
          2.972749793559042
         ],
         "yaxis": "y"
        },
        {
         "alignmentgroup": "True",
         "bingroup": "x",
         "histfunc": "sum",
         "hovertemplate": "emotion=optimism<br>channel=%{x}<br>sum of percentage=%{y}<extra></extra>",
         "legendgroup": "optimism",
         "marker": {
          "color": "#EF553B",
          "pattern": {
           "shape": ""
          }
         },
         "name": "optimism",
         "offsetgroup": "optimism",
         "orientation": "v",
         "showlegend": true,
         "type": "histogram",
         "x": [
          "kanye_west",
          "drake",
          "kendrick_lamar",
          "nicki_minaj"
         ],
         "xaxis": "x",
         "y": [
          5.007363770250368,
          2.528089887640449,
          2.2792022792022792,
          1.6515276630883566
         ],
         "yaxis": "y"
        },
        {
         "alignmentgroup": "True",
         "bingroup": "x",
         "histfunc": "sum",
         "hovertemplate": "emotion=desire<br>channel=%{x}<br>sum of percentage=%{y}<extra></extra>",
         "legendgroup": "desire",
         "marker": {
          "color": "rgb(204,204,204)",
          "pattern": {
           "shape": ""
          }
         },
         "name": "desire",
         "offsetgroup": "desire",
         "orientation": "v",
         "showlegend": true,
         "type": "histogram",
         "x": [
          "drake",
          "nicki_minaj",
          "kanye_west",
          "kendrick_lamar"
         ],
         "xaxis": "x",
         "y": [
          3.932584269662921,
          2.972749793559042,
          1.9636720667648502,
          1.7094017094017095
         ],
         "yaxis": "y"
        },
        {
         "alignmentgroup": "True",
         "bingroup": "x",
         "histfunc": "sum",
         "hovertemplate": "emotion=disappointment<br>channel=%{x}<br>sum of percentage=%{y}<extra></extra>",
         "legendgroup": "disappointment",
         "marker": {
          "color": "#00cc96",
          "pattern": {
           "shape": ""
          }
         },
         "name": "disappointment",
         "offsetgroup": "disappointment",
         "orientation": "v",
         "showlegend": true,
         "type": "histogram",
         "x": [
          "drake",
          "kendrick_lamar",
          "nicki_minaj",
          "kanye_west"
         ],
         "xaxis": "x",
         "y": [
          3.932584269662921,
          3.8461538461538463,
          2.972749793559042,
          1.2763868433971526
         ],
         "yaxis": "y"
        },
        {
         "alignmentgroup": "True",
         "bingroup": "x",
         "histfunc": "sum",
         "hovertemplate": "emotion=joy<br>channel=%{x}<br>sum of percentage=%{y}<extra></extra>",
         "legendgroup": "joy",
         "marker": {
          "color": "#ab63fa",
          "pattern": {
           "shape": ""
          }
         },
         "name": "joy",
         "offsetgroup": "joy",
         "orientation": "v",
         "showlegend": true,
         "type": "histogram",
         "x": [
          "kendrick_lamar",
          "nicki_minaj",
          "kanye_west",
          "drake"
         ],
         "xaxis": "x",
         "y": [
          3.561253561253561,
          3.5507844756399667,
          2.0127638684339715,
          1.4044943820224718
         ],
         "yaxis": "y"
        },
        {
         "alignmentgroup": "True",
         "bingroup": "x",
         "histfunc": "sum",
         "hovertemplate": "emotion=disapproval<br>channel=%{x}<br>sum of percentage=%{y}<extra></extra>",
         "legendgroup": "disapproval",
         "marker": {
          "color": "#FFA15A",
          "pattern": {
           "shape": ""
          }
         },
         "name": "disapproval",
         "offsetgroup": "disapproval",
         "orientation": "v",
         "showlegend": true,
         "type": "histogram",
         "x": [
          "nicki_minaj",
          "kanye_west",
          "kendrick_lamar",
          "drake"
         ],
         "xaxis": "x",
         "y": [
          3.3030553261767133,
          2.7491408934707904,
          2.4216524216524213,
          1.6853932584269662
         ],
         "yaxis": "y"
        },
        {
         "alignmentgroup": "True",
         "bingroup": "x",
         "histfunc": "sum",
         "hovertemplate": "emotion=excitement<br>channel=%{x}<br>sum of percentage=%{y}<extra></extra>",
         "legendgroup": "excitement",
         "marker": {
          "color": "#19d3f3",
          "pattern": {
           "shape": ""
          }
         },
         "name": "excitement",
         "offsetgroup": "excitement",
         "orientation": "v",
         "showlegend": true,
         "type": "histogram",
         "x": [
          "nicki_minaj",
          "drake",
          "kendrick_lamar",
          "kanye_west"
         ],
         "xaxis": "x",
         "y": [
          2.559867877786953,
          1.6853932584269662,
          1.1396011396011396,
          1.129111438389789
         ],
         "yaxis": "y"
        },
        {
         "alignmentgroup": "True",
         "bingroup": "x",
         "histfunc": "sum",
         "hovertemplate": "emotion=surprise<br>channel=%{x}<br>sum of percentage=%{y}<extra></extra>",
         "legendgroup": "surprise",
         "marker": {
          "color": "#FF6692",
          "pattern": {
           "shape": ""
          }
         },
         "name": "surprise",
         "offsetgroup": "surprise",
         "orientation": "v",
         "showlegend": true,
         "type": "histogram",
         "x": [
          "kendrick_lamar",
          "nicki_minaj",
          "drake",
          "kanye_west"
         ],
         "xaxis": "x",
         "y": [
          2.492877492877493,
          1.568951279933939,
          1.4044943820224718,
          1.1782032400589102
         ],
         "yaxis": "y"
        },
        {
         "alignmentgroup": "True",
         "bingroup": "x",
         "histfunc": "sum",
         "hovertemplate": "emotion=curiosity<br>channel=%{x}<br>sum of percentage=%{y}<extra></extra>",
         "legendgroup": "curiosity",
         "marker": {
          "color": "rgb(241,226,204)",
          "pattern": {
           "shape": ""
          }
         },
         "name": "curiosity",
         "offsetgroup": "curiosity",
         "orientation": "v",
         "showlegend": true,
         "type": "histogram",
         "x": [
          "drake",
          "kanye_west",
          "nicki_minaj",
          "kendrick_lamar"
         ],
         "xaxis": "x",
         "y": [
          2.247191011235955,
          1.8163966617574867,
          1.4037985136251032,
          0.8547008547008548
         ],
         "yaxis": "y"
        },
        {
         "alignmentgroup": "True",
         "bingroup": "x",
         "histfunc": "sum",
         "hovertemplate": "emotion=realization<br>channel=%{x}<br>sum of percentage=%{y}<extra></extra>",
         "legendgroup": "realization",
         "marker": {
          "color": "#B6E880",
          "pattern": {
           "shape": ""
          }
         },
         "name": "realization",
         "offsetgroup": "realization",
         "orientation": "v",
         "showlegend": true,
         "type": "histogram",
         "x": [
          "drake",
          "kendrick_lamar",
          "kanye_west",
          "nicki_minaj"
         ],
         "xaxis": "x",
         "y": [
          2.247191011235955,
          1.3532763532763532,
          1.2272950417280315,
          0.3303055326176713
         ],
         "yaxis": "y"
        },
        {
         "alignmentgroup": "True",
         "bingroup": "x",
         "histfunc": "sum",
         "hovertemplate": "emotion=amusement<br>channel=%{x}<br>sum of percentage=%{y}<extra></extra>",
         "legendgroup": "amusement",
         "marker": {
          "color": "#FF97FF",
          "pattern": {
           "shape": ""
          }
         },
         "name": "amusement",
         "offsetgroup": "amusement",
         "orientation": "v",
         "showlegend": true,
         "type": "histogram",
         "x": [
          "drake",
          "kanye_west",
          "nicki_minaj",
          "kendrick_lamar"
         ],
         "xaxis": "x",
         "y": [
          2.247191011235955,
          1.8163966617574867,
          1.568951279933939,
          1.4245014245014245
         ],
         "yaxis": "y"
        },
        {
         "alignmentgroup": "True",
         "bingroup": "x",
         "histfunc": "sum",
         "hovertemplate": "emotion=anger<br>channel=%{x}<br>sum of percentage=%{y}<extra></extra>",
         "legendgroup": "anger",
         "marker": {
          "color": "rgb(253,205,172)",
          "pattern": {
           "shape": ""
          }
         },
         "name": "anger",
         "offsetgroup": "anger",
         "orientation": "v",
         "showlegend": true,
         "type": "histogram",
         "x": [
          "kanye_west",
          "drake",
          "nicki_minaj",
          "kendrick_lamar"
         ],
         "xaxis": "x",
         "y": [
          1.8163966617574867,
          1.4044943820224718,
          0.8257638315441783,
          0.4273504273504274
         ],
         "yaxis": "y"
        },
        {
         "alignmentgroup": "True",
         "bingroup": "x",
         "histfunc": "sum",
         "hovertemplate": "emotion=disgust<br>channel=%{x}<br>sum of percentage=%{y}<extra></extra>",
         "legendgroup": "disgust",
         "marker": {
          "color": "#FECB52",
          "pattern": {
           "shape": ""
          }
         },
         "name": "disgust",
         "offsetgroup": "disgust",
         "orientation": "v",
         "showlegend": true,
         "type": "histogram",
         "x": [
          "kanye_west",
          "nicki_minaj",
          "drake",
          "kendrick_lamar"
         ],
         "xaxis": "x",
         "y": [
          1.6200294550810017,
          1.1560693641618496,
          1.1235955056179776,
          0.3561253561253561
         ],
         "yaxis": "y"
        },
        {
         "alignmentgroup": "True",
         "bingroup": "x",
         "histfunc": "sum",
         "hovertemplate": "emotion=remorse<br>channel=%{x}<br>sum of percentage=%{y}<extra></extra>",
         "legendgroup": "remorse",
         "marker": {
          "color": "#636efa",
          "pattern": {
           "shape": ""
          }
         },
         "name": "remorse",
         "offsetgroup": "remorse",
         "orientation": "v",
         "showlegend": true,
         "type": "histogram",
         "x": [
          "nicki_minaj",
          "kanye_west",
          "kendrick_lamar",
          "drake"
         ],
         "xaxis": "x",
         "y": [
          1.568951279933939,
          1.129111438389789,
          0.641025641025641,
          0.5617977528089888
         ],
         "yaxis": "y"
        },
        {
         "alignmentgroup": "True",
         "bingroup": "x",
         "histfunc": "sum",
         "hovertemplate": "emotion=fear<br>channel=%{x}<br>sum of percentage=%{y}<extra></extra>",
         "legendgroup": "fear",
         "marker": {
          "color": "#EF553B",
          "pattern": {
           "shape": ""
          }
         },
         "name": "fear",
         "offsetgroup": "fear",
         "orientation": "v",
         "showlegend": true,
         "type": "histogram",
         "x": [
          "kanye_west",
          "kendrick_lamar",
          "drake",
          "nicki_minaj"
         ],
         "xaxis": "x",
         "y": [
          1.2272950417280315,
          0.7122507122507122,
          0.5617977528089888,
          0.3303055326176713
         ],
         "yaxis": "y"
        },
        {
         "alignmentgroup": "True",
         "bingroup": "x",
         "histfunc": "sum",
         "hovertemplate": "emotion=embarrassment<br>channel=%{x}<br>sum of percentage=%{y}<extra></extra>",
         "legendgroup": "embarrassment",
         "marker": {
          "color": "#00cc96",
          "pattern": {
           "shape": ""
          }
         },
         "name": "embarrassment",
         "offsetgroup": "embarrassment",
         "orientation": "v",
         "showlegend": true,
         "type": "histogram",
         "x": [
          "kanye_west",
          "kendrick_lamar",
          "drake",
          "nicki_minaj"
         ],
         "xaxis": "x",
         "y": [
          0.29455081001472755,
          0.2849002849002849,
          0.2808988764044944,
          0.2477291494632535
         ],
         "yaxis": "y"
        },
        {
         "alignmentgroup": "True",
         "bingroup": "x",
         "histfunc": "sum",
         "hovertemplate": "emotion=nervousness<br>channel=%{x}<br>sum of percentage=%{y}<extra></extra>",
         "legendgroup": "nervousness",
         "marker": {
          "color": "#ab63fa",
          "pattern": {
           "shape": ""
          }
         },
         "name": "nervousness",
         "offsetgroup": "nervousness",
         "orientation": "v",
         "showlegend": true,
         "type": "histogram",
         "x": [
          "kendrick_lamar"
         ],
         "xaxis": "x",
         "y": [
          0.07122507122507123
         ],
         "yaxis": "y"
        }
       ],
       "layout": {
        "barmode": "group",
        "height": 400,
        "legend": {
         "title": {
          "text": "emotion"
         },
         "tracegroupgap": 0
        },
        "margin": {
         "t": 60
        },
        "template": {
         "data": {
          "bar": [
           {
            "error_x": {
             "color": "#2a3f5f"
            },
            "error_y": {
             "color": "#2a3f5f"
            },
            "marker": {
             "line": {
              "color": "#E5ECF6",
              "width": 0.5
             },
             "pattern": {
              "fillmode": "overlay",
              "size": 10,
              "solidity": 0.2
             }
            },
            "type": "bar"
           }
          ],
          "barpolar": [
           {
            "marker": {
             "line": {
              "color": "#E5ECF6",
              "width": 0.5
             },
             "pattern": {
              "fillmode": "overlay",
              "size": 10,
              "solidity": 0.2
             }
            },
            "type": "barpolar"
           }
          ],
          "carpet": [
           {
            "aaxis": {
             "endlinecolor": "#2a3f5f",
             "gridcolor": "white",
             "linecolor": "white",
             "minorgridcolor": "white",
             "startlinecolor": "#2a3f5f"
            },
            "baxis": {
             "endlinecolor": "#2a3f5f",
             "gridcolor": "white",
             "linecolor": "white",
             "minorgridcolor": "white",
             "startlinecolor": "#2a3f5f"
            },
            "type": "carpet"
           }
          ],
          "choropleth": [
           {
            "colorbar": {
             "outlinewidth": 0,
             "ticks": ""
            },
            "type": "choropleth"
           }
          ],
          "contour": [
           {
            "colorbar": {
             "outlinewidth": 0,
             "ticks": ""
            },
            "colorscale": [
             [
              0,
              "#0d0887"
             ],
             [
              0.1111111111111111,
              "#46039f"
             ],
             [
              0.2222222222222222,
              "#7201a8"
             ],
             [
              0.3333333333333333,
              "#9c179e"
             ],
             [
              0.4444444444444444,
              "#bd3786"
             ],
             [
              0.5555555555555556,
              "#d8576b"
             ],
             [
              0.6666666666666666,
              "#ed7953"
             ],
             [
              0.7777777777777778,
              "#fb9f3a"
             ],
             [
              0.8888888888888888,
              "#fdca26"
             ],
             [
              1,
              "#f0f921"
             ]
            ],
            "type": "contour"
           }
          ],
          "contourcarpet": [
           {
            "colorbar": {
             "outlinewidth": 0,
             "ticks": ""
            },
            "type": "contourcarpet"
           }
          ],
          "heatmap": [
           {
            "colorbar": {
             "outlinewidth": 0,
             "ticks": ""
            },
            "colorscale": [
             [
              0,
              "#0d0887"
             ],
             [
              0.1111111111111111,
              "#46039f"
             ],
             [
              0.2222222222222222,
              "#7201a8"
             ],
             [
              0.3333333333333333,
              "#9c179e"
             ],
             [
              0.4444444444444444,
              "#bd3786"
             ],
             [
              0.5555555555555556,
              "#d8576b"
             ],
             [
              0.6666666666666666,
              "#ed7953"
             ],
             [
              0.7777777777777778,
              "#fb9f3a"
             ],
             [
              0.8888888888888888,
              "#fdca26"
             ],
             [
              1,
              "#f0f921"
             ]
            ],
            "type": "heatmap"
           }
          ],
          "heatmapgl": [
           {
            "colorbar": {
             "outlinewidth": 0,
             "ticks": ""
            },
            "colorscale": [
             [
              0,
              "#0d0887"
             ],
             [
              0.1111111111111111,
              "#46039f"
             ],
             [
              0.2222222222222222,
              "#7201a8"
             ],
             [
              0.3333333333333333,
              "#9c179e"
             ],
             [
              0.4444444444444444,
              "#bd3786"
             ],
             [
              0.5555555555555556,
              "#d8576b"
             ],
             [
              0.6666666666666666,
              "#ed7953"
             ],
             [
              0.7777777777777778,
              "#fb9f3a"
             ],
             [
              0.8888888888888888,
              "#fdca26"
             ],
             [
              1,
              "#f0f921"
             ]
            ],
            "type": "heatmapgl"
           }
          ],
          "histogram": [
           {
            "marker": {
             "pattern": {
              "fillmode": "overlay",
              "size": 10,
              "solidity": 0.2
             }
            },
            "type": "histogram"
           }
          ],
          "histogram2d": [
           {
            "colorbar": {
             "outlinewidth": 0,
             "ticks": ""
            },
            "colorscale": [
             [
              0,
              "#0d0887"
             ],
             [
              0.1111111111111111,
              "#46039f"
             ],
             [
              0.2222222222222222,
              "#7201a8"
             ],
             [
              0.3333333333333333,
              "#9c179e"
             ],
             [
              0.4444444444444444,
              "#bd3786"
             ],
             [
              0.5555555555555556,
              "#d8576b"
             ],
             [
              0.6666666666666666,
              "#ed7953"
             ],
             [
              0.7777777777777778,
              "#fb9f3a"
             ],
             [
              0.8888888888888888,
              "#fdca26"
             ],
             [
              1,
              "#f0f921"
             ]
            ],
            "type": "histogram2d"
           }
          ],
          "histogram2dcontour": [
           {
            "colorbar": {
             "outlinewidth": 0,
             "ticks": ""
            },
            "colorscale": [
             [
              0,
              "#0d0887"
             ],
             [
              0.1111111111111111,
              "#46039f"
             ],
             [
              0.2222222222222222,
              "#7201a8"
             ],
             [
              0.3333333333333333,
              "#9c179e"
             ],
             [
              0.4444444444444444,
              "#bd3786"
             ],
             [
              0.5555555555555556,
              "#d8576b"
             ],
             [
              0.6666666666666666,
              "#ed7953"
             ],
             [
              0.7777777777777778,
              "#fb9f3a"
             ],
             [
              0.8888888888888888,
              "#fdca26"
             ],
             [
              1,
              "#f0f921"
             ]
            ],
            "type": "histogram2dcontour"
           }
          ],
          "mesh3d": [
           {
            "colorbar": {
             "outlinewidth": 0,
             "ticks": ""
            },
            "type": "mesh3d"
           }
          ],
          "parcoords": [
           {
            "line": {
             "colorbar": {
              "outlinewidth": 0,
              "ticks": ""
             }
            },
            "type": "parcoords"
           }
          ],
          "pie": [
           {
            "automargin": true,
            "type": "pie"
           }
          ],
          "scatter": [
           {
            "fillpattern": {
             "fillmode": "overlay",
             "size": 10,
             "solidity": 0.2
            },
            "type": "scatter"
           }
          ],
          "scatter3d": [
           {
            "line": {
             "colorbar": {
              "outlinewidth": 0,
              "ticks": ""
             }
            },
            "marker": {
             "colorbar": {
              "outlinewidth": 0,
              "ticks": ""
             }
            },
            "type": "scatter3d"
           }
          ],
          "scattercarpet": [
           {
            "marker": {
             "colorbar": {
              "outlinewidth": 0,
              "ticks": ""
             }
            },
            "type": "scattercarpet"
           }
          ],
          "scattergeo": [
           {
            "marker": {
             "colorbar": {
              "outlinewidth": 0,
              "ticks": ""
             }
            },
            "type": "scattergeo"
           }
          ],
          "scattergl": [
           {
            "marker": {
             "colorbar": {
              "outlinewidth": 0,
              "ticks": ""
             }
            },
            "type": "scattergl"
           }
          ],
          "scattermapbox": [
           {
            "marker": {
             "colorbar": {
              "outlinewidth": 0,
              "ticks": ""
             }
            },
            "type": "scattermapbox"
           }
          ],
          "scatterpolar": [
           {
            "marker": {
             "colorbar": {
              "outlinewidth": 0,
              "ticks": ""
             }
            },
            "type": "scatterpolar"
           }
          ],
          "scatterpolargl": [
           {
            "marker": {
             "colorbar": {
              "outlinewidth": 0,
              "ticks": ""
             }
            },
            "type": "scatterpolargl"
           }
          ],
          "scatterternary": [
           {
            "marker": {
             "colorbar": {
              "outlinewidth": 0,
              "ticks": ""
             }
            },
            "type": "scatterternary"
           }
          ],
          "surface": [
           {
            "colorbar": {
             "outlinewidth": 0,
             "ticks": ""
            },
            "colorscale": [
             [
              0,
              "#0d0887"
             ],
             [
              0.1111111111111111,
              "#46039f"
             ],
             [
              0.2222222222222222,
              "#7201a8"
             ],
             [
              0.3333333333333333,
              "#9c179e"
             ],
             [
              0.4444444444444444,
              "#bd3786"
             ],
             [
              0.5555555555555556,
              "#d8576b"
             ],
             [
              0.6666666666666666,
              "#ed7953"
             ],
             [
              0.7777777777777778,
              "#fb9f3a"
             ],
             [
              0.8888888888888888,
              "#fdca26"
             ],
             [
              1,
              "#f0f921"
             ]
            ],
            "type": "surface"
           }
          ],
          "table": [
           {
            "cells": {
             "fill": {
              "color": "#EBF0F8"
             },
             "line": {
              "color": "white"
             }
            },
            "header": {
             "fill": {
              "color": "#C8D4E3"
             },
             "line": {
              "color": "white"
             }
            },
            "type": "table"
           }
          ]
         },
         "layout": {
          "annotationdefaults": {
           "arrowcolor": "#2a3f5f",
           "arrowhead": 0,
           "arrowwidth": 1
          },
          "autotypenumbers": "strict",
          "coloraxis": {
           "colorbar": {
            "outlinewidth": 0,
            "ticks": ""
           }
          },
          "colorscale": {
           "diverging": [
            [
             0,
             "#8e0152"
            ],
            [
             0.1,
             "#c51b7d"
            ],
            [
             0.2,
             "#de77ae"
            ],
            [
             0.3,
             "#f1b6da"
            ],
            [
             0.4,
             "#fde0ef"
            ],
            [
             0.5,
             "#f7f7f7"
            ],
            [
             0.6,
             "#e6f5d0"
            ],
            [
             0.7,
             "#b8e186"
            ],
            [
             0.8,
             "#7fbc41"
            ],
            [
             0.9,
             "#4d9221"
            ],
            [
             1,
             "#276419"
            ]
           ],
           "sequential": [
            [
             0,
             "#0d0887"
            ],
            [
             0.1111111111111111,
             "#46039f"
            ],
            [
             0.2222222222222222,
             "#7201a8"
            ],
            [
             0.3333333333333333,
             "#9c179e"
            ],
            [
             0.4444444444444444,
             "#bd3786"
            ],
            [
             0.5555555555555556,
             "#d8576b"
            ],
            [
             0.6666666666666666,
             "#ed7953"
            ],
            [
             0.7777777777777778,
             "#fb9f3a"
            ],
            [
             0.8888888888888888,
             "#fdca26"
            ],
            [
             1,
             "#f0f921"
            ]
           ],
           "sequentialminus": [
            [
             0,
             "#0d0887"
            ],
            [
             0.1111111111111111,
             "#46039f"
            ],
            [
             0.2222222222222222,
             "#7201a8"
            ],
            [
             0.3333333333333333,
             "#9c179e"
            ],
            [
             0.4444444444444444,
             "#bd3786"
            ],
            [
             0.5555555555555556,
             "#d8576b"
            ],
            [
             0.6666666666666666,
             "#ed7953"
            ],
            [
             0.7777777777777778,
             "#fb9f3a"
            ],
            [
             0.8888888888888888,
             "#fdca26"
            ],
            [
             1,
             "#f0f921"
            ]
           ]
          },
          "colorway": [
           "#636efa",
           "#EF553B",
           "#00cc96",
           "#ab63fa",
           "#FFA15A",
           "#19d3f3",
           "#FF6692",
           "#B6E880",
           "#FF97FF",
           "#FECB52"
          ],
          "font": {
           "color": "#2a3f5f"
          },
          "geo": {
           "bgcolor": "white",
           "lakecolor": "white",
           "landcolor": "#E5ECF6",
           "showlakes": true,
           "showland": true,
           "subunitcolor": "white"
          },
          "hoverlabel": {
           "align": "left"
          },
          "hovermode": "closest",
          "mapbox": {
           "style": "light"
          },
          "paper_bgcolor": "white",
          "plot_bgcolor": "#E5ECF6",
          "polar": {
           "angularaxis": {
            "gridcolor": "white",
            "linecolor": "white",
            "ticks": ""
           },
           "bgcolor": "#E5ECF6",
           "radialaxis": {
            "gridcolor": "white",
            "linecolor": "white",
            "ticks": ""
           }
          },
          "scene": {
           "xaxis": {
            "backgroundcolor": "#E5ECF6",
            "gridcolor": "white",
            "gridwidth": 2,
            "linecolor": "white",
            "showbackground": true,
            "ticks": "",
            "zerolinecolor": "white"
           },
           "yaxis": {
            "backgroundcolor": "#E5ECF6",
            "gridcolor": "white",
            "gridwidth": 2,
            "linecolor": "white",
            "showbackground": true,
            "ticks": "",
            "zerolinecolor": "white"
           },
           "zaxis": {
            "backgroundcolor": "#E5ECF6",
            "gridcolor": "white",
            "gridwidth": 2,
            "linecolor": "white",
            "showbackground": true,
            "ticks": "",
            "zerolinecolor": "white"
           }
          },
          "shapedefaults": {
           "line": {
            "color": "#2a3f5f"
           }
          },
          "ternary": {
           "aaxis": {
            "gridcolor": "white",
            "linecolor": "white",
            "ticks": ""
           },
           "baxis": {
            "gridcolor": "white",
            "linecolor": "white",
            "ticks": ""
           },
           "bgcolor": "#E5ECF6",
           "caxis": {
            "gridcolor": "white",
            "linecolor": "white",
            "ticks": ""
           }
          },
          "title": {
           "x": 0.05
          },
          "xaxis": {
           "automargin": true,
           "gridcolor": "white",
           "linecolor": "white",
           "ticks": "",
           "title": {
            "standoff": 15
           },
           "zerolinecolor": "white",
           "zerolinewidth": 2
          },
          "yaxis": {
           "automargin": true,
           "gridcolor": "white",
           "linecolor": "white",
           "ticks": "",
           "title": {
            "standoff": 15
           },
           "zerolinecolor": "white",
           "zerolinewidth": 2
          }
         }
        },
        "title": {
         "text": "hip_hop_rap"
        },
        "xaxis": {
         "anchor": "y",
         "domain": [
          0,
          1
         ],
         "title": {
          "text": "Artist"
         }
        },
        "yaxis": {
         "anchor": "x",
         "domain": [
          0,
          1
         ],
         "title": {
          "text": "Percentage of comments"
         }
        }
       }
      }
     },
     "metadata": {},
     "output_type": "display_data"
    }
   ],
   "source": [
    "grouped = data.groupby([\"genre\", \"channel\", \"emotion\"]).size().reset_index(name=\"count\")\n",
    "# tu był ten jakiś przypał z nanami gatunków dla niektórych artystów\n",
    "grouped[\"genre\"].fillna(\"hip_hop_rap\", inplace=True)\n",
    "grouped[\"genre\"] = grouped.apply(\n",
    "    lambda x: \"rock\"\n",
    "    if x[\"channel\"] == \"thebeatles\"\n",
    "    or x[\"channel\"] == \"systemofadown\"\n",
    "    or x[\"channel\"] == \"pinkfloyd\"\n",
    "    or x[\"channel\"] == \"bonjovi\"\n",
    "    else x[\"genre\"],\n",
    "    axis=1,\n",
    ")\n",
    "\n",
    "\n",
    "emotions = grouped[\"emotion\"].unique().tolist()\n",
    "colors = px.colors.qualitative.Pastel2[:26]\n",
    "color_map = {}\n",
    "for emo, color in zip(emotions, colors):\n",
    "    color_map[emo] = color\n",
    "grouped.drop_duplicates(inplace=True)\n",
    "\n",
    "grouped = grouped.loc[grouped[\"emotion\"] != \"neutral\"]\n",
    "# gdyby chciec się pozbyc najczęstszych emocji\n",
    "# grouped=grouped.loc[grouped['emotion']!=\"neutral\" ]\n",
    "# grouped=grouped.loc[grouped['emotion']!=\"admiration\" ]\n",
    "# grouped=grouped.loc[grouped['emotion']!=\"love\" ]\n",
    "\n",
    "source_total = grouped.groupby(\"channel\")[\"count\"].transform(\"sum\")\n",
    "\n",
    "grouped[\"percentage\"] = (grouped[\"count\"] / source_total) * 100\n",
    "grouped = grouped.sort_values(by=\"percentage\", ascending=False)\n",
    "\n",
    "genres = grouped[\"genre\"].unique().tolist()\n",
    "\n",
    "for genre in genres:\n",
    "    grouped_genre = grouped.loc[grouped[\"genre\"] == genre]\n",
    "    fig = px.histogram(\n",
    "        grouped_genre,\n",
    "        x=\"channel\",\n",
    "        y=\"percentage\",\n",
    "        color=\"emotion\",\n",
    "        barmode=\"group\",\n",
    "        height=400,\n",
    "        color_discrete_map=color_map,\n",
    "    )\n",
    "    fig.update_layout(\n",
    "        title=genre, xaxis_title=\"Artist\", yaxis_title=\"Percentage of comments\"\n",
    "    )\n",
    "    fig.show()\n",
    "\n",
    "fig.show()"
   ]
  }
 ],
 "metadata": {
  "kernelspec": {
   "display_name": "Python 3",
   "language": "python",
   "name": "python3"
  },
  "language_info": {
   "codemirror_mode": {
    "name": "ipython",
    "version": 3
   },
   "file_extension": ".py",
   "mimetype": "text/x-python",
   "name": "python",
   "nbconvert_exporter": "python",
   "pygments_lexer": "ipython3",
   "version": "3.9.0"
  }
 },
 "nbformat": 4,
 "nbformat_minor": 2
}
