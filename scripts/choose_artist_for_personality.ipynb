{
 "cells": [
  {
   "cell_type": "markdown",
   "source": [
    "# Imports"
   ],
   "metadata": {
    "collapsed": false
   },
   "id": "c021da0030556b0d"
  },
  {
   "cell_type": "code",
   "outputs": [],
   "source": [
    "import os\n",
    "import pandas as pd"
   ],
   "metadata": {
    "collapsed": true,
    "ExecuteTime": {
     "end_time": "2024-01-04T15:38:32.341332300Z",
     "start_time": "2024-01-04T15:38:31.028587700Z"
    }
   },
   "id": "initial_id",
   "execution_count": 1
  },
  {
   "cell_type": "code",
   "outputs": [],
   "source": [
    "cwd = os.getcwd()\n",
    "parent_dir = os.path.abspath(os.path.join(cwd, os.pardir))\n",
    "data_dir = os.path.join(parent_dir, \"data\")"
   ],
   "metadata": {
    "collapsed": false,
    "ExecuteTime": {
     "end_time": "2024-01-04T15:38:32.350841400Z",
     "start_time": "2024-01-04T15:38:32.342332Z"
    }
   },
   "id": "1a6dfe93ec172ecc",
   "execution_count": 2
  },
  {
   "cell_type": "code",
   "outputs": [],
   "source": [
    "df_personality = pd.read_json(\n",
    "    os.path.join(data_dir, \"personalities_split_3comments_10_300_upsamples.json\")\n",
    ")"
   ],
   "metadata": {
    "collapsed": false,
    "ExecuteTime": {
     "end_time": "2024-01-04T15:38:38.146373200Z",
     "start_time": "2024-01-04T15:38:32.345842500Z"
    }
   },
   "id": "33fcb53d9b4957c",
   "execution_count": 3
  },
  {
   "cell_type": "markdown",
   "source": [
    "# Artists by Genre"
   ],
   "metadata": {
    "collapsed": false
   },
   "id": "cb127422f3212c80"
  },
  {
   "cell_type": "code",
   "outputs": [
    {
     "data": {
      "text/plain": "                                      count\nchannel                  genre             \nraycharles               blues          377\ntylerbryant&theshakedown blues          618\nmarcusking               blues         1225\nkirk fletcher            blues         3400\nkaleo                    blues         4455\nbach                     classical     1856\nmozart                   classical     7648\nbeethoven                classical     9483\nchopin                   classical    12388\ndrake                    hip_hop_rap  15203\nkendrick_lamar           hip_hop_rap  18162\nnicki_minaj              hip_hop_rap  21079\nkanye_west               hip_hop_rap  30103\nbonjovi                  metal          997\nsystemofadown            metal         3946\npinkfloyd                metal         6135\nslayer                   metal         8816\nthebeatles               metal         8943\nanthrax                  metal        11165\nmegadeth                 metal        14025\nghost                    metal        26957\nmetallica                metal        34850\nolivia                   pop          14829\nariana_grande            pop          15137\ntaylor_swift             pop          17597\nmalone                   pop          18483\nbillie_eilish            pop          19497\ned_sheeran               pop          21521\nsystemofadown            rock         10562\nbonjovi                  rock         12396\nthebeatles               rock         15536\npinkfloyd                rock         16683\nledzeppelin              rock         26715\nqueen                    rock         27507",
      "text/html": "<div>\n<style scoped>\n    .dataframe tbody tr th:only-of-type {\n        vertical-align: middle;\n    }\n\n    .dataframe tbody tr th {\n        vertical-align: top;\n    }\n\n    .dataframe thead th {\n        text-align: right;\n    }\n</style>\n<table border=\"1\" class=\"dataframe\">\n  <thead>\n    <tr style=\"text-align: right;\">\n      <th></th>\n      <th></th>\n      <th>count</th>\n    </tr>\n    <tr>\n      <th>channel</th>\n      <th>genre</th>\n      <th></th>\n    </tr>\n  </thead>\n  <tbody>\n    <tr>\n      <th>raycharles</th>\n      <th>blues</th>\n      <td>377</td>\n    </tr>\n    <tr>\n      <th>tylerbryant&amp;theshakedown</th>\n      <th>blues</th>\n      <td>618</td>\n    </tr>\n    <tr>\n      <th>marcusking</th>\n      <th>blues</th>\n      <td>1225</td>\n    </tr>\n    <tr>\n      <th>kirk fletcher</th>\n      <th>blues</th>\n      <td>3400</td>\n    </tr>\n    <tr>\n      <th>kaleo</th>\n      <th>blues</th>\n      <td>4455</td>\n    </tr>\n    <tr>\n      <th>bach</th>\n      <th>classical</th>\n      <td>1856</td>\n    </tr>\n    <tr>\n      <th>mozart</th>\n      <th>classical</th>\n      <td>7648</td>\n    </tr>\n    <tr>\n      <th>beethoven</th>\n      <th>classical</th>\n      <td>9483</td>\n    </tr>\n    <tr>\n      <th>chopin</th>\n      <th>classical</th>\n      <td>12388</td>\n    </tr>\n    <tr>\n      <th>drake</th>\n      <th>hip_hop_rap</th>\n      <td>15203</td>\n    </tr>\n    <tr>\n      <th>kendrick_lamar</th>\n      <th>hip_hop_rap</th>\n      <td>18162</td>\n    </tr>\n    <tr>\n      <th>nicki_minaj</th>\n      <th>hip_hop_rap</th>\n      <td>21079</td>\n    </tr>\n    <tr>\n      <th>kanye_west</th>\n      <th>hip_hop_rap</th>\n      <td>30103</td>\n    </tr>\n    <tr>\n      <th>bonjovi</th>\n      <th>metal</th>\n      <td>997</td>\n    </tr>\n    <tr>\n      <th>systemofadown</th>\n      <th>metal</th>\n      <td>3946</td>\n    </tr>\n    <tr>\n      <th>pinkfloyd</th>\n      <th>metal</th>\n      <td>6135</td>\n    </tr>\n    <tr>\n      <th>slayer</th>\n      <th>metal</th>\n      <td>8816</td>\n    </tr>\n    <tr>\n      <th>thebeatles</th>\n      <th>metal</th>\n      <td>8943</td>\n    </tr>\n    <tr>\n      <th>anthrax</th>\n      <th>metal</th>\n      <td>11165</td>\n    </tr>\n    <tr>\n      <th>megadeth</th>\n      <th>metal</th>\n      <td>14025</td>\n    </tr>\n    <tr>\n      <th>ghost</th>\n      <th>metal</th>\n      <td>26957</td>\n    </tr>\n    <tr>\n      <th>metallica</th>\n      <th>metal</th>\n      <td>34850</td>\n    </tr>\n    <tr>\n      <th>olivia</th>\n      <th>pop</th>\n      <td>14829</td>\n    </tr>\n    <tr>\n      <th>ariana_grande</th>\n      <th>pop</th>\n      <td>15137</td>\n    </tr>\n    <tr>\n      <th>taylor_swift</th>\n      <th>pop</th>\n      <td>17597</td>\n    </tr>\n    <tr>\n      <th>malone</th>\n      <th>pop</th>\n      <td>18483</td>\n    </tr>\n    <tr>\n      <th>billie_eilish</th>\n      <th>pop</th>\n      <td>19497</td>\n    </tr>\n    <tr>\n      <th>ed_sheeran</th>\n      <th>pop</th>\n      <td>21521</td>\n    </tr>\n    <tr>\n      <th>systemofadown</th>\n      <th>rock</th>\n      <td>10562</td>\n    </tr>\n    <tr>\n      <th>bonjovi</th>\n      <th>rock</th>\n      <td>12396</td>\n    </tr>\n    <tr>\n      <th>thebeatles</th>\n      <th>rock</th>\n      <td>15536</td>\n    </tr>\n    <tr>\n      <th>pinkfloyd</th>\n      <th>rock</th>\n      <td>16683</td>\n    </tr>\n    <tr>\n      <th>ledzeppelin</th>\n      <th>rock</th>\n      <td>26715</td>\n    </tr>\n    <tr>\n      <th>queen</th>\n      <th>rock</th>\n      <td>27507</td>\n    </tr>\n  </tbody>\n</table>\n</div>"
     },
     "execution_count": 4,
     "metadata": {},
     "output_type": "execute_result"
    }
   ],
   "source": [
    "pd.DataFrame(df_personality[[\"channel\", \"genre\"]].value_counts()).sort_values(\n",
    "    by=[\"genre\", \"count\"]\n",
    ")"
   ],
   "metadata": {
    "collapsed": false,
    "ExecuteTime": {
     "end_time": "2024-01-04T15:38:38.298272700Z",
     "start_time": "2024-01-04T15:38:38.146373200Z"
    }
   },
   "id": "3419b5de7c1529bb",
   "execution_count": 4
  },
  {
   "cell_type": "markdown",
   "source": [
    "# Personality mapping and counting"
   ],
   "metadata": {
    "collapsed": false
   },
   "id": "d60c6f8718a634dc"
  },
  {
   "cell_type": "code",
   "outputs": [],
   "source": [
    "# Create a mapping for personality types\n",
    "personality_mapping = {\"I\": \"E\", \"N\": \"S\", \"T\": \"F\", \"J\": \"P\"}\n",
    "\n",
    "# Apply the personality mapping and combine the personality values into strings\n",
    "df_personality[\"I\"] = df_personality[\"I\"].apply(lambda x: \"E\" if x > 0.5 else \"I\")\n",
    "df_personality[\"N\"] = df_personality[\"N\"].apply(lambda x: \"S\" if x > 0.5 else \"N\")\n",
    "df_personality[\"T\"] = df_personality[\"T\"].apply(lambda x: \"F\" if x > 0.5 else \"T\")\n",
    "df_personality[\"J\"] = df_personality[\"J\"].apply(lambda x: \"P\" if x > 0.5 else \"J\")\n",
    "\n",
    "# Combine the personality values into strings\n",
    "df_personality[\"personality\"] = df_personality[[\"I\", \"N\", \"T\", \"J\"]].agg(\n",
    "    \"\".join, axis=1\n",
    ")\n",
    "\n",
    "# Group by artist and count the occurrences of each personality type\n",
    "personality_count = (\n",
    "    df_personality.groupby([\"channel\", \"personality\"]).size().reset_index(name=\"count\")\n",
    ")\n",
    "\n",
    "# Convert the result to the desired format\n",
    "personality_count_by_channel = (\n",
    "    personality_count.groupby(\"channel\")\n",
    "    .apply(lambda x: x.set_index(\"personality\")[\"count\"].to_dict())\n",
    "    .to_dict()\n",
    ")"
   ],
   "metadata": {
    "collapsed": false,
    "ExecuteTime": {
     "end_time": "2024-01-04T15:38:39.608329200Z",
     "start_time": "2024-01-04T15:38:38.289274100Z"
    }
   },
   "id": "1f8a89ecbb1f2bfc",
   "execution_count": 5
  },
  {
   "cell_type": "code",
   "outputs": [],
   "source": [
    "df_personality_count = (\n",
    "    pd.DataFrame(personality_count_by_channel)\n",
    "    .fillna(0)\n",
    "    .reset_index()\n",
    "    .rename(columns={\"index\": \"personality\"})\n",
    ")"
   ],
   "metadata": {
    "collapsed": false,
    "ExecuteTime": {
     "end_time": "2024-01-04T15:38:39.623562900Z",
     "start_time": "2024-01-04T15:38:39.612354Z"
    }
   },
   "id": "9ab96e99ee47a5ab",
   "execution_count": 6
  },
  {
   "cell_type": "code",
   "outputs": [
    {
     "data": {
      "text/plain": "   personality  anthrax  ariana_grande   bach  beethoven  billie_eilish  \\\n0         ENFJ     24.0          144.0   34.0      112.0          403.0   \n1         ENFP    335.0          284.0   40.0      227.0          658.0   \n2         ENTJ     25.0           26.0   28.0       34.0           31.0   \n3         ENTP    217.0           37.0   29.0       64.0           62.0   \n4         ESFJ    995.0         3772.0  286.0     1685.0         6019.0   \n5         ESFP   1199.0         2232.0  149.0     1379.0         3730.0   \n6         ESTJ   2739.0         4040.0  800.0     2833.0         3781.0   \n7         ESTP   4993.0         4201.0  379.0     2652.0         3691.0   \n8         INFJ     22.0           24.0   12.0       80.0           96.0   \n9         INFP    506.0          355.0   82.0      391.0          980.0   \n10        INTJ      5.0            3.0    0.0        2.0            1.0   \n11        INTP    101.0           17.0   16.0       21.0           42.0   \n12        ISTP      4.0            0.0    0.0        0.0            0.0   \n13        ISFP      0.0            2.0    1.0        2.0            3.0   \n14        ISFJ      0.0            0.0    0.0        1.0            0.0   \n15        ISTJ      0.0            0.0    0.0        0.0            0.0   \n\n    bonjovi  chopin   drake  ed_sheeran  ...  olivia  pinkfloyd   queen  \\\n0     257.0   225.0    61.0       421.0  ...    99.0        289   415.0   \n1     591.0   422.0   302.0       987.0  ...   323.0        923   785.0   \n2      15.0    69.0    25.0        44.0  ...    16.0         60    53.0   \n3      69.0    53.0    72.0        56.0  ...    31.0        328   134.0   \n4    3981.0  2573.0  1519.0      6448.0  ...  3027.0       4464  7330.0   \n5    2077.0  1921.0  1390.0      4451.0  ...  2607.0       3388  4144.0   \n6    2637.0  3442.0  5102.0      3502.0  ...  3406.0       5483  7085.0   \n7    2868.0  2471.0  6316.0      3629.0  ...  5008.0       5993  5809.0   \n8      94.0   191.0    33.0       140.0  ...    32.0        185   167.0   \n9     773.0   974.0   361.0      1803.0  ...   251.0       1537  1379.0   \n10      2.0    11.0     1.0         0.0  ...     6.0         11     3.0   \n11     18.0    28.0    14.0        27.0  ...    21.0        134   179.0   \n12      1.0     0.0     0.0         2.0  ...     0.0          1     2.0   \n13      4.0     6.0     7.0        11.0  ...     2.0         12    20.0   \n14      6.0     2.0     0.0         0.0  ...     0.0          9     2.0   \n15      0.0     0.0     0.0         0.0  ...     0.0          1     0.0   \n\n    raycharles  skrillex  slayer  systemofadown  taylor_swift  thebeatles  \\\n0         10.0      50.0    49.0          357.0         159.0       292.0   \n1          9.0     292.0   123.0          535.0         414.0       883.0   \n2          1.0       9.0    28.0           87.0          25.0        77.0   \n3          7.0      35.0   112.0          209.0          35.0       196.0   \n4         89.0    2358.0   862.0         3589.0        4472.0      5088.0   \n5         64.0    2061.0   519.0         1922.0        3129.0      3635.0   \n6         79.0    3076.0  3406.0         3343.0        4619.0      6386.0   \n7         82.0    3817.0  3286.0         3541.0        4426.0      6149.0   \n8          1.0      16.0    41.0           96.0          31.0       131.0   \n9         34.0     387.0   276.0          746.0         276.0      1540.0   \n10         0.0       0.0     7.0            5.0           2.0         2.0   \n11         1.0      20.0   105.0           69.0           2.0        92.0   \n12         0.0       0.0     2.0            0.0           0.0         5.0   \n13         0.0       0.0     0.0            7.0           5.0         2.0   \n14         0.0       2.0     0.0            2.0           2.0         0.0   \n15         0.0       0.0     0.0            0.0           0.0         1.0   \n\n    tylerbryant&theshakedown  \n0                        2.0  \n1                       11.0  \n2                        3.0  \n3                        1.0  \n4                      120.0  \n5                      114.0  \n6                      149.0  \n7                      198.0  \n8                        1.0  \n9                       18.0  \n10                       0.0  \n11                       1.0  \n12                       0.0  \n13                       0.0  \n14                       0.0  \n15                       0.0  \n\n[16 rows x 33 columns]",
      "text/html": "<div>\n<style scoped>\n    .dataframe tbody tr th:only-of-type {\n        vertical-align: middle;\n    }\n\n    .dataframe tbody tr th {\n        vertical-align: top;\n    }\n\n    .dataframe thead th {\n        text-align: right;\n    }\n</style>\n<table border=\"1\" class=\"dataframe\">\n  <thead>\n    <tr style=\"text-align: right;\">\n      <th></th>\n      <th>personality</th>\n      <th>anthrax</th>\n      <th>ariana_grande</th>\n      <th>bach</th>\n      <th>beethoven</th>\n      <th>billie_eilish</th>\n      <th>bonjovi</th>\n      <th>chopin</th>\n      <th>drake</th>\n      <th>ed_sheeran</th>\n      <th>...</th>\n      <th>olivia</th>\n      <th>pinkfloyd</th>\n      <th>queen</th>\n      <th>raycharles</th>\n      <th>skrillex</th>\n      <th>slayer</th>\n      <th>systemofadown</th>\n      <th>taylor_swift</th>\n      <th>thebeatles</th>\n      <th>tylerbryant&amp;theshakedown</th>\n    </tr>\n  </thead>\n  <tbody>\n    <tr>\n      <th>0</th>\n      <td>ENFJ</td>\n      <td>24.0</td>\n      <td>144.0</td>\n      <td>34.0</td>\n      <td>112.0</td>\n      <td>403.0</td>\n      <td>257.0</td>\n      <td>225.0</td>\n      <td>61.0</td>\n      <td>421.0</td>\n      <td>...</td>\n      <td>99.0</td>\n      <td>289</td>\n      <td>415.0</td>\n      <td>10.0</td>\n      <td>50.0</td>\n      <td>49.0</td>\n      <td>357.0</td>\n      <td>159.0</td>\n      <td>292.0</td>\n      <td>2.0</td>\n    </tr>\n    <tr>\n      <th>1</th>\n      <td>ENFP</td>\n      <td>335.0</td>\n      <td>284.0</td>\n      <td>40.0</td>\n      <td>227.0</td>\n      <td>658.0</td>\n      <td>591.0</td>\n      <td>422.0</td>\n      <td>302.0</td>\n      <td>987.0</td>\n      <td>...</td>\n      <td>323.0</td>\n      <td>923</td>\n      <td>785.0</td>\n      <td>9.0</td>\n      <td>292.0</td>\n      <td>123.0</td>\n      <td>535.0</td>\n      <td>414.0</td>\n      <td>883.0</td>\n      <td>11.0</td>\n    </tr>\n    <tr>\n      <th>2</th>\n      <td>ENTJ</td>\n      <td>25.0</td>\n      <td>26.0</td>\n      <td>28.0</td>\n      <td>34.0</td>\n      <td>31.0</td>\n      <td>15.0</td>\n      <td>69.0</td>\n      <td>25.0</td>\n      <td>44.0</td>\n      <td>...</td>\n      <td>16.0</td>\n      <td>60</td>\n      <td>53.0</td>\n      <td>1.0</td>\n      <td>9.0</td>\n      <td>28.0</td>\n      <td>87.0</td>\n      <td>25.0</td>\n      <td>77.0</td>\n      <td>3.0</td>\n    </tr>\n    <tr>\n      <th>3</th>\n      <td>ENTP</td>\n      <td>217.0</td>\n      <td>37.0</td>\n      <td>29.0</td>\n      <td>64.0</td>\n      <td>62.0</td>\n      <td>69.0</td>\n      <td>53.0</td>\n      <td>72.0</td>\n      <td>56.0</td>\n      <td>...</td>\n      <td>31.0</td>\n      <td>328</td>\n      <td>134.0</td>\n      <td>7.0</td>\n      <td>35.0</td>\n      <td>112.0</td>\n      <td>209.0</td>\n      <td>35.0</td>\n      <td>196.0</td>\n      <td>1.0</td>\n    </tr>\n    <tr>\n      <th>4</th>\n      <td>ESFJ</td>\n      <td>995.0</td>\n      <td>3772.0</td>\n      <td>286.0</td>\n      <td>1685.0</td>\n      <td>6019.0</td>\n      <td>3981.0</td>\n      <td>2573.0</td>\n      <td>1519.0</td>\n      <td>6448.0</td>\n      <td>...</td>\n      <td>3027.0</td>\n      <td>4464</td>\n      <td>7330.0</td>\n      <td>89.0</td>\n      <td>2358.0</td>\n      <td>862.0</td>\n      <td>3589.0</td>\n      <td>4472.0</td>\n      <td>5088.0</td>\n      <td>120.0</td>\n    </tr>\n    <tr>\n      <th>5</th>\n      <td>ESFP</td>\n      <td>1199.0</td>\n      <td>2232.0</td>\n      <td>149.0</td>\n      <td>1379.0</td>\n      <td>3730.0</td>\n      <td>2077.0</td>\n      <td>1921.0</td>\n      <td>1390.0</td>\n      <td>4451.0</td>\n      <td>...</td>\n      <td>2607.0</td>\n      <td>3388</td>\n      <td>4144.0</td>\n      <td>64.0</td>\n      <td>2061.0</td>\n      <td>519.0</td>\n      <td>1922.0</td>\n      <td>3129.0</td>\n      <td>3635.0</td>\n      <td>114.0</td>\n    </tr>\n    <tr>\n      <th>6</th>\n      <td>ESTJ</td>\n      <td>2739.0</td>\n      <td>4040.0</td>\n      <td>800.0</td>\n      <td>2833.0</td>\n      <td>3781.0</td>\n      <td>2637.0</td>\n      <td>3442.0</td>\n      <td>5102.0</td>\n      <td>3502.0</td>\n      <td>...</td>\n      <td>3406.0</td>\n      <td>5483</td>\n      <td>7085.0</td>\n      <td>79.0</td>\n      <td>3076.0</td>\n      <td>3406.0</td>\n      <td>3343.0</td>\n      <td>4619.0</td>\n      <td>6386.0</td>\n      <td>149.0</td>\n    </tr>\n    <tr>\n      <th>7</th>\n      <td>ESTP</td>\n      <td>4993.0</td>\n      <td>4201.0</td>\n      <td>379.0</td>\n      <td>2652.0</td>\n      <td>3691.0</td>\n      <td>2868.0</td>\n      <td>2471.0</td>\n      <td>6316.0</td>\n      <td>3629.0</td>\n      <td>...</td>\n      <td>5008.0</td>\n      <td>5993</td>\n      <td>5809.0</td>\n      <td>82.0</td>\n      <td>3817.0</td>\n      <td>3286.0</td>\n      <td>3541.0</td>\n      <td>4426.0</td>\n      <td>6149.0</td>\n      <td>198.0</td>\n    </tr>\n    <tr>\n      <th>8</th>\n      <td>INFJ</td>\n      <td>22.0</td>\n      <td>24.0</td>\n      <td>12.0</td>\n      <td>80.0</td>\n      <td>96.0</td>\n      <td>94.0</td>\n      <td>191.0</td>\n      <td>33.0</td>\n      <td>140.0</td>\n      <td>...</td>\n      <td>32.0</td>\n      <td>185</td>\n      <td>167.0</td>\n      <td>1.0</td>\n      <td>16.0</td>\n      <td>41.0</td>\n      <td>96.0</td>\n      <td>31.0</td>\n      <td>131.0</td>\n      <td>1.0</td>\n    </tr>\n    <tr>\n      <th>9</th>\n      <td>INFP</td>\n      <td>506.0</td>\n      <td>355.0</td>\n      <td>82.0</td>\n      <td>391.0</td>\n      <td>980.0</td>\n      <td>773.0</td>\n      <td>974.0</td>\n      <td>361.0</td>\n      <td>1803.0</td>\n      <td>...</td>\n      <td>251.0</td>\n      <td>1537</td>\n      <td>1379.0</td>\n      <td>34.0</td>\n      <td>387.0</td>\n      <td>276.0</td>\n      <td>746.0</td>\n      <td>276.0</td>\n      <td>1540.0</td>\n      <td>18.0</td>\n    </tr>\n    <tr>\n      <th>10</th>\n      <td>INTJ</td>\n      <td>5.0</td>\n      <td>3.0</td>\n      <td>0.0</td>\n      <td>2.0</td>\n      <td>1.0</td>\n      <td>2.0</td>\n      <td>11.0</td>\n      <td>1.0</td>\n      <td>0.0</td>\n      <td>...</td>\n      <td>6.0</td>\n      <td>11</td>\n      <td>3.0</td>\n      <td>0.0</td>\n      <td>0.0</td>\n      <td>7.0</td>\n      <td>5.0</td>\n      <td>2.0</td>\n      <td>2.0</td>\n      <td>0.0</td>\n    </tr>\n    <tr>\n      <th>11</th>\n      <td>INTP</td>\n      <td>101.0</td>\n      <td>17.0</td>\n      <td>16.0</td>\n      <td>21.0</td>\n      <td>42.0</td>\n      <td>18.0</td>\n      <td>28.0</td>\n      <td>14.0</td>\n      <td>27.0</td>\n      <td>...</td>\n      <td>21.0</td>\n      <td>134</td>\n      <td>179.0</td>\n      <td>1.0</td>\n      <td>20.0</td>\n      <td>105.0</td>\n      <td>69.0</td>\n      <td>2.0</td>\n      <td>92.0</td>\n      <td>1.0</td>\n    </tr>\n    <tr>\n      <th>12</th>\n      <td>ISTP</td>\n      <td>4.0</td>\n      <td>0.0</td>\n      <td>0.0</td>\n      <td>0.0</td>\n      <td>0.0</td>\n      <td>1.0</td>\n      <td>0.0</td>\n      <td>0.0</td>\n      <td>2.0</td>\n      <td>...</td>\n      <td>0.0</td>\n      <td>1</td>\n      <td>2.0</td>\n      <td>0.0</td>\n      <td>0.0</td>\n      <td>2.0</td>\n      <td>0.0</td>\n      <td>0.0</td>\n      <td>5.0</td>\n      <td>0.0</td>\n    </tr>\n    <tr>\n      <th>13</th>\n      <td>ISFP</td>\n      <td>0.0</td>\n      <td>2.0</td>\n      <td>1.0</td>\n      <td>2.0</td>\n      <td>3.0</td>\n      <td>4.0</td>\n      <td>6.0</td>\n      <td>7.0</td>\n      <td>11.0</td>\n      <td>...</td>\n      <td>2.0</td>\n      <td>12</td>\n      <td>20.0</td>\n      <td>0.0</td>\n      <td>0.0</td>\n      <td>0.0</td>\n      <td>7.0</td>\n      <td>5.0</td>\n      <td>2.0</td>\n      <td>0.0</td>\n    </tr>\n    <tr>\n      <th>14</th>\n      <td>ISFJ</td>\n      <td>0.0</td>\n      <td>0.0</td>\n      <td>0.0</td>\n      <td>1.0</td>\n      <td>0.0</td>\n      <td>6.0</td>\n      <td>2.0</td>\n      <td>0.0</td>\n      <td>0.0</td>\n      <td>...</td>\n      <td>0.0</td>\n      <td>9</td>\n      <td>2.0</td>\n      <td>0.0</td>\n      <td>2.0</td>\n      <td>0.0</td>\n      <td>2.0</td>\n      <td>2.0</td>\n      <td>0.0</td>\n      <td>0.0</td>\n    </tr>\n    <tr>\n      <th>15</th>\n      <td>ISTJ</td>\n      <td>0.0</td>\n      <td>0.0</td>\n      <td>0.0</td>\n      <td>0.0</td>\n      <td>0.0</td>\n      <td>0.0</td>\n      <td>0.0</td>\n      <td>0.0</td>\n      <td>0.0</td>\n      <td>...</td>\n      <td>0.0</td>\n      <td>1</td>\n      <td>0.0</td>\n      <td>0.0</td>\n      <td>0.0</td>\n      <td>0.0</td>\n      <td>0.0</td>\n      <td>0.0</td>\n      <td>1.0</td>\n      <td>0.0</td>\n    </tr>\n  </tbody>\n</table>\n<p>16 rows × 33 columns</p>\n</div>"
     },
     "execution_count": 7,
     "metadata": {},
     "output_type": "execute_result"
    }
   ],
   "source": [
    "df_personality_count"
   ],
   "metadata": {
    "collapsed": false,
    "ExecuteTime": {
     "end_time": "2024-01-04T15:38:39.665343200Z",
     "start_time": "2024-01-04T15:38:39.613479800Z"
    }
   },
   "id": "7e9150389be9c063",
   "execution_count": 7
  },
  {
   "cell_type": "markdown",
   "source": [
    "# Personality percentage"
   ],
   "metadata": {
    "collapsed": false
   },
   "id": "da653622b523a87b"
  },
  {
   "cell_type": "code",
   "outputs": [],
   "source": [
    "# Calculate the total number of fans for each artist\n",
    "total_fans = df_personality_count.drop(\"personality\", axis=1).sum(axis=0)\n",
    "\n",
    "# Convert the counts to percentages\n",
    "df_percentages = df_personality_count.drop(\"personality\", axis=1).div(total_fans) * 100\n",
    "\n",
    "# Concatenate the Personality column and the percentage values\n",
    "df_personality_percentage = pd.concat(\n",
    "    [df_personality_count[\"personality\"], df_percentages], axis=1\n",
    ")"
   ],
   "metadata": {
    "collapsed": false,
    "ExecuteTime": {
     "end_time": "2024-01-04T15:38:39.665343200Z",
     "start_time": "2024-01-04T15:38:39.648944200Z"
    }
   },
   "id": "ed4d6d095f891ef",
   "execution_count": 8
  },
  {
   "cell_type": "code",
   "outputs": [
    {
     "data": {
      "text/plain": "personality\nENFJ       raycharles\nENFP       ed_sheeran\nENTJ             bach\nENTP          anthrax\nESFJ    billie_eilish\nESFP       ed_sheeran\nESTJ             bach\nESTP          anthrax\nINFJ           chopin\nINFP       raycharles\nINTJ           mozart\nINTP           slayer\nISTP       marcusking\nISFP            queen\nISFJ          bonjovi\nISTJ        pinkfloyd\ndtype: object"
     },
     "execution_count": 9,
     "metadata": {},
     "output_type": "execute_result"
    }
   ],
   "source": [
    "# Find the artist with the highest percentage for each personality\n",
    "df_personality_percentage.set_index(\"personality\").idxmax(axis=1)"
   ],
   "metadata": {
    "collapsed": false,
    "ExecuteTime": {
     "end_time": "2024-01-04T15:38:39.673401200Z",
     "start_time": "2024-01-04T15:38:39.659344700Z"
    }
   },
   "id": "8e1db848af88a705",
   "execution_count": 9
  },
  {
   "cell_type": "code",
   "outputs": [],
   "source": [
    "df_personality_percentage.set_index(\"personality\", inplace=True)"
   ],
   "metadata": {
    "collapsed": false,
    "ExecuteTime": {
     "end_time": "2024-01-04T15:38:39.734232500Z",
     "start_time": "2024-01-04T15:38:39.671400200Z"
    }
   },
   "id": "7ab7cc28db109195",
   "execution_count": 10
  },
  {
   "cell_type": "markdown",
   "source": [
    "# TOP 5 Artists for each personality"
   ],
   "metadata": {
    "collapsed": false
   },
   "id": "f13d38db7f8bf12e"
  },
  {
   "cell_type": "code",
   "outputs": [
    {
     "data": {
      "text/plain": "   Personality     1st Artist  1st Percentage     2nd Artist  2nd Percentage  \\\n0         ENFJ     raycharles        2.652520  systemofadown        2.460711   \n1         ENFP     ed_sheeran        4.586218        bonjovi        4.412753   \n2         ENTJ           bach        1.508621         mozart        0.980649   \n3         ENTP        anthrax        1.943574     raycharles        1.856764   \n4         ESFJ  billie_eilish       30.871416     ed_sheeran       29.961433   \n5         ESFP     ed_sheeran       20.682124          kaleo       19.618406   \n6         ESTJ           bach       43.103448         slayer       38.634301   \n7         ESTP        anthrax       44.720107          drake       41.544432   \n8         INFJ         chopin        1.541815      beethoven        0.843615   \n9         INFP     raycharles        9.018568     ed_sheeran        8.377863   \n10        INTJ         mozart        0.954498         chopin        0.088796   \n11        INTP         slayer        1.191016        anthrax        0.904613   \n12        ISTP     marcusking        0.081633        anthrax        0.035826   \n13        ISFP          queen        0.072709           bach        0.053879   \n14        ISFJ        bonjovi        0.044800      pinkfloyd        0.039443   \n15        ISTJ      pinkfloyd        0.004383     thebeatles        0.004085   \n\n       3rd Artist  3rd Percentage     4th Artist  4th Percentage  \\\n0      kanye_west        2.072883         eminem        2.069836   \n1       pinkfloyd        4.045052  systemofadown        3.687621   \n2   systemofadown        0.599669         chopin        0.556991   \n3        megadeth        1.639929           bach        1.562500   \n4         bonjovi       29.724483          queen       26.647762   \n5   billie_eilish       19.131148     marcusking       18.693878   \n6           drake       33.559166         mozart       33.041318   \n7        megadeth       38.039216    ledzeppelin       37.499532   \n8       pinkfloyd        0.810763        bonjovi        0.701859   \n9          chopin        7.862448      pinkfloyd        6.735910   \n10         slayer        0.079401      pinkfloyd        0.048208   \n11           bach        0.862069         mozart        0.810669   \n12         slayer        0.022686     thebeatles        0.020426   \n13      pinkfloyd        0.052590     ed_sheeran        0.051113   \n14          kaleo        0.022447         eminem        0.016612   \n15         eminem        0.003322     kanye_west        0.003322   \n\n                  5th Artist  5th Percentage  \n0              billie_eilish        2.066985  \n1                 thebeatles        3.607173  \n2                 kanye_west        0.541474  \n3                     eminem        1.528290  \n4               taylor_swift       25.413423  \n5   tylerbryant&theshakedown       18.446602  \n6              kirk fletcher       31.058824  \n7                nicki_minaj       37.274064  \n8              systemofadown        0.661704  \n9                 thebeatles        6.291107  \n10                   anthrax        0.044783  \n11                     queen        0.650743  \n12                  megadeth        0.014260  \n13                    chopin        0.048434  \n14                kanye_west        0.016610  \n15                   anthrax        0.000000  ",
      "text/html": "<div>\n<style scoped>\n    .dataframe tbody tr th:only-of-type {\n        vertical-align: middle;\n    }\n\n    .dataframe tbody tr th {\n        vertical-align: top;\n    }\n\n    .dataframe thead th {\n        text-align: right;\n    }\n</style>\n<table border=\"1\" class=\"dataframe\">\n  <thead>\n    <tr style=\"text-align: right;\">\n      <th></th>\n      <th>Personality</th>\n      <th>1st Artist</th>\n      <th>1st Percentage</th>\n      <th>2nd Artist</th>\n      <th>2nd Percentage</th>\n      <th>3rd Artist</th>\n      <th>3rd Percentage</th>\n      <th>4th Artist</th>\n      <th>4th Percentage</th>\n      <th>5th Artist</th>\n      <th>5th Percentage</th>\n    </tr>\n  </thead>\n  <tbody>\n    <tr>\n      <th>0</th>\n      <td>ENFJ</td>\n      <td>raycharles</td>\n      <td>2.652520</td>\n      <td>systemofadown</td>\n      <td>2.460711</td>\n      <td>kanye_west</td>\n      <td>2.072883</td>\n      <td>eminem</td>\n      <td>2.069836</td>\n      <td>billie_eilish</td>\n      <td>2.066985</td>\n    </tr>\n    <tr>\n      <th>1</th>\n      <td>ENFP</td>\n      <td>ed_sheeran</td>\n      <td>4.586218</td>\n      <td>bonjovi</td>\n      <td>4.412753</td>\n      <td>pinkfloyd</td>\n      <td>4.045052</td>\n      <td>systemofadown</td>\n      <td>3.687621</td>\n      <td>thebeatles</td>\n      <td>3.607173</td>\n    </tr>\n    <tr>\n      <th>2</th>\n      <td>ENTJ</td>\n      <td>bach</td>\n      <td>1.508621</td>\n      <td>mozart</td>\n      <td>0.980649</td>\n      <td>systemofadown</td>\n      <td>0.599669</td>\n      <td>chopin</td>\n      <td>0.556991</td>\n      <td>kanye_west</td>\n      <td>0.541474</td>\n    </tr>\n    <tr>\n      <th>3</th>\n      <td>ENTP</td>\n      <td>anthrax</td>\n      <td>1.943574</td>\n      <td>raycharles</td>\n      <td>1.856764</td>\n      <td>megadeth</td>\n      <td>1.639929</td>\n      <td>bach</td>\n      <td>1.562500</td>\n      <td>eminem</td>\n      <td>1.528290</td>\n    </tr>\n    <tr>\n      <th>4</th>\n      <td>ESFJ</td>\n      <td>billie_eilish</td>\n      <td>30.871416</td>\n      <td>ed_sheeran</td>\n      <td>29.961433</td>\n      <td>bonjovi</td>\n      <td>29.724483</td>\n      <td>queen</td>\n      <td>26.647762</td>\n      <td>taylor_swift</td>\n      <td>25.413423</td>\n    </tr>\n    <tr>\n      <th>5</th>\n      <td>ESFP</td>\n      <td>ed_sheeran</td>\n      <td>20.682124</td>\n      <td>kaleo</td>\n      <td>19.618406</td>\n      <td>billie_eilish</td>\n      <td>19.131148</td>\n      <td>marcusking</td>\n      <td>18.693878</td>\n      <td>tylerbryant&amp;theshakedown</td>\n      <td>18.446602</td>\n    </tr>\n    <tr>\n      <th>6</th>\n      <td>ESTJ</td>\n      <td>bach</td>\n      <td>43.103448</td>\n      <td>slayer</td>\n      <td>38.634301</td>\n      <td>drake</td>\n      <td>33.559166</td>\n      <td>mozart</td>\n      <td>33.041318</td>\n      <td>kirk fletcher</td>\n      <td>31.058824</td>\n    </tr>\n    <tr>\n      <th>7</th>\n      <td>ESTP</td>\n      <td>anthrax</td>\n      <td>44.720107</td>\n      <td>drake</td>\n      <td>41.544432</td>\n      <td>megadeth</td>\n      <td>38.039216</td>\n      <td>ledzeppelin</td>\n      <td>37.499532</td>\n      <td>nicki_minaj</td>\n      <td>37.274064</td>\n    </tr>\n    <tr>\n      <th>8</th>\n      <td>INFJ</td>\n      <td>chopin</td>\n      <td>1.541815</td>\n      <td>beethoven</td>\n      <td>0.843615</td>\n      <td>pinkfloyd</td>\n      <td>0.810763</td>\n      <td>bonjovi</td>\n      <td>0.701859</td>\n      <td>systemofadown</td>\n      <td>0.661704</td>\n    </tr>\n    <tr>\n      <th>9</th>\n      <td>INFP</td>\n      <td>raycharles</td>\n      <td>9.018568</td>\n      <td>ed_sheeran</td>\n      <td>8.377863</td>\n      <td>chopin</td>\n      <td>7.862448</td>\n      <td>pinkfloyd</td>\n      <td>6.735910</td>\n      <td>thebeatles</td>\n      <td>6.291107</td>\n    </tr>\n    <tr>\n      <th>10</th>\n      <td>INTJ</td>\n      <td>mozart</td>\n      <td>0.954498</td>\n      <td>chopin</td>\n      <td>0.088796</td>\n      <td>slayer</td>\n      <td>0.079401</td>\n      <td>pinkfloyd</td>\n      <td>0.048208</td>\n      <td>anthrax</td>\n      <td>0.044783</td>\n    </tr>\n    <tr>\n      <th>11</th>\n      <td>INTP</td>\n      <td>slayer</td>\n      <td>1.191016</td>\n      <td>anthrax</td>\n      <td>0.904613</td>\n      <td>bach</td>\n      <td>0.862069</td>\n      <td>mozart</td>\n      <td>0.810669</td>\n      <td>queen</td>\n      <td>0.650743</td>\n    </tr>\n    <tr>\n      <th>12</th>\n      <td>ISTP</td>\n      <td>marcusking</td>\n      <td>0.081633</td>\n      <td>anthrax</td>\n      <td>0.035826</td>\n      <td>slayer</td>\n      <td>0.022686</td>\n      <td>thebeatles</td>\n      <td>0.020426</td>\n      <td>megadeth</td>\n      <td>0.014260</td>\n    </tr>\n    <tr>\n      <th>13</th>\n      <td>ISFP</td>\n      <td>queen</td>\n      <td>0.072709</td>\n      <td>bach</td>\n      <td>0.053879</td>\n      <td>pinkfloyd</td>\n      <td>0.052590</td>\n      <td>ed_sheeran</td>\n      <td>0.051113</td>\n      <td>chopin</td>\n      <td>0.048434</td>\n    </tr>\n    <tr>\n      <th>14</th>\n      <td>ISFJ</td>\n      <td>bonjovi</td>\n      <td>0.044800</td>\n      <td>pinkfloyd</td>\n      <td>0.039443</td>\n      <td>kaleo</td>\n      <td>0.022447</td>\n      <td>eminem</td>\n      <td>0.016612</td>\n      <td>kanye_west</td>\n      <td>0.016610</td>\n    </tr>\n    <tr>\n      <th>15</th>\n      <td>ISTJ</td>\n      <td>pinkfloyd</td>\n      <td>0.004383</td>\n      <td>thebeatles</td>\n      <td>0.004085</td>\n      <td>eminem</td>\n      <td>0.003322</td>\n      <td>kanye_west</td>\n      <td>0.003322</td>\n      <td>anthrax</td>\n      <td>0.000000</td>\n    </tr>\n  </tbody>\n</table>\n</div>"
     },
     "execution_count": 11,
     "metadata": {},
     "output_type": "execute_result"
    }
   ],
   "source": [
    "# Create an empty dataframe to store the top 3 artists for each personality\n",
    "df_top_artists = pd.DataFrame(\n",
    "    columns=[\n",
    "        \"Personality\",\n",
    "        \"1st Artist\",\n",
    "        \"1st Percentage\",\n",
    "        \"2nd Artist\",\n",
    "        \"2nd Percentage\",\n",
    "        \"3rd Artist\",\n",
    "        \"3rd Percentage\",\n",
    "    ]\n",
    ")\n",
    "\n",
    "top_artists_list = []\n",
    "\n",
    "# Iterate through each personality and get the top 3 artists\n",
    "for personality in df_personality_percentage.index:\n",
    "    top_artists = df_personality_percentage.loc[personality].nlargest(5)\n",
    "    top_artists_list.append(\n",
    "        {\n",
    "            \"Personality\": personality,\n",
    "            \"1st Artist\": top_artists.index[0],\n",
    "            \"1st Percentage\": top_artists.iloc[0],\n",
    "            \"2nd Artist\": top_artists.index[1],\n",
    "            \"2nd Percentage\": top_artists.iloc[1],\n",
    "            \"3rd Artist\": top_artists.index[2],\n",
    "            \"3rd Percentage\": top_artists.iloc[2],\n",
    "            \"4th Artist\": top_artists.index[3],\n",
    "            \"4th Percentage\": top_artists.iloc[3],\n",
    "            \"5th Artist\": top_artists.index[4],\n",
    "            \"5th Percentage\": top_artists.iloc[4],\n",
    "        },\n",
    "    )\n",
    "df_top_artists = pd.DataFrame(top_artists_list)\n",
    "\n",
    "# Display the resulting dataframe\n",
    "df_top_artists"
   ],
   "metadata": {
    "collapsed": false,
    "ExecuteTime": {
     "end_time": "2024-01-04T15:38:39.892918100Z",
     "start_time": "2024-01-04T15:38:39.681331800Z"
    }
   },
   "id": "2983b79b050fdc5a",
   "execution_count": 11
  }
 ],
 "metadata": {
  "kernelspec": {
   "display_name": "Python 3",
   "language": "python",
   "name": "python3"
  },
  "language_info": {
   "codemirror_mode": {
    "name": "ipython",
    "version": 2
   },
   "file_extension": ".py",
   "mimetype": "text/x-python",
   "name": "python",
   "nbconvert_exporter": "python",
   "pygments_lexer": "ipython2",
   "version": "2.7.6"
  }
 },
 "nbformat": 4,
 "nbformat_minor": 5
}
